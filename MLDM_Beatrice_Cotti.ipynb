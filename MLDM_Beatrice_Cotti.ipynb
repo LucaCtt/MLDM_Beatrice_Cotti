{
  "cells": [
    {
      "cell_type": "markdown",
      "metadata": {
        "id": "view-in-github",
        "colab_type": "text"
      },
      "source": [
        "<a href=\"https://colab.research.google.com/github/LucaCtt/MLDM_Beatrice_Cotti/blob/main/MLDM_Beatrice_Cotti.ipynb\" target=\"_parent\"><img src=\"https://colab.research.google.com/assets/colab-badge.svg\" alt=\"Open In Colab\"/></a>"
      ]
    },
    {
      "cell_type": "markdown",
      "metadata": {
        "id": "fQAuFIojY4Ac"
      },
      "source": [
        "# Introduction"
      ]
    },
    {
      "cell_type": "markdown",
      "metadata": {
        "id": "rKE3YgkmY9H1"
      },
      "source": [
        "The objective of this project is to compare various classication and clustering algorithms on the *Online Shoppers Purchasing Intention Dataset Data Set*, which can be found at the UCI Machine Learning Repository at the following link  https://archive.ics.uci.edu/ml/datasets/Online+Shoppers+Purchasing+Intention+Dataset.\n",
        "\n",
        "The dataset contains information about the visitors of a shopping website, and the objective is to learn wheter a certain visitor will generate revenue, or not.\n"
      ]
    },
    {
      "cell_type": "markdown",
      "metadata": {
        "id": "cwIqoaD8QtNl"
      },
      "source": [
        "# Initial Setup"
      ]
    },
    {
      "cell_type": "markdown",
      "source": [
        "## Additional packages"
      ],
      "metadata": {
        "id": "4dvXiMXBV4qg"
      }
    },
    {
      "cell_type": "markdown",
      "source": [
        "The following additional packages will be used in this project:"
      ],
      "metadata": {
        "id": "7oWAHJ1GWezP"
      }
    },
    {
      "cell_type": "code",
      "execution_count": null,
      "metadata": {
        "colab": {
          "base_uri": "https://localhost:8080/"
        },
        "id": "deEdG0TT5fsf",
        "outputId": "0371bced-a86b-4fc3-c991-9b819b5b423d"
      },
      "outputs": [
        {
          "output_type": "stream",
          "name": "stdout",
          "text": [
            "Looking in indexes: https://pypi.org/simple, https://us-python.pkg.dev/colab-wheels/public/simple/\n",
            "Requirement already satisfied: xgboost in /usr/local/lib/python3.7/dist-packages (1.6.1)\n",
            "Requirement already satisfied: imbalanced-learn in /usr/local/lib/python3.7/dist-packages (0.9.0)\n",
            "Collecting imbalanced-learn\n",
            "  Using cached imbalanced_learn-0.9.1-py3-none-any.whl (199 kB)\n",
            "Requirement already satisfied: numpy in /usr/local/lib/python3.7/dist-packages (from xgboost) (1.21.6)\n",
            "Requirement already satisfied: scipy in /usr/local/lib/python3.7/dist-packages (from xgboost) (1.7.3)\n",
            "Requirement already satisfied: threadpoolctl>=2.0.0 in /usr/local/lib/python3.7/dist-packages (from imbalanced-learn) (3.1.0)\n",
            "Requirement already satisfied: joblib>=1.0.0 in /usr/local/lib/python3.7/dist-packages (from imbalanced-learn) (1.1.0)\n",
            "Requirement already satisfied: scikit-learn>=1.0.1 in /usr/local/lib/python3.7/dist-packages (from imbalanced-learn) (1.0.2)\n"
          ]
        }
      ],
      "source": [
        "!pip install -U xgboost imbalanced-learn"
      ]
    },
    {
      "cell_type": "markdown",
      "metadata": {
        "id": "p3oVkntVZrWF"
      },
      "source": [
        "## Imports"
      ]
    },
    {
      "cell_type": "markdown",
      "metadata": {
        "id": "E39qASY1QtNm"
      },
      "source": [
        "Let's import a few common modules, ensure MatplotLib plots figures inline and prepare a function to save the figures. We also check that Python 3.5 or later is installed, as well as Scikit-Learn ≥0.20."
      ]
    },
    {
      "cell_type": "code",
      "execution_count": null,
      "metadata": {
        "id": "XxSBkpE8QtNn"
      },
      "outputs": [],
      "source": [
        "# Python ≥3.5 is required\n",
        "import sys\n",
        "assert sys.version_info >= (3, 5)\n",
        "\n",
        "# Scikit-Learn ≥0.20 is required\n",
        "import sklearn\n",
        "assert sklearn.__version__ >= \"0.20\"\n",
        "\n",
        "import numpy as np\n",
        "np.random.seed(42)\n",
        "\n",
        "import tensorflow\n",
        "tensorflow.random.set_seed(42)\n",
        "\n",
        "import os\n",
        "import pandas as pd\n",
        "\n",
        "# To plot pretty figures\n",
        "%matplotlib inline\n",
        "import matplotlib as mpl\n",
        "import matplotlib.pyplot as plt\n",
        "mpl.rc(\"axes\", labelsize=14)\n",
        "mpl.rc(\"xtick\", labelsize=12)\n",
        "mpl.rc(\"ytick\", labelsize=12)\n",
        "\n",
        "\n",
        "# Where to save the figures\n",
        "ROOT_DIR = \".\"\n",
        "PROJECT_DIR = \"mldm_luca_cotti\"\n",
        "IMAGES_PATH = os.path.join(ROOT_DIR, \"images\", PROJECT_DIR)\n",
        "os.makedirs(IMAGES_PATH, exist_ok=True)\n",
        "\n",
        "# Saves a figure\n",
        "def save_fig(fig_id, tight_layout=True, fig_extension=\"png\", resolution=300):\n",
        "    path = os.path.join(IMAGES_PATH, fig_id + \".\" + fig_extension)\n",
        "    print(\"Saving figure\", fig_id)\n",
        "    if tight_layout:\n",
        "        plt.tight_layout()\n",
        "    plt.savefig(path, format=fig_extension, dpi=resolution)"
      ]
    },
    {
      "cell_type": "markdown",
      "metadata": {
        "id": "FLBjsIU-QtNo"
      },
      "source": [
        "## Download Dataset"
      ]
    },
    {
      "cell_type": "code",
      "execution_count": null,
      "metadata": {
        "id": "L_OR5V8LQtNq"
      },
      "outputs": [],
      "source": [
        "DATASET_URL = \"https://archive.ics.uci.edu/ml/machine-learning-databases/00468/online_shoppers_intention.csv\"\n",
        "dataset = pd.read_csv(DATASET_URL)"
      ]
    },
    {
      "cell_type": "markdown",
      "metadata": {
        "id": "H-Fy1Gg-QtNv"
      },
      "source": [
        "### Structure of the dataset"
      ]
    },
    {
      "cell_type": "code",
      "execution_count": null,
      "metadata": {
        "colab": {
          "base_uri": "https://localhost:8080/"
        },
        "id": "svWVlYYDMXYO",
        "outputId": "0c540469-e7fc-49d8-ab78-7d0bb3db848b"
      },
      "outputs": [
        {
          "output_type": "stream",
          "name": "stdout",
          "text": [
            "<class 'pandas.core.frame.DataFrame'>\n",
            "RangeIndex: 12330 entries, 0 to 12329\n",
            "Data columns (total 18 columns):\n",
            " #   Column                   Non-Null Count  Dtype  \n",
            "---  ------                   --------------  -----  \n",
            " 0   Administrative           12330 non-null  int64  \n",
            " 1   Administrative_Duration  12330 non-null  float64\n",
            " 2   Informational            12330 non-null  int64  \n",
            " 3   Informational_Duration   12330 non-null  float64\n",
            " 4   ProductRelated           12330 non-null  int64  \n",
            " 5   ProductRelated_Duration  12330 non-null  float64\n",
            " 6   BounceRates              12330 non-null  float64\n",
            " 7   ExitRates                12330 non-null  float64\n",
            " 8   PageValues               12330 non-null  float64\n",
            " 9   SpecialDay               12330 non-null  float64\n",
            " 10  Month                    12330 non-null  object \n",
            " 11  OperatingSystems         12330 non-null  int64  \n",
            " 12  Browser                  12330 non-null  int64  \n",
            " 13  Region                   12330 non-null  int64  \n",
            " 14  TrafficType              12330 non-null  int64  \n",
            " 15  VisitorType              12330 non-null  object \n",
            " 16  Weekend                  12330 non-null  bool   \n",
            " 17  Revenue                  12330 non-null  bool   \n",
            "dtypes: bool(2), float64(7), int64(7), object(2)\n",
            "memory usage: 1.5+ MB\n"
          ]
        }
      ],
      "source": [
        "dataset.info()"
      ]
    },
    {
      "cell_type": "markdown",
      "metadata": {
        "id": "rGPb0qepMd-o"
      },
      "source": [
        "The dataset contains a total of `12330` entries, with `18` features.\n",
        "Some features are numeric, others are categorical.\n",
        "\n",
        "`Administrative`, `Administrative Duration`, `Informational`, `Informational Duration`, `Product Related` and `Product Related Duration` represent the number of different types of pages visited by the visitor in that session and total time spent in each of these page categories.\n",
        "\n",
        "The values of these features are derived from the URL information of the pages visited by the user and updated in real time when a user takes an action, e.g. moving from one page to another.\n",
        "\n",
        "The `Bounce Rate`, `Exit Rate` and `Page Value` features represent the metrics measured by Google Analytics for each page in the e-commerce site.\n",
        "\n",
        "The value of `Bounce Rate` feature for a web page refers to the percentage of visitors who enter the site from that page and then leave (\"bounce\") without triggering any other requests to the analytics server during that session.\n",
        "\n",
        "The value of `Exit Rate` feature for a specific web page is calculated as for all pageviews to the page, the percentage that were the last in the session.\n",
        "\n",
        "The `Page Value` feature represents the average value for a web page that a user visited before completing an e-commerce transaction.\n",
        "\n",
        "The `Special Day` feature indicates the closeness of the site visiting time to a specific special day (e.g. Mother’s Day, Valentine's Day) in which the sessions are more likely to be finalized with transaction.\n",
        "The value of this attribute is determined by considering the dynamics of e-commerce such as the duration between the order date and delivery date. For example, for Valentine’s day, this value takes a nonzero value between February 2 and February 12, zero before and after this date unless it is close to another special day, and its maximum value of 1 on February 8.\n",
        "\n",
        "The dataset also includes operating system, browser, region, traffic type, visitor type as returning or new visitor, a Boolean value indicating whether the date of the visit is weekend, and month of the year."
      ]
    },
    {
      "cell_type": "code",
      "execution_count": null,
      "metadata": {
        "colab": {
          "base_uri": "https://localhost:8080/"
        },
        "id": "XNbOZZHAQtNv",
        "outputId": "80f087aa-c66d-47a0-cfea-f789b75692c2"
      },
      "outputs": [
        {
          "output_type": "execute_result",
          "data": {
            "text/plain": [
              "   Administrative  Administrative_Duration  Informational  \\\n",
              "0               0                      0.0              0   \n",
              "1               0                      0.0              0   \n",
              "2               0                      0.0              0   \n",
              "3               0                      0.0              0   \n",
              "4               0                      0.0              0   \n",
              "\n",
              "   Informational_Duration  ProductRelated  ProductRelated_Duration  \\\n",
              "0                     0.0               1                 0.000000   \n",
              "1                     0.0               2                64.000000   \n",
              "2                     0.0               1                 0.000000   \n",
              "3                     0.0               2                 2.666667   \n",
              "4                     0.0              10               627.500000   \n",
              "\n",
              "   BounceRates  ExitRates  PageValues  SpecialDay Month  OperatingSystems  \\\n",
              "0         0.20       0.20         0.0         0.0   Feb                 1   \n",
              "1         0.00       0.10         0.0         0.0   Feb                 2   \n",
              "2         0.20       0.20         0.0         0.0   Feb                 4   \n",
              "3         0.05       0.14         0.0         0.0   Feb                 3   \n",
              "4         0.02       0.05         0.0         0.0   Feb                 3   \n",
              "\n",
              "   Browser  Region  TrafficType        VisitorType  Weekend  Revenue  \n",
              "0        1       1            1  Returning_Visitor    False    False  \n",
              "1        2       1            2  Returning_Visitor    False    False  \n",
              "2        1       9            3  Returning_Visitor    False    False  \n",
              "3        2       2            4  Returning_Visitor    False    False  \n",
              "4        3       1            4  Returning_Visitor     True    False  "
            ],
            "text/html": [
              "\n",
              "  <div id=\"df-f278fd56-9d63-4997-8516-f3b972d9ea78\">\n",
              "    <div class=\"colab-df-container\">\n",
              "      <div>\n",
              "<style scoped>\n",
              "    .dataframe tbody tr th:only-of-type {\n",
              "        vertical-align: middle;\n",
              "    }\n",
              "\n",
              "    .dataframe tbody tr th {\n",
              "        vertical-align: top;\n",
              "    }\n",
              "\n",
              "    .dataframe thead th {\n",
              "        text-align: right;\n",
              "    }\n",
              "</style>\n",
              "<table border=\"1\" class=\"dataframe\">\n",
              "  <thead>\n",
              "    <tr style=\"text-align: right;\">\n",
              "      <th></th>\n",
              "      <th>Administrative</th>\n",
              "      <th>Administrative_Duration</th>\n",
              "      <th>Informational</th>\n",
              "      <th>Informational_Duration</th>\n",
              "      <th>ProductRelated</th>\n",
              "      <th>ProductRelated_Duration</th>\n",
              "      <th>BounceRates</th>\n",
              "      <th>ExitRates</th>\n",
              "      <th>PageValues</th>\n",
              "      <th>SpecialDay</th>\n",
              "      <th>Month</th>\n",
              "      <th>OperatingSystems</th>\n",
              "      <th>Browser</th>\n",
              "      <th>Region</th>\n",
              "      <th>TrafficType</th>\n",
              "      <th>VisitorType</th>\n",
              "      <th>Weekend</th>\n",
              "      <th>Revenue</th>\n",
              "    </tr>\n",
              "  </thead>\n",
              "  <tbody>\n",
              "    <tr>\n",
              "      <th>0</th>\n",
              "      <td>0</td>\n",
              "      <td>0.0</td>\n",
              "      <td>0</td>\n",
              "      <td>0.0</td>\n",
              "      <td>1</td>\n",
              "      <td>0.000000</td>\n",
              "      <td>0.20</td>\n",
              "      <td>0.20</td>\n",
              "      <td>0.0</td>\n",
              "      <td>0.0</td>\n",
              "      <td>Feb</td>\n",
              "      <td>1</td>\n",
              "      <td>1</td>\n",
              "      <td>1</td>\n",
              "      <td>1</td>\n",
              "      <td>Returning_Visitor</td>\n",
              "      <td>False</td>\n",
              "      <td>False</td>\n",
              "    </tr>\n",
              "    <tr>\n",
              "      <th>1</th>\n",
              "      <td>0</td>\n",
              "      <td>0.0</td>\n",
              "      <td>0</td>\n",
              "      <td>0.0</td>\n",
              "      <td>2</td>\n",
              "      <td>64.000000</td>\n",
              "      <td>0.00</td>\n",
              "      <td>0.10</td>\n",
              "      <td>0.0</td>\n",
              "      <td>0.0</td>\n",
              "      <td>Feb</td>\n",
              "      <td>2</td>\n",
              "      <td>2</td>\n",
              "      <td>1</td>\n",
              "      <td>2</td>\n",
              "      <td>Returning_Visitor</td>\n",
              "      <td>False</td>\n",
              "      <td>False</td>\n",
              "    </tr>\n",
              "    <tr>\n",
              "      <th>2</th>\n",
              "      <td>0</td>\n",
              "      <td>0.0</td>\n",
              "      <td>0</td>\n",
              "      <td>0.0</td>\n",
              "      <td>1</td>\n",
              "      <td>0.000000</td>\n",
              "      <td>0.20</td>\n",
              "      <td>0.20</td>\n",
              "      <td>0.0</td>\n",
              "      <td>0.0</td>\n",
              "      <td>Feb</td>\n",
              "      <td>4</td>\n",
              "      <td>1</td>\n",
              "      <td>9</td>\n",
              "      <td>3</td>\n",
              "      <td>Returning_Visitor</td>\n",
              "      <td>False</td>\n",
              "      <td>False</td>\n",
              "    </tr>\n",
              "    <tr>\n",
              "      <th>3</th>\n",
              "      <td>0</td>\n",
              "      <td>0.0</td>\n",
              "      <td>0</td>\n",
              "      <td>0.0</td>\n",
              "      <td>2</td>\n",
              "      <td>2.666667</td>\n",
              "      <td>0.05</td>\n",
              "      <td>0.14</td>\n",
              "      <td>0.0</td>\n",
              "      <td>0.0</td>\n",
              "      <td>Feb</td>\n",
              "      <td>3</td>\n",
              "      <td>2</td>\n",
              "      <td>2</td>\n",
              "      <td>4</td>\n",
              "      <td>Returning_Visitor</td>\n",
              "      <td>False</td>\n",
              "      <td>False</td>\n",
              "    </tr>\n",
              "    <tr>\n",
              "      <th>4</th>\n",
              "      <td>0</td>\n",
              "      <td>0.0</td>\n",
              "      <td>0</td>\n",
              "      <td>0.0</td>\n",
              "      <td>10</td>\n",
              "      <td>627.500000</td>\n",
              "      <td>0.02</td>\n",
              "      <td>0.05</td>\n",
              "      <td>0.0</td>\n",
              "      <td>0.0</td>\n",
              "      <td>Feb</td>\n",
              "      <td>3</td>\n",
              "      <td>3</td>\n",
              "      <td>1</td>\n",
              "      <td>4</td>\n",
              "      <td>Returning_Visitor</td>\n",
              "      <td>True</td>\n",
              "      <td>False</td>\n",
              "    </tr>\n",
              "  </tbody>\n",
              "</table>\n",
              "</div>\n",
              "      <button class=\"colab-df-convert\" onclick=\"convertToInteractive('df-f278fd56-9d63-4997-8516-f3b972d9ea78')\"\n",
              "              title=\"Convert this dataframe to an interactive table.\"\n",
              "              style=\"display:none;\">\n",
              "        \n",
              "  <svg xmlns=\"http://www.w3.org/2000/svg\" height=\"24px\"viewBox=\"0 0 24 24\"\n",
              "       width=\"24px\">\n",
              "    <path d=\"M0 0h24v24H0V0z\" fill=\"none\"/>\n",
              "    <path d=\"M18.56 5.44l.94 2.06.94-2.06 2.06-.94-2.06-.94-.94-2.06-.94 2.06-2.06.94zm-11 1L8.5 8.5l.94-2.06 2.06-.94-2.06-.94L8.5 2.5l-.94 2.06-2.06.94zm10 10l.94 2.06.94-2.06 2.06-.94-2.06-.94-.94-2.06-.94 2.06-2.06.94z\"/><path d=\"M17.41 7.96l-1.37-1.37c-.4-.4-.92-.59-1.43-.59-.52 0-1.04.2-1.43.59L10.3 9.45l-7.72 7.72c-.78.78-.78 2.05 0 2.83L4 21.41c.39.39.9.59 1.41.59.51 0 1.02-.2 1.41-.59l7.78-7.78 2.81-2.81c.8-.78.8-2.07 0-2.86zM5.41 20L4 18.59l7.72-7.72 1.47 1.35L5.41 20z\"/>\n",
              "  </svg>\n",
              "      </button>\n",
              "      \n",
              "  <style>\n",
              "    .colab-df-container {\n",
              "      display:flex;\n",
              "      flex-wrap:wrap;\n",
              "      gap: 12px;\n",
              "    }\n",
              "\n",
              "    .colab-df-convert {\n",
              "      background-color: #E8F0FE;\n",
              "      border: none;\n",
              "      border-radius: 50%;\n",
              "      cursor: pointer;\n",
              "      display: none;\n",
              "      fill: #1967D2;\n",
              "      height: 32px;\n",
              "      padding: 0 0 0 0;\n",
              "      width: 32px;\n",
              "    }\n",
              "\n",
              "    .colab-df-convert:hover {\n",
              "      background-color: #E2EBFA;\n",
              "      box-shadow: 0px 1px 2px rgba(60, 64, 67, 0.3), 0px 1px 3px 1px rgba(60, 64, 67, 0.15);\n",
              "      fill: #174EA6;\n",
              "    }\n",
              "\n",
              "    [theme=dark] .colab-df-convert {\n",
              "      background-color: #3B4455;\n",
              "      fill: #D2E3FC;\n",
              "    }\n",
              "\n",
              "    [theme=dark] .colab-df-convert:hover {\n",
              "      background-color: #434B5C;\n",
              "      box-shadow: 0px 1px 3px 1px rgba(0, 0, 0, 0.15);\n",
              "      filter: drop-shadow(0px 1px 2px rgba(0, 0, 0, 0.3));\n",
              "      fill: #FFFFFF;\n",
              "    }\n",
              "  </style>\n",
              "\n",
              "      <script>\n",
              "        const buttonEl =\n",
              "          document.querySelector('#df-f278fd56-9d63-4997-8516-f3b972d9ea78 button.colab-df-convert');\n",
              "        buttonEl.style.display =\n",
              "          google.colab.kernel.accessAllowed ? 'block' : 'none';\n",
              "\n",
              "        async function convertToInteractive(key) {\n",
              "          const element = document.querySelector('#df-f278fd56-9d63-4997-8516-f3b972d9ea78');\n",
              "          const dataTable =\n",
              "            await google.colab.kernel.invokeFunction('convertToInteractive',\n",
              "                                                     [key], {});\n",
              "          if (!dataTable) return;\n",
              "\n",
              "          const docLinkHtml = 'Like what you see? Visit the ' +\n",
              "            '<a target=\"_blank\" href=https://colab.research.google.com/notebooks/data_table.ipynb>data table notebook</a>'\n",
              "            + ' to learn more about interactive tables.';\n",
              "          element.innerHTML = '';\n",
              "          dataTable['output_type'] = 'display_data';\n",
              "          await google.colab.output.renderOutput(dataTable, element);\n",
              "          const docLink = document.createElement('div');\n",
              "          docLink.innerHTML = docLinkHtml;\n",
              "          element.appendChild(docLink);\n",
              "        }\n",
              "      </script>\n",
              "    </div>\n",
              "  </div>\n",
              "  "
            ]
          },
          "metadata": {},
          "execution_count": 8
        }
      ],
      "source": [
        "dataset.head()"
      ]
    },
    {
      "cell_type": "markdown",
      "metadata": {
        "id": "PF-rD-0gQrhK"
      },
      "source": [
        "It's important to check if the number of instances in each class is balanced:"
      ]
    },
    {
      "cell_type": "code",
      "execution_count": null,
      "metadata": {
        "colab": {
          "base_uri": "https://localhost:8080/"
        },
        "id": "DfjSXnfUQc1Q",
        "outputId": "feae6a9e-2d23-43fa-edd5-782c2802d67c"
      },
      "outputs": [
        {
          "output_type": "execute_result",
          "data": {
            "text/plain": [
              "False    0.845255\n",
              "True     0.154745\n",
              "Name: Revenue, dtype: float64"
            ]
          },
          "metadata": {},
          "execution_count": 9
        }
      ],
      "source": [
        "dataset[\"Revenue\"].value_counts(normalize=True)"
      ]
    },
    {
      "cell_type": "markdown",
      "metadata": {
        "id": "9ArMNxC3RGJu"
      },
      "source": [
        "The 84.5% of instances are negative, while the the 15.5% are positive.\n",
        "This means that the dataset is imbalanced.\n",
        "\n",
        "There are a few different ways to handle imbalanced datasets.\n",
        "In this project, we will do so by using the `balanced_accuracy` to measure the performance of the algorithms, which is more appropriate than the `accuracy` metric for imbalanced datasets.\n",
        "\n",
        "Also, many algorithms will required specific tweaking to prevent excessive bias."
      ]
    },
    {
      "cell_type": "markdown",
      "metadata": {
        "id": "k33XbElQ7mWb"
      },
      "source": [
        "# Data Cleaning and Feature Engineering"
      ]
    },
    {
      "cell_type": "markdown",
      "metadata": {
        "id": "rV09yQBPaI4q"
      },
      "source": [
        "## Column names"
      ]
    },
    {
      "cell_type": "markdown",
      "metadata": {
        "id": "OJh8f1q2aMDu"
      },
      "source": [
        "The column naming convention appears to be inconsistent.\n",
        "We can begin the data cleaning process by converting the column names to *snake_case*."
      ]
    },
    {
      "cell_type": "code",
      "execution_count": null,
      "metadata": {
        "id": "TFog_gpcV63R"
      },
      "outputs": [],
      "source": [
        "def to_snake_case(str):\n",
        "    res = [str[0].lower()]\n",
        "    for i, c in enumerate(str[1:]):\n",
        "      if c in ('ABCDEFGHIJKLMNOPQRSTUVWXYZ'):\n",
        "        if str[i] != \"_\":\n",
        "          res.append('_')\n",
        "        res.append(c.lower())\n",
        "      else:\n",
        "          res.append(c)\n",
        "     \n",
        "    return ''.join(res)\n",
        "\n",
        "dataset.columns = dataset.columns.map(lambda c: to_snake_case(c))"
      ]
    },
    {
      "cell_type": "markdown",
      "metadata": {
        "id": "feXvsTHcbIHn"
      },
      "source": [
        "## Column Types"
      ]
    },
    {
      "cell_type": "markdown",
      "metadata": {
        "id": "WA1ihOX8bTaV"
      },
      "source": [
        "The `info` method can be used to check the type of the columns in the dataset."
      ]
    },
    {
      "cell_type": "code",
      "execution_count": null,
      "metadata": {
        "colab": {
          "base_uri": "https://localhost:8080/"
        },
        "id": "1XVEwFnbQtNw",
        "outputId": "06b81b11-62f2-4d9e-fec9-5eaf0f60ffa1"
      },
      "outputs": [
        {
          "output_type": "stream",
          "name": "stdout",
          "text": [
            "<class 'pandas.core.frame.DataFrame'>\n",
            "RangeIndex: 12330 entries, 0 to 12329\n",
            "Data columns (total 18 columns):\n",
            " #   Column                    Non-Null Count  Dtype  \n",
            "---  ------                    --------------  -----  \n",
            " 0   administrative            12330 non-null  int64  \n",
            " 1   administrative_duration   12330 non-null  float64\n",
            " 2   informational             12330 non-null  int64  \n",
            " 3   informational_duration    12330 non-null  float64\n",
            " 4   product_related           12330 non-null  int64  \n",
            " 5   product_related_duration  12330 non-null  float64\n",
            " 6   bounce_rates              12330 non-null  float64\n",
            " 7   exit_rates                12330 non-null  float64\n",
            " 8   page_values               12330 non-null  float64\n",
            " 9   special_day               12330 non-null  float64\n",
            " 10  month                     12330 non-null  object \n",
            " 11  operating_systems         12330 non-null  int64  \n",
            " 12  browser                   12330 non-null  int64  \n",
            " 13  region                    12330 non-null  int64  \n",
            " 14  traffic_type              12330 non-null  int64  \n",
            " 15  visitor_type              12330 non-null  object \n",
            " 16  weekend                   12330 non-null  bool   \n",
            " 17  revenue                   12330 non-null  bool   \n",
            "dtypes: bool(2), float64(7), int64(7), object(2)\n",
            "memory usage: 1.5+ MB\n"
          ]
        }
      ],
      "source": [
        "dataset.info()"
      ]
    },
    {
      "cell_type": "markdown",
      "metadata": {
        "id": "t1fzy9R0bcCY"
      },
      "source": [
        "There are a couple of object columns that represent categorical data, and two boolean columns that could cause problems. We can convert such columns to more convenient data types"
      ]
    },
    {
      "cell_type": "markdown",
      "metadata": {
        "id": "UspP5qDpM4Hu"
      },
      "source": [
        "### Convert categorical data"
      ]
    },
    {
      "cell_type": "markdown",
      "metadata": {
        "id": "PnSupd6gVg6V"
      },
      "source": [
        "The dataset has two categorical features: `Month` and `VisitorType`.\n",
        "We can observe the possible values of these features."
      ]
    },
    {
      "cell_type": "code",
      "execution_count": null,
      "metadata": {
        "colab": {
          "base_uri": "https://localhost:8080/"
        },
        "id": "FDSRgxl3VBAL",
        "outputId": "a689775b-9b8a-4c1c-8b95-1ef09238f3af"
      },
      "outputs": [
        {
          "output_type": "stream",
          "name": "stdout",
          "text": [
            "['Feb' 'Mar' 'May' 'Oct' 'June' 'Jul' 'Aug' 'Nov' 'Sep' 'Dec']\n",
            "['Returning_Visitor' 'New_Visitor' 'Other']\n"
          ]
        }
      ],
      "source": [
        "print(dataset[\"month\"].unique())\n",
        "print(dataset[\"visitor_type\"].unique())"
      ]
    },
    {
      "cell_type": "markdown",
      "metadata": {
        "id": "kcCMP_zYTK23"
      },
      "source": [
        "These features can be converted into integers using `sklearn.preprocessing.LabelEncoder()`, which replaces the category string values with increasing integers values.\n",
        "\n",
        "The problem with this method is that the learning algorithms could interpret the integer values as having an order/hierarchy between them.\n",
        "\n",
        "This is fine for the `Month` column, where the various months will be encoded with integers between 0 and 11: these integers do have a meaningful order, so label encoding is perfectly fine.\n",
        "\n",
        "However for `VisitorType` it's not the same: the integer values that the feature can have to represent the string values have no order/hierarchy.\n",
        "For this reason, a more appropriate conversion for this feature would be to use one-hot encoding. In this strategy, each category value is converted into a new column and assigned a 1 or 0 value to the column."
      ]
    },
    {
      "cell_type": "code",
      "execution_count": null,
      "metadata": {
        "id": "2XZ6i8X_Fn-Q"
      },
      "outputs": [],
      "source": [
        "from sklearn.preprocessing import LabelEncoder, OneHotEncoder\n",
        "\n",
        "le = LabelEncoder()\n",
        "dataset[\"month\"] = le.fit_transform(dataset[\"month\"])\n",
        "\n",
        "dum_df = pd.get_dummies(dataset[\"visitor_type\"], prefix=\"visitor_type\" )\n",
        "dum_df.columns = dum_df.columns.map(lambda c: to_snake_case(c))\n",
        "\n",
        "dataset = dataset.join(dum_df).drop(\"visitor_type\", axis=1)"
      ]
    },
    {
      "cell_type": "markdown",
      "metadata": {
        "id": "lf9_S-b17a6C"
      },
      "source": [
        "### Convert boolean values to integer"
      ]
    },
    {
      "cell_type": "markdown",
      "metadata": {
        "id": "Y1oNe62X73eP"
      },
      "source": [
        "The `weekend` and `revenue` columns have boolean values, which should automatically be converted to `0` and `1`s by Python, but since some of the algorithms may have some parts implemented in C/C++, we might run into some problems.\n",
        "\n",
        "To avoid this, we can convert such columns to integer values."
      ]
    },
    {
      "cell_type": "code",
      "execution_count": null,
      "metadata": {
        "id": "Od_LBGf78Sv-"
      },
      "outputs": [],
      "source": [
        "dataset[\"weekend\"] = dataset[\"weekend\"].astype(int)\n",
        "dataset[\"revenue\"] = dataset[\"revenue\"].astype(int)"
      ]
    },
    {
      "cell_type": "markdown",
      "metadata": {
        "id": "aaToOTjfHN5T"
      },
      "source": [
        "## Missing values"
      ]
    },
    {
      "cell_type": "markdown",
      "metadata": {
        "id": "p1H9XnyXIsDX"
      },
      "source": [
        "We can check if the dataset contains NA values, and if it does we can delete such rows."
      ]
    },
    {
      "cell_type": "code",
      "execution_count": null,
      "metadata": {
        "colab": {
          "base_uri": "https://localhost:8080/"
        },
        "id": "S-pTdET8HP6r",
        "outputId": "7b29001c-3680-4999-9b30-b895f79faabc"
      },
      "outputs": [
        {
          "output_type": "execute_result",
          "data": {
            "text/plain": [
              "administrative                    False\n",
              "administrative_duration           False\n",
              "informational                     False\n",
              "informational_duration            False\n",
              "product_related                   False\n",
              "product_related_duration          False\n",
              "bounce_rates                      False\n",
              "exit_rates                        False\n",
              "page_values                       False\n",
              "special_day                       False\n",
              "month                             False\n",
              "operating_systems                 False\n",
              "browser                           False\n",
              "region                            False\n",
              "traffic_type                      False\n",
              "weekend                           False\n",
              "revenue                           False\n",
              "visitor_type_new_visitor          False\n",
              "visitor_type_other                False\n",
              "visitor_type_returning_visitor    False\n",
              "dtype: bool"
            ]
          },
          "metadata": {},
          "execution_count": 15
        }
      ],
      "source": [
        "dataset.isna().any()"
      ]
    },
    {
      "cell_type": "markdown",
      "metadata": {
        "id": "-eIUae-PIxUV"
      },
      "source": [
        "The dataset does not contain any NA value, so no row needs to be eliminated."
      ]
    },
    {
      "cell_type": "markdown",
      "metadata": {
        "id": "0JoKHo7mQjuu"
      },
      "source": [
        "## Correlated Columns"
      ]
    },
    {
      "cell_type": "markdown",
      "metadata": {
        "id": "S318L6-Fd_r9"
      },
      "source": [
        "To increase the speed of the learning process and reduce bias a possibility is to remove highly correlated columns from the dataset. \n",
        "\n",
        "However, while developing this project, we discovered *Recursive Feature Elimination*, which provides a more effective way of removing unnecessary features.\n",
        "\n",
        "We are leaving this section here anyway for compleness."
      ]
    },
    {
      "cell_type": "code",
      "execution_count": null,
      "metadata": {
        "id": "lrUdNksjQl2B"
      },
      "outputs": [],
      "source": [
        "def get_correlated_cols(ds: pd.DataFrame, corr_threshold: float):\n",
        "    # Compute correlation matrix using pearson method (linear correlation)\n",
        "    corr = ds.corr(method=\"pearson\")\n",
        "    # Find collinear columns\n",
        "    corr_cols = corr[corr > corr_threshold].dropna(thresh=2).dropna(axis=\"columns\")\n",
        "    return corr_cols"
      ]
    },
    {
      "cell_type": "code",
      "execution_count": null,
      "metadata": {
        "colab": {
          "base_uri": "https://localhost:8080/"
        },
        "id": "m5UAxthaRExI",
        "outputId": "19dd496f-2fff-44e1-dc57-f1332568ae0d"
      },
      "outputs": [
        {
          "output_type": "execute_result",
          "data": {
            "text/plain": [
              "              bounce_rates  exit_rates\n",
              "bounce_rates      1.000000    0.913004\n",
              "exit_rates        0.913004    1.000000"
            ],
            "text/html": [
              "\n",
              "  <div id=\"df-bf438e3b-4c7f-440b-8128-fffcff29e496\">\n",
              "    <div class=\"colab-df-container\">\n",
              "      <div>\n",
              "<style scoped>\n",
              "    .dataframe tbody tr th:only-of-type {\n",
              "        vertical-align: middle;\n",
              "    }\n",
              "\n",
              "    .dataframe tbody tr th {\n",
              "        vertical-align: top;\n",
              "    }\n",
              "\n",
              "    .dataframe thead th {\n",
              "        text-align: right;\n",
              "    }\n",
              "</style>\n",
              "<table border=\"1\" class=\"dataframe\">\n",
              "  <thead>\n",
              "    <tr style=\"text-align: right;\">\n",
              "      <th></th>\n",
              "      <th>bounce_rates</th>\n",
              "      <th>exit_rates</th>\n",
              "    </tr>\n",
              "  </thead>\n",
              "  <tbody>\n",
              "    <tr>\n",
              "      <th>bounce_rates</th>\n",
              "      <td>1.000000</td>\n",
              "      <td>0.913004</td>\n",
              "    </tr>\n",
              "    <tr>\n",
              "      <th>exit_rates</th>\n",
              "      <td>0.913004</td>\n",
              "      <td>1.000000</td>\n",
              "    </tr>\n",
              "  </tbody>\n",
              "</table>\n",
              "</div>\n",
              "      <button class=\"colab-df-convert\" onclick=\"convertToInteractive('df-bf438e3b-4c7f-440b-8128-fffcff29e496')\"\n",
              "              title=\"Convert this dataframe to an interactive table.\"\n",
              "              style=\"display:none;\">\n",
              "        \n",
              "  <svg xmlns=\"http://www.w3.org/2000/svg\" height=\"24px\"viewBox=\"0 0 24 24\"\n",
              "       width=\"24px\">\n",
              "    <path d=\"M0 0h24v24H0V0z\" fill=\"none\"/>\n",
              "    <path d=\"M18.56 5.44l.94 2.06.94-2.06 2.06-.94-2.06-.94-.94-2.06-.94 2.06-2.06.94zm-11 1L8.5 8.5l.94-2.06 2.06-.94-2.06-.94L8.5 2.5l-.94 2.06-2.06.94zm10 10l.94 2.06.94-2.06 2.06-.94-2.06-.94-.94-2.06-.94 2.06-2.06.94z\"/><path d=\"M17.41 7.96l-1.37-1.37c-.4-.4-.92-.59-1.43-.59-.52 0-1.04.2-1.43.59L10.3 9.45l-7.72 7.72c-.78.78-.78 2.05 0 2.83L4 21.41c.39.39.9.59 1.41.59.51 0 1.02-.2 1.41-.59l7.78-7.78 2.81-2.81c.8-.78.8-2.07 0-2.86zM5.41 20L4 18.59l7.72-7.72 1.47 1.35L5.41 20z\"/>\n",
              "  </svg>\n",
              "      </button>\n",
              "      \n",
              "  <style>\n",
              "    .colab-df-container {\n",
              "      display:flex;\n",
              "      flex-wrap:wrap;\n",
              "      gap: 12px;\n",
              "    }\n",
              "\n",
              "    .colab-df-convert {\n",
              "      background-color: #E8F0FE;\n",
              "      border: none;\n",
              "      border-radius: 50%;\n",
              "      cursor: pointer;\n",
              "      display: none;\n",
              "      fill: #1967D2;\n",
              "      height: 32px;\n",
              "      padding: 0 0 0 0;\n",
              "      width: 32px;\n",
              "    }\n",
              "\n",
              "    .colab-df-convert:hover {\n",
              "      background-color: #E2EBFA;\n",
              "      box-shadow: 0px 1px 2px rgba(60, 64, 67, 0.3), 0px 1px 3px 1px rgba(60, 64, 67, 0.15);\n",
              "      fill: #174EA6;\n",
              "    }\n",
              "\n",
              "    [theme=dark] .colab-df-convert {\n",
              "      background-color: #3B4455;\n",
              "      fill: #D2E3FC;\n",
              "    }\n",
              "\n",
              "    [theme=dark] .colab-df-convert:hover {\n",
              "      background-color: #434B5C;\n",
              "      box-shadow: 0px 1px 3px 1px rgba(0, 0, 0, 0.15);\n",
              "      filter: drop-shadow(0px 1px 2px rgba(0, 0, 0, 0.3));\n",
              "      fill: #FFFFFF;\n",
              "    }\n",
              "  </style>\n",
              "\n",
              "      <script>\n",
              "        const buttonEl =\n",
              "          document.querySelector('#df-bf438e3b-4c7f-440b-8128-fffcff29e496 button.colab-df-convert');\n",
              "        buttonEl.style.display =\n",
              "          google.colab.kernel.accessAllowed ? 'block' : 'none';\n",
              "\n",
              "        async function convertToInteractive(key) {\n",
              "          const element = document.querySelector('#df-bf438e3b-4c7f-440b-8128-fffcff29e496');\n",
              "          const dataTable =\n",
              "            await google.colab.kernel.invokeFunction('convertToInteractive',\n",
              "                                                     [key], {});\n",
              "          if (!dataTable) return;\n",
              "\n",
              "          const docLinkHtml = 'Like what you see? Visit the ' +\n",
              "            '<a target=\"_blank\" href=https://colab.research.google.com/notebooks/data_table.ipynb>data table notebook</a>'\n",
              "            + ' to learn more about interactive tables.';\n",
              "          element.innerHTML = '';\n",
              "          dataTable['output_type'] = 'display_data';\n",
              "          await google.colab.output.renderOutput(dataTable, element);\n",
              "          const docLink = document.createElement('div');\n",
              "          docLink.innerHTML = docLinkHtml;\n",
              "          element.appendChild(docLink);\n",
              "        }\n",
              "      </script>\n",
              "    </div>\n",
              "  </div>\n",
              "  "
            ]
          },
          "metadata": {},
          "execution_count": 17
        }
      ],
      "source": [
        "get_correlated_cols(dataset, 0.90)"
      ]
    },
    {
      "cell_type": "markdown",
      "metadata": {
        "id": "95GOZ3qXenPH"
      },
      "source": [
        "`bounce_rates` and `exit_rates` are highly correlated. We can remove one of the two columns."
      ]
    },
    {
      "cell_type": "code",
      "execution_count": null,
      "metadata": {
        "id": "fFw_roYZTIel"
      },
      "outputs": [],
      "source": [
        "# dataset.drop(\"exit_rates\", axis=1, inplace=True)"
      ]
    },
    {
      "cell_type": "markdown",
      "metadata": {
        "id": "vmNnHhHVJG5A"
      },
      "source": [
        "## Duplicate Rows"
      ]
    },
    {
      "cell_type": "markdown",
      "metadata": {
        "id": "7Di1-yi7KATE"
      },
      "source": [
        "It's good practice to identify and remove duplicate rows in the dataset, because they could result in misleading performance when evaluating ML algorithms: duplicate rows could appear in both train and test datasets."
      ]
    },
    {
      "cell_type": "code",
      "execution_count": null,
      "metadata": {
        "colab": {
          "base_uri": "https://localhost:8080/"
        },
        "id": "TfuHkzlJJY_p",
        "outputId": "ce3d604d-5be7-415a-c4e6-679822167b55"
      },
      "outputs": [
        {
          "output_type": "stream",
          "name": "stdout",
          "text": [
            "True\n"
          ]
        }
      ],
      "source": [
        "dups = dataset.duplicated()\n",
        "print(dups.any())"
      ]
    },
    {
      "cell_type": "markdown",
      "metadata": {
        "id": "XeUb-QWyJqUn"
      },
      "source": [
        "There are duplicates in the dataset. They can be removed using pandas `drop_duplicates`."
      ]
    },
    {
      "cell_type": "code",
      "execution_count": null,
      "metadata": {
        "id": "Lhq4ggcvJm8c"
      },
      "outputs": [],
      "source": [
        "dataset.drop_duplicates(inplace=True)"
      ]
    },
    {
      "cell_type": "markdown",
      "metadata": {
        "id": "FeHkqxul9dMx"
      },
      "source": [
        "## Feature scaling"
      ]
    },
    {
      "cell_type": "markdown",
      "metadata": {
        "id": "xQOliItYfoys"
      },
      "source": [
        "In order to weight the features equally, feature scaling is important.\n",
        "Here we use the `MinMaxScaler`, which scales all values to the [0,1] interval."
      ]
    },
    {
      "cell_type": "code",
      "execution_count": null,
      "metadata": {
        "id": "Fd2rqh2C9joY"
      },
      "outputs": [],
      "source": [
        "from pandas.core.common import random_state\n",
        "from sklearn.preprocessing import MinMaxScaler\n",
        "\n",
        "mms = MinMaxScaler()\n",
        "dataset = pd.DataFrame(mms.fit_transform(dataset), columns=dataset.columns)"
      ]
    },
    {
      "cell_type": "markdown",
      "metadata": {
        "id": "Nxn0hNB3QtNy"
      },
      "source": [
        "## Create test and training sets"
      ]
    },
    {
      "cell_type": "markdown",
      "metadata": {
        "id": "3YrloRVYJjTI"
      },
      "source": [
        "We will use the 70% of the total instances for training, and the remaining 30% for testing.\n",
        "\n",
        "The `stratify` option of `train_test_split` ensures that relative class frequencies are approximately preserved in the training and test sets."
      ]
    },
    {
      "cell_type": "code",
      "execution_count": null,
      "metadata": {
        "id": "fs433X00QtN1"
      },
      "outputs": [],
      "source": [
        "from sklearn.model_selection import train_test_split\n",
        "\n",
        "X = dataset.drop(\"revenue\", axis=1)\n",
        "y = dataset[\"revenue\"].copy()\n",
        "\n",
        "X_train, X_test, y_train,  y_test = train_test_split(X, y, test_size=0.3, stratify=y, random_state=42)"
      ]
    },
    {
      "cell_type": "markdown",
      "metadata": {
        "id": "jSEn7BfKXfhl"
      },
      "source": [
        "## Recursive Feature Elimination"
      ]
    },
    {
      "cell_type": "markdown",
      "metadata": {
        "id": "7nZiyVStXrPd"
      },
      "source": [
        "The `sklearn.feature_selection.RFECV` class provides cross-validated recursive feature selection, which automatically finds feature that can be removed from the dataset.\n",
        "\n",
        "Since we know that the dataset is imbalanced, we use a random forest classifier to compute the weights associated with the features (the features with the lowest weights are those that will be removed), along with the `balanced_accuracy` to measure performance during the cross-validation. "
      ]
    },
    {
      "cell_type": "code",
      "execution_count": null,
      "metadata": {
        "colab": {
          "base_uri": "https://localhost:8080/"
        },
        "id": "aMFYG07SRm2h",
        "outputId": "a98244bb-5e27-4840-850e-4ccd01606bf9"
      },
      "outputs": [
        {
          "output_type": "execute_result",
          "data": {
            "text/plain": [
              "RFECV(estimator=RandomForestClassifier(random_state=42),\n",
              "      scoring='balanced_accuracy')"
            ]
          },
          "metadata": {},
          "execution_count": 23
        }
      ],
      "source": [
        "from sklearn.feature_selection import RFECV\n",
        "from sklearn.ensemble import RandomForestClassifier\n",
        "\n",
        "rfecv = RFECV(\n",
        "    estimator=RandomForestClassifier(random_state=42),\n",
        "    min_features_to_select=1, # Eliminate at least one feature\n",
        "    scoring=\"balanced_accuracy\"\n",
        ")\n",
        "\n",
        "rfecv.fit(X_train, y_train)"
      ]
    },
    {
      "cell_type": "code",
      "execution_count": null,
      "metadata": {
        "colab": {
          "base_uri": "https://localhost:8080/"
        },
        "id": "Rv7oMd8sYa45",
        "outputId": "44e5e172-4576-4ab6-f3d9-753af5161bcf"
      },
      "outputs": [
        {
          "output_type": "stream",
          "name": "stdout",
          "text": [
            "Eliminated 12 features, from 19 to 7\n"
          ]
        }
      ],
      "source": [
        "print(\"Eliminated %d features, from %d to %d\" % (\n",
        "    len(X.columns) - rfecv.n_features_,\n",
        "    len(X.columns),\n",
        "    rfecv.n_features_    \n",
        "  )\n",
        ")"
      ]
    },
    {
      "cell_type": "code",
      "execution_count": null,
      "metadata": {
        "id": "sowbjaARTAG6"
      },
      "outputs": [],
      "source": [
        "columns_to_keep = X.columns[rfecv.support_]\n",
        "\n",
        "X = X[columns_to_keep]\n",
        "X_train = X_train[columns_to_keep]\n",
        "X_test = X_test[columns_to_keep]"
      ]
    },
    {
      "cell_type": "markdown",
      "metadata": {
        "id": "pumyaOvphvc7"
      },
      "source": [
        "## Utility functions"
      ]
    },
    {
      "cell_type": "code",
      "execution_count": null,
      "metadata": {
        "id": "PAuD9p1Ph193"
      },
      "outputs": [],
      "source": [
        "from sklearn.metrics import accuracy_score\n",
        "from sklearn.metrics import balanced_accuracy_score\n",
        "\n",
        "def evaluate(clf):\n",
        "  y_pred = clf.predict(X_test)\n",
        "  print(\"Accuracy (on test set): \", balanced_accuracy_score(y_test, y_pred))\n",
        "\n",
        "def evaluate_grid(grid_clf):\n",
        "  print(\"Best parameters: \", grid_clf.best_params_)\n",
        "  print(\"Accuracy of best (means of cross-validated scores on train set): \", grid_clf.best_score_)\n",
        "  print(\"Accuracy of best (on test set): \", balanced_accuracy_score(y_test, grid_clf.predict(X_test)))"
      ]
    },
    {
      "cell_type": "markdown",
      "metadata": {
        "id": "oSgeqcnKlaCb"
      },
      "source": [
        "# Basic Classifiers"
      ]
    },
    {
      "cell_type": "markdown",
      "metadata": {
        "id": "2SlW8I8Qkyhc"
      },
      "source": [
        "## Decision Tree"
      ]
    },
    {
      "cell_type": "markdown",
      "metadata": {
        "id": "-KN8rmq_7dCu"
      },
      "source": [
        "We expect decision trees to behave well for this problem, because they are particularly suited for imbalanced classifications.\n",
        "\n",
        "We will begin with a baseline decision tree, that we will try to improve upon using a grid search with cross validation, to find the best possible hyperparameters."
      ]
    },
    {
      "cell_type": "code",
      "execution_count": null,
      "metadata": {
        "colab": {
          "base_uri": "https://localhost:8080/"
        },
        "id": "UsWoThHuoL3r",
        "outputId": "773af759-5df9-4587-afac-53d4b191e390"
      },
      "outputs": [
        {
          "output_type": "execute_result",
          "data": {
            "text/plain": [
              "DecisionTreeClassifier(class_weight='balanced', max_depth=2, random_state=42)"
            ]
          },
          "metadata": {},
          "execution_count": 24
        }
      ],
      "source": [
        "from sklearn.tree import DecisionTreeClassifier\n",
        "\n",
        "tree_clf = DecisionTreeClassifier(max_depth=2, random_state=42, class_weight=\"balanced\")\n",
        "tree_clf.fit(X_train, y_train)"
      ]
    },
    {
      "cell_type": "code",
      "source": [
        "evaluate(tree_clf)"
      ],
      "metadata": {
        "id": "snKquz73pknD",
        "colab": {
          "base_uri": "https://localhost:8080/"
        },
        "outputId": "36db9e8a-a58c-4dc0-f544-73224f4504a2"
      },
      "execution_count": null,
      "outputs": [
        {
          "output_type": "stream",
          "name": "stdout",
          "text": [
            "Accuracy (on test set):  0.8419354108674497\n"
          ]
        }
      ]
    },
    {
      "cell_type": "markdown",
      "metadata": {
        "id": "rGX8ddr2aY4g"
      },
      "source": [
        "We can also visualize the created tree:"
      ]
    },
    {
      "cell_type": "code",
      "execution_count": null,
      "metadata": {
        "colab": {
          "base_uri": "https://localhost:8080/"
        },
        "id": "uQe0rzjtkfaB",
        "outputId": "64d46688-6f6b-499e-da4c-de2cb086db4a"
      },
      "outputs": [
        {
          "output_type": "execute_result",
          "data": {
            "text/plain": [
              "<graphviz.files.Source at 0x7f5987679550>"
            ],
            "image/svg+xml": "<?xml version=\"1.0\" encoding=\"UTF-8\" standalone=\"no\"?>\n<!DOCTYPE svg PUBLIC \"-//W3C//DTD SVG 1.1//EN\"\n \"http://www.w3.org/Graphics/SVG/1.1/DTD/svg11.dtd\">\n<!-- Generated by graphviz version 2.40.1 (20161225.0304)\n -->\n<!-- Title: Tree Pages: 1 -->\n<svg width=\"844pt\" height=\"314pt\"\n viewBox=\"0.00 0.00 844.00 314.00\" xmlns=\"http://www.w3.org/2000/svg\" xmlns:xlink=\"http://www.w3.org/1999/xlink\">\n<g id=\"graph0\" class=\"graph\" transform=\"scale(1 1) rotate(0) translate(4 310)\">\n<title>Tree</title>\n<polygon fill=\"#ffffff\" stroke=\"transparent\" points=\"-4,4 -4,-310 840,-310 840,4 -4,4\"/>\n<!-- 0 -->\n<g id=\"node1\" class=\"node\">\n<title>0</title>\n<path fill=\"#ffffff\" stroke=\"#000000\" d=\"M494,-306C494,-306 345,-306 345,-306 339,-306 333,-300 333,-294 333,-294 333,-235 333,-235 333,-229 339,-223 345,-223 345,-223 494,-223 494,-223 500,-223 506,-229 506,-235 506,-235 506,-294 506,-294 506,-300 500,-306 494,-306\"/>\n<text text-anchor=\"middle\" x=\"419.5\" y=\"-290.8\" font-family=\"Helvetica,sans-Serif\" font-size=\"14.00\" fill=\"#000000\">page_values &lt;= 0.0</text>\n<text text-anchor=\"middle\" x=\"419.5\" y=\"-275.8\" font-family=\"Helvetica,sans-Serif\" font-size=\"14.00\" fill=\"#000000\">gini = 0.5</text>\n<text text-anchor=\"middle\" x=\"419.5\" y=\"-260.8\" font-family=\"Helvetica,sans-Serif\" font-size=\"14.00\" fill=\"#000000\">samples = 8543</text>\n<text text-anchor=\"middle\" x=\"419.5\" y=\"-245.8\" font-family=\"Helvetica,sans-Serif\" font-size=\"14.00\" fill=\"#000000\">value = [4271.5, 4271.5]</text>\n<text text-anchor=\"middle\" x=\"419.5\" y=\"-230.8\" font-family=\"Helvetica,sans-Serif\" font-size=\"14.00\" fill=\"#000000\">class = No Revenue</text>\n</g>\n<!-- 1 -->\n<g id=\"node2\" class=\"node\">\n<title>1</title>\n<path fill=\"#eb9c64\" stroke=\"#000000\" d=\"M399,-187C399,-187 226,-187 226,-187 220,-187 214,-181 214,-175 214,-175 214,-116 214,-116 214,-110 220,-104 226,-104 226,-104 399,-104 399,-104 405,-104 411,-110 411,-116 411,-116 411,-175 411,-175 411,-181 405,-187 399,-187\"/>\n<text text-anchor=\"middle\" x=\"312.5\" y=\"-171.8\" font-family=\"Helvetica,sans-Serif\" font-size=\"14.00\" fill=\"#000000\">month &lt;= 0.722</text>\n<text text-anchor=\"middle\" x=\"312.5\" y=\"-156.8\" font-family=\"Helvetica,sans-Serif\" font-size=\"14.00\" fill=\"#000000\">gini = 0.293</text>\n<text text-anchor=\"middle\" x=\"312.5\" y=\"-141.8\" font-family=\"Helvetica,sans-Serif\" font-size=\"14.00\" fill=\"#000000\">samples = 6632</text>\n<text text-anchor=\"middle\" x=\"312.5\" y=\"-126.8\" font-family=\"Helvetica,sans-Serif\" font-size=\"14.00\" fill=\"#000000\">value = [3778.977, 818.491]</text>\n<text text-anchor=\"middle\" x=\"312.5\" y=\"-111.8\" font-family=\"Helvetica,sans-Serif\" font-size=\"14.00\" fill=\"#000000\">class = No Revenue</text>\n</g>\n<!-- 0&#45;&gt;1 -->\n<g id=\"edge1\" class=\"edge\">\n<title>0&#45;&gt;1</title>\n<path fill=\"none\" stroke=\"#000000\" d=\"M382.0766,-222.8796C373.9785,-213.8733 365.3386,-204.2644 356.9991,-194.9897\"/>\n<polygon fill=\"#000000\" stroke=\"#000000\" points=\"359.372,-192.394 350.0831,-187.2981 354.1667,-197.0743 359.372,-192.394\"/>\n<text text-anchor=\"middle\" x=\"348.7576\" y=\"-208.5629\" font-family=\"Helvetica,sans-Serif\" font-size=\"14.00\" fill=\"#000000\">True</text>\n</g>\n<!-- 4 -->\n<g id=\"node5\" class=\"node\">\n<title>4</title>\n<path fill=\"#55abe9\" stroke=\"#000000\" d=\"M614,-187C614,-187 441,-187 441,-187 435,-187 429,-181 429,-175 429,-175 429,-116 429,-116 429,-110 435,-104 441,-104 441,-104 614,-104 614,-104 620,-104 626,-110 626,-116 626,-116 626,-175 626,-175 626,-181 620,-187 614,-187\"/>\n<text text-anchor=\"middle\" x=\"527.5\" y=\"-171.8\" font-family=\"Helvetica,sans-Serif\" font-size=\"14.00\" fill=\"#000000\">bounce_rates &lt;= 0.002</text>\n<text text-anchor=\"middle\" x=\"527.5\" y=\"-156.8\" font-family=\"Helvetica,sans-Serif\" font-size=\"14.00\" fill=\"#000000\">gini = 0.218</text>\n<text text-anchor=\"middle\" x=\"527.5\" y=\"-141.8\" font-family=\"Helvetica,sans-Serif\" font-size=\"14.00\" fill=\"#000000\">samples = 1911</text>\n<text text-anchor=\"middle\" x=\"527.5\" y=\"-126.8\" font-family=\"Helvetica,sans-Serif\" font-size=\"14.00\" fill=\"#000000\">value = [492.523, 3453.009]</text>\n<text text-anchor=\"middle\" x=\"527.5\" y=\"-111.8\" font-family=\"Helvetica,sans-Serif\" font-size=\"14.00\" fill=\"#000000\">class = Revenue</text>\n</g>\n<!-- 0&#45;&gt;4 -->\n<g id=\"edge4\" class=\"edge\">\n<title>0&#45;&gt;4</title>\n<path fill=\"none\" stroke=\"#000000\" d=\"M457.2732,-222.8796C465.5287,-213.7832 474.342,-204.0722 482.8374,-194.7116\"/>\n<polygon fill=\"#000000\" stroke=\"#000000\" points=\"485.4368,-197.0553 489.5656,-187.2981 480.2533,-192.3509 485.4368,-197.0553\"/>\n<text text-anchor=\"middle\" x=\"490.7756\" y=\"-208.5688\" font-family=\"Helvetica,sans-Serif\" font-size=\"14.00\" fill=\"#000000\">False</text>\n</g>\n<!-- 2 -->\n<g id=\"node3\" class=\"node\">\n<title>2</title>\n<path fill=\"#e78a47\" stroke=\"#000000\" d=\"M185,-68C185,-68 12,-68 12,-68 6,-68 0,-62 0,-56 0,-56 0,-12 0,-12 0,-6 6,0 12,0 12,0 185,0 185,0 191,0 197,-6 197,-12 197,-12 197,-56 197,-56 197,-62 191,-68 185,-68\"/>\n<text text-anchor=\"middle\" x=\"98.5\" y=\"-52.8\" font-family=\"Helvetica,sans-Serif\" font-size=\"14.00\" fill=\"#000000\">gini = 0.12</text>\n<text text-anchor=\"middle\" x=\"98.5\" y=\"-37.8\" font-family=\"Helvetica,sans-Serif\" font-size=\"14.00\" fill=\"#000000\">samples = 4639</text>\n<text text-anchor=\"middle\" x=\"98.5\" y=\"-22.8\" font-family=\"Helvetica,sans-Serif\" font-size=\"14.00\" fill=\"#000000\">value = [2715.102, 185.439]</text>\n<text text-anchor=\"middle\" x=\"98.5\" y=\"-7.8\" font-family=\"Helvetica,sans-Serif\" font-size=\"14.00\" fill=\"#000000\">class = No Revenue</text>\n</g>\n<!-- 1&#45;&gt;2 -->\n<g id=\"edge2\" class=\"edge\">\n<title>1&#45;&gt;2</title>\n<path fill=\"none\" stroke=\"#000000\" d=\"M232.8143,-103.9815C213.2201,-93.7724 192.3162,-82.8809 172.9784,-72.8053\"/>\n<polygon fill=\"#000000\" stroke=\"#000000\" points=\"174.4057,-69.6024 163.9199,-68.0856 171.1711,-75.8103 174.4057,-69.6024\"/>\n</g>\n<!-- 3 -->\n<g id=\"node4\" class=\"node\">\n<title>3</title>\n<path fill=\"#f4ccaf\" stroke=\"#000000\" d=\"M400,-68C400,-68 227,-68 227,-68 221,-68 215,-62 215,-56 215,-56 215,-12 215,-12 215,-6 221,0 227,0 227,0 400,0 400,0 406,0 412,-6 412,-12 412,-12 412,-56 412,-56 412,-62 406,-68 400,-68\"/>\n<text text-anchor=\"middle\" x=\"313.5\" y=\"-52.8\" font-family=\"Helvetica,sans-Serif\" font-size=\"14.00\" fill=\"#000000\">gini = 0.468</text>\n<text text-anchor=\"middle\" x=\"313.5\" y=\"-37.8\" font-family=\"Helvetica,sans-Serif\" font-size=\"14.00\" fill=\"#000000\">samples = 1993</text>\n<text text-anchor=\"middle\" x=\"313.5\" y=\"-22.8\" font-family=\"Helvetica,sans-Serif\" font-size=\"14.00\" fill=\"#000000\">value = [1063.874, 633.052]</text>\n<text text-anchor=\"middle\" x=\"313.5\" y=\"-7.8\" font-family=\"Helvetica,sans-Serif\" font-size=\"14.00\" fill=\"#000000\">class = No Revenue</text>\n</g>\n<!-- 1&#45;&gt;3 -->\n<g id=\"edge3\" class=\"edge\">\n<title>1&#45;&gt;3</title>\n<path fill=\"none\" stroke=\"#000000\" d=\"M312.8724,-103.9815C312.9474,-95.618 313.0265,-86.7965 313.1023,-78.3409\"/>\n<polygon fill=\"#000000\" stroke=\"#000000\" points=\"316.6028,-78.2947 313.1927,-68.2637 309.6031,-78.2318 316.6028,-78.2947\"/>\n</g>\n<!-- 5 -->\n<g id=\"node6\" class=\"node\">\n<title>5</title>\n<path fill=\"#46a4e7\" stroke=\"#000000\" d=\"M609,-68C609,-68 444,-68 444,-68 438,-68 432,-62 432,-56 432,-56 432,-12 432,-12 432,-6 438,0 444,0 444,0 609,0 609,0 615,0 621,-6 621,-12 621,-12 621,-56 621,-56 621,-62 615,-68 609,-68\"/>\n<text text-anchor=\"middle\" x=\"526.5\" y=\"-52.8\" font-family=\"Helvetica,sans-Serif\" font-size=\"14.00\" fill=\"#000000\">gini = 0.118</text>\n<text text-anchor=\"middle\" x=\"526.5\" y=\"-37.8\" font-family=\"Helvetica,sans-Serif\" font-size=\"14.00\" fill=\"#000000\">samples = 856</text>\n<text text-anchor=\"middle\" x=\"526.5\" y=\"-22.8\" font-family=\"Helvetica,sans-Serif\" font-size=\"14.00\" fill=\"#000000\">value = [134.54, 2011.058]</text>\n<text text-anchor=\"middle\" x=\"526.5\" y=\"-7.8\" font-family=\"Helvetica,sans-Serif\" font-size=\"14.00\" fill=\"#000000\">class = Revenue</text>\n</g>\n<!-- 4&#45;&gt;5 -->\n<g id=\"edge5\" class=\"edge\">\n<title>4&#45;&gt;5</title>\n<path fill=\"none\" stroke=\"#000000\" d=\"M527.1276,-103.9815C527.0526,-95.618 526.9735,-86.7965 526.8977,-78.3409\"/>\n<polygon fill=\"#000000\" stroke=\"#000000\" points=\"530.3969,-78.2318 526.8073,-68.2637 523.3972,-78.2947 530.3969,-78.2318\"/>\n</g>\n<!-- 6 -->\n<g id=\"node7\" class=\"node\">\n<title>6</title>\n<path fill=\"#6ab5eb\" stroke=\"#000000\" d=\"M824,-68C824,-68 651,-68 651,-68 645,-68 639,-62 639,-56 639,-56 639,-12 639,-12 639,-6 645,0 651,0 651,0 824,0 824,0 830,0 836,-6 836,-12 836,-12 836,-56 836,-56 836,-62 830,-68 824,-68\"/>\n<text text-anchor=\"middle\" x=\"737.5\" y=\"-52.8\" font-family=\"Helvetica,sans-Serif\" font-size=\"14.00\" fill=\"#000000\">gini = 0.319</text>\n<text text-anchor=\"middle\" x=\"737.5\" y=\"-37.8\" font-family=\"Helvetica,sans-Serif\" font-size=\"14.00\" fill=\"#000000\">samples = 1055</text>\n<text text-anchor=\"middle\" x=\"737.5\" y=\"-22.8\" font-family=\"Helvetica,sans-Serif\" font-size=\"14.00\" fill=\"#000000\">value = [357.983, 1441.951]</text>\n<text text-anchor=\"middle\" x=\"737.5\" y=\"-7.8\" font-family=\"Helvetica,sans-Serif\" font-size=\"14.00\" fill=\"#000000\">class = Revenue</text>\n</g>\n<!-- 4&#45;&gt;6 -->\n<g id=\"edge6\" class=\"edge\">\n<title>4&#45;&gt;6</title>\n<path fill=\"none\" stroke=\"#000000\" d=\"M605.6962,-103.9815C624.9242,-93.7724 645.4374,-82.8809 664.4138,-72.8053\"/>\n<polygon fill=\"#000000\" stroke=\"#000000\" points=\"666.1119,-75.8665 673.3029,-68.0856 662.8293,-69.6839 666.1119,-75.8665\"/>\n</g>\n</g>\n</svg>\n"
          },
          "metadata": {},
          "execution_count": 26
        }
      ],
      "source": [
        "from graphviz import Source\n",
        "from sklearn.tree import export_graphviz\n",
        "\n",
        "export_graphviz(\n",
        "        tree_clf,\n",
        "        out_file=os.path.join(IMAGES_PATH, \"tree.dot\"),\n",
        "        feature_names=X.columns,\n",
        "        class_names=[\"No Revenue\", \"Revenue\"],\n",
        "        filled=True,\n",
        "        rounded=True,\n",
        "    )\n",
        "\n",
        "Source.from_file(os.path.join(IMAGES_PATH, \"tree.dot\"))"
      ]
    },
    {
      "cell_type": "markdown",
      "metadata": {
        "id": "stQqHgH77xJD"
      },
      "source": [
        "To check for overfitting, we can plot the accuracy on the training and test sets.\n",
        "Here we also evaluate how the decision trees behaves when using different criteria."
      ]
    },
    {
      "cell_type": "code",
      "execution_count": null,
      "metadata": {
        "id": "N4MEkvyEfyL1"
      },
      "outputs": [],
      "source": [
        "def evaluate_decision_tree(values, criterion=\"gini\"):\n",
        "  train_scores, test_scores = list(), list()\n",
        "  \n",
        "  for i in values:\n",
        "    # configure the model\n",
        "    model = DecisionTreeClassifier(max_depth=i, criterion=criterion, random_state=42)\n",
        "    # fit model on the training dataset\n",
        "    model.fit(X_train, y_train)\n",
        "    # evaluate on the train dataset\n",
        "    train_yhat = model.predict(X_train)\n",
        "    train_acc = balanced_accuracy_score(y_train, train_yhat)\n",
        "    train_scores.append(train_acc)\n",
        "    \n",
        "    # evaluate on the test dataset\n",
        "    test_yhat = model.predict(X_test)\n",
        "    test_acc = balanced_accuracy_score(y_test, test_yhat)\n",
        "    test_scores.append(test_acc)\n",
        "    # summarize progress\n",
        "    print('>%d, train: %.3f, test: %.3f' % (i, train_acc, test_acc))\n",
        "  # plot of train and test scores vs tree depth\n",
        "  plt.plot(values, train_scores, '-o', label='Train')\n",
        "  plt.plot(values, test_scores, '-o', label='Test')\n",
        "  plt.legend()\n",
        "  plt.show()"
      ]
    },
    {
      "cell_type": "code",
      "execution_count": null,
      "metadata": {
        "colab": {
          "base_uri": "https://localhost:8080/"
        },
        "id": "147A9V1cidIW",
        "outputId": "f7f450c8-1561-45f6-f478-52cd8c8560d7"
      },
      "outputs": [
        {
          "output_type": "stream",
          "name": "stdout",
          "text": [
            ">5, train: 0.767, test: 0.748\n",
            ">6, train: 0.804, test: 0.770\n",
            ">7, train: 0.814, test: 0.769\n",
            ">8, train: 0.819, test: 0.746\n",
            ">9, train: 0.847, test: 0.741\n",
            ">10, train: 0.870, test: 0.739\n",
            ">11, train: 0.886, test: 0.749\n",
            ">12, train: 0.901, test: 0.738\n",
            ">13, train: 0.922, test: 0.730\n",
            ">14, train: 0.932, test: 0.735\n",
            ">15, train: 0.950, test: 0.742\n",
            ">16, train: 0.951, test: 0.729\n",
            ">17, train: 0.966, test: 0.749\n",
            ">18, train: 0.973, test: 0.737\n",
            ">19, train: 0.972, test: 0.733\n",
            ">20, train: 0.978, test: 0.734\n",
            ">21, train: 0.978, test: 0.739\n",
            ">22, train: 0.981, test: 0.732\n",
            ">23, train: 0.985, test: 0.729\n",
            ">24, train: 0.986, test: 0.736\n",
            ">25, train: 0.987, test: 0.745\n",
            ">26, train: 0.989, test: 0.742\n",
            ">27, train: 0.992, test: 0.736\n",
            ">28, train: 0.996, test: 0.735\n",
            ">29, train: 0.998, test: 0.734\n"
          ]
        },
        {
          "output_type": "display_data",
          "data": {
            "text/plain": [
              "<Figure size 432x288 with 1 Axes>"
            ],
            "image/png": "[encoded data removed]"
          },
          "metadata": {
            "needs_background": "light"
          }
        }
      ],
      "source": [
        "evaluate_decision_tree([i for i in range(5, 30)])"
      ]
    },
    {
      "cell_type": "code",
      "execution_count": null,
      "metadata": {
        "colab": {
          "base_uri": "https://localhost:8080/"
        },
        "id": "IiVVr8B2iziG",
        "outputId": "e46535ed-2d82-4c5b-b493-4c547feda91e"
      },
      "outputs": [
        {
          "output_type": "stream",
          "name": "stdout",
          "text": [
            ">5, train: 0.752, test: 0.735\n",
            ">6, train: 0.798, test: 0.774\n",
            ">7, train: 0.808, test: 0.772\n",
            ">8, train: 0.797, test: 0.737\n",
            ">9, train: 0.825, test: 0.745\n",
            ">10, train: 0.845, test: 0.734\n",
            ">11, train: 0.864, test: 0.737\n",
            ">12, train: 0.887, test: 0.738\n",
            ">13, train: 0.910, test: 0.737\n",
            ">14, train: 0.927, test: 0.737\n",
            ">15, train: 0.932, test: 0.738\n",
            ">16, train: 0.944, test: 0.735\n",
            ">17, train: 0.951, test: 0.739\n",
            ">18, train: 0.963, test: 0.738\n",
            ">19, train: 0.969, test: 0.737\n",
            ">20, train: 0.974, test: 0.739\n",
            ">21, train: 0.977, test: 0.739\n",
            ">22, train: 0.980, test: 0.730\n",
            ">23, train: 0.988, test: 0.739\n",
            ">24, train: 0.989, test: 0.737\n",
            ">25, train: 0.992, test: 0.731\n",
            ">26, train: 0.993, test: 0.738\n",
            ">27, train: 0.995, test: 0.735\n",
            ">28, train: 0.997, test: 0.739\n",
            ">29, train: 0.997, test: 0.735\n"
          ]
        },
        {
          "output_type": "display_data",
          "data": {
            "text/plain": [
              "<Figure size 432x288 with 1 Axes>"
            ],
            "image/png": "[encoded data removed]"
          },
          "metadata": {
            "needs_background": "light"
          }
        }
      ],
      "source": [
        "evaluate_decision_tree([i for i in range(5, 30)], criterion=\"entropy\")"
      ]
    },
    {
      "cell_type": "markdown",
      "metadata": {
        "id": "zfXVdFaL8n0u"
      },
      "source": [
        "For a more accurate tuning, Sklearn provides the `GridSearchCV` class, which at the same times allows to create a grid search to find the best possibile hyperparameters for a model (by exhaustively trying all possible combinations of the given parameters), and also cross-validates the model to check for overfitting."
      ]
    },
    {
      "cell_type": "code",
      "execution_count": null,
      "metadata": {
        "colab": {
          "base_uri": "https://localhost:8080/"
        },
        "id": "6vWVnx8MPIPq",
        "outputId": "8db35d3b-a94c-48bd-a8fa-29e4d11fe38b"
      },
      "outputs": [
        {
          "output_type": "execute_result",
          "data": {
            "text/plain": [
              "GridSearchCV(estimator=DecisionTreeClassifier(class_weight='balanced',\n",
              "                                              random_state=42),\n",
              "             param_grid={'criterion': ['gini', 'entropy'],\n",
              "                         'max_depth': [1, 2, 3, 4, 5, 6, 7, 8, 9],\n",
              "                         'max_features': [None, 'log2', 'sqrt']},\n",
              "             scoring='balanced_accuracy')"
            ]
          },
          "metadata": {},
          "execution_count": 30
        }
      ],
      "source": [
        "params = {\n",
        "  \"criterion\": [\"gini\", \"entropy\"],\n",
        "  \"max_depth\": list(range(1,10)),\n",
        "  \"max_features\": [None, \"log2\", \"sqrt\"],\n",
        "}\n",
        "\n",
        "from sklearn.model_selection import GridSearchCV\n",
        "\n",
        "# adjust weights inversely proportional to class frequencies\n",
        "tree_clf = DecisionTreeClassifier(random_state=42, class_weight=\"balanced\")\n",
        "grid_tree_clf = GridSearchCV(tree_clf, params, scoring=\"balanced_accuracy\")\n",
        "grid_tree_clf.fit(X_train, y_train)"
      ]
    },
    {
      "cell_type": "code",
      "source": [
        "evaluate_grid(grid_tree_clf)"
      ],
      "metadata": {
        "id": "O_I-DWGhppVA",
        "colab": {
          "base_uri": "https://localhost:8080/"
        },
        "outputId": "acd3fdae-bd91-4175-e80d-36f4cca9849d"
      },
      "execution_count": null,
      "outputs": [
        {
          "output_type": "stream",
          "name": "stdout",
          "text": [
            "Best parameters:  {'criterion': 'entropy', 'max_depth': 4, 'max_features': None}\n",
            "Accuracy of best (means of cross-validated scores on train set):  0.8501342341213902\n",
            "Accuracy of best (on test set):  0.8477708375766628\n"
          ]
        }
      ]
    },
    {
      "cell_type": "markdown",
      "metadata": {
        "id": "EFen0Shx9Bm4"
      },
      "source": [
        "The best parameters are those of the model which has the highest mean of cross-validated accuracies on the train set.\n",
        "\n",
        "We also check the accuracy of the best model on the test set."
      ]
    },
    {
      "cell_type": "markdown",
      "metadata": {
        "id": "OPGq2ec-8YTT"
      },
      "source": [
        "## K Nearest Neighbor"
      ]
    },
    {
      "cell_type": "code",
      "execution_count": null,
      "metadata": {
        "colab": {
          "base_uri": "https://localhost:8080/"
        },
        "id": "TWN0Sh9V-JtR",
        "outputId": "6e252c76-2c71-4f17-ca2f-570caca8737a"
      },
      "outputs": [
        {
          "output_type": "execute_result",
          "data": {
            "text/plain": [
              "GridSearchCV(estimator=KNeighborsClassifier(),\n",
              "             param_grid={'metric': ['euclidean', 'chebyshev', 'minkowski',\n",
              "                                    'manhattan'],\n",
              "                         'n_neighbors': [1, 2, 3, 4, 5, 6, 7, 8, 9],\n",
              "                         'weights': ['uniform', 'distance']},\n",
              "             scoring='balanced_accuracy')"
            ]
          },
          "metadata": {},
          "execution_count": 32
        }
      ],
      "source": [
        "from sklearn.neighbors import KNeighborsClassifier\n",
        "\n",
        "params = {\n",
        "  \"n_neighbors\": list(range(1,10)),\n",
        "  \"weights\": [\"uniform\", \"distance\"],\n",
        "  \"metric\": [\"euclidean\", \"chebyshev\", \"minkowski\", \"manhattan\"]\n",
        "}\n",
        "\n",
        "knn_clf = KNeighborsClassifier()\n",
        "\n",
        "grid_knn_clf = GridSearchCV(knn_clf, params, scoring=\"balanced_accuracy\")\n",
        "grid_knn_clf.fit(X_train, y_train)"
      ]
    },
    {
      "cell_type": "code",
      "source": [
        "evaluate_grid(grid_knn_clf)"
      ],
      "metadata": {
        "id": "bnZKWmdBp1wL",
        "colab": {
          "base_uri": "https://localhost:8080/"
        },
        "outputId": "3f888e39-9925-48fe-b823-bff8afebeaca"
      },
      "execution_count": null,
      "outputs": [
        {
          "output_type": "stream",
          "name": "stdout",
          "text": [
            "Best parameters:  {'metric': 'euclidean', 'n_neighbors': 6, 'weights': 'distance'}\n",
            "Accuracy of best (means of cross-validated scores on train set):  0.7290814711036219\n",
            "Accuracy of best (on test set):  0.7221982709846787\n"
          ]
        }
      ]
    },
    {
      "cell_type": "markdown",
      "metadata": {
        "id": "X1lTqyX-AF8X"
      },
      "source": [
        "## Logistic Regression"
      ]
    },
    {
      "cell_type": "markdown",
      "metadata": {
        "id": "49CXI9yvdqTG"
      },
      "source": [
        "Since logistic regression is especially well-suited for binary problems, we expect this method to give good results."
      ]
    },
    {
      "cell_type": "code",
      "execution_count": null,
      "metadata": {
        "colab": {
          "base_uri": "https://localhost:8080/"
        },
        "id": "0TVnrGr3CJE6",
        "outputId": "21631687-a64a-4fba-cbfe-dabecaf660d2"
      },
      "outputs": [
        {
          "output_type": "execute_result",
          "data": {
            "text/plain": [
              "LogisticRegressionCV(class_weight='balanced', max_iter=500, random_state=42,\n",
              "                     scoring='balanced_accuracy')"
            ]
          },
          "metadata": {},
          "execution_count": 34
        }
      ],
      "source": [
        "from sklearn.linear_model import LogisticRegressionCV \n",
        "\n",
        "log_clf = LogisticRegressionCV(\n",
        "  random_state=42,\n",
        "  scoring=\"balanced_accuracy\",\n",
        "  max_iter=500,\n",
        "  class_weight=\"balanced\"\n",
        ")\n",
        "\n",
        "log_clf.fit(X_train, y_train)"
      ]
    },
    {
      "cell_type": "code",
      "source": [
        "evaluate(log_clf)"
      ],
      "metadata": {
        "id": "J3iOmU4gp4O3",
        "colab": {
          "base_uri": "https://localhost:8080/"
        },
        "outputId": "8fc52119-4979-4707-d2dd-baac771fb32e"
      },
      "execution_count": null,
      "outputs": [
        {
          "output_type": "stream",
          "name": "stdout",
          "text": [
            "Accuracy (on test set):  0.8184607463733677\n"
          ]
        }
      ]
    },
    {
      "cell_type": "markdown",
      "metadata": {
        "id": "NuwEhU4pk0me"
      },
      "source": [
        "## SVM"
      ]
    },
    {
      "cell_type": "code",
      "execution_count": null,
      "metadata": {
        "colab": {
          "base_uri": "https://localhost:8080/"
        },
        "id": "nwESlmp-8A_e",
        "outputId": "c712375b-ae6e-44e4-f35f-7ac426e23c23"
      },
      "outputs": [
        {
          "output_type": "execute_result",
          "data": {
            "text/plain": [
              "GridSearchCV(estimator=SVC(class_weight='balanced', random_state=42),\n",
              "             param_grid={'C': [1, 10, 50], 'degree': [2, 3, 4],\n",
              "                         'gamma': ['scale', 1, 0.1, 0.01],\n",
              "                         'kernel': ['linear', 'rbf', 'poly']},\n",
              "             scoring='balanced_accuracy')"
            ]
          },
          "metadata": {},
          "execution_count": 36
        }
      ],
      "source": [
        "from sklearn.svm import SVC\n",
        "\n",
        "params = {\n",
        "  \"C\": [1, 10, 50],\n",
        "  \"gamma\": [\"scale\", 1, 0.1, 0.01],\n",
        "  \"kernel\": [\"linear\", \"rbf\", \"poly\"],\n",
        "  \"degree\": [2, 3, 4]\n",
        "}\n",
        "\n",
        "svm_clf = SVC(random_state=42, class_weight=\"balanced\")\n",
        "\n",
        "grid_svm_clf = GridSearchCV(svm_clf, params, scoring=\"balanced_accuracy\")\n",
        "grid_svm_clf.fit(X_train,y_train)"
      ]
    },
    {
      "cell_type": "code",
      "source": [
        "evaluate_grid(grid_svm_clf)"
      ],
      "metadata": {
        "id": "2dIyqNLFuKNN",
        "colab": {
          "base_uri": "https://localhost:8080/"
        },
        "outputId": "8c5d259e-c6e7-4ac9-b5f7-4007ddec1201"
      },
      "execution_count": null,
      "outputs": [
        {
          "output_type": "stream",
          "name": "stdout",
          "text": [
            "Best parameters:  {'C': 50, 'degree': 2, 'gamma': 'scale', 'kernel': 'rbf'}\n",
            "Accuracy of best (means of cross-validated scores on train set):  0.8285570898617853\n",
            "Accuracy of best (on test set):  0.8273004503587027\n"
          ]
        }
      ]
    },
    {
      "cell_type": "markdown",
      "metadata": {
        "id": "-6u4_JAUkMUG"
      },
      "source": [
        "## Naive Bayes"
      ]
    },
    {
      "cell_type": "code",
      "execution_count": null,
      "metadata": {
        "colab": {
          "base_uri": "https://localhost:8080/"
        },
        "id": "UwTyG3TRlca2",
        "outputId": "c301d3bc-bf13-4b9f-f223-75ee45690d30"
      },
      "outputs": [
        {
          "output_type": "stream",
          "name": "stdout",
          "text": [
            "Best parameters:  {'var_smoothing': 0.00015040335536380253}\n",
            "Accuracy of best (means of cross-validated scores on train set):  0.7703546558177674\n",
            "Accuracy of best (on test set):  0.7605115758028379\n"
          ]
        }
      ],
      "source": [
        "from sklearn.naive_bayes import GaussianNB\n",
        "\n",
        "params = {\n",
        "  \"var_smoothing\": np.logspace(0,-9, num=300)\n",
        "}\n",
        "\n",
        "gnb_clf = GaussianNB()\n",
        "\n",
        "grid_gnb_clf = GridSearchCV(gnb_clf, params, scoring=\"balanced_accuracy\")\n",
        "grid_gnb_clf.fit(X_train, y_train)\n",
        "\n",
        "evaluate_grid(grid_gnb_clf)"
      ]
    },
    {
      "cell_type": "markdown",
      "metadata": {
        "id": "MvUEqb3issHq"
      },
      "source": [
        "# Ensemble Classifiers"
      ]
    },
    {
      "cell_type": "markdown",
      "metadata": {
        "id": "zzyC0wra3pve"
      },
      "source": [
        "## Bagging"
      ]
    },
    {
      "cell_type": "markdown",
      "source": [
        "The `BaggingClassifier` provided by scikit-learn wouldn't be good for this dataset, because it does not take in account the imbalance in the instances: the resulting classifier would have a bias towards the majority class."
      ],
      "metadata": {
        "id": "zwez9Wa50v_L"
      }
    },
    {
      "cell_type": "code",
      "execution_count": null,
      "metadata": {
        "colab": {
          "base_uri": "https://localhost:8080/"
        },
        "id": "z29-SXaw3tpq",
        "outputId": "89b01ec9-ba5b-4b1e-ac4c-2adce4a168dc"
      },
      "outputs": [
        {
          "output_type": "execute_result",
          "data": {
            "text/plain": [
              "BaggingClassifier(random_state=42)"
            ]
          },
          "metadata": {},
          "execution_count": 39
        }
      ],
      "source": [
        "from sklearn.ensemble import BaggingClassifier\n",
        "\n",
        "bag_clf = BaggingClassifier(random_state=42)\n",
        "bag_clf.fit(X_train, y_train)"
      ]
    },
    {
      "cell_type": "code",
      "source": [
        "evaluate(bag_clf)"
      ],
      "metadata": {
        "id": "WiwZxXQ6rJpN",
        "colab": {
          "base_uri": "https://localhost:8080/"
        },
        "outputId": "08dae482-b3aa-4d59-a722-5e74d2d5e5cc"
      },
      "execution_count": null,
      "outputs": [
        {
          "output_type": "stream",
          "name": "stdout",
          "text": [
            "Accuracy (on test set):  0.745184103921968\n"
          ]
        }
      ]
    },
    {
      "cell_type": "markdown",
      "source": [
        "The `BalancedBaggingClassifier` included in `imbalanced-learn` is more appropriate because it includes an additional step to balance the training set at fit time using a given sampler. The default sampler works by doing a random undersampling of the majority class."
      ],
      "metadata": {
        "id": "uroFJgXXVfB9"
      }
    },
    {
      "cell_type": "code",
      "execution_count": null,
      "metadata": {
        "colab": {
          "base_uri": "https://localhost:8080/"
        },
        "id": "ztn-z6RD442J",
        "outputId": "cf2f83d0-689e-473c-804e-8a62ecb7bcb3"
      },
      "outputs": [
        {
          "output_type": "execute_result",
          "data": {
            "text/plain": [
              "GridSearchCV(estimator=BalancedBaggingClassifier(oob_score=True,\n",
              "                                                 random_state=42),\n",
              "             param_grid={'max_features': [0.5, 1.0],\n",
              "                         'max_samples': [0.2, 0.5, 1.0],\n",
              "                         'n_estimators': [100, 200, 500]},\n",
              "             scoring='balanced_accuracy')"
            ]
          },
          "metadata": {},
          "execution_count": 41
        }
      ],
      "source": [
        "from imblearn.ensemble import BalancedBaggingClassifier\n",
        "\n",
        "params = {\n",
        "  \"n_estimators\": [100, 200, 500],\n",
        "  \"max_samples\": [0.2, 0.5, 1.0],\n",
        "  \"max_features\": [0.5, 1.0],\n",
        "}\n",
        "\n",
        "grid_bb_clf = GridSearchCV(\n",
        "  BalancedBaggingClassifier(random_state=42, oob_score=True),\n",
        "  params,\n",
        "  scoring=\"balanced_accuracy\"\n",
        ")\n",
        "\n",
        "grid_bb_clf.fit(X_train, y_train)"
      ]
    },
    {
      "cell_type": "code",
      "source": [
        "evaluate_grid(grid_bb_clf)"
      ],
      "metadata": {
        "colab": {
          "base_uri": "https://localhost:8080/"
        },
        "id": "-pgrNB9WrMN3",
        "outputId": "1384a2f2-a489-4d22-96ee-171990f9dd2e"
      },
      "execution_count": null,
      "outputs": [
        {
          "output_type": "stream",
          "name": "stdout",
          "text": [
            "Best parameters:  {'max_features': 1.0, 'max_samples': 0.2, 'n_estimators': 200}\n",
            "Accuracy of best (means of cross-validated scores on train set):  0.8520401962169952\n",
            "Accuracy of best (on test set):  0.8540498336614841\n"
          ]
        }
      ]
    },
    {
      "cell_type": "markdown",
      "metadata": {
        "id": "PwAU-G5DG2Y0"
      },
      "source": [
        "## Random Forest"
      ]
    },
    {
      "cell_type": "markdown",
      "source": [
        "For the same reason as basic bagging, we can expect random forests and extra trees to produce unsatisfying results."
      ],
      "metadata": {
        "id": "2vaPyU64XoR_"
      }
    },
    {
      "cell_type": "code",
      "execution_count": null,
      "metadata": {
        "colab": {
          "base_uri": "https://localhost:8080/"
        },
        "id": "JT47jwGwHL6m",
        "outputId": "f8eb3145-ae4f-4e7d-f308-c537dfc5fa9a"
      },
      "outputs": [
        {
          "output_type": "execute_result",
          "data": {
            "text/plain": [
              "RandomForestClassifier(class_weight='balanced', random_state=42)"
            ]
          },
          "metadata": {},
          "execution_count": 43
        }
      ],
      "source": [
        "from sklearn.ensemble import RandomForestClassifier\n",
        "\n",
        "rf_clf = RandomForestClassifier(random_state=42, class_weight=\"balanced\")\n",
        "rf_clf.fit(X_train, y_train)"
      ]
    },
    {
      "cell_type": "code",
      "source": [
        "evaluate(rf_clf)"
      ],
      "metadata": {
        "id": "2FFVfOhtrO6d",
        "colab": {
          "base_uri": "https://localhost:8080/"
        },
        "outputId": "c87d1634-2f62-40bf-c9f6-64c6fbee08f0"
      },
      "execution_count": null,
      "outputs": [
        {
          "output_type": "stream",
          "name": "stdout",
          "text": [
            "Accuracy (on test set):  0.7680081245615227\n"
          ]
        }
      ]
    },
    {
      "cell_type": "code",
      "execution_count": null,
      "metadata": {
        "colab": {
          "base_uri": "https://localhost:8080/"
        },
        "id": "ebmOro7QKGAM",
        "outputId": "770bcb7d-7d8f-453f-b8ee-1a3ec96ee742"
      },
      "outputs": [
        {
          "output_type": "execute_result",
          "data": {
            "text/plain": [
              "ExtraTreesClassifier(class_weight='balanced', random_state=42)"
            ]
          },
          "metadata": {},
          "execution_count": 45
        }
      ],
      "source": [
        "from  sklearn.ensemble import ExtraTreesClassifier\n",
        "\n",
        "et_clf = ExtraTreesClassifier(random_state=42, class_weight=\"balanced\")\n",
        "et_clf.fit(X_train, y_train)"
      ]
    },
    {
      "cell_type": "code",
      "source": [
        "evaluate(et_clf)"
      ],
      "metadata": {
        "id": "8aNwCadcrRc0",
        "colab": {
          "base_uri": "https://localhost:8080/"
        },
        "outputId": "5dc47407-1dc1-437e-83c3-989e15fe8243"
      },
      "execution_count": null,
      "outputs": [
        {
          "output_type": "stream",
          "name": "stdout",
          "text": [
            "Accuracy (on test set):  0.7587163645416073\n"
          ]
        }
      ]
    },
    {
      "cell_type": "markdown",
      "source": [
        "Both method have a relatively low (balanced) accuracy, even if the class weight is set to `balanced`."
      ],
      "metadata": {
        "id": "amwM3wwWsoW_"
      }
    },
    {
      "cell_type": "markdown",
      "source": [
        "`BalancedRandomForest` should provide better results, by undersampling the majority class."
      ],
      "metadata": {
        "id": "ALa41AGHrCqv"
      }
    },
    {
      "cell_type": "code",
      "execution_count": null,
      "metadata": {
        "colab": {
          "base_uri": "https://localhost:8080/"
        },
        "id": "0zQj66Kq7x2j",
        "outputId": "8cae0cb7-09c1-4bb9-8a37-5f3ad5fe4b29"
      },
      "outputs": [
        {
          "output_type": "execute_result",
          "data": {
            "text/plain": [
              "GridSearchCV(estimator=BalancedRandomForestClassifier(oob_score=True,\n",
              "                                                      random_state=42),\n",
              "             param_grid={'criterion': ['gini', 'entropy'],\n",
              "                         'max_depth': [5, 6, 7, 8, 9],\n",
              "                         'max_features': ['log2', 'sqrt'],\n",
              "                         'n_estimators': [200, 300]},\n",
              "             scoring='balanced_accuracy')"
            ]
          },
          "metadata": {},
          "execution_count": 47
        }
      ],
      "source": [
        "from imblearn.ensemble import BalancedRandomForestClassifier\n",
        "\n",
        "params = {\n",
        "  \"n_estimators\": [200, 300],\n",
        "  \"criterion\": [\"gini\", \"entropy\"],\n",
        "  \"max_depth\": list(range(5,10)),\n",
        "  \"max_features\": [\"log2\", \"sqrt\"],\n",
        "}\n",
        "\n",
        "grid_brf_clf = GridSearchCV(\n",
        "  BalancedRandomForestClassifier(random_state=42, oob_score=True),\n",
        "  params,\n",
        "  scoring=\"balanced_accuracy\"\n",
        ")\n",
        "\n",
        "grid_brf_clf.fit(X_train, y_train)"
      ]
    },
    {
      "cell_type": "code",
      "source": [
        "evaluate_grid(grid_brf_clf)"
      ],
      "metadata": {
        "id": "_mRLmPk4rUdj",
        "colab": {
          "base_uri": "https://localhost:8080/"
        },
        "outputId": "028afa76-59cb-427d-fc9c-a8e94d43f8f2"
      },
      "execution_count": null,
      "outputs": [
        {
          "output_type": "stream",
          "name": "stdout",
          "text": [
            "Best parameters:  {'criterion': 'gini', 'max_depth': 8, 'max_features': 'log2', 'n_estimators': 300}\n",
            "Accuracy of best (means of cross-validated scores on train set):  0.8554375498184059\n",
            "Accuracy of best (on test set):  0.8501963247108878\n"
          ]
        }
      ]
    },
    {
      "cell_type": "markdown",
      "metadata": {
        "id": "UcUaBy9PFuu0"
      },
      "source": [
        "## Random Undersampling with Boosting"
      ]
    },
    {
      "cell_type": "markdown",
      "source": [
        "`imbalanced-learn` also includes `RUSBoostClassifier`, which does random under-sampling integrated in the learning of AdaBoost."
      ],
      "metadata": {
        "id": "2IgUwb-MvEVg"
      }
    },
    {
      "cell_type": "code",
      "execution_count": null,
      "metadata": {
        "colab": {
          "base_uri": "https://localhost:8080/"
        },
        "id": "BVwAglAmEjid",
        "outputId": "78064e97-ef45-4b8e-c3b9-cd29c6cd9e01"
      },
      "outputs": [
        {
          "output_type": "execute_result",
          "data": {
            "text/plain": [
              "GridSearchCV(estimator=RUSBoostClassifier(random_state=42),\n",
              "             param_grid={'learning_rate': [0.01, 0.1, 1],\n",
              "                         'n_estimators': [50, 100, 200]},\n",
              "             scoring='balanced_accuracy')"
            ]
          },
          "metadata": {},
          "execution_count": 49
        }
      ],
      "source": [
        "from imblearn.ensemble import RUSBoostClassifier\n",
        "\n",
        "params = {\n",
        "  \"n_estimators\": [50, 100, 200],\n",
        "  \"learning_rate\": [0.01, 0.1, 1],\n",
        "}\n",
        "\n",
        "grid_rus_clf = GridSearchCV(\n",
        "  RUSBoostClassifier(random_state=42),\n",
        "  params,\n",
        "  scoring=\"balanced_accuracy\"\n",
        ")\n",
        "\n",
        "grid_rus_clf.fit(X_train, y_train)"
      ]
    },
    {
      "cell_type": "code",
      "source": [
        "evaluate_grid(grid_rus_clf)"
      ],
      "metadata": {
        "id": "LSC-h3Lcvi9F",
        "colab": {
          "base_uri": "https://localhost:8080/"
        },
        "outputId": "b30e2ba5-b1c7-4c73-cf98-f8ea5ba21760"
      },
      "execution_count": null,
      "outputs": [
        {
          "output_type": "stream",
          "name": "stdout",
          "text": [
            "Best parameters:  {'learning_rate': 0.1, 'n_estimators': 50}\n",
            "Accuracy of best (means of cross-validated scores on train set):  0.8451061106531841\n",
            "Accuracy of best (on test set):  0.8421605902188427\n"
          ]
        }
      ]
    },
    {
      "cell_type": "markdown",
      "metadata": {
        "id": "YZAStGDJF2Gc"
      },
      "source": [
        "## EasyEnsemble"
      ]
    },
    {
      "cell_type": "markdown",
      "source": [
        "The final classifier included in `imbalanced-learn` is `EasyEnsemble`, that is an ensemble of AdaBoost learners trained on different balanced boostrap samples. The balancing is achieved by random under-sampling."
      ],
      "metadata": {
        "id": "3sWYnq-6vURV"
      }
    },
    {
      "cell_type": "code",
      "execution_count": null,
      "metadata": {
        "colab": {
          "base_uri": "https://localhost:8080/"
        },
        "id": "EEpZWmws8OAb",
        "outputId": "b6d8ec43-6297-46b8-fb91-cd23e30935b9"
      },
      "outputs": [
        {
          "output_type": "execute_result",
          "data": {
            "text/plain": [
              "GridSearchCV(estimator=EasyEnsembleClassifier(random_state=42),\n",
              "             param_grid={'n_estimators': [50, 100, 200]},\n",
              "             scoring='balanced_accuracy')"
            ]
          },
          "metadata": {},
          "execution_count": 51
        }
      ],
      "source": [
        "from imblearn.ensemble import EasyEnsembleClassifier\n",
        "\n",
        "params = {\n",
        "  \"n_estimators\": [50, 100, 200],\n",
        "}\n",
        "\n",
        "grid_ee_clf = GridSearchCV(\n",
        "  EasyEnsembleClassifier(random_state=42),\n",
        "  params,\n",
        "  scoring=\"balanced_accuracy\"\n",
        ")\n",
        "\n",
        "grid_ee_clf.fit(X_train, y_train)"
      ]
    },
    {
      "cell_type": "code",
      "source": [
        "evaluate_grid(grid_ee_clf)"
      ],
      "metadata": {
        "id": "p2O-SAWXvlWK",
        "colab": {
          "base_uri": "https://localhost:8080/"
        },
        "outputId": "a65c077f-c33d-46a4-d1e0-f7ebca13cd11"
      },
      "execution_count": null,
      "outputs": [
        {
          "output_type": "stream",
          "name": "stdout",
          "text": [
            "Best parameters:  {'n_estimators': 200}\n",
            "Accuracy of best (means of cross-validated scores on train set):  0.8456847750690647\n",
            "Accuracy of best (on test set):  0.8467597936044537\n"
          ]
        }
      ]
    },
    {
      "cell_type": "markdown",
      "metadata": {
        "id": "ncMa9OsSIF3k"
      },
      "source": [
        "## XGBoost"
      ]
    },
    {
      "cell_type": "code",
      "execution_count": null,
      "metadata": {
        "colab": {
          "base_uri": "https://localhost:8080/"
        },
        "id": "MmFKKM64KBdq",
        "outputId": "a242e673-660f-4f1c-ef2b-64d7661eb878"
      },
      "outputs": [
        {
          "output_type": "stream",
          "name": "stdout",
          "text": [
            "Estimate: 5.397\n"
          ]
        }
      ],
      "source": [
        "from collections import Counter\n",
        "\n",
        "counter = Counter(y)\n",
        "estimate = counter[0] / counter[1]\n",
        "print('Estimate: %.3f' % estimate)"
      ]
    },
    {
      "cell_type": "code",
      "execution_count": null,
      "metadata": {
        "id": "Ciis_OPOIOrY"
      },
      "outputs": [],
      "source": [
        "from xgboost import XGBClassifier\n",
        "\n",
        "xgb_clf = XGBClassifier(random_state=42, scale_pos_weight=estimate, objective=\"binary:logistic\", verbosity=0)\n",
        "\n",
        "params = {\n",
        "  \"n_estimators\": [50, 100],\n",
        "  \"max_depth\": [3, 5, 10],\n",
        "  \"learning_rate\": [0.1, 0.01],\n",
        "  \"subsample\": [0.8, 1],\n",
        "  \"colsample_bytree\": [0.5, 0.8]\n",
        "}\n",
        "\n",
        "grid_xgb_clf = GridSearchCV(xgb_clf, params, scoring=\"balanced_accuracy\")\n",
        "grid_xgb_clf.fit(X_train, y_train)"
      ]
    },
    {
      "cell_type": "code",
      "source": [
        "evaluate_grid(grid_xgb_clf)"
      ],
      "metadata": {
        "id": "T05YFkIIqvGr"
      },
      "execution_count": null,
      "outputs": []
    },
    {
      "cell_type": "markdown",
      "metadata": {
        "id": "mi4hQWJjXO6S"
      },
      "source": [
        "## Voting"
      ]
    },
    {
      "cell_type": "code",
      "execution_count": null,
      "metadata": {
        "id": "mLxfaUem_TFz"
      },
      "outputs": [],
      "source": [
        "from sklearn.ensemble import VotingClassifier\n",
        "\n",
        "voting_clf = VotingClassifier(\n",
        "    estimators=[\n",
        "      ('bb', grid_bb_clf.best_estimator_),\n",
        "      ('brf', grid_brf_clf.best_estimator_),\n",
        "      ('rus', grid_rus_clf.best_estimator_),\n",
        "      ('ee', grid_ee_clf.best_estimator_),\n",
        "      (\"xgb\", grid_xgb_clf.best_estimator_) \n",
        "    ],\n",
        "    voting='hard')\n",
        "\n",
        "voting_clf.fit(X_train, y_train)"
      ]
    },
    {
      "cell_type": "code",
      "execution_count": null,
      "metadata": {
        "id": "5l96MqXFI0Ld"
      },
      "outputs": [],
      "source": [
        "evaluate(voting_clf)"
      ]
    },
    {
      "cell_type": "markdown",
      "metadata": {
        "id": "fM0zo4ZP8p6T"
      },
      "source": [
        "# Neural Network"
      ]
    },
    {
      "cell_type": "markdown",
      "metadata": {
        "id": "HxXHswvpwQIe"
      },
      "source": [
        "To easily create a basic Neural Network, `keras` can be used.\n",
        "To test the effectiveness of a Neural Network to this particular problem, we create a baseline neural network with one hidden layer of 10 nodes."
      ]
    },
    {
      "cell_type": "code",
      "execution_count": null,
      "metadata": {
        "colab": {
          "base_uri": "https://localhost:8080/"
        },
        "id": "eu1Ddcg18s7i",
        "outputId": "4388ca09-f54e-452c-cd52-e401a9927e2e"
      },
      "outputs": [
        {
          "output_type": "stream",
          "name": "stdout",
          "text": [
            "Model: \"sequential\"\n",
            "_________________________________________________________________\n",
            " Layer (type)                Output Shape              Param #   \n",
            "=================================================================\n",
            " dense (Dense)               (None, 10)                80        \n",
            "                                                                 \n",
            " dense_1 (Dense)             (None, 1)                 11        \n",
            "                                                                 \n",
            "=================================================================\n",
            "Total params: 91\n",
            "Trainable params: 91\n",
            "Non-trainable params: 0\n",
            "_________________________________________________________________\n"
          ]
        }
      ],
      "source": [
        "from tensorflow import keras\n",
        "\n",
        "model = keras.models.Sequential([\n",
        "    # The number of inputs has to be equal\n",
        "    # to the number of features of the dataset\n",
        "    keras.Input(shape=X_train.shape[1]),\n",
        "\n",
        "    # Hidden layer\n",
        "    keras.layers.Dense(10, activation=\"relu\"),\n",
        "\n",
        "    # One output node, which is a sigmoid:\n",
        "    # the value will be continuous between 0 and 1.\n",
        "    # To cast it to binary, we will need to assign\n",
        "    # value 1 if greater than 0.5, or else 0.\n",
        "    keras.layers.Dense(1, activation=\"sigmoid\")\n",
        "])\n",
        "\n",
        "model.summary()"
      ]
    },
    {
      "cell_type": "markdown",
      "metadata": {
        "id": "PM6z1tM2_VaJ"
      },
      "source": [
        "Now that the neural network has been defined, it needs to be compiled.\n",
        "As suggested in https://carpentries-incubator.github.io/deep-learning-intro/02-keras/index.html, it is possibile to use a precompiled model rather\n",
        "than compiling a new one. Since the model is simple and requires very little\n",
        "computation time, we will build it from scratch.\n",
        "\n",
        "The same document suggests `Adam` as a sensible optimizer for the network. \n",
        "\n",
        "Since the output needs to be binary, `BinaryCrossentropy()` is an appropriate loss function."
      ]
    },
    {
      "cell_type": "code",
      "execution_count": null,
      "metadata": {
        "id": "Cw0ausM8-_xL"
      },
      "outputs": [],
      "source": [
        "model.compile(\n",
        "  optimizer='adam',\n",
        "  loss=keras.losses.BinaryCrossentropy(),\n",
        "  metrics=['accuracy']\n",
        ")"
      ]
    },
    {
      "cell_type": "markdown",
      "metadata": {
        "id": "qlKtTbG0JMLh"
      },
      "source": [
        "The compiled model can be now trained: as a test, we will run it with 100 epochs. This number is, once again, arbitrary and will most likely need to be tweaked.\n",
        "\n",
        "The `y_train` list cannot however be used directly, because the neural network\n",
        "cannot directly output a categorical value: to overcome this, the `y_train`\n",
        "list is transformed using Hot-Encoding."
      ]
    },
    {
      "cell_type": "code",
      "execution_count": null,
      "metadata": {
        "colab": {
          "base_uri": "https://localhost:8080/"
        },
        "id": "7V2YmvPB_GIQ",
        "outputId": "5a44242c-ed47-4350-c748-9289011856b0"
      },
      "outputs": [
        {
          "output_type": "stream",
          "name": "stdout",
          "text": [
            "Epoch 1/20\n",
            "267/267 [==============================] - 1s 3ms/step - loss: 0.3009 - accuracy: 0.8812 - val_loss: 0.3049 - val_accuracy: 0.8853\n",
            "Epoch 2/20\n",
            "267/267 [==============================] - 1s 3ms/step - loss: 0.3005 - accuracy: 0.8818 - val_loss: 0.3048 - val_accuracy: 0.8837\n",
            "Epoch 3/20\n",
            "267/267 [==============================] - 1s 2ms/step - loss: 0.3001 - accuracy: 0.8822 - val_loss: 0.3048 - val_accuracy: 0.8829\n",
            "Epoch 4/20\n",
            "267/267 [==============================] - 1s 2ms/step - loss: 0.2998 - accuracy: 0.8827 - val_loss: 0.3040 - val_accuracy: 0.8859\n",
            "Epoch 5/20\n",
            "267/267 [==============================] - 1s 2ms/step - loss: 0.2995 - accuracy: 0.8822 - val_loss: 0.3035 - val_accuracy: 0.8839\n",
            "Epoch 6/20\n",
            "267/267 [==============================] - 1s 2ms/step - loss: 0.2990 - accuracy: 0.8827 - val_loss: 0.3029 - val_accuracy: 0.8850\n",
            "Epoch 7/20\n",
            "267/267 [==============================] - 1s 2ms/step - loss: 0.2987 - accuracy: 0.8827 - val_loss: 0.3025 - val_accuracy: 0.8856\n",
            "Epoch 8/20\n",
            "267/267 [==============================] - 1s 2ms/step - loss: 0.2983 - accuracy: 0.8826 - val_loss: 0.3021 - val_accuracy: 0.8859\n",
            "Epoch 9/20\n",
            "267/267 [==============================] - 1s 2ms/step - loss: 0.2979 - accuracy: 0.8831 - val_loss: 0.3017 - val_accuracy: 0.8875\n",
            "Epoch 10/20\n",
            "267/267 [==============================] - 1s 2ms/step - loss: 0.2973 - accuracy: 0.8839 - val_loss: 0.3009 - val_accuracy: 0.8853\n",
            "Epoch 11/20\n",
            "267/267 [==============================] - 1s 2ms/step - loss: 0.2966 - accuracy: 0.8836 - val_loss: 0.3003 - val_accuracy: 0.8878\n",
            "Epoch 12/20\n",
            "267/267 [==============================] - 1s 2ms/step - loss: 0.2958 - accuracy: 0.8845 - val_loss: 0.2997 - val_accuracy: 0.8869\n",
            "Epoch 13/20\n",
            "267/267 [==============================] - 1s 2ms/step - loss: 0.2955 - accuracy: 0.8842 - val_loss: 0.2991 - val_accuracy: 0.8875\n",
            "Epoch 14/20\n",
            "267/267 [==============================] - 1s 2ms/step - loss: 0.2946 - accuracy: 0.8845 - val_loss: 0.2988 - val_accuracy: 0.8864\n",
            "Epoch 15/20\n",
            "267/267 [==============================] - 1s 2ms/step - loss: 0.2944 - accuracy: 0.8840 - val_loss: 0.2981 - val_accuracy: 0.8869\n",
            "Epoch 16/20\n",
            "267/267 [==============================] - 1s 2ms/step - loss: 0.2938 - accuracy: 0.8833 - val_loss: 0.2977 - val_accuracy: 0.8872\n",
            "Epoch 17/20\n",
            "267/267 [==============================] - 1s 2ms/step - loss: 0.2931 - accuracy: 0.8842 - val_loss: 0.2975 - val_accuracy: 0.8875\n",
            "Epoch 18/20\n",
            "267/267 [==============================] - 1s 2ms/step - loss: 0.2929 - accuracy: 0.8838 - val_loss: 0.2966 - val_accuracy: 0.8869\n",
            "Epoch 19/20\n",
            "267/267 [==============================] - 1s 2ms/step - loss: 0.2920 - accuracy: 0.8835 - val_loss: 0.2964 - val_accuracy: 0.8864\n",
            "Epoch 20/20\n",
            "267/267 [==============================] - 1s 2ms/step - loss: 0.2915 - accuracy: 0.8849 - val_loss: 0.2954 - val_accuracy: 0.8869\n"
          ]
        }
      ],
      "source": [
        "history = model.fit(\n",
        "    X_train, \n",
        "    y_train, \n",
        "    epochs=20,\n",
        "    verbose=1,\n",
        "    validation_data=(X_test, y_test))"
      ]
    },
    {
      "cell_type": "markdown",
      "metadata": {
        "id": "D5w1e0NhKOvA"
      },
      "source": [
        "To evaluate the model we can begin by looking at evolution of the value of the loss\n",
        "function."
      ]
    },
    {
      "cell_type": "markdown",
      "source": [
        "### Plot Results"
      ],
      "metadata": {
        "id": "RrnOdjVv8ZgH"
      }
    },
    {
      "cell_type": "code",
      "source": [
        "def plot_results(history):\n",
        "    \"\"\"\n",
        "    Plots the results of the model training\n",
        "\n",
        "    :param history: object returned by the train function that contains all train infos\n",
        "    \"\"\"\n",
        "    history_dict = history.history\n",
        "\n",
        "    loss_values = history_dict['loss']\n",
        "    val_loss_values = history_dict['val_loss']\n",
        "\n",
        "    epochs = range(1, len(loss_values) + 1)\n",
        "\n",
        "    # Plot line charts for both Validation and Training Loss\n",
        "    line1 = plt.plot(epochs, val_loss_values, label='Validation/Test Loss')\n",
        "    line2 = plt.plot(epochs, loss_values, label='Training Loss')\n",
        "    plt.setp(line1, linewidth=2.0, marker='+', markersize=10.0)\n",
        "    plt.setp(line2, linewidth=2.0, marker='4', markersize=10.0)\n",
        "    plt.xlabel('Epochs')\n",
        "    plt.ylabel('Loss')\n",
        "    plt.grid(True)\n",
        "    plt.legend()\n",
        "    plt.show()\n",
        "\n",
        "    history_dict = history.history\n",
        "\n",
        "    acc_values = history_dict['accuracy']\n",
        "    val_acc_values = history_dict['val_accuracy']\n",
        "    epochs = range(1, len(loss_values) + 1)\n",
        "\n",
        "    line1 = plt.plot(epochs, val_acc_values, label='Validation/Test Accuracy')\n",
        "    line2 = plt.plot(epochs, acc_values, label='Training Accuracy')\n",
        "    plt.setp(line1, linewidth=2.0, marker='+', markersize=10.0)\n",
        "    plt.setp(line2, linewidth=2.0, marker='4', markersize=10.0)\n",
        "    plt.xlabel('Epochs')\n",
        "    plt.ylabel('Accuracy')\n",
        "    plt.grid(True)\n",
        "    plt.legend()\n",
        "    plt.show()"
      ],
      "metadata": {
        "id": "ZNy1pWkY8crZ"
      },
      "execution_count": null,
      "outputs": []
    },
    {
      "cell_type": "code",
      "source": [
        "plot_results(history)"
      ],
      "metadata": {
        "colab": {
          "base_uri": "https://localhost:8080/",
          "height": 557
        },
        "id": "yXANsBcZ8kO2",
        "outputId": "4eb9cd91-f127-4b8d-810f-964ff2236500"
      },
      "execution_count": null,
      "outputs": [
        {
          "output_type": "display_data",
          "data": {
            "text/plain": [
              "<Figure size 432x288 with 1 Axes>"
            ],
            "image/png": "[encoded data removed]"
          },
          "metadata": {
            "needs_background": "light"
          }
        },
        {
          "output_type": "display_data",
          "data": {
            "text/plain": [
              "<Figure size 432x288 with 1 Axes>"
            ],
            "image/png": "[encoded data removed]"
          },
          "metadata": {
            "needs_background": "light"
          }
        }
      ]
    },
    {
      "cell_type": "code",
      "execution_count": null,
      "metadata": {
        "colab": {
          "base_uri": "https://localhost:8080/",
          "height": 286
        },
        "id": "_MFRJyAL9sDb",
        "outputId": "102855ca-cff7-465d-d7b6-d8da8260cd11"
      },
      "outputs": [
        {
          "output_type": "display_data",
          "data": {
            "text/plain": [
              "<Figure size 432x288 with 1 Axes>"
            ],
            "image/png": "[encoded data removed]"
          },
          "metadata": {
            "needs_background": "light"
          }
        }
      ],
      "source": [
        "plt.plot(history.epoch, history.history[\"loss\"])\n",
        "plt.xlabel(\"Epochs\")\n",
        "plt.ylabel(\"Loss function value\")\n",
        "plt.show()"
      ]
    },
    {
      "cell_type": "markdown",
      "metadata": {
        "id": "fhVo8qDzMeJL"
      },
      "source": [
        "The graph shows that the loss function, at 20 epochs, is still decreasing:\n",
        "a higher number of epochs, with the same model configuration, should lower\n",
        "the loss function value, and improve the quality of the predictions.\n",
        "A too high number of epochs however may lead to overfitting."
      ]
    },
    {
      "cell_type": "code",
      "execution_count": null,
      "metadata": {
        "colab": {
          "base_uri": "https://localhost:8080/"
        },
        "id": "uuOdzU3tAo9-",
        "outputId": "fd83f205-284d-4bb7-f599-5dadcec7ba78"
      },
      "outputs": [
        {
          "output_type": "stream",
          "name": "stdout",
          "text": [
            "115/115 [==============================] - 0s 1ms/step - loss: 0.3053 - accuracy: 0.8839\n",
            "Accuracy:  0.8839432001113892\n"
          ]
        }
      ],
      "source": [
        "_, accuracy = model.evaluate(X_test, y_test, verbose=1)\n",
        "print(\"Accuracy: \", accuracy)"
      ]
    },
    {
      "cell_type": "markdown",
      "metadata": {
        "id": "466mVN5lND3w"
      },
      "source": [
        "Even with arbitrary parameters, the resulting accuracy is very high.\n",
        "Parameter tuning may allow to further improve accuracy.\n",
        "\n",
        "We can also plot a heatmap of the conusion matrix of the model"
      ]
    },
    {
      "cell_type": "code",
      "execution_count": null,
      "metadata": {
        "colab": {
          "base_uri": "https://localhost:8080/",
          "height": 342
        },
        "id": "ly-Bk3aI-L8C",
        "outputId": "5af7e02f-669a-42c1-c300-09444809fbd7"
      },
      "outputs": [
        {
          "name": "stdout",
          "output_type": "stream",
          "text": [
            "[[3018   72]\n",
            " [ 354  218]]\n"
          ]
        },
        {
          "data": {
            "text/plain": [
              "<matplotlib.axes._subplots.AxesSubplot at 0x7faa87d06450>"
            ]
          },
          "execution_count": 146,
          "metadata": {},
          "output_type": "execute_result"
        },
        {
          "data": {
            "image/png": "[encoded data removed]",
            "text/plain": [
              "<Figure size 432x288 with 2 Axes>"
            ]
          },
          "metadata": {},
          "output_type": "display_data"
        }
      ],
      "source": [
        "from sklearn.metrics import confusion_matrix\n",
        "import seaborn as sns\n",
        "\n",
        "y_pred = model.predict(X_test).flatten()\n",
        "y_pred= pd.Series(y_pred).map(lambda y: 1 if y >= 0.5 else 0)\n",
        "matrix = confusion_matrix(y_true=y_test, y_pred=y_pred)\n",
        "print(matrix)\n",
        "\n",
        "# Convert to a pandas dataframe\n",
        "confusion_df = pd.DataFrame(matrix)\n",
        "\n",
        "# Set the names of the x and y axis, this helps with the readability of the heatmap.\n",
        "confusion_df.index.name = 'True Label'\n",
        "confusion_df.columns.name = 'Predicted Label'\n",
        "\n",
        "sns.heatmap(confusion_df, annot=True, fmt=\"d\")"
      ]
    },
    {
      "cell_type": "markdown",
      "metadata": {
        "id": "SofEHN04NcR5"
      },
      "source": [
        "NOTE ON TOO MANY NEGATIVE EXAMPLES"
      ]
    },
    {
      "cell_type": "markdown",
      "metadata": {
        "id": "jpyjuetkG2ge"
      },
      "source": [
        "## Hyperparameter Tuning"
      ]
    },
    {
      "cell_type": "markdown",
      "metadata": {
        "id": "anqGBd4sG8fl"
      },
      "source": [
        "To tune the hyperparameters of a keras neural network, we can use the `keras-tuner` package."
      ]
    },
    {
      "cell_type": "code",
      "execution_count": null,
      "metadata": {
        "id": "kLNm_eB6vytB"
      },
      "outputs": [],
      "source": [
        "!pip install keras-tuner -q"
      ]
    },
    {
      "cell_type": "code",
      "execution_count": null,
      "metadata": {
        "id": "61obp8wDsWap"
      },
      "outputs": [],
      "source": [
        "from keras import layers\n",
        "import keras_tuner\n",
        "\n",
        "def build_model(hp):\n",
        "  # Initialize the Sequential API and start stacking the layers\n",
        "  model = keras.Sequential()\n",
        "  model.add(layers.Flatten())\n",
        "\n",
        "  for i in range(hp.Int(\"num_layers\", 1, 3)):\n",
        "    model.add(\n",
        "      layers.Dense(\n",
        "        # Tune number of units separately.\n",
        "        # Choose an optimal value between 32-512\n",
        "        units=hp.Int(f\"units_{i}\", min_value=32, max_value=512, step=32),\n",
        "        activation=\"relu\"\n",
        "      )\n",
        "  ) \n",
        "\n",
        "  # Tune whether to use dropout.\n",
        "  if hp.Boolean(\"dropout\"):\n",
        "    model.add(layers.Dropout(rate=0.25))\n",
        "\n",
        "  model.add(layers.Dense(1, activation=\"sigmoid\"))\n",
        "\n",
        "  # Define the optimizer learning rate as a hyperparameter.\n",
        "  learning_rate = hp.Float(\"lr\", min_value=1e-4, max_value=1e-2, sampling=\"log\")\n",
        "\n",
        "  model.compile(optimizer=keras.optimizers.Adam(learning_rate=learning_rate),\n",
        "                loss=keras.losses.BinaryCrossentropy(),\n",
        "                metrics=[\"accuracy\"])\n",
        "\n",
        "  return model"
      ]
    },
    {
      "cell_type": "code",
      "execution_count": null,
      "metadata": {
        "colab": {
          "base_uri": "https://localhost:8080/"
        },
        "id": "3e0Nvjeb0heB",
        "outputId": "49f18ee8-df2d-4de0-b509-6671836b279a"
      },
      "outputs": [
        {
          "data": {
            "text/plain": [
              "<keras.engine.sequential.Sequential at 0x7faa87bcaa50>"
            ]
          },
          "execution_count": 149,
          "metadata": {},
          "output_type": "execute_result"
        }
      ],
      "source": [
        "from keras_tuner import HyperParameters\n",
        "build_model(HyperParameters())"
      ]
    },
    {
      "cell_type": "code",
      "execution_count": null,
      "metadata": {
        "id": "uvpmbPRy4bU-"
      },
      "outputs": [],
      "source": [
        "tuner = keras_tuner.RandomSearch(\n",
        "    hypermodel=build_model,\n",
        "    objective=\"val_accuracy\",\n",
        "    max_trials=3,\n",
        "    executions_per_trial=2,\n",
        "    overwrite=True,\n",
        "    directory=\"my_dir\",\n",
        "    project_name=\"helloworld\",\n",
        ")"
      ]
    },
    {
      "cell_type": "code",
      "execution_count": null,
      "metadata": {
        "colab": {
          "base_uri": "https://localhost:8080/"
        },
        "id": "uRgUXdb-4iPZ",
        "outputId": "e28ba53f-9ec0-48bf-b8d6-46c4000c3c68"
      },
      "outputs": [
        {
          "name": "stdout",
          "output_type": "stream",
          "text": [
            "Trial 3 Complete [00h 00m 33s]\n",
            "val_accuracy: 0.8961381018161774\n",
            "\n",
            "Best val_accuracy So Far: 0.8961381018161774\n",
            "Total elapsed time: 00h 02m 22s\n"
          ]
        }
      ],
      "source": [
        "X_train_nn, X_val_nn, y_train_nn, y_val_nn = train_test_split(X_train, y_train, test_size=0.2)\n",
        "tuner.search(X_train_nn, y_train_nn, epochs=20, validation_data=(X_val_nn, y_val_nn))"
      ]
    },
    {
      "cell_type": "code",
      "execution_count": null,
      "metadata": {
        "colab": {
          "base_uri": "https://localhost:8080/"
        },
        "id": "R1Dp3fS28dUj",
        "outputId": "5bbefef3-c04a-4f42-a523-3ea517ef206e"
      },
      "outputs": [
        {
          "name": "stdout",
          "output_type": "stream",
          "text": [
            "Results summary\n",
            "Results in my_dir/helloworld\n",
            "Showing 10 best trials\n",
            "<keras_tuner.engine.objective.Objective object at 0x7faa846e8410>\n",
            "Trial summary\n",
            "Hyperparameters:\n",
            "num_layers: 1\n",
            "units_0: 64\n",
            "dropout: True\n",
            "lr: 0.004236185538505342\n",
            "units_1: 96\n",
            "Score: 0.8961381018161774\n",
            "Trial summary\n",
            "Hyperparameters:\n",
            "num_layers: 2\n",
            "units_0: 320\n",
            "dropout: False\n",
            "lr: 0.001926479219429071\n",
            "units_1: 32\n",
            "Score: 0.8940901160240173\n",
            "Trial summary\n",
            "Hyperparameters:\n",
            "num_layers: 2\n",
            "units_0: 224\n",
            "dropout: True\n",
            "lr: 0.0003954434199091812\n",
            "units_1: 416\n",
            "Score: 0.8917495608329773\n"
          ]
        }
      ],
      "source": [
        "tuner.results_summary()"
      ]
    },
    {
      "cell_type": "code",
      "execution_count": null,
      "metadata": {
        "colab": {
          "base_uri": "https://localhost:8080/"
        },
        "id": "uXBbdece5YAh",
        "outputId": "047fc13f-8896-4b53-a414-4fc34be96837"
      },
      "outputs": [
        {
          "name": "stdout",
          "output_type": "stream",
          "text": [
            "Model: \"sequential\"\n",
            "_________________________________________________________________\n",
            " Layer (type)                Output Shape              Param #   \n",
            "=================================================================\n",
            " flatten (Flatten)           (12205, 18)               0         \n",
            "                                                                 \n",
            " dense (Dense)               (12205, 64)               1216      \n",
            "                                                                 \n",
            " dropout (Dropout)           (12205, 64)               0         \n",
            "                                                                 \n",
            " dense_1 (Dense)             (12205, 1)                65        \n",
            "                                                                 \n",
            "=================================================================\n",
            "Total params: 1,281\n",
            "Trainable params: 1,281\n",
            "Non-trainable params: 0\n",
            "_________________________________________________________________\n"
          ]
        }
      ],
      "source": [
        "# Get the top model.\n",
        "best_model = tuner.get_best_models(num_models=1)[0]\n",
        "\n",
        "# Build the model.\n",
        "# Needed for `Sequential` without specified `input_shape`.\n",
        "best_model.build(input_shape=X.shape)\n",
        "best_model.summary()"
      ]
    },
    {
      "cell_type": "code",
      "execution_count": null,
      "metadata": {
        "colab": {
          "base_uri": "https://localhost:8080/"
        },
        "id": "-i5elClb85MG",
        "outputId": "78c3b371-5ab9-4b93-c133-743c25b098fe"
      },
      "outputs": [
        {
          "name": "stdout",
          "output_type": "stream",
          "text": [
            "115/115 [==============================] - 0s 1ms/step - loss: 0.2583 - accuracy: 0.8951\n",
            "Accuracy:  0.8951392769813538\n"
          ]
        }
      ],
      "source": [
        "_, accuracy = best_model.evaluate(X_test, y_test, verbose=1)\n",
        "print(\"Accuracy: \", accuracy)"
      ]
    },
    {
      "cell_type": "code",
      "execution_count": null,
      "metadata": {
        "colab": {
          "base_uri": "https://localhost:8080/",
          "height": 338
        },
        "id": "wk07xRUN9Cah",
        "outputId": "ba6d47fe-3f90-4422-f8f6-1824ce371bf5"
      },
      "outputs": [
        {
          "name": "stdout",
          "output_type": "stream",
          "text": [
            "[[2979  111]\n",
            " [ 273  299]]\n"
          ]
        },
        {
          "data": {
            "text/plain": [
              "<matplotlib.axes._subplots.AxesSubplot at 0x7faa87f41990>"
            ]
          },
          "execution_count": 155,
          "metadata": {},
          "output_type": "execute_result"
        },
        {
          "data": {
            "image/png": "[encoded data removed]",
            "text/plain": [
              "<Figure size 432x288 with 2 Axes>"
            ]
          },
          "metadata": {},
          "output_type": "display_data"
        }
      ],
      "source": [
        "y_pred = best_model.predict(X_test).flatten()\n",
        "y_pred= pd.Series(y_pred).map(lambda y: 1 if y >= 0.5 else 0)\n",
        "matrix = confusion_matrix(y_true=y_test, y_pred=y_pred)\n",
        "print(matrix)\n",
        "\n",
        "# Convert to a pandas dataframe\n",
        "confusion_df = pd.DataFrame(matrix)\n",
        "\n",
        "# Set the names of the x and y axis, this helps with the readability of the heatmap.\n",
        "confusion_df.index.name = 'True Label'\n",
        "confusion_df.columns.name = 'Predicted Label'\n",
        "\n",
        "sns.heatmap(confusion_df, annot=True, fmt=\"d\")"
      ]
    },
    {
      "cell_type": "markdown",
      "metadata": {
        "id": "DnR8XLpcc4ak"
      },
      "source": [
        "# Autosklearn"
      ]
    },
    {
      "cell_type": "code",
      "execution_count": null,
      "metadata": {
        "colab": {
          "base_uri": "https://localhost:8080/",
          "height": 383
        },
        "id": "qovjkzR4dKDy",
        "outputId": "8684e136-9658-4575-9c66-4b54496fb27f"
      },
      "outputs": [
        {
          "ename": "IncorrectPackageVersionError",
          "evalue": "ignored",
          "output_type": "error",
          "traceback": [
            "\u001b[0;31m---------------------------------------------------------------------------\u001b[0m",
            "\u001b[0;31mIncorrectPackageVersionError\u001b[0m              Traceback (most recent call last)",
            "\u001b[0;32m<ipython-input-58-d011d85b254c>\u001b[0m in \u001b[0;36m<module>\u001b[0;34m()\u001b[0m\n\u001b[0;32m----> 1\u001b[0;31m \u001b[0;32mfrom\u001b[0m  \u001b[0mautosklearn\u001b[0m\u001b[0;34m.\u001b[0m\u001b[0mclassification\u001b[0m \u001b[0;32mimport\u001b[0m \u001b[0mAutoSklearnClassifier\u001b[0m\u001b[0;34m\u001b[0m\u001b[0;34m\u001b[0m\u001b[0m\n\u001b[0m\u001b[1;32m      2\u001b[0m \u001b[0;34m\u001b[0m\u001b[0m\n\u001b[1;32m      3\u001b[0m \u001b[0mcls\u001b[0m \u001b[0;34m=\u001b[0m \u001b[0mAutoSklearnClassifier\u001b[0m\u001b[0;34m(\u001b[0m\u001b[0;34m)\u001b[0m\u001b[0;34m\u001b[0m\u001b[0;34m\u001b[0m\u001b[0m\n\u001b[1;32m      4\u001b[0m \u001b[0mcls\u001b[0m\u001b[0;34m.\u001b[0m\u001b[0mfit\u001b[0m\u001b[0;34m(\u001b[0m\u001b[0mX_train\u001b[0m\u001b[0;34m,\u001b[0m \u001b[0my_train\u001b[0m\u001b[0;34m)\u001b[0m\u001b[0;34m\u001b[0m\u001b[0;34m\u001b[0m\u001b[0m\n\u001b[1;32m      5\u001b[0m \u001b[0;34m\u001b[0m\u001b[0m\n",
            "\u001b[0;32m/usr/local/lib/python3.7/dist-packages/autosklearn/__init__.py\u001b[0m in \u001b[0;36m<module>\u001b[0;34m()\u001b[0m\n\u001b[1;32m     11\u001b[0m \u001b[0mrequirements\u001b[0m \u001b[0;34m=\u001b[0m \u001b[0mrequirements\u001b[0m\u001b[0;34m.\u001b[0m\u001b[0mdecode\u001b[0m\u001b[0;34m(\u001b[0m\u001b[0;34m'utf-8'\u001b[0m\u001b[0;34m)\u001b[0m\u001b[0;34m\u001b[0m\u001b[0;34m\u001b[0m\u001b[0m\n\u001b[1;32m     12\u001b[0m \u001b[0;34m\u001b[0m\u001b[0m\n\u001b[0;32m---> 13\u001b[0;31m \u001b[0mdependencies\u001b[0m\u001b[0;34m.\u001b[0m\u001b[0mverify_packages\u001b[0m\u001b[0;34m(\u001b[0m\u001b[0mrequirements\u001b[0m\u001b[0;34m)\u001b[0m\u001b[0;34m\u001b[0m\u001b[0;34m\u001b[0m\u001b[0m\n\u001b[0m\u001b[1;32m     14\u001b[0m \u001b[0;34m\u001b[0m\u001b[0m\n\u001b[1;32m     15\u001b[0m \u001b[0;32mif\u001b[0m \u001b[0mos\u001b[0m\u001b[0;34m.\u001b[0m\u001b[0mname\u001b[0m \u001b[0;34m!=\u001b[0m \u001b[0;34m'posix'\u001b[0m\u001b[0;34m:\u001b[0m\u001b[0;34m\u001b[0m\u001b[0;34m\u001b[0m\u001b[0m\n",
            "\u001b[0;32m/usr/local/lib/python3.7/dist-packages/autosklearn/util/dependencies.py\u001b[0m in \u001b[0;36mverify_packages\u001b[0;34m(packages)\u001b[0m\n\u001b[1;32m     27\u001b[0m             \u001b[0moperation\u001b[0m \u001b[0;34m=\u001b[0m \u001b[0mmatch\u001b[0m\u001b[0;34m.\u001b[0m\u001b[0mgroup\u001b[0m\u001b[0;34m(\u001b[0m\u001b[0;34m'operation1'\u001b[0m\u001b[0;34m)\u001b[0m\u001b[0;34m\u001b[0m\u001b[0;34m\u001b[0m\u001b[0m\n\u001b[1;32m     28\u001b[0m             \u001b[0mversion\u001b[0m \u001b[0;34m=\u001b[0m \u001b[0mmatch\u001b[0m\u001b[0;34m.\u001b[0m\u001b[0mgroup\u001b[0m\u001b[0;34m(\u001b[0m\u001b[0;34m'version1'\u001b[0m\u001b[0;34m)\u001b[0m\u001b[0;34m\u001b[0m\u001b[0;34m\u001b[0m\u001b[0m\n\u001b[0;32m---> 29\u001b[0;31m             \u001b[0m_verify_package\u001b[0m\u001b[0;34m(\u001b[0m\u001b[0mname\u001b[0m\u001b[0;34m,\u001b[0m \u001b[0moperation\u001b[0m\u001b[0;34m,\u001b[0m \u001b[0mversion\u001b[0m\u001b[0;34m)\u001b[0m\u001b[0;34m\u001b[0m\u001b[0;34m\u001b[0m\u001b[0m\n\u001b[0m\u001b[1;32m     30\u001b[0m         \u001b[0;32melse\u001b[0m\u001b[0;34m:\u001b[0m\u001b[0;34m\u001b[0m\u001b[0;34m\u001b[0m\u001b[0m\n\u001b[1;32m     31\u001b[0m             \u001b[0;32mraise\u001b[0m \u001b[0mValueError\u001b[0m\u001b[0;34m(\u001b[0m\u001b[0;34m'Unable to read requirement: %s'\u001b[0m \u001b[0;34m%\u001b[0m \u001b[0mpackage\u001b[0m\u001b[0;34m)\u001b[0m\u001b[0;34m\u001b[0m\u001b[0;34m\u001b[0m\u001b[0m\n",
            "\u001b[0;32m/usr/local/lib/python3.7/dist-packages/autosklearn/util/dependencies.py\u001b[0m in \u001b[0;36m_verify_package\u001b[0;34m(name, operation, version)\u001b[0m\n\u001b[1;32m     64\u001b[0m     \u001b[0;32mif\u001b[0m \u001b[0;32mnot\u001b[0m \u001b[0mcheck\u001b[0m\u001b[0;34m:\u001b[0m\u001b[0;34m\u001b[0m\u001b[0;34m\u001b[0m\u001b[0m\n\u001b[1;32m     65\u001b[0m         raise IncorrectPackageVersionError(name, installed_version, operation,\n\u001b[0;32m---> 66\u001b[0;31m                                            required_version)\n\u001b[0m\u001b[1;32m     67\u001b[0m \u001b[0;34m\u001b[0m\u001b[0m\n\u001b[1;32m     68\u001b[0m \u001b[0;34m\u001b[0m\u001b[0m\n",
            "\u001b[0;31mIncorrectPackageVersionError\u001b[0m: found 'dask' version 2.12.0 but requires dask version >=2021.12"
          ]
        }
      ],
      "source": [
        "from autosklearn.experimental.askl2 import AutoSklearn2Classifier\n",
        "\n",
        "cls = AutoSklearn2Classifier()\n",
        "cls.fit(X_train, y_train)\n",
        "\n",
        "y_pred = cls.predict(X_test)\n",
        "print(\"Accuracy: \", accuracy_score(y_test, y_pred))"
      ]
    },
    {
      "cell_type": "code",
      "execution_count": null,
      "metadata": {
        "colab": {
          "base_uri": "https://localhost:8080/"
        },
        "id": "-09giczTux0M",
        "outputId": "c59298e7-a47b-4093-dea3-dd9cbb9774fc"
      },
      "outputs": [
        {
          "name": "stderr",
          "output_type": "stream",
          "text": [
            "Process ForkProcess-1:\n",
            "Traceback (most recent call last):\n",
            "  File \"/usr/lib/python3.7/multiprocessing/process.py\", line 297, in _bootstrap\n",
            "    self.run()\n",
            "  File \"/usr/lib/python3.7/multiprocessing/process.py\", line 99, in run\n",
            "    self._target(*self._args, **self._kwargs)\n",
            "  File \"/usr/local/lib/python3.7/dist-packages/autosklearn/util/logging_.py\", line 320, in start_log_server\n",
            "    receiver.serve_until_stopped()\n",
            "  File \"/usr/local/lib/python3.7/dist-packages/autosklearn/util/logging_.py\", line 352, in serve_until_stopped\n",
            "    self.timeout)\n",
            "KeyboardInterrupt\n"
          ]
        }
      ],
      "source": [
        "import autosklearn.classification\n",
        "\n",
        "cls = autosklearn.classification.AutoSklearnClassifier()\n",
        "cls.fit(X_train, y_train)\n",
        "predictions = cls.predict(X_test)"
      ]
    }
  ],
  "metadata": {
    "colab": {
      "name": "MLDM_Beatrice_Cotti.ipynb",
      "provenance": [],
      "toc_visible": true,
      "collapsed_sections": [
        "fQAuFIojY4Ac",
        "cwIqoaD8QtNl",
        "4dvXiMXBV4qg",
        "p3oVkntVZrWF",
        "FLBjsIU-QtNo",
        "H-Fy1Gg-QtNv",
        "k33XbElQ7mWb",
        "rV09yQBPaI4q",
        "feXvsTHcbIHn",
        "UspP5qDpM4Hu",
        "lf9_S-b17a6C",
        "aaToOTjfHN5T",
        "0JoKHo7mQjuu",
        "vmNnHhHVJG5A",
        "FeHkqxul9dMx",
        "Nxn0hNB3QtNy",
        "pumyaOvphvc7",
        "OPGq2ec-8YTT",
        "-6u4_JAUkMUG",
        "jpyjuetkG2ge",
        "T7CEKABQYolM",
        "Pv6kW9ivYq35",
        "DnR8XLpcc4ak"
      ],
      "include_colab_link": true
    },
    "kernelspec": {
      "display_name": "Python 3",
      "language": "python",
      "name": "python3"
    },
    "language_info": {
      "codemirror_mode": {
        "name": "ipython",
        "version": 3
      },
      "file_extension": ".py",
      "mimetype": "text/x-python",
      "name": "python",
      "nbconvert_exporter": "python",
      "pygments_lexer": "ipython3",
      "version": "3.7.10"
    },
    "nav_menu": {
      "height": "279px",
      "width": "309px"
    },
    "toc": {
      "nav_menu": {},
      "number_sections": true,
      "sideBar": true,
      "skip_h1_title": false,
      "toc_cell": false,
      "toc_position": {},
      "toc_section_display": "block",
      "toc_window_display": false
    }
  },
  "nbformat": 4,
  "nbformat_minor": 0
}