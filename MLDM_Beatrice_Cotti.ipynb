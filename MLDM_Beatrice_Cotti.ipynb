{
  "cells": [
    {
      "cell_type": "markdown",
      "metadata": {
        "id": "fQAuFIojY4Ac"
      },
      "source": [
        "# Introduction"
      ]
    },
    {
      "cell_type": "markdown",
      "metadata": {
        "id": "rKE3YgkmY9H1"
      },
      "source": [
        "The objective of this project is to compare various classication and clustering algorithms,\n",
        "when applied to the *Online Shoppers Purchasing Intention Dataset Data Set*,\n",
        "which can be found at the UCI Machine Learning Repository at the following link:\n",
        "https://archive.ics.uci.edu/ml/datasets/Online+Shoppers+Purchasing+Intention+Dataset.\n",
        "\n",
        "The dataset contains information about the visitors of a shopping website, including metrics taken from Google Analytics.\n",
        "The objective is to predict wheter a certain visitor will generate revenue or not: this could allow to offer certain\n",
        "content only to those who intend to purchase and not to the other users.\n",
        "\n",
        "The dataset was formed so that each session would belong to a different user in a 1-year period to avoid\n",
        "any tendency to a specific campaign, special day, user profile, or period.\n"
      ]
    },
    {
      "cell_type": "markdown",
      "metadata": {
        "id": "cwIqoaD8QtNl"
      },
      "source": [
        "# Initial Setup"
      ]
    },
    {
      "cell_type": "markdown",
      "metadata": {
        "id": "p3oVkntVZrWF"
      },
      "source": [
        "## Imports"
      ]
    },
    {
      "cell_type": "markdown",
      "metadata": {
        "id": "E39qASY1QtNm"
      },
      "source": [
        "We need to import a few common module, initialize random seeds,\n",
        "ensure MatplotLib plots figures inline and we also prepare a function to save the figures.\n",
        "We also check that Python 3.5 or later is installed, as well as Scikit-Learn ≥0.20."
      ]
    },
    {
      "cell_type": "code",
      "execution_count": 2,
      "metadata": {
        "id": "XxSBkpE8QtNn"
      },
      "outputs": [],
      "source": [
        "import matplotlib.pyplot as plt\n",
        "import matplotlib as mpl\n",
        "import pandas as pd\n",
        "import os\n",
        "import tensorflow\n",
        "import numpy as np\n",
        "import sklearn\n",
        "import sys\n",
        "\n",
        "# Python ≥3.5 is required\n",
        "assert sys.version_info >= (3, 5)\n",
        "\n",
        "# Scikit-Learn ≥0.20 is required\n",
        "assert sklearn.__version__ >= \"0.20\"\n",
        "\n",
        "# Initialize random seeds\n",
        "np.random.seed(42)\n",
        "tensorflow.random.set_seed(42)\n",
        "\n",
        "# To plot pretty figures\n",
        "%matplotlib inline\n",
        "mpl.rc(\"axes\", labelsize=14)\n",
        "mpl.rc(\"xtick\", labelsize=12)\n",
        "mpl.rc(\"ytick\", labelsize=12)\n",
        "\n",
        "# Where to save the figures\n",
        "ROOT_DIR = \".\"\n",
        "PROJECT_DIR = \"mldm_luca_cotti\"\n",
        "IMAGES_PATH = os.path.join(ROOT_DIR, \"images\", PROJECT_DIR)\n",
        "os.makedirs(IMAGES_PATH, exist_ok=True)\n",
        "\n",
        "\n",
        "def save_fig(fig_id, tight_layout=True, fig_extension=\"png\", resolution=300):\n",
        "    \"\"\" Saves a figure \"\"\"\n",
        "    path = os.path.join(IMAGES_PATH, fig_id + \".\" + fig_extension)\n",
        "    print(\"Saving figure\", fig_id)\n",
        "    if tight_layout:\n",
        "        plt.tight_layout()\n",
        "    plt.savefig(path, format=fig_extension, dpi=resolution)\n"
      ]
    },
    {
      "cell_type": "markdown",
      "metadata": {
        "id": "FLBjsIU-QtNo"
      },
      "source": [
        "## Download Dataset"
      ]
    },
    {
      "cell_type": "markdown",
      "metadata": {},
      "source": [
        "Since the dataset is provided as a `csv`, we can use the `read_csv` function of `pandas` to import it directly from the URL."
      ]
    },
    {
      "cell_type": "code",
      "execution_count": 3,
      "metadata": {
        "id": "L_OR5V8LQtNq"
      },
      "outputs": [],
      "source": [
        "DATASET_URL = \"https://archive.ics.uci.edu/ml/machine-learning-databases/00468/online_shoppers_intention.csv\"\n",
        "dataset = pd.read_csv(DATASET_URL)\n"
      ]
    },
    {
      "cell_type": "markdown",
      "metadata": {
        "id": "H-Fy1Gg-QtNv"
      },
      "source": [
        "### Structure of the dataset"
      ]
    },
    {
      "cell_type": "markdown",
      "metadata": {},
      "source": [
        "We can use the `info` method to print a concise summary of the dataset."
      ]
    },
    {
      "cell_type": "code",
      "execution_count": 4,
      "metadata": {
        "colab": {
          "base_uri": "https://localhost:8080/"
        },
        "id": "svWVlYYDMXYO",
        "outputId": "0c540469-e7fc-49d8-ab78-7d0bb3db848b"
      },
      "outputs": [
        {
          "name": "stdout",
          "output_type": "stream",
          "text": [
            "<class 'pandas.core.frame.DataFrame'>\n",
            "RangeIndex: 12330 entries, 0 to 12329\n",
            "Data columns (total 18 columns):\n",
            " #   Column                   Non-Null Count  Dtype  \n",
            "---  ------                   --------------  -----  \n",
            " 0   Administrative           12330 non-null  int64  \n",
            " 1   Administrative_Duration  12330 non-null  float64\n",
            " 2   Informational            12330 non-null  int64  \n",
            " 3   Informational_Duration   12330 non-null  float64\n",
            " 4   ProductRelated           12330 non-null  int64  \n",
            " 5   ProductRelated_Duration  12330 non-null  float64\n",
            " 6   BounceRates              12330 non-null  float64\n",
            " 7   ExitRates                12330 non-null  float64\n",
            " 8   PageValues               12330 non-null  float64\n",
            " 9   SpecialDay               12330 non-null  float64\n",
            " 10  Month                    12330 non-null  object \n",
            " 11  OperatingSystems         12330 non-null  int64  \n",
            " 12  Browser                  12330 non-null  int64  \n",
            " 13  Region                   12330 non-null  int64  \n",
            " 14  TrafficType              12330 non-null  int64  \n",
            " 15  VisitorType              12330 non-null  object \n",
            " 16  Weekend                  12330 non-null  bool   \n",
            " 17  Revenue                  12330 non-null  bool   \n",
            "dtypes: bool(2), float64(7), int64(7), object(2)\n",
            "memory usage: 1.5+ MB\n"
          ]
        }
      ],
      "source": [
        "dataset.info()\n"
      ]
    },
    {
      "cell_type": "markdown",
      "metadata": {
        "id": "rGPb0qepMd-o"
      },
      "source": [
        "The dataset contains a total of `12330` entries, with `18` features.\n",
        "Some features are numeric, others are categorical.\n",
        "\n",
        "`Administrative`, `Administrative Duration`, `Informational`, `Informational Duration`, `Product Related` and `Product Related Duration` represent the number of different types of pages visited by the visitor in that session and total time spent in each of these page categories.\n",
        "\n",
        "The values of these features are derived from the URL information of the pages visited by the user and updated in real time when a user takes an action, e.g. moving from one page to another.\n",
        "\n",
        "The `Bounce Rate`, `Exit Rate` and `Page Value` features represent the metrics measured by Google Analytics for each page in the e-commerce site.\n",
        "\n",
        "The value of `Bounce Rate` feature for a web page refers to the percentage of visitors who enter the site from that page and then leave (\"bounce\") without triggering any other requests to the analytics server during that session.\n",
        "\n",
        "The value of `Exit Rate` feature for a specific web page is calculated as for all pageviews to the page, the percentage that were the last in the session.\n",
        "\n",
        "The `Page Value` feature represents the average value for a web page that a user visited before completing an e-commerce transaction.\n",
        "\n",
        "The `Special Day` feature indicates the closeness of the site visiting time to a specific special day (e.g. Mother’s Day, Valentine's Day) in which the sessions are more likely to be finalized with transaction.\n",
        "The value of this attribute is determined by considering the dynamics of e-commerce such as the duration between the order date and delivery date. For example, for Valentine’s day, this value takes a nonzero value between February 2 and February 12, zero before and after this date unless it is close to another special day, and its maximum value of 1 on February 8.\n",
        "\n",
        "`Revenue` represents the class of the instance: a `True` value means the user generated revenue, and a `False` value means the user did not generate revenue.\n",
        "\n",
        "The dataset also includes operating system, browser, region, traffic type, visitor type as returning or new visitor, a Boolean value indicating whether the date of the visit is weekend, and month of the year."
      ]
    },
    {
      "cell_type": "markdown",
      "metadata": {},
      "source": [
        "We can get a glimpse of the data by using the `head` method."
      ]
    },
    {
      "cell_type": "code",
      "execution_count": 5,
      "metadata": {
        "colab": {
          "base_uri": "https://localhost:8080/"
        },
        "id": "XNbOZZHAQtNv",
        "outputId": "80f087aa-c66d-47a0-cfea-f789b75692c2"
      },
      "outputs": [
        {
          "data": {
            "text/html": [
              "<div>\n",
              "<style scoped>\n",
              "    .dataframe tbody tr th:only-of-type {\n",
              "        vertical-align: middle;\n",
              "    }\n",
              "\n",
              "    .dataframe tbody tr th {\n",
              "        vertical-align: top;\n",
              "    }\n",
              "\n",
              "    .dataframe thead th {\n",
              "        text-align: right;\n",
              "    }\n",
              "</style>\n",
              "<table border=\"1\" class=\"dataframe\">\n",
              "  <thead>\n",
              "    <tr style=\"text-align: right;\">\n",
              "      <th></th>\n",
              "      <th>Administrative</th>\n",
              "      <th>Administrative_Duration</th>\n",
              "      <th>Informational</th>\n",
              "      <th>Informational_Duration</th>\n",
              "      <th>ProductRelated</th>\n",
              "      <th>ProductRelated_Duration</th>\n",
              "      <th>BounceRates</th>\n",
              "      <th>ExitRates</th>\n",
              "      <th>PageValues</th>\n",
              "      <th>SpecialDay</th>\n",
              "      <th>Month</th>\n",
              "      <th>OperatingSystems</th>\n",
              "      <th>Browser</th>\n",
              "      <th>Region</th>\n",
              "      <th>TrafficType</th>\n",
              "      <th>VisitorType</th>\n",
              "      <th>Weekend</th>\n",
              "      <th>Revenue</th>\n",
              "    </tr>\n",
              "  </thead>\n",
              "  <tbody>\n",
              "    <tr>\n",
              "      <th>0</th>\n",
              "      <td>0</td>\n",
              "      <td>0.0</td>\n",
              "      <td>0</td>\n",
              "      <td>0.0</td>\n",
              "      <td>1</td>\n",
              "      <td>0.000000</td>\n",
              "      <td>0.20</td>\n",
              "      <td>0.20</td>\n",
              "      <td>0.0</td>\n",
              "      <td>0.0</td>\n",
              "      <td>Feb</td>\n",
              "      <td>1</td>\n",
              "      <td>1</td>\n",
              "      <td>1</td>\n",
              "      <td>1</td>\n",
              "      <td>Returning_Visitor</td>\n",
              "      <td>False</td>\n",
              "      <td>False</td>\n",
              "    </tr>\n",
              "    <tr>\n",
              "      <th>1</th>\n",
              "      <td>0</td>\n",
              "      <td>0.0</td>\n",
              "      <td>0</td>\n",
              "      <td>0.0</td>\n",
              "      <td>2</td>\n",
              "      <td>64.000000</td>\n",
              "      <td>0.00</td>\n",
              "      <td>0.10</td>\n",
              "      <td>0.0</td>\n",
              "      <td>0.0</td>\n",
              "      <td>Feb</td>\n",
              "      <td>2</td>\n",
              "      <td>2</td>\n",
              "      <td>1</td>\n",
              "      <td>2</td>\n",
              "      <td>Returning_Visitor</td>\n",
              "      <td>False</td>\n",
              "      <td>False</td>\n",
              "    </tr>\n",
              "    <tr>\n",
              "      <th>2</th>\n",
              "      <td>0</td>\n",
              "      <td>0.0</td>\n",
              "      <td>0</td>\n",
              "      <td>0.0</td>\n",
              "      <td>1</td>\n",
              "      <td>0.000000</td>\n",
              "      <td>0.20</td>\n",
              "      <td>0.20</td>\n",
              "      <td>0.0</td>\n",
              "      <td>0.0</td>\n",
              "      <td>Feb</td>\n",
              "      <td>4</td>\n",
              "      <td>1</td>\n",
              "      <td>9</td>\n",
              "      <td>3</td>\n",
              "      <td>Returning_Visitor</td>\n",
              "      <td>False</td>\n",
              "      <td>False</td>\n",
              "    </tr>\n",
              "    <tr>\n",
              "      <th>3</th>\n",
              "      <td>0</td>\n",
              "      <td>0.0</td>\n",
              "      <td>0</td>\n",
              "      <td>0.0</td>\n",
              "      <td>2</td>\n",
              "      <td>2.666667</td>\n",
              "      <td>0.05</td>\n",
              "      <td>0.14</td>\n",
              "      <td>0.0</td>\n",
              "      <td>0.0</td>\n",
              "      <td>Feb</td>\n",
              "      <td>3</td>\n",
              "      <td>2</td>\n",
              "      <td>2</td>\n",
              "      <td>4</td>\n",
              "      <td>Returning_Visitor</td>\n",
              "      <td>False</td>\n",
              "      <td>False</td>\n",
              "    </tr>\n",
              "    <tr>\n",
              "      <th>4</th>\n",
              "      <td>0</td>\n",
              "      <td>0.0</td>\n",
              "      <td>0</td>\n",
              "      <td>0.0</td>\n",
              "      <td>10</td>\n",
              "      <td>627.500000</td>\n",
              "      <td>0.02</td>\n",
              "      <td>0.05</td>\n",
              "      <td>0.0</td>\n",
              "      <td>0.0</td>\n",
              "      <td>Feb</td>\n",
              "      <td>3</td>\n",
              "      <td>3</td>\n",
              "      <td>1</td>\n",
              "      <td>4</td>\n",
              "      <td>Returning_Visitor</td>\n",
              "      <td>True</td>\n",
              "      <td>False</td>\n",
              "    </tr>\n",
              "  </tbody>\n",
              "</table>\n",
              "</div>"
            ],
            "text/plain": [
              "   Administrative  Administrative_Duration  Informational  \\\n",
              "0               0                      0.0              0   \n",
              "1               0                      0.0              0   \n",
              "2               0                      0.0              0   \n",
              "3               0                      0.0              0   \n",
              "4               0                      0.0              0   \n",
              "\n",
              "   Informational_Duration  ProductRelated  ProductRelated_Duration  \\\n",
              "0                     0.0               1                 0.000000   \n",
              "1                     0.0               2                64.000000   \n",
              "2                     0.0               1                 0.000000   \n",
              "3                     0.0               2                 2.666667   \n",
              "4                     0.0              10               627.500000   \n",
              "\n",
              "   BounceRates  ExitRates  PageValues  SpecialDay Month  OperatingSystems  \\\n",
              "0         0.20       0.20         0.0         0.0   Feb                 1   \n",
              "1         0.00       0.10         0.0         0.0   Feb                 2   \n",
              "2         0.20       0.20         0.0         0.0   Feb                 4   \n",
              "3         0.05       0.14         0.0         0.0   Feb                 3   \n",
              "4         0.02       0.05         0.0         0.0   Feb                 3   \n",
              "\n",
              "   Browser  Region  TrafficType        VisitorType  Weekend  Revenue  \n",
              "0        1       1            1  Returning_Visitor    False    False  \n",
              "1        2       1            2  Returning_Visitor    False    False  \n",
              "2        1       9            3  Returning_Visitor    False    False  \n",
              "3        2       2            4  Returning_Visitor    False    False  \n",
              "4        3       1            4  Returning_Visitor     True    False  "
            ]
          },
          "execution_count": 5,
          "metadata": {},
          "output_type": "execute_result"
        }
      ],
      "source": [
        "dataset.head()\n"
      ]
    },
    {
      "cell_type": "markdown",
      "metadata": {
        "id": "PF-rD-0gQrhK"
      },
      "source": [
        "It's also important to check if the number of instances in each class is balanced:"
      ]
    },
    {
      "cell_type": "code",
      "execution_count": 6,
      "metadata": {
        "colab": {
          "base_uri": "https://localhost:8080/"
        },
        "id": "DfjSXnfUQc1Q",
        "outputId": "feae6a9e-2d23-43fa-edd5-782c2802d67c"
      },
      "outputs": [
        {
          "data": {
            "text/plain": [
              "False    0.845255\n",
              "True     0.154745\n",
              "Name: Revenue, dtype: float64"
            ]
          },
          "execution_count": 6,
          "metadata": {},
          "output_type": "execute_result"
        }
      ],
      "source": [
        "dataset[\"Revenue\"].value_counts(normalize=True)\n"
      ]
    },
    {
      "cell_type": "markdown",
      "metadata": {
        "id": "9ArMNxC3RGJu"
      },
      "source": [
        "The `84.5%` of instances are negative, while the the `15.5%` are positive.\n",
        "This means that the dataset is imbalanced.\n",
        "\n",
        "There are a few different ways to handle imbalanced datasets,\n",
        "such as *undersampling* the majority class, or *oversampling* the minority one.\n",
        "We could also use *SMOTE* to generate synthetic samples from the minority class.\n",
        "\n",
        "In this project, we will not make use of such techniques directly, but we will\n",
        "tune the algorithms to account for the imbalance as much as possible,\n",
        "and we will also use algorithms created specifically for imbalanced datasets.\n",
        "Most of these algorithms do use one (or more) of the methods mentioned above.\n",
        "\n",
        "Rather than the basic *accuracy* metric, we will use *balanced accuracy*, which is suited for imbalanced data.\n",
        "*Balanced accuracy* is defined as the arithmetic mean of *accuracy* and *recall*:\n",
        "\n",
        "$$\n",
        "\\text{Balanced Accuracy} = \\frac{sensitivity + specificity}{2}\n",
        "$$\n",
        "\n",
        "We could also use the *F1 score* metric, which is the harmonic mean of *precision* and *recall*:\n",
        "\n",
        "$$\n",
        "\\text{F1 Score} = 2 * \\frac{precision * sensitivity}{precision + sensitivity}\n",
        "$$\n",
        "\n",
        "Where *sensitivity* is the proportion of actual positives that are correctly identified as such,\n",
        "*specificity* is the proportion of actual negatives that are correctly identified,\n",
        "and *precision* quantifies the number of correct positive predictions made out of positive predictions made by the model.\n",
        "\n",
        "$$\n",
        "\\text{Sensitivity} = \\frac{TP}{TP + FN}\n",
        "\\hspace{6 mm}\n",
        "\\text{Specificity} = \\frac{TN}{TN + FP}\n",
        "\\hspace{6 mm}\n",
        "\\text{Precision} = \\frac{TP}{TP + FP}\n",
        "$$\n",
        "\n",
        "*F1 score* however doesn’t care about how many true negatives are being classified.\n",
        "For the purposes of this project positives are as import as negatives, so *balanced accuracy* is a better metric."
      ]
    },
    {
      "cell_type": "markdown",
      "metadata": {
        "id": "k33XbElQ7mWb"
      },
      "source": [
        "# Data Cleaning and Feature Engineering"
      ]
    },
    {
      "cell_type": "markdown",
      "metadata": {
        "id": "rV09yQBPaI4q"
      },
      "source": [
        "## Column names"
      ]
    },
    {
      "cell_type": "markdown",
      "metadata": {
        "id": "OJh8f1q2aMDu"
      },
      "source": [
        "The column naming convention appears to be inconsistent.\n",
        "We can begin the data cleaning process by converting the column names to *snake_case*."
      ]
    },
    {
      "cell_type": "code",
      "execution_count": 7,
      "metadata": {
        "id": "TFog_gpcV63R"
      },
      "outputs": [],
      "source": [
        "def to_snake_case(str):\n",
        "    res = [str[0].lower()]\n",
        "    for i, c in enumerate(str[1:]):\n",
        "        if c in ('ABCDEFGHIJKLMNOPQRSTUVWXYZ'):\n",
        "            if str[i] != \"_\":\n",
        "                res.append('_')\n",
        "            res.append(c.lower())\n",
        "        else:\n",
        "            res.append(c)\n",
        "\n",
        "    return ''.join(res)\n"
      ]
    },
    {
      "cell_type": "code",
      "execution_count": 8,
      "metadata": {},
      "outputs": [],
      "source": [
        "dataset.columns = dataset.columns.map(lambda c: to_snake_case(c))"
      ]
    },
    {
      "cell_type": "markdown",
      "metadata": {
        "id": "feXvsTHcbIHn"
      },
      "source": [
        "## Column Types"
      ]
    },
    {
      "cell_type": "markdown",
      "metadata": {
        "id": "t1fzy9R0bcCY"
      },
      "source": [
        "There are a few columns that represent categorical data, and two boolean columns that could cause problems. We can convert such columns to more convenient data types."
      ]
    },
    {
      "cell_type": "markdown",
      "metadata": {
        "id": "UspP5qDpM4Hu"
      },
      "source": [
        "### Convert categorical data"
      ]
    },
    {
      "cell_type": "markdown",
      "metadata": {
        "id": "PnSupd6gVg6V"
      },
      "source": [
        "The dataset has two categorical features with string values: `Month` and `VisitorType`.\n",
        "We can observe the possible values of these features."
      ]
    },
    {
      "cell_type": "code",
      "execution_count": 9,
      "metadata": {
        "colab": {
          "base_uri": "https://localhost:8080/"
        },
        "id": "FDSRgxl3VBAL",
        "outputId": "a689775b-9b8a-4c1c-8b95-1ef09238f3af"
      },
      "outputs": [
        {
          "name": "stdout",
          "output_type": "stream",
          "text": [
            "['Feb' 'Mar' 'May' 'Oct' 'June' 'Jul' 'Aug' 'Nov' 'Sep' 'Dec']\n",
            "['Returning_Visitor' 'New_Visitor' 'Other']\n"
          ]
        }
      ],
      "source": [
        "print(dataset[\"month\"].unique())\n",
        "print(dataset[\"visitor_type\"].unique())\n"
      ]
    },
    {
      "cell_type": "markdown",
      "metadata": {
        "id": "kcCMP_zYTK23"
      },
      "source": [
        "These features can be converted into integers using `sklearn.preprocessing.LabelEncoder()`, which replaces the category string values with increasing integers values.\n",
        "\n",
        "The problem with this method is that the learning algorithms could interpret the integer values as having an order/hierarchy between them.\n",
        "\n",
        "This is fine for the `Month` column, where the various months will be encoded with integers between 0 and 11: these integers do have a meaningful order, so label encoding is correct.\n",
        "\n",
        "However for `VisitorType` the integer values that the feature could have to represent the string values have no order/hierarchy.\n",
        "For this reason, a more appropriate conversion for this feature would be to use one-hot encoding.\n",
        "In this strategy, each possible category value is converted into a new column\n",
        "and assigned a 1 or 0 value depending on the value in the original column."
      ]
    },
    {
      "cell_type": "code",
      "execution_count": 10,
      "metadata": {
        "id": "2XZ6i8X_Fn-Q"
      },
      "outputs": [],
      "source": [
        "from sklearn.preprocessing import LabelEncoder\n",
        "\n",
        "le = LabelEncoder()\n",
        "dataset[\"month\"] = le.fit_transform(dataset[\"month\"])\n",
        "\n",
        "dum_df = pd.get_dummies(dataset[\"visitor_type\"], prefix=\"visitor_type\")\n",
        "dum_df.columns = dum_df.columns.map(lambda c: to_snake_case(c))\n",
        "\n",
        "dataset = dataset.join(dum_df).drop(\"visitor_type\", axis=1)\n"
      ]
    },
    {
      "cell_type": "markdown",
      "metadata": {
        "id": "lf9_S-b17a6C"
      },
      "source": [
        "### Convert boolean values to integer"
      ]
    },
    {
      "cell_type": "markdown",
      "metadata": {
        "id": "Y1oNe62X73eP"
      },
      "source": [
        "The `weekend` and `revenue` columns have boolean values, which should automatically be converted to `0` and `1` by Python, but since some of the algorithms may have some parts implemented in C/C++, we might run into some problems.\n",
        "\n",
        "To avoid this, we can convert such columns to integer values."
      ]
    },
    {
      "cell_type": "code",
      "execution_count": 11,
      "metadata": {
        "id": "Od_LBGf78Sv-"
      },
      "outputs": [],
      "source": [
        "dataset[\"weekend\"] = dataset[\"weekend\"].astype(int)\n",
        "dataset[\"revenue\"] = dataset[\"revenue\"].astype(int)\n"
      ]
    },
    {
      "cell_type": "markdown",
      "metadata": {
        "id": "aaToOTjfHN5T"
      },
      "source": [
        "## Missing values"
      ]
    },
    {
      "cell_type": "markdown",
      "metadata": {
        "id": "p1H9XnyXIsDX"
      },
      "source": [
        "We can check if the dataset contains NA values, and if it does we can delete such rows as they might ruin the learning process."
      ]
    },
    {
      "cell_type": "code",
      "execution_count": 12,
      "metadata": {
        "colab": {
          "base_uri": "https://localhost:8080/"
        },
        "id": "S-pTdET8HP6r",
        "outputId": "7b29001c-3680-4999-9b30-b895f79faabc"
      },
      "outputs": [
        {
          "data": {
            "text/plain": [
              "administrative                    False\n",
              "administrative_duration           False\n",
              "informational                     False\n",
              "informational_duration            False\n",
              "product_related                   False\n",
              "product_related_duration          False\n",
              "bounce_rates                      False\n",
              "exit_rates                        False\n",
              "page_values                       False\n",
              "special_day                       False\n",
              "month                             False\n",
              "operating_systems                 False\n",
              "browser                           False\n",
              "region                            False\n",
              "traffic_type                      False\n",
              "weekend                           False\n",
              "revenue                           False\n",
              "visitor_type_new_visitor          False\n",
              "visitor_type_other                False\n",
              "visitor_type_returning_visitor    False\n",
              "dtype: bool"
            ]
          },
          "execution_count": 12,
          "metadata": {},
          "output_type": "execute_result"
        }
      ],
      "source": [
        "dataset.isna().any()\n"
      ]
    },
    {
      "cell_type": "markdown",
      "metadata": {
        "id": "-eIUae-PIxUV"
      },
      "source": [
        "The dataset does not contain any NA value, so no rows needs to be eliminated."
      ]
    },
    {
      "cell_type": "markdown",
      "metadata": {
        "id": "0JoKHo7mQjuu"
      },
      "source": [
        "## Correlated Columns"
      ]
    },
    {
      "cell_type": "markdown",
      "metadata": {
        "id": "S318L6-Fd_r9"
      },
      "source": [
        "To increase the speed of the learning process and reduce bias a possibility is to remove highly correlated columns from the dataset. \n",
        "\n",
        "However, while developing this project, we discovered *Recursive Feature Elimination*, which provides a more effective way of removing unnecessary features.\n",
        "\n",
        "We are leaving this section here anyway for compleness."
      ]
    },
    {
      "cell_type": "code",
      "execution_count": 13,
      "metadata": {
        "id": "lrUdNksjQl2B"
      },
      "outputs": [],
      "source": [
        "def get_correlated_cols(ds: pd.DataFrame, corr_threshold: float):\n",
        "    # Compute correlation matrix using pearson method (linear correlation)\n",
        "    corr = ds.corr(method=\"pearson\")\n",
        "    # Find collinear columns\n",
        "    corr_cols = corr[corr > corr_threshold].dropna(\n",
        "        thresh=2).dropna(axis=\"columns\")\n",
        "    return corr_cols\n"
      ]
    },
    {
      "cell_type": "code",
      "execution_count": 14,
      "metadata": {
        "colab": {
          "base_uri": "https://localhost:8080/"
        },
        "id": "m5UAxthaRExI",
        "outputId": "19dd496f-2fff-44e1-dc57-f1332568ae0d"
      },
      "outputs": [
        {
          "data": {
            "text/html": [
              "<div>\n",
              "<style scoped>\n",
              "    .dataframe tbody tr th:only-of-type {\n",
              "        vertical-align: middle;\n",
              "    }\n",
              "\n",
              "    .dataframe tbody tr th {\n",
              "        vertical-align: top;\n",
              "    }\n",
              "\n",
              "    .dataframe thead th {\n",
              "        text-align: right;\n",
              "    }\n",
              "</style>\n",
              "<table border=\"1\" class=\"dataframe\">\n",
              "  <thead>\n",
              "    <tr style=\"text-align: right;\">\n",
              "      <th></th>\n",
              "      <th>bounce_rates</th>\n",
              "      <th>exit_rates</th>\n",
              "    </tr>\n",
              "  </thead>\n",
              "  <tbody>\n",
              "    <tr>\n",
              "      <th>bounce_rates</th>\n",
              "      <td>1.000000</td>\n",
              "      <td>0.913004</td>\n",
              "    </tr>\n",
              "    <tr>\n",
              "      <th>exit_rates</th>\n",
              "      <td>0.913004</td>\n",
              "      <td>1.000000</td>\n",
              "    </tr>\n",
              "  </tbody>\n",
              "</table>\n",
              "</div>"
            ],
            "text/plain": [
              "              bounce_rates  exit_rates\n",
              "bounce_rates      1.000000    0.913004\n",
              "exit_rates        0.913004    1.000000"
            ]
          },
          "execution_count": 14,
          "metadata": {},
          "output_type": "execute_result"
        }
      ],
      "source": [
        "get_correlated_cols(dataset, 0.90)\n"
      ]
    },
    {
      "cell_type": "markdown",
      "metadata": {
        "id": "95GOZ3qXenPH"
      },
      "source": [
        "`bounce_rates` and `exit_rates` are highly correlated. We can remove one of the two columns."
      ]
    },
    {
      "cell_type": "code",
      "execution_count": 15,
      "metadata": {
        "id": "fFw_roYZTIel"
      },
      "outputs": [],
      "source": [
        "# dataset.drop(\"exit_rates\", axis=1, inplace=True)\n"
      ]
    },
    {
      "cell_type": "markdown",
      "metadata": {
        "id": "vmNnHhHVJG5A"
      },
      "source": [
        "## Duplicate Rows"
      ]
    },
    {
      "cell_type": "markdown",
      "metadata": {
        "id": "7Di1-yi7KATE"
      },
      "source": [
        "It's good practice to identify and remove duplicate rows in the dataset, because they could result in misleading performance when evaluating ML algorithms: duplicate rows could appear in both train and test datasets."
      ]
    },
    {
      "cell_type": "code",
      "execution_count": 16,
      "metadata": {
        "colab": {
          "base_uri": "https://localhost:8080/"
        },
        "id": "TfuHkzlJJY_p",
        "outputId": "ce3d604d-5be7-415a-c4e6-679822167b55"
      },
      "outputs": [
        {
          "name": "stdout",
          "output_type": "stream",
          "text": [
            "True\n"
          ]
        }
      ],
      "source": [
        "dups = dataset.duplicated()\n",
        "print(dups.any())\n"
      ]
    },
    {
      "cell_type": "markdown",
      "metadata": {
        "id": "XeUb-QWyJqUn"
      },
      "source": [
        "There are duplicates in the dataset. They can be removed using pandas `drop_duplicates`."
      ]
    },
    {
      "cell_type": "code",
      "execution_count": 17,
      "metadata": {
        "id": "Lhq4ggcvJm8c"
      },
      "outputs": [],
      "source": [
        "dataset.drop_duplicates(inplace=True)\n"
      ]
    },
    {
      "cell_type": "markdown",
      "metadata": {
        "id": "FeHkqxul9dMx"
      },
      "source": [
        "## Feature scaling"
      ]
    },
    {
      "cell_type": "markdown",
      "metadata": {
        "id": "xQOliItYfoys"
      },
      "source": [
        "In order to weight the features equally, feature scaling is important.\n",
        "Here we use the `MinMaxScaler`, which scales all values to the [0,1] interval."
      ]
    },
    {
      "cell_type": "code",
      "execution_count": 18,
      "metadata": {
        "id": "Fd2rqh2C9joY"
      },
      "outputs": [],
      "source": [
        "from pandas.core.common import random_state\n",
        "from sklearn.preprocessing import MinMaxScaler\n",
        "\n",
        "mms = MinMaxScaler()\n",
        "dataset = pd.DataFrame(mms.fit_transform(dataset), columns=dataset.columns)\n"
      ]
    },
    {
      "cell_type": "markdown",
      "metadata": {
        "id": "Nxn0hNB3QtNy"
      },
      "source": [
        "## Create test and training sets"
      ]
    },
    {
      "cell_type": "markdown",
      "metadata": {
        "id": "3YrloRVYJjTI"
      },
      "source": [
        "We will use the 70% of the total instances for training, and the remaining 30% for testing.\n",
        "\n",
        "The `stratify` option of `train_test_split` ensures that relative class frequencies are approximately preserved in the training and test sets."
      ]
    },
    {
      "cell_type": "code",
      "execution_count": 19,
      "metadata": {
        "id": "fs433X00QtN1"
      },
      "outputs": [],
      "source": [
        "from sklearn.model_selection import train_test_split\n",
        "\n",
        "X = dataset.drop(\"revenue\", axis=1)\n",
        "y = dataset[\"revenue\"].copy()\n",
        "\n",
        "X_train, X_test, y_train,  y_test = train_test_split(\n",
        "    X, y, test_size=0.3, stratify=y, random_state=42)\n"
      ]
    },
    {
      "cell_type": "markdown",
      "metadata": {
        "id": "jSEn7BfKXfhl"
      },
      "source": [
        "## Recursive Feature Elimination"
      ]
    },
    {
      "cell_type": "markdown",
      "metadata": {
        "id": "7nZiyVStXrPd"
      },
      "source": [
        "*Recursive Feature Elimination* (RFE) is a feature selection algorithms.\n",
        "Feature selection refers to techniques that select a subset of the most relevant features (columns) for a dataset. Fewer features can allow machine learning algorithms to run more efficiently (less space or time complexity) and be more effective. Some machine learning algorithms can be misled by irrelevant input features, resulting in worse predictive performance.\n",
        "\n",
        "RFE in particular searches for a subset of features by starting with all features in the training dataset and successfully removing features until the desired number remains.\n",
        "\n",
        "This is achieved by fitting a given machine learning algorithm, ranking features by importance, discarding the least important features, and re-fitting the model. This process is repeated until a specified number of features remains.\n",
        "\n",
        "Choosing the optimal number of features to keep is not trivial: \n",
        "`scikit-learn` provides the `RFECV` class, which performs cross-validation evaluation of different numbers of features and automatically selects the features that resulted in the best mean score.\n",
        "\n",
        "Since we know that the dataset is imbalanced, we use a random forest classifier to compute the weights associated with the features (the features with the lowest weights are those that will be removed), along with the `balanced_accuracy` to measure performance during the cross-validation. "
      ]
    },
    {
      "cell_type": "code",
      "execution_count": 20,
      "metadata": {
        "colab": {
          "base_uri": "https://localhost:8080/"
        },
        "id": "aMFYG07SRm2h",
        "outputId": "a98244bb-5e27-4840-850e-4ccd01606bf9"
      },
      "outputs": [
        {
          "data": {
            "text/plain": [
              "RFECV(estimator=RandomForestClassifier(random_state=42),\n",
              "      scoring='balanced_accuracy')"
            ]
          },
          "execution_count": 20,
          "metadata": {},
          "output_type": "execute_result"
        }
      ],
      "source": [
        "from sklearn.feature_selection import RFECV\n",
        "from sklearn.ensemble import RandomForestClassifier\n",
        "\n",
        "rfecv = RFECV(\n",
        "    estimator=RandomForestClassifier(random_state=42),\n",
        "    min_features_to_select=1,  # Eliminate at least one feature\n",
        "    scoring=\"balanced_accuracy\"\n",
        ")\n",
        "\n",
        "rfecv.fit(X_train, y_train)\n"
      ]
    },
    {
      "cell_type": "code",
      "execution_count": 21,
      "metadata": {
        "colab": {
          "base_uri": "https://localhost:8080/"
        },
        "id": "Rv7oMd8sYa45",
        "outputId": "44e5e172-4576-4ab6-f3d9-753af5161bcf"
      },
      "outputs": [
        {
          "name": "stdout",
          "output_type": "stream",
          "text": [
            "Eliminated 12 features, from 19 features to 7 features\n"
          ]
        }
      ],
      "source": [
        "print(\"Eliminated %d features, from %d features to %d features\" % (\n",
        "    len(X.columns) - rfecv.n_features_,\n",
        "    len(X.columns),\n",
        "    rfecv.n_features_\n",
        ")\n",
        ")\n",
        "\n",
        "columns_to_keep = X.columns[rfecv.support_]\n",
        "\n",
        "X = X[columns_to_keep]\n",
        "X_train = X_train[columns_to_keep]\n",
        "X_test = X_test[columns_to_keep]\n"
      ]
    },
    {
      "cell_type": "markdown",
      "metadata": {
        "id": "pumyaOvphvc7"
      },
      "source": [
        "## Utility functions"
      ]
    },
    {
      "cell_type": "code",
      "execution_count": 22,
      "metadata": {
        "id": "PAuD9p1Ph193"
      },
      "outputs": [],
      "source": [
        "from sklearn.metrics import balanced_accuracy_score, confusion_matrix, ConfusionMatrixDisplay\n",
        "\n",
        "\n",
        "def print_confusion_matrix(y_true, y_pred):\n",
        "    ConfusionMatrixDisplay(confusion_matrix=confusion_matrix(\n",
        "        y_true, y_pred), display_labels=[\"No Revenue\", \"Revenue\"]).plot()\n",
        "\n",
        "\n",
        "def evaluate(clf):\n",
        "    \"\"\"\n",
        "    Evaluates a classifier on the test set.\n",
        "    \"\"\"\n",
        "    y_pred = clf.predict(X_test)\n",
        "    print(\"Accuracy (on test set): \", balanced_accuracy_score(y_test, y_pred))\n",
        "\n",
        "\n",
        "def evaluate_grid(grid_clf):\n",
        "    \"\"\"\n",
        "    Evaluates a grid search on the test set.\n",
        "    \"\"\"\n",
        "    y_pred = grid_clf.predict(X_test)\n",
        "    print(\"Best parameters: \", grid_clf.best_params_)\n",
        "    print(\"Accuracy of best (means of cross-validated scores on train set): \",\n",
        "          grid_clf.best_score_)\n",
        "    print(\"Accuracy of best (on test set): \",\n",
        "          balanced_accuracy_score(y_test, y_pred))\n",
        "    print_confusion_matrix(y_test, y_pred)\n"
      ]
    },
    {
      "cell_type": "markdown",
      "metadata": {
        "id": "oSgeqcnKlaCb"
      },
      "source": [
        "# Basic Classifiers"
      ]
    },
    {
      "cell_type": "markdown",
      "metadata": {
        "id": "2SlW8I8Qkyhc"
      },
      "source": [
        "## Decision Tree"
      ]
    },
    {
      "cell_type": "markdown",
      "metadata": {
        "id": "-KN8rmq_7dCu"
      },
      "source": [
        "We expect decision trees to behave well for this problem, because they are particularly suited for imbalanced classifications.\n",
        "\n",
        "We will begin with a baseline decision tree, that we will try to improve upon by tuning the hyperparameters."
      ]
    },
    {
      "cell_type": "code",
      "execution_count": 23,
      "metadata": {
        "colab": {
          "base_uri": "https://localhost:8080/"
        },
        "id": "UsWoThHuoL3r",
        "outputId": "773af759-5df9-4587-afac-53d4b191e390"
      },
      "outputs": [
        {
          "data": {
            "text/plain": [
              "DecisionTreeClassifier(class_weight='balanced', max_depth=2, random_state=42)"
            ]
          },
          "execution_count": 23,
          "metadata": {},
          "output_type": "execute_result"
        }
      ],
      "source": [
        "from sklearn.tree import DecisionTreeClassifier\n",
        "\n",
        "# class_weight=balanced adjusts weights inversely proportional to class frequencies\n",
        "tree_clf = DecisionTreeClassifier(\n",
        "    max_depth=2, random_state=42, class_weight=\"balanced\")\n",
        "tree_clf.fit(X_train, y_train)\n"
      ]
    },
    {
      "cell_type": "code",
      "execution_count": 24,
      "metadata": {
        "colab": {
          "base_uri": "https://localhost:8080/"
        },
        "id": "snKquz73pknD",
        "outputId": "36db9e8a-a58c-4dc0-f544-73224f4504a2"
      },
      "outputs": [
        {
          "name": "stdout",
          "output_type": "stream",
          "text": [
            "Accuracy (on test set):  0.8419354108674497\n"
          ]
        }
      ],
      "source": [
        "evaluate(tree_clf)\n"
      ]
    },
    {
      "cell_type": "markdown",
      "metadata": {
        "id": "rGX8ddr2aY4g"
      },
      "source": [
        "We can also visualize the decision tree:"
      ]
    },
    {
      "cell_type": "code",
      "execution_count": 1,
      "metadata": {
        "colab": {
          "base_uri": "https://localhost:8080/"
        },
        "id": "uQe0rzjtkfaB",
        "outputId": "64d46688-6f6b-499e-da4c-de2cb086db4a"
      },
      "outputs": [
        {
          "ename": "NameError",
          "evalue": "name 'tree_clf' is not defined",
          "output_type": "error",
          "traceback": [
            "\u001b[0;31m---------------------------------------------------------------------------\u001b[0m",
            "\u001b[0;31mNameError\u001b[0m                                 Traceback (most recent call last)",
            "\u001b[1;32m/home/potato/Uni/mldm/MLDM_Beatrice_Cotti/MLDM_Beatrice_Cotti.ipynb Cell 68\u001b[0m in \u001b[0;36m<cell line: 4>\u001b[0;34m()\u001b[0m\n\u001b[1;32m      <a href='vscode-notebook-cell:/home/potato/Uni/mldm/MLDM_Beatrice_Cotti/MLDM_Beatrice_Cotti.ipynb#Y123sZmlsZQ%3D%3D?line=0'>1</a>\u001b[0m \u001b[39mfrom\u001b[39;00m \u001b[39mgraphviz\u001b[39;00m \u001b[39mimport\u001b[39;00m Source\n\u001b[1;32m      <a href='vscode-notebook-cell:/home/potato/Uni/mldm/MLDM_Beatrice_Cotti/MLDM_Beatrice_Cotti.ipynb#Y123sZmlsZQ%3D%3D?line=1'>2</a>\u001b[0m \u001b[39mfrom\u001b[39;00m \u001b[39msklearn\u001b[39;00m\u001b[39m.\u001b[39;00m\u001b[39mtree\u001b[39;00m \u001b[39mimport\u001b[39;00m export_graphviz\n\u001b[1;32m      <a href='vscode-notebook-cell:/home/potato/Uni/mldm/MLDM_Beatrice_Cotti/MLDM_Beatrice_Cotti.ipynb#Y123sZmlsZQ%3D%3D?line=3'>4</a>\u001b[0m export_graphviz(\n\u001b[0;32m----> <a href='vscode-notebook-cell:/home/potato/Uni/mldm/MLDM_Beatrice_Cotti/MLDM_Beatrice_Cotti.ipynb#Y123sZmlsZQ%3D%3D?line=4'>5</a>\u001b[0m     tree_clf,\n\u001b[1;32m      <a href='vscode-notebook-cell:/home/potato/Uni/mldm/MLDM_Beatrice_Cotti/MLDM_Beatrice_Cotti.ipynb#Y123sZmlsZQ%3D%3D?line=5'>6</a>\u001b[0m     out_file\u001b[39m=\u001b[39mos\u001b[39m.\u001b[39mpath\u001b[39m.\u001b[39mjoin(IMAGES_PATH, \u001b[39m\"\u001b[39m\u001b[39mtree.dot\u001b[39m\u001b[39m\"\u001b[39m),\n\u001b[1;32m      <a href='vscode-notebook-cell:/home/potato/Uni/mldm/MLDM_Beatrice_Cotti/MLDM_Beatrice_Cotti.ipynb#Y123sZmlsZQ%3D%3D?line=6'>7</a>\u001b[0m     feature_names\u001b[39m=\u001b[39mX\u001b[39m.\u001b[39mcolumns,\n\u001b[1;32m      <a href='vscode-notebook-cell:/home/potato/Uni/mldm/MLDM_Beatrice_Cotti/MLDM_Beatrice_Cotti.ipynb#Y123sZmlsZQ%3D%3D?line=7'>8</a>\u001b[0m     class_names\u001b[39m=\u001b[39m[\u001b[39m\"\u001b[39m\u001b[39mNo Revenue\u001b[39m\u001b[39m\"\u001b[39m, \u001b[39m\"\u001b[39m\u001b[39mRevenue\u001b[39m\u001b[39m\"\u001b[39m],\n\u001b[1;32m      <a href='vscode-notebook-cell:/home/potato/Uni/mldm/MLDM_Beatrice_Cotti/MLDM_Beatrice_Cotti.ipynb#Y123sZmlsZQ%3D%3D?line=8'>9</a>\u001b[0m     filled\u001b[39m=\u001b[39m\u001b[39mTrue\u001b[39;00m,\n\u001b[1;32m     <a href='vscode-notebook-cell:/home/potato/Uni/mldm/MLDM_Beatrice_Cotti/MLDM_Beatrice_Cotti.ipynb#Y123sZmlsZQ%3D%3D?line=9'>10</a>\u001b[0m     rounded\u001b[39m=\u001b[39m\u001b[39mTrue\u001b[39;00m,\n\u001b[1;32m     <a href='vscode-notebook-cell:/home/potato/Uni/mldm/MLDM_Beatrice_Cotti/MLDM_Beatrice_Cotti.ipynb#Y123sZmlsZQ%3D%3D?line=10'>11</a>\u001b[0m )\n\u001b[1;32m     <a href='vscode-notebook-cell:/home/potato/Uni/mldm/MLDM_Beatrice_Cotti/MLDM_Beatrice_Cotti.ipynb#Y123sZmlsZQ%3D%3D?line=12'>13</a>\u001b[0m Source\u001b[39m.\u001b[39mfrom_file(os\u001b[39m.\u001b[39mpath\u001b[39m.\u001b[39mjoin(IMAGES_PATH, \u001b[39m\"\u001b[39m\u001b[39mtree.dot\u001b[39m\u001b[39m\"\u001b[39m))\n",
            "\u001b[0;31mNameError\u001b[0m: name 'tree_clf' is not defined"
          ]
        }
      ],
      "source": [
        "from graphviz import Source\n",
        "from sklearn.tree import export_graphviz\n",
        "\n",
        "export_graphviz(\n",
        "    tree_clf,\n",
        "    out_file=os.path.join(IMAGES_PATH, \"tree.dot\"),\n",
        "    feature_names=X.columns,\n",
        "    class_names=[\"No Revenue\", \"Revenue\"],\n",
        "    filled=True,\n",
        "    rounded=True,\n",
        ")\n",
        "\n",
        "Source.from_file(os.path.join(IMAGES_PATH, \"tree.dot\"))\n"
      ]
    },
    {
      "cell_type": "markdown",
      "metadata": {
        "id": "stQqHgH77xJD"
      },
      "source": [
        "To check for overfitting, we can plot the accuracy on the training and test sets.\n",
        "Here we also evaluate how the decision trees behaves when using different criteria."
      ]
    },
    {
      "cell_type": "code",
      "execution_count": null,
      "metadata": {
        "id": "N4MEkvyEfyL1"
      },
      "outputs": [],
      "source": [
        "def evaluate_decision_tree(values, criterion=\"gini\"):\n",
        "    train_scores, test_scores = list(), list()\n",
        "\n",
        "    for i in values:\n",
        "        # configure the model\n",
        "        model = DecisionTreeClassifier(\n",
        "            max_depth=i, criterion=criterion, random_state=42)\n",
        "        # fit model on the training dataset\n",
        "        model.fit(X_train, y_train)\n",
        "        # evaluate on the train dataset\n",
        "        train_yhat = model.predict(X_train)\n",
        "        train_acc = balanced_accuracy_score(y_train, train_yhat)\n",
        "        train_scores.append(train_acc)\n",
        "\n",
        "        # evaluate on the test dataset\n",
        "        test_yhat = model.predict(X_test)\n",
        "        test_acc = balanced_accuracy_score(y_test, test_yhat)\n",
        "        test_scores.append(test_acc)\n",
        "        # summarize progress\n",
        "        print('>%d, train: %.3f, test: %.3f' % (i, train_acc, test_acc))\n",
        "    # plot of train and test scores vs tree depth\n",
        "    plt.plot(values, train_scores, '-o', label='Train')\n",
        "    plt.plot(values, test_scores, '-o', label='Test')\n",
        "    plt.legend()\n",
        "    plt.show()\n"
      ]
    },
    {
      "cell_type": "code",
      "execution_count": null,
      "metadata": {
        "colab": {
          "base_uri": "https://localhost:8080/"
        },
        "id": "147A9V1cidIW",
        "outputId": "f7f450c8-1561-45f6-f478-52cd8c8560d7"
      },
      "outputs": [
        {
          "name": "stdout",
          "output_type": "stream",
          "text": [
            ">5, train: 0.767, test: 0.748\n",
            ">6, train: 0.804, test: 0.770\n",
            ">7, train: 0.814, test: 0.769\n",
            ">8, train: 0.819, test: 0.746\n",
            ">9, train: 0.847, test: 0.741\n",
            ">10, train: 0.870, test: 0.739\n",
            ">11, train: 0.886, test: 0.749\n",
            ">12, train: 0.901, test: 0.738\n",
            ">13, train: 0.922, test: 0.730\n",
            ">14, train: 0.932, test: 0.735\n",
            ">15, train: 0.950, test: 0.742\n",
            ">16, train: 0.951, test: 0.729\n",
            ">17, train: 0.966, test: 0.749\n",
            ">18, train: 0.973, test: 0.737\n",
            ">19, train: 0.972, test: 0.733\n",
            ">20, train: 0.978, test: 0.734\n",
            ">21, train: 0.978, test: 0.739\n",
            ">22, train: 0.981, test: 0.732\n",
            ">23, train: 0.985, test: 0.729\n",
            ">24, train: 0.986, test: 0.736\n",
            ">25, train: 0.987, test: 0.745\n",
            ">26, train: 0.989, test: 0.742\n",
            ">27, train: 0.992, test: 0.736\n",
            ">28, train: 0.996, test: 0.735\n",
            ">29, train: 0.998, test: 0.734\n"
          ]
        },
        {
          "data": {
            "image/png": "[encoded data removed]",
            "text/plain": [
              "<Figure size 432x288 with 1 Axes>"
            ]
          },
          "metadata": {
            "needs_background": "light"
          },
          "output_type": "display_data"
        }
      ],
      "source": [
        "evaluate_decision_tree([i for i in range(5, 30)])\n"
      ]
    },
    {
      "cell_type": "code",
      "execution_count": null,
      "metadata": {
        "colab": {
          "base_uri": "https://localhost:8080/"
        },
        "id": "IiVVr8B2iziG",
        "outputId": "e46535ed-2d82-4c5b-b493-4c547feda91e"
      },
      "outputs": [
        {
          "name": "stdout",
          "output_type": "stream",
          "text": [
            ">5, train: 0.752, test: 0.735\n",
            ">6, train: 0.798, test: 0.774\n",
            ">7, train: 0.808, test: 0.772\n",
            ">8, train: 0.797, test: 0.737\n",
            ">9, train: 0.825, test: 0.745\n",
            ">10, train: 0.845, test: 0.734\n",
            ">11, train: 0.864, test: 0.737\n",
            ">12, train: 0.887, test: 0.738\n",
            ">13, train: 0.910, test: 0.737\n",
            ">14, train: 0.927, test: 0.737\n",
            ">15, train: 0.932, test: 0.738\n",
            ">16, train: 0.944, test: 0.735\n",
            ">17, train: 0.951, test: 0.739\n",
            ">18, train: 0.963, test: 0.738\n",
            ">19, train: 0.969, test: 0.737\n",
            ">20, train: 0.974, test: 0.739\n",
            ">21, train: 0.977, test: 0.739\n",
            ">22, train: 0.980, test: 0.730\n",
            ">23, train: 0.988, test: 0.739\n",
            ">24, train: 0.989, test: 0.737\n",
            ">25, train: 0.992, test: 0.731\n",
            ">26, train: 0.993, test: 0.738\n",
            ">27, train: 0.995, test: 0.735\n",
            ">28, train: 0.997, test: 0.739\n",
            ">29, train: 0.997, test: 0.735\n"
          ]
        },
        {
          "data": {
            "image/png": "[encoded data removed]",
            "text/plain": [
              "<Figure size 432x288 with 1 Axes>"
            ]
          },
          "metadata": {
            "needs_background": "light"
          },
          "output_type": "display_data"
        }
      ],
      "source": [
        "evaluate_decision_tree([i for i in range(5, 30)], criterion=\"entropy\")\n"
      ]
    },
    {
      "cell_type": "markdown",
      "metadata": {
        "id": "zfXVdFaL8n0u"
      },
      "source": [
        "For a more comprehensive hyperparameter tuning, `scikit-learn` provides the `GridSearchCV` class, which creates a grid search to find the best possibile hyperparameters for a model (by exhaustively trying all possible combinations of the given parameters), and evaluates each possible model through cross-validation, in order to keep overfitting in check. The model with the highest cross-validated score will be kept as the best one.\n",
        "\n",
        "We also evaluate the (balanced) accuracy of the best model using the test set."
      ]
    },
    {
      "cell_type": "code",
      "execution_count": null,
      "metadata": {
        "colab": {
          "base_uri": "https://localhost:8080/"
        },
        "id": "6vWVnx8MPIPq",
        "outputId": "8db35d3b-a94c-48bd-a8fa-29e4d11fe38b"
      },
      "outputs": [
        {
          "data": {
            "text/plain": [
              "GridSearchCV(estimator=DecisionTreeClassifier(class_weight='balanced',\n",
              "                                              random_state=42),\n",
              "             param_grid={'criterion': ['gini', 'entropy'],\n",
              "                         'max_depth': [1, 2, 3, 4, 5, 6, 7, 8, 9],\n",
              "                         'max_features': [None, 'log2', 'sqrt']},\n",
              "             scoring='balanced_accuracy')"
            ]
          },
          "execution_count": 94,
          "metadata": {},
          "output_type": "execute_result"
        }
      ],
      "source": [
        "from sklearn.model_selection import GridSearchCV\n",
        "\n",
        "params = {\n",
        "    \"criterion\": [\"gini\", \"entropy\"],\n",
        "    \"max_depth\": list(range(1, 10)),\n",
        "    \"max_features\": [None, \"log2\", \"sqrt\"],\n",
        "}\n",
        "\n",
        "\n",
        "# class_weight=balanced adjusts weights inversely proportional to class frequencies\n",
        "tree_clf = DecisionTreeClassifier(random_state=42, class_weight=\"balanced\")\n",
        "grid_tree_clf = GridSearchCV(tree_clf, params, scoring=\"balanced_accuracy\")\n",
        "grid_tree_clf.fit(X_train, y_train)\n"
      ]
    },
    {
      "cell_type": "code",
      "execution_count": null,
      "metadata": {
        "colab": {
          "base_uri": "https://localhost:8080/"
        },
        "id": "O_I-DWGhppVA",
        "outputId": "acd3fdae-bd91-4175-e80d-36f4cca9849d"
      },
      "outputs": [
        {
          "name": "stdout",
          "output_type": "stream",
          "text": [
            "Best parameters:  {'criterion': 'entropy', 'max_depth': 4, 'max_features': None}\n",
            "Accuracy of best (means of cross-validated scores on train set):  0.8501342341213902\n",
            "Accuracy of best (on test set):  0.8477708375766628\n"
          ]
        }
      ],
      "source": [
        "evaluate_grid(grid_tree_clf)\n"
      ]
    },
    {
      "cell_type": "code",
      "execution_count": null,
      "metadata": {},
      "outputs": [],
      "source": [
        "export_graphviz(\n",
        "    grid_tree_clf.best_estimator_,\n",
        "    out_file=os.path.join(IMAGES_PATH, \"best_tree.dot\"),\n",
        "    feature_names=X.columns,\n",
        "    class_names=[\"No Revenue\", \"Revenue\"],\n",
        "    filled=True,\n",
        "    rounded=True,\n",
        ")\n",
        "\n",
        "Source.from_file(os.path.join(IMAGES_PATH, \"best_tree.dot\"))\n"
      ]
    },
    {
      "cell_type": "markdown",
      "metadata": {
        "id": "OPGq2ec-8YTT"
      },
      "source": [
        "## K-Nearest Neighbor"
      ]
    },
    {
      "cell_type": "markdown",
      "metadata": {},
      "source": [
        "The *K-Nearest Neighbor* (KNN) algorithm struggles with imbalanced data (at least in its basic form), but at the same it should also perform particularly well for datasets with a lower number of features.\n",
        "Thanks to RFE, we managed to reduce the number of features to 9, so it is interesting to verify the results of KNN.\n",
        "\n",
        "We can also verify how the accuracy changes with various distance metrics."
      ]
    },
    {
      "cell_type": "code",
      "execution_count": null,
      "metadata": {
        "colab": {
          "base_uri": "https://localhost:8080/"
        },
        "id": "TWN0Sh9V-JtR",
        "outputId": "6e252c76-2c71-4f17-ca2f-570caca8737a"
      },
      "outputs": [],
      "source": [
        "from sklearn.neighbors import KNeighborsClassifier\n",
        "\n",
        "params = {\n",
        "    \"n_neighbors\": list(range(1, 10)),\n",
        "    \"weights\": [\"uniform\", \"distance\"],\n",
        "    \"metric\": [\"euclidean\", \"chebyshev\", \"minkowski\", \"manhattan\"]\n",
        "}\n",
        "\n",
        "knn_clf = KNeighborsClassifier()\n",
        "\n",
        "grid_knn_clf = GridSearchCV(knn_clf, params, scoring=\"balanced_accuracy\")\n",
        "grid_knn_clf.fit(X_train, y_train)\n"
      ]
    },
    {
      "cell_type": "code",
      "execution_count": null,
      "metadata": {
        "colab": {
          "base_uri": "https://localhost:8080/"
        },
        "id": "bnZKWmdBp1wL",
        "outputId": "3f888e39-9925-48fe-b823-bff8afebeaca"
      },
      "outputs": [],
      "source": [
        "evaluate_grid(grid_knn_clf)\n"
      ]
    },
    {
      "cell_type": "markdown",
      "metadata": {
        "id": "X1lTqyX-AF8X"
      },
      "source": [
        "## Logistic Regression"
      ]
    },
    {
      "cell_type": "markdown",
      "metadata": {
        "id": "49CXI9yvdqTG"
      },
      "source": [
        "Logistic regression is especially suited for binary problems and it can also be tuned for imbalanced data (by setting `class_weight=\"balanced\"`), so we expect this method to give good results.\n",
        "\n",
        "The `LogisticRegressionCV` class also allows to specify lists of parameters to try. Just like the `GridSearchCV` class, it evaluates each possible combination of parameters and keeps the best one, while also having noticable performance improvements."
      ]
    },
    {
      "cell_type": "code",
      "execution_count": null,
      "metadata": {
        "colab": {
          "base_uri": "https://localhost:8080/"
        },
        "id": "0TVnrGr3CJE6",
        "outputId": "21631687-a64a-4fba-cbfe-dabecaf660d2"
      },
      "outputs": [],
      "source": [
        "from sklearn.linear_model import LogisticRegressionCV\n",
        "\n",
        "log_clf = LogisticRegressionCV(\n",
        "    random_state=42,\n",
        "    Cs=np.logspace(-4, 4, num=30), # 30 items in logspace from 10^-4 to 10^4\n",
        "    scoring=\"balanced_accuracy\",\n",
        "    max_iter=500,\n",
        "    class_weight=\"balanced\"\n",
        ")\n",
        "\n",
        "log_clf.fit(X_train, y_train)\n"
      ]
    },
    {
      "cell_type": "code",
      "execution_count": null,
      "metadata": {
        "colab": {
          "base_uri": "https://localhost:8080/"
        },
        "id": "J3iOmU4gp4O3",
        "outputId": "8fc52119-4979-4707-d2dd-baac771fb32e"
      },
      "outputs": [],
      "source": [
        "evaluate(log_clf)\n",
        "print_confusion_matrix(y_test, log_clf.predict(X_test))\n"
      ]
    },
    {
      "cell_type": "markdown",
      "metadata": {
        "id": "NuwEhU4pk0me"
      },
      "source": [
        "## SVM"
      ]
    },
    {
      "cell_type": "markdown",
      "metadata": {},
      "source": [
        "*Support Vector Machines* (SVM) can be tuned for imbalanced data, and we can also check how various kernels behave."
      ]
    },
    {
      "cell_type": "code",
      "execution_count": null,
      "metadata": {
        "colab": {
          "base_uri": "https://localhost:8080/"
        },
        "id": "nwESlmp-8A_e",
        "outputId": "c712375b-ae6e-44e4-f35f-7ac426e23c23"
      },
      "outputs": [],
      "source": [
        "from sklearn.svm import SVC\n",
        "\n",
        "params = {\n",
        "    \"C\": [1, 10, 50],\n",
        "    \"gamma\": [\"scale\", 1, 0.1, 0.01],\n",
        "    \"kernel\": [\"linear\", \"rbf\", \"poly\"],\n",
        "    \"degree\": [2, 3, 4]\n",
        "}\n",
        "\n",
        "svm_clf = SVC(random_state=42, class_weight=\"balanced\")\n",
        "\n",
        "grid_svm_clf = GridSearchCV(svm_clf, params, scoring=\"balanced_accuracy\")\n",
        "grid_svm_clf.fit(X_train, y_train)\n"
      ]
    },
    {
      "cell_type": "code",
      "execution_count": null,
      "metadata": {
        "colab": {
          "base_uri": "https://localhost:8080/"
        },
        "id": "2dIyqNLFuKNN",
        "outputId": "8c5d259e-c6e7-4ac9-b5f7-4007ddec1201"
      },
      "outputs": [],
      "source": [
        "evaluate_grid(grid_svm_clf)\n"
      ]
    },
    {
      "cell_type": "markdown",
      "metadata": {},
      "source": [
        "The resulting accuracy of the best model is high, but it's worth noticing that a considerable amount of time is required for training and cross-validation. "
      ]
    },
    {
      "cell_type": "markdown",
      "metadata": {
        "id": "-6u4_JAUkMUG"
      },
      "source": [
        "## Naive Bayes"
      ]
    },
    {
      "cell_type": "code",
      "execution_count": null,
      "metadata": {
        "colab": {
          "base_uri": "https://localhost:8080/"
        },
        "id": "UwTyG3TRlca2",
        "outputId": "c301d3bc-bf13-4b9f-f223-75ee45690d30"
      },
      "outputs": [],
      "source": [
        "from sklearn.naive_bayes import GaussianNB\n",
        "\n",
        "params = {\n",
        "    \"var_smoothing\": np.logspace(0, -9, num=300)\n",
        "}\n",
        "\n",
        "gnb_clf = GaussianNB()\n",
        "\n",
        "grid_gnb_clf = GridSearchCV(gnb_clf, params, scoring=\"balanced_accuracy\")\n",
        "grid_gnb_clf.fit(X_train, y_train)\n"
      ]
    },
    {
      "cell_type": "code",
      "execution_count": null,
      "metadata": {},
      "outputs": [],
      "source": [
        "evaluate_grid(grid_gnb_clf)"
      ]
    },
    {
      "cell_type": "markdown",
      "metadata": {
        "id": "MvUEqb3issHq"
      },
      "source": [
        "# Ensemble Classifiers"
      ]
    },
    {
      "cell_type": "markdown",
      "metadata": {
        "id": "zzyC0wra3pve"
      },
      "source": [
        "## Bagging"
      ]
    },
    {
      "cell_type": "markdown",
      "metadata": {
        "id": "zwez9Wa50v_L"
      },
      "source": [
        "The `BaggingClassifier` provided by scikit-learn allows to combine predictions from many base estimators.\n",
        "However we don't expect it to be particularly good for this dataset, because it does not take in account the imbalance in the instances: the resulting classifier would have a bias towards the majority class.\n",
        "\n",
        "We can verify if this assumption is true:"
      ]
    },
    {
      "cell_type": "code",
      "execution_count": null,
      "metadata": {
        "colab": {
          "base_uri": "https://localhost:8080/"
        },
        "id": "z29-SXaw3tpq",
        "outputId": "89b01ec9-ba5b-4b1e-ac4c-2adce4a168dc"
      },
      "outputs": [],
      "source": [
        "from sklearn.ensemble import BaggingClassifier\n",
        "\n",
        "bag_clf = BaggingClassifier(random_state=42)\n",
        "bag_clf.fit(X_train, y_train)\n"
      ]
    },
    {
      "cell_type": "code",
      "execution_count": null,
      "metadata": {
        "colab": {
          "base_uri": "https://localhost:8080/"
        },
        "id": "WiwZxXQ6rJpN",
        "outputId": "08dae482-b3aa-4d59-a722-5e74d2d5e5cc"
      },
      "outputs": [],
      "source": [
        "evaluate(bag_clf)\n"
      ]
    },
    {
      "cell_type": "markdown",
      "metadata": {
        "id": "uroFJgXXVfB9"
      },
      "source": [
        "The `BalancedBaggingClassifier` included in `imbalanced-learn` is more appropriate because it includes an additional step to balance the training set at fit time using a given sampler. The default sampler works by doing a random undersampling of the majority class."
      ]
    },
    {
      "cell_type": "code",
      "execution_count": null,
      "metadata": {
        "colab": {
          "base_uri": "https://localhost:8080/"
        },
        "id": "ztn-z6RD442J",
        "outputId": "cf2f83d0-689e-473c-804e-8a62ecb7bcb3"
      },
      "outputs": [],
      "source": [
        "from imblearn.ensemble import BalancedBaggingClassifier\n",
        "\n",
        "params = {\n",
        "    \"n_estimators\": [100, 200, 500],\n",
        "    \"max_samples\": [0.2, 0.5, 1.0],\n",
        "    \"max_features\": [0.5, 1.0],\n",
        "}\n",
        "\n",
        "grid_bb_clf = GridSearchCV(\n",
        "    params,\n",
        "    scoring=\"balanced_accuracy\"\n",
        ")\n",
        "\n",
        "grid_bb_clf.fit(X_train, y_train)\n"
      ]
    },
    {
      "cell_type": "code",
      "execution_count": null,
      "metadata": {
        "colab": {
          "base_uri": "https://localhost:8080/"
        },
        "id": "-pgrNB9WrMN3",
        "outputId": "1384a2f2-a489-4d22-96ee-171990f9dd2e"
      },
      "outputs": [],
      "source": [
        "evaluate_grid(grid_bb_clf)\n"
      ]
    },
    {
      "cell_type": "markdown",
      "metadata": {
        "id": "PwAU-G5DG2Y0"
      },
      "source": [
        "## Random Forest"
      ]
    },
    {
      "cell_type": "markdown",
      "metadata": {
        "id": "2vaPyU64XoR_"
      },
      "source": [
        "For the same reason as basic bagging, we can expect random forests and extra trees to produce unsatisfying results."
      ]
    },
    {
      "cell_type": "code",
      "execution_count": null,
      "metadata": {
        "colab": {
          "base_uri": "https://localhost:8080/"
        },
        "id": "JT47jwGwHL6m",
        "outputId": "f8eb3145-ae4f-4e7d-f308-c537dfc5fa9a"
      },
      "outputs": [],
      "source": [
        "from sklearn.ensemble import RandomForestClassifier\n",
        "\n",
        "rf_clf = RandomForestClassifier(random_state=42, class_weight=\"balanced\")\n",
        "rf_clf.fit(X_train, y_train)\n"
      ]
    },
    {
      "cell_type": "code",
      "execution_count": null,
      "metadata": {
        "colab": {
          "base_uri": "https://localhost:8080/"
        },
        "id": "2FFVfOhtrO6d",
        "outputId": "c87d1634-2f62-40bf-c9f6-64c6fbee08f0"
      },
      "outputs": [],
      "source": [
        "evaluate(rf_clf)\n"
      ]
    },
    {
      "cell_type": "code",
      "execution_count": null,
      "metadata": {
        "colab": {
          "base_uri": "https://localhost:8080/"
        },
        "id": "ebmOro7QKGAM",
        "outputId": "770bcb7d-7d8f-453f-b8ee-1a3ec96ee742"
      },
      "outputs": [],
      "source": [
        "from sklearn.ensemble import ExtraTreesClassifier\n",
        "\n",
        "et_clf = ExtraTreesClassifier(random_state=42, class_weight=\"balanced\")\n",
        "et_clf.fit(X_train, y_train)\n"
      ]
    },
    {
      "cell_type": "code",
      "execution_count": null,
      "metadata": {
        "colab": {
          "base_uri": "https://localhost:8080/"
        },
        "id": "8aNwCadcrRc0",
        "outputId": "5dc47407-1dc1-437e-83c3-989e15fe8243"
      },
      "outputs": [],
      "source": [
        "evaluate(et_clf)\n"
      ]
    },
    {
      "cell_type": "markdown",
      "metadata": {
        "id": "amwM3wwWsoW_"
      },
      "source": [
        "Both method have a relatively low (balanced) accuracy, even if the class weight is set to `balanced`.\n",
        "\n",
        "\n",
        "`BalancedRandomForest` should provide better results, by undersampling the majority class."
      ]
    },
    {
      "cell_type": "code",
      "execution_count": null,
      "metadata": {
        "colab": {
          "base_uri": "https://localhost:8080/"
        },
        "id": "0zQj66Kq7x2j",
        "outputId": "8cae0cb7-09c1-4bb9-8a37-5f3ad5fe4b29"
      },
      "outputs": [],
      "source": [
        "from imblearn.ensemble import BalancedRandomForestClassifier\n",
        "\n",
        "params = {\n",
        "    \"n_estimators\": [200, 300],\n",
        "    \"criterion\": [\"gini\", \"entropy\"],\n",
        "    \"max_depth\": list(range(5, 10)),\n",
        "    \"max_features\": [\"log2\", \"sqrt\"],\n",
        "}\n",
        "\n",
        "grid_brf_clf = GridSearchCV(\n",
        "    BalancedRandomForestClassifier(random_state=42, oob_score=True),\n",
        "    params,\n",
        "    scoring=\"balanced_accuracy\"\n",
        ")\n",
        "\n",
        "grid_brf_clf.fit(X_train, y_train)\n"
      ]
    },
    {
      "cell_type": "code",
      "execution_count": null,
      "metadata": {
        "colab": {
          "base_uri": "https://localhost:8080/"
        },
        "id": "_mRLmPk4rUdj",
        "outputId": "028afa76-59cb-427d-fc9c-a8e94d43f8f2"
      },
      "outputs": [],
      "source": [
        "evaluate_grid(grid_brf_clf)\n"
      ]
    },
    {
      "cell_type": "markdown",
      "metadata": {
        "id": "UcUaBy9PFuu0"
      },
      "source": [
        "## Random Undersampling with Boosting"
      ]
    },
    {
      "cell_type": "markdown",
      "metadata": {
        "id": "2IgUwb-MvEVg"
      },
      "source": [
        "`imbalanced-learn` also includes `RUSBoostClassifier`, which does random under-sampling integrated in the learning of AdaBoost."
      ]
    },
    {
      "cell_type": "code",
      "execution_count": null,
      "metadata": {
        "colab": {
          "base_uri": "https://localhost:8080/"
        },
        "id": "BVwAglAmEjid",
        "outputId": "78064e97-ef45-4b8e-c3b9-cd29c6cd9e01"
      },
      "outputs": [],
      "source": [
        "from imblearn.ensemble import RUSBoostClassifier\n",
        "\n",
        "params = {\n",
        "    \"n_estimators\": [50, 100, 200],\n",
        "    \"learning_rate\": [0.01, 0.1, 1],\n",
        "}\n",
        "\n",
        "grid_rus_clf = GridSearchCV(\n",
        "    RUSBoostClassifier(random_state=42),\n",
        "    params,\n",
        "    scoring=\"balanced_accuracy\"\n",
        ")\n",
        "\n",
        "grid_rus_clf.fit(X_train, y_train)\n"
      ]
    },
    {
      "cell_type": "code",
      "execution_count": null,
      "metadata": {
        "colab": {
          "base_uri": "https://localhost:8080/"
        },
        "id": "LSC-h3Lcvi9F",
        "outputId": "b30e2ba5-b1c7-4c73-cf98-f8ea5ba21760"
      },
      "outputs": [],
      "source": [
        "evaluate_grid(grid_rus_clf)\n"
      ]
    },
    {
      "cell_type": "markdown",
      "metadata": {
        "id": "YZAStGDJF2Gc"
      },
      "source": [
        "## EasyEnsemble"
      ]
    },
    {
      "cell_type": "markdown",
      "metadata": {
        "id": "3sWYnq-6vURV"
      },
      "source": [
        "The final classifier included in `imbalanced-learn` is `EasyEnsemble`, that is an ensemble of AdaBoost learners trained on different balanced boostrap samples. The balancing is achieved by random under-sampling."
      ]
    },
    {
      "cell_type": "code",
      "execution_count": null,
      "metadata": {
        "colab": {
          "base_uri": "https://localhost:8080/"
        },
        "id": "EEpZWmws8OAb",
        "outputId": "b6d8ec43-6297-46b8-fb91-cd23e30935b9"
      },
      "outputs": [],
      "source": [
        "from imblearn.ensemble import EasyEnsembleClassifier\n",
        "\n",
        "params = {\n",
        "    \"n_estimators\": [50, 100, 200],\n",
        "}\n",
        "\n",
        "grid_ee_clf = GridSearchCV(\n",
        "    EasyEnsembleClassifier(random_state=42),\n",
        "    params,\n",
        "    scoring=\"balanced_accuracy\"\n",
        ")\n",
        "\n",
        "grid_ee_clf.fit(X_train, y_train)\n"
      ]
    },
    {
      "cell_type": "code",
      "execution_count": null,
      "metadata": {
        "colab": {
          "base_uri": "https://localhost:8080/"
        },
        "id": "p2O-SAWXvlWK",
        "outputId": "a65c077f-c33d-46a4-d1e0-f7ebca13cd11"
      },
      "outputs": [],
      "source": [
        "evaluate_grid(grid_ee_clf)\n"
      ]
    },
    {
      "cell_type": "markdown",
      "metadata": {
        "id": "ncMa9OsSIF3k"
      },
      "source": [
        "## XGBoost"
      ]
    },
    {
      "cell_type": "code",
      "execution_count": null,
      "metadata": {
        "colab": {
          "base_uri": "https://localhost:8080/"
        },
        "id": "MmFKKM64KBdq",
        "outputId": "a242e673-660f-4f1c-ef2b-64d7661eb878"
      },
      "outputs": [],
      "source": [
        "from collections import Counter\n",
        "\n",
        "counter = Counter(y)\n",
        "estimate = counter[0] / counter[1]\n",
        "print(\"Estimate: %.3f\" % estimate)\n"
      ]
    },
    {
      "cell_type": "code",
      "execution_count": null,
      "metadata": {
        "id": "Ciis_OPOIOrY"
      },
      "outputs": [],
      "source": [
        "from xgboost import XGBClassifier\n",
        "\n",
        "xgb_clf = XGBClassifier(random_state=42, scale_pos_weight=estimate,\n",
        "                        objective=\"binary:logistic\", verbosity=0)\n",
        "\n",
        "params = {\n",
        "    \"n_estimators\": [50, 100],\n",
        "    \"max_depth\": [3, 5, 10],\n",
        "    \"learning_rate\": [0.1, 0.01],\n",
        "    \"subsample\": [0.8, 1],\n",
        "    \"colsample_bytree\": [0.5, 0.8]\n",
        "}\n",
        "\n",
        "grid_xgb_clf = GridSearchCV(xgb_clf, params, scoring=\"balanced_accuracy\")\n",
        "grid_xgb_clf.fit(X_train, y_train)\n"
      ]
    },
    {
      "cell_type": "code",
      "execution_count": null,
      "metadata": {
        "id": "T05YFkIIqvGr"
      },
      "outputs": [],
      "source": [
        "evaluate_grid(grid_xgb_clf)\n"
      ]
    },
    {
      "cell_type": "markdown",
      "metadata": {
        "id": "mi4hQWJjXO6S"
      },
      "source": [
        "## Voting"
      ]
    },
    {
      "cell_type": "markdown",
      "metadata": {},
      "source": [
        "Finally, we can combine all the previous ensemble classifiers into a *Voting Ensemble*."
      ]
    },
    {
      "cell_type": "code",
      "execution_count": null,
      "metadata": {
        "id": "mLxfaUem_TFz"
      },
      "outputs": [],
      "source": [
        "from sklearn.ensemble import VotingClassifier\n",
        "\n",
        "\n",
        "def get_models():\n",
        "    models = list()\n",
        "    models.append((\"bb\",  grid_bb_clf.best_estimator_))\n",
        "    models.append((\"brf\",  grid_brf_clf.best_estimator_))\n",
        "    models.append((\"rus\",  grid_rus_clf.best_estimator_))\n",
        "    models.append((\"ee\",  grid_ee_clf.best_estimator_))\n",
        "    models.append((\"xgb\",  grid_xgb_clf.best_estimator_))\n",
        "    return models\n",
        "\n",
        "\n",
        "voting_clf = VotingClassifier(estimators=get_models(), voting=\"hard\")\n",
        "voting_clf.fit(X_train, y_train)\n"
      ]
    },
    {
      "cell_type": "code",
      "execution_count": null,
      "metadata": {},
      "outputs": [],
      "source": [
        "print_confusion_matrix(y_test, voting_clf.predict(X_test))"
      ]
    },
    {
      "cell_type": "markdown",
      "metadata": {},
      "source": [
        "To estimate the effectiveness of the voting ensembe we can cross validate the single models, alongside the voting ensembel.\n",
        "Then we use a boxplot to show the accuracy of each cross-validated model."
      ]
    },
    {
      "cell_type": "code",
      "execution_count": null,
      "metadata": {},
      "outputs": [],
      "source": [
        "from sklearn.model_selection import RepeatedStratifiedKFold\n",
        "from sklearn.model_selection import cross_val_score\n",
        "\n",
        "def evaluate_model(model):\n",
        "\tcv = RepeatedStratifiedKFold(n_splits=5, n_repeats=3, random_state=42)\n",
        "\tscores = cross_val_score(model, X, y, scoring=\"balanced_accuracy\", cv=cv, n_jobs=-1, error_score=\"raise\")\n",
        "\treturn scores\n",
        "\n",
        "eval_list=get_models()\n",
        "eval_list.append((\"voting_hard\", voting_clf))\n",
        "\n",
        "results, names = list(), list()\n",
        "for name, model in eval_list:\n",
        "\tscores = evaluate_model(model)\n",
        "\tresults.append(scores)\n",
        "\tnames.append(name)"
      ]
    },
    {
      "cell_type": "code",
      "execution_count": null,
      "metadata": {
        "id": "5l96MqXFI0Ld"
      },
      "outputs": [],
      "source": [
        "plt.boxplot(results, labels=names, showmeans=True)\n",
        "plt.show()\n"
      ]
    },
    {
      "cell_type": "markdown",
      "metadata": {},
      "source": [
        "The voting ensemble has a slightly lower accuracy on the test set than the xgb classifier, but it does have a considerably lower variance."
      ]
    },
    {
      "cell_type": "markdown",
      "metadata": {
        "id": "fM0zo4ZP8p6T"
      },
      "source": [
        "# Neural Network"
      ]
    },
    {
      "cell_type": "markdown",
      "metadata": {
        "id": "HxXHswvpwQIe"
      },
      "source": [
        "To easily create a basic Neural Network, `keras` can be used.\n",
        "To test the effectiveness of a Neural Network to this particular problem, we create a baseline neural network with one hidden layer of 10 nodes."
      ]
    },
    {
      "cell_type": "code",
      "execution_count": null,
      "metadata": {
        "colab": {
          "base_uri": "https://localhost:8080/"
        },
        "id": "eu1Ddcg18s7i",
        "outputId": "4388ca09-f54e-452c-cd52-e401a9927e2e"
      },
      "outputs": [],
      "source": [
        "from tensorflow import keras\n",
        "\n",
        "model = keras.models.Sequential([\n",
        "    # The number of inputs has to be equal\n",
        "    # to the number of features of the dataset\n",
        "    keras.Input(shape=X_train.shape[1]),\n",
        "\n",
        "    # Hidden layer\n",
        "    keras.layers.Dense(10, activation=\"relu\"),\n",
        "\n",
        "    # One output node, which is a sigmoid:\n",
        "    # the value will be continuous between 0 and 1.\n",
        "    # To cast it to binary, we will need to assign\n",
        "    # value 1 if greater than 0.5, or else 0.\n",
        "    keras.layers.Dense(1, activation=\"sigmoid\")\n",
        "])\n",
        "\n",
        "model.summary()\n"
      ]
    },
    {
      "cell_type": "markdown",
      "metadata": {
        "id": "PM6z1tM2_VaJ"
      },
      "source": [
        "Now that the neural network has been defined, it needs to be compiled.\n",
        "As suggested in https://carpentries-incubator.github.io/deep-learning-intro/02-keras/index.html, it is possibile to use a precompiled model rather\n",
        "than compiling a new one. Since the model is simple and requires very little\n",
        "computation time, we will build it from scratch.\n",
        "\n",
        "The same document suggests `Adam` as a sensible optimizer for the network. \n",
        "\n",
        "Since the output needs to be binary, `BinaryCrossentropy()` is an appropriate loss function."
      ]
    },
    {
      "cell_type": "code",
      "execution_count": null,
      "metadata": {
        "id": "Cw0ausM8-_xL"
      },
      "outputs": [],
      "source": [
        "model.compile(\n",
        "    optimizer='adam',\n",
        "    loss=keras.losses.BinaryCrossentropy(),\n",
        "    metrics=['accuracy']\n",
        ")\n"
      ]
    },
    {
      "cell_type": "markdown",
      "metadata": {
        "id": "qlKtTbG0JMLh"
      },
      "source": [
        "The compiled model can be now trained: as a test, we will run it with 100 epochs. This number is, once again, arbitrary and will most likely need to be tweaked.\n",
        "\n",
        "The `y_train` list cannot however be used directly, because the neural network\n",
        "cannot directly output a categorical value: to overcome this, the `y_train`\n",
        "list is transformed using Hot-Encoding."
      ]
    },
    {
      "cell_type": "code",
      "execution_count": null,
      "metadata": {
        "colab": {
          "base_uri": "https://localhost:8080/"
        },
        "id": "7V2YmvPB_GIQ",
        "outputId": "5a44242c-ed47-4350-c748-9289011856b0"
      },
      "outputs": [],
      "source": [
        "history = model.fit(\n",
        "    X_train,\n",
        "    y_train,\n",
        "    epochs=20,\n",
        "    verbose=1,\n",
        "    validation_data=(X_test, y_test))\n"
      ]
    },
    {
      "cell_type": "markdown",
      "metadata": {
        "id": "D5w1e0NhKOvA"
      },
      "source": [
        "To evaluate the model we can begin by looking at evolution of the value of the loss\n",
        "function."
      ]
    },
    {
      "cell_type": "markdown",
      "metadata": {
        "id": "RrnOdjVv8ZgH"
      },
      "source": [
        "### Plot Results"
      ]
    },
    {
      "cell_type": "code",
      "execution_count": null,
      "metadata": {
        "id": "ZNy1pWkY8crZ"
      },
      "outputs": [],
      "source": [
        "def plot_results(history):\n",
        "    \"\"\"\n",
        "    Plots the results of the model training\n",
        "\n",
        "    :param history: object returned by the train function that contains all train infos\n",
        "    \"\"\"\n",
        "    history_dict = history.history\n",
        "\n",
        "    loss_values = history_dict['loss']\n",
        "    val_loss_values = history_dict['val_loss']\n",
        "\n",
        "    epochs = range(1, len(loss_values) + 1)\n",
        "\n",
        "    # Plot line charts for both Validation and Training Loss\n",
        "    line1 = plt.plot(epochs, val_loss_values, label='Validation/Test Loss')\n",
        "    line2 = plt.plot(epochs, loss_values, label='Training Loss')\n",
        "    plt.setp(line1, linewidth=2.0, marker='+', markersize=10.0)\n",
        "    plt.setp(line2, linewidth=2.0, marker='4', markersize=10.0)\n",
        "    plt.xlabel('Epochs')\n",
        "    plt.ylabel('Loss')\n",
        "    plt.grid(True)\n",
        "    plt.legend()\n",
        "    plt.show()\n",
        "\n",
        "    history_dict = history.history\n",
        "\n",
        "    acc_values = history_dict['accuracy']\n",
        "    val_acc_values = history_dict['val_accuracy']\n",
        "    epochs = range(1, len(loss_values) + 1)\n",
        "\n",
        "    line1 = plt.plot(epochs, val_acc_values, label='Validation/Test Accuracy')\n",
        "    line2 = plt.plot(epochs, acc_values, label='Training Accuracy')\n",
        "    plt.setp(line1, linewidth=2.0, marker='+', markersize=10.0)\n",
        "    plt.setp(line2, linewidth=2.0, marker='4', markersize=10.0)\n",
        "    plt.xlabel('Epochs')\n",
        "    plt.ylabel('Accuracy')\n",
        "    plt.grid(True)\n",
        "    plt.legend()\n",
        "    plt.show()\n"
      ]
    },
    {
      "cell_type": "code",
      "execution_count": null,
      "metadata": {
        "colab": {
          "base_uri": "https://localhost:8080/",
          "height": 557
        },
        "id": "yXANsBcZ8kO2",
        "outputId": "4eb9cd91-f127-4b8d-810f-964ff2236500"
      },
      "outputs": [],
      "source": [
        "plot_results(history)\n"
      ]
    },
    {
      "cell_type": "code",
      "execution_count": null,
      "metadata": {
        "colab": {
          "base_uri": "https://localhost:8080/",
          "height": 286
        },
        "id": "_MFRJyAL9sDb",
        "outputId": "102855ca-cff7-465d-d7b6-d8da8260cd11"
      },
      "outputs": [],
      "source": [
        "plt.plot(history.epoch, history.history[\"loss\"])\n",
        "plt.xlabel(\"Epochs\")\n",
        "plt.ylabel(\"Loss function value\")\n",
        "plt.show()\n"
      ]
    },
    {
      "cell_type": "markdown",
      "metadata": {
        "id": "fhVo8qDzMeJL"
      },
      "source": [
        "The graph shows that the loss function, at 20 epochs, is still decreasing:\n",
        "a higher number of epochs, with the same model configuration, should lower\n",
        "the loss function value, and improve the quality of the predictions.\n",
        "A too high number of epochs however may lead to overfitting."
      ]
    },
    {
      "cell_type": "code",
      "execution_count": null,
      "metadata": {
        "colab": {
          "base_uri": "https://localhost:8080/"
        },
        "id": "uuOdzU3tAo9-",
        "outputId": "fd83f205-284d-4bb7-f599-5dadcec7ba78"
      },
      "outputs": [],
      "source": [
        "y_pred = model.predict(X_test).flatten()\n",
        "y_pred = pd.Series(y_pred).map(lambda y: 1 if y >= 0.5 else 0)\n",
        "\n",
        "print(\"Accuracy: \", balanced_accuracy_score(y_test, y_pred))\n"
      ]
    },
    {
      "cell_type": "markdown",
      "metadata": {
        "id": "466mVN5lND3w"
      },
      "source": [
        "Even with arbitrary parameters, the resulting accuracy is very high.\n",
        "Parameter tuning may allow to further improve accuracy.\n",
        "\n",
        "We can also plot a heatmap of the conusion matrix of the model"
      ]
    },
    {
      "cell_type": "code",
      "execution_count": null,
      "metadata": {
        "colab": {
          "base_uri": "https://localhost:8080/",
          "height": 342
        },
        "id": "ly-Bk3aI-L8C",
        "outputId": "5af7e02f-669a-42c1-c300-09444809fbd7"
      },
      "outputs": [],
      "source": [
        "from sklearn.metrics import ConfusionMatrixDisplay\n",
        "\n",
        "y_pred = model.predict(X_test).flatten()\n",
        "y_pred = pd.Series(y_pred).map(lambda y: 1 if y >= 0.5 else 0)\n",
        "\n",
        "print_confusion_matrix(y_test, y_pred)\n",
        "\n",
        "# Convert to a pandas dataframe\n"
      ]
    },
    {
      "cell_type": "markdown",
      "metadata": {
        "id": "jpyjuetkG2ge"
      },
      "source": [
        "## Hyperparameter Tuning"
      ]
    },
    {
      "cell_type": "markdown",
      "metadata": {
        "id": "anqGBd4sG8fl"
      },
      "source": [
        "To tune the hyperparameters of a keras neural network, we can use the `keras-tuner` package."
      ]
    },
    {
      "cell_type": "code",
      "execution_count": null,
      "metadata": {
        "id": "61obp8wDsWap"
      },
      "outputs": [],
      "source": [
        "from keras import layers\n",
        "import keras_tuner\n",
        "\n",
        "\n",
        "def build_model(hp):\n",
        "    # Initialize the Sequential API and start stacking the layers\n",
        "    model = keras.Sequential()\n",
        "    model.add(layers.Flatten())\n",
        "\n",
        "    for i in range(hp.Int(\"num_layers\", 1, 3)):\n",
        "        model.add(\n",
        "            layers.Dense(\n",
        "                # Tune number of units separately.\n",
        "                # Choose an optimal value between 32-512\n",
        "                units=hp.Int(f\"units_{i}\", min_value=32,\n",
        "                             max_value=512, step=32),\n",
        "                activation=\"relu\"\n",
        "            )\n",
        "        )\n",
        "\n",
        "    # Tune whether to use dropout.\n",
        "    if hp.Boolean(\"dropout\"):\n",
        "        model.add(layers.Dropout(rate=0.25))\n",
        "\n",
        "    model.add(layers.Dense(1, activation=\"sigmoid\"))\n",
        "\n",
        "    # Define the optimizer learning rate as a hyperparameter.\n",
        "    learning_rate = hp.Float(\"lr\", min_value=1e-4,\n",
        "                             max_value=1e-2, sampling=\"log\")\n",
        "\n",
        "    model.compile(optimizer=keras.optimizers.Adam(learning_rate=learning_rate),\n",
        "                  loss=keras.losses.BinaryCrossentropy(),\n",
        "                  metrics=[\"accuracy\"])\n",
        "\n",
        "    return model\n"
      ]
    },
    {
      "cell_type": "code",
      "execution_count": null,
      "metadata": {
        "colab": {
          "base_uri": "https://localhost:8080/"
        },
        "id": "3e0Nvjeb0heB",
        "outputId": "49f18ee8-df2d-4de0-b509-6671836b279a"
      },
      "outputs": [],
      "source": [
        "from keras_tuner import HyperParameters\n",
        "build_model(HyperParameters())\n"
      ]
    },
    {
      "cell_type": "code",
      "execution_count": null,
      "metadata": {
        "id": "uvpmbPRy4bU-"
      },
      "outputs": [],
      "source": [
        "tuner = keras_tuner.RandomSearch(\n",
        "    hypermodel=build_model,\n",
        "    objective=\"val_accuracy\",\n",
        "    max_trials=3,\n",
        "    executions_per_trial=2,\n",
        "    overwrite=True,\n",
        "    directory=\"my_dir\",\n",
        "    project_name=\"helloworld\",\n",
        ")\n"
      ]
    },
    {
      "cell_type": "code",
      "execution_count": null,
      "metadata": {
        "colab": {
          "base_uri": "https://localhost:8080/"
        },
        "id": "uRgUXdb-4iPZ",
        "outputId": "e28ba53f-9ec0-48bf-b8d6-46c4000c3c68"
      },
      "outputs": [],
      "source": [
        "X_train_nn, X_val_nn, y_train_nn, y_val_nn = train_test_split(\n",
        "    X_train, y_train, test_size=0.2)\n",
        "tuner.search(X_train_nn, y_train_nn, epochs=20,\n",
        "             validation_data=(X_val_nn, y_val_nn))\n"
      ]
    },
    {
      "cell_type": "code",
      "execution_count": null,
      "metadata": {
        "colab": {
          "base_uri": "https://localhost:8080/"
        },
        "id": "R1Dp3fS28dUj",
        "outputId": "5bbefef3-c04a-4f42-a523-3ea517ef206e"
      },
      "outputs": [],
      "source": [
        "tuner.results_summary()\n"
      ]
    },
    {
      "cell_type": "code",
      "execution_count": null,
      "metadata": {
        "colab": {
          "base_uri": "https://localhost:8080/"
        },
        "id": "uXBbdece5YAh",
        "outputId": "047fc13f-8896-4b53-a414-4fc34be96837"
      },
      "outputs": [],
      "source": [
        "# Get the top model.\n",
        "best_model = tuner.get_best_models(num_models=1)[0]\n",
        "\n",
        "# Build the model.\n",
        "# Needed for `Sequential` without specified `input_shape`.\n",
        "best_model.build(input_shape=X.shape)\n",
        "best_model.summary()\n"
      ]
    },
    {
      "cell_type": "code",
      "execution_count": null,
      "metadata": {
        "colab": {
          "base_uri": "https://localhost:8080/"
        },
        "id": "-i5elClb85MG",
        "outputId": "78c3b371-5ab9-4b93-c133-743c25b098fe"
      },
      "outputs": [],
      "source": [
        "y_pred = best_model.predict(X_test).flatten()\n",
        "y_pred = pd.Series(y_pred).map(lambda y: 1 if y >= 0.5 else 0)\n",
        "\n",
        "print(\"Accuracy: \", balanced_accuracy_score(y_test, y_pred))\n"
      ]
    },
    {
      "cell_type": "code",
      "execution_count": null,
      "metadata": {
        "colab": {
          "base_uri": "https://localhost:8080/",
          "height": 338
        },
        "id": "wk07xRUN9Cah",
        "outputId": "ba6d47fe-3f90-4422-f8f6-1824ce371bf5"
      },
      "outputs": [],
      "source": [
        "y_pred = best_model.predict(X_test).flatten()\n",
        "y_pred = pd.Series(y_pred).map(lambda y: 1 if y >= 0.5 else 0)\n",
        "\n",
        "print_confusion_matrix(y_test, y_pred)\n"
      ]
    },
    {
      "cell_type": "markdown",
      "metadata": {
        "id": "DnR8XLpcc4ak"
      },
      "source": [
        "# Autosklearn"
      ]
    },
    {
      "cell_type": "code",
      "execution_count": 56,
      "metadata": {},
      "outputs": [
        {
          "name": "stdout",
          "output_type": "stream",
          "text": [
            "Defaulting to user installation because normal site-packages is not writeable\n",
            "Requirement already satisfied: auto-sklearn in /home/potato/.local/lib/python3.10/site-packages (0.14.7)\n",
            "Requirement already satisfied: setuptools in /usr/lib/python3.10/site-packages (from auto-sklearn) (61.3.1)\n",
            "Requirement already satisfied: typing-extensions in /usr/lib/python3.10/site-packages (from auto-sklearn) (4.2.0)\n",
            "Requirement already satisfied: distro in /usr/lib/python3.10/site-packages (from auto-sklearn) (1.7.0)\n",
            "Requirement already satisfied: numpy>=1.9.0 in /usr/lib/python3.10/site-packages (from auto-sklearn) (1.23.1)\n",
            "Requirement already satisfied: scipy>=1.7.0 in /home/potato/.local/lib/python3.10/site-packages (from auto-sklearn) (1.9.0)\n",
            "Requirement already satisfied: joblib in /home/potato/.local/lib/python3.10/site-packages (from auto-sklearn) (1.1.0)\n",
            "Collecting scikit-learn<0.25.0,>=0.24.0\n",
            "  Using cached scikit_learn-0.24.2-cp310-cp310-linux_x86_64.whl\n",
            "Requirement already satisfied: dask>=2021.12 in /home/potato/.local/lib/python3.10/site-packages (from auto-sklearn) (2022.8.0)\n",
            "Requirement already satisfied: distributed>=2012.12 in /home/potato/.local/lib/python3.10/site-packages (from auto-sklearn) (2022.8.0)\n",
            "Requirement already satisfied: pyyaml in /usr/lib/python3.10/site-packages (from auto-sklearn) (6.0)\n",
            "Requirement already satisfied: pandas>=1.0 in /home/potato/.local/lib/python3.10/site-packages (from auto-sklearn) (1.4.3)\n",
            "Requirement already satisfied: liac-arff in /home/potato/.local/lib/python3.10/site-packages (from auto-sklearn) (2.5.0)\n",
            "Requirement already satisfied: threadpoolctl in /home/potato/.local/lib/python3.10/site-packages (from auto-sklearn) (3.1.0)\n",
            "Requirement already satisfied: ConfigSpace<0.5,>=0.4.21 in /home/potato/.local/lib/python3.10/site-packages (from auto-sklearn) (0.4.21)\n",
            "Requirement already satisfied: pynisher<0.7,>=0.6.3 in /home/potato/.local/lib/python3.10/site-packages (from auto-sklearn) (0.6.4)\n",
            "Requirement already satisfied: pyrfr<0.9,>=0.8.1 in /home/potato/.local/lib/python3.10/site-packages (from auto-sklearn) (0.8.3)\n",
            "Requirement already satisfied: smac<1.3,>=1.2 in /home/potato/.local/lib/python3.10/site-packages (from auto-sklearn) (1.2)\n",
            "Requirement already satisfied: cython in /home/potato/.local/lib/python3.10/site-packages (from ConfigSpace<0.5,>=0.4.21->auto-sklearn) (0.29.32)\n",
            "Requirement already satisfied: pyparsing in /usr/lib/python3.10/site-packages (from ConfigSpace<0.5,>=0.4.21->auto-sklearn) (3.0.9)\n",
            "Requirement already satisfied: cloudpickle>=1.1.1 in /home/potato/.local/lib/python3.10/site-packages (from dask>=2021.12->auto-sklearn) (2.1.0)\n",
            "Requirement already satisfied: fsspec>=0.6.0 in /home/potato/.local/lib/python3.10/site-packages (from dask>=2021.12->auto-sklearn) (2022.7.1)\n",
            "Requirement already satisfied: packaging>=20.0 in /usr/lib/python3.10/site-packages (from dask>=2021.12->auto-sklearn) (21.3)\n",
            "Requirement already satisfied: partd>=0.3.10 in /home/potato/.local/lib/python3.10/site-packages (from dask>=2021.12->auto-sklearn) (1.3.0)\n",
            "Requirement already satisfied: toolz>=0.8.2 in /home/potato/.local/lib/python3.10/site-packages (from dask>=2021.12->auto-sklearn) (0.12.0)\n",
            "Requirement already satisfied: click>=6.6 in /home/potato/.local/lib/python3.10/site-packages (from distributed>=2012.12->auto-sklearn) (8.1.3)\n",
            "Requirement already satisfied: jinja2 in /home/potato/.local/lib/python3.10/site-packages (from distributed>=2012.12->auto-sklearn) (3.1.2)\n",
            "Requirement already satisfied: locket>=1.0.0 in /home/potato/.local/lib/python3.10/site-packages (from distributed>=2012.12->auto-sklearn) (1.0.0)\n",
            "Requirement already satisfied: msgpack>=0.6.0 in /usr/lib/python3.10/site-packages (from distributed>=2012.12->auto-sklearn) (1.0.3)\n",
            "Requirement already satisfied: psutil>=5.0 in /usr/lib/python3.10/site-packages (from distributed>=2012.12->auto-sklearn) (5.9.1)\n",
            "Requirement already satisfied: sortedcontainers!=2.0.0,!=2.0.1 in /home/potato/.local/lib/python3.10/site-packages (from distributed>=2012.12->auto-sklearn) (2.4.0)\n",
            "Requirement already satisfied: tblib>=1.6.0 in /home/potato/.local/lib/python3.10/site-packages (from distributed>=2012.12->auto-sklearn) (1.7.0)\n",
            "Requirement already satisfied: tornado<6.2,>=6.0.3 in /home/potato/.local/lib/python3.10/site-packages (from distributed>=2012.12->auto-sklearn) (6.1)\n",
            "Requirement already satisfied: urllib3 in /usr/lib/python3.10/site-packages (from distributed>=2012.12->auto-sklearn) (1.26.10)\n",
            "Requirement already satisfied: zict>=0.1.3 in /home/potato/.local/lib/python3.10/site-packages (from distributed>=2012.12->auto-sklearn) (2.2.0)\n",
            "Requirement already satisfied: python-dateutil>=2.8.1 in /home/potato/.local/lib/python3.10/site-packages (from pandas>=1.0->auto-sklearn) (2.8.2)\n",
            "Requirement already satisfied: pytz>=2020.1 in /usr/lib/python3.10/site-packages (from pandas>=1.0->auto-sklearn) (2022.1)\n",
            "Requirement already satisfied: emcee>=3.0.0 in /home/potato/.local/lib/python3.10/site-packages (from smac<1.3,>=1.2->auto-sklearn) (3.1.2)\n",
            "Requirement already satisfied: six>=1.5 in /usr/lib/python3.10/site-packages (from python-dateutil>=2.8.1->pandas>=1.0->auto-sklearn) (1.16.0)\n",
            "Requirement already satisfied: heapdict in /home/potato/.local/lib/python3.10/site-packages (from zict>=0.1.3->distributed>=2012.12->auto-sklearn) (1.0.1)\n",
            "Requirement already satisfied: MarkupSafe>=2.0 in /home/potato/.local/lib/python3.10/site-packages (from jinja2->distributed>=2012.12->auto-sklearn) (2.1.1)\n",
            "Installing collected packages: scikit-learn\n",
            "  Attempting uninstall: scikit-learn\n",
            "    Found existing installation: scikit-learn 1.1.2\n",
            "    Uninstalling scikit-learn-1.1.2:\n",
            "      Successfully uninstalled scikit-learn-1.1.2\n",
            "\u001b[31mERROR: pip's dependency resolver does not currently take into account all the packages that are installed. This behaviour is the source of the following dependency conflicts.\n",
            "imbalanced-learn 0.9.1 requires scikit-learn>=1.1.0, but you have scikit-learn 0.24.2 which is incompatible.\u001b[0m\u001b[31m\n",
            "\u001b[0mSuccessfully installed scikit-learn-0.24.2\n",
            "Note: you may need to restart the kernel to use updated packages.\n"
          ]
        }
      ],
      "source": [
        "%pip install auto-sklearn"
      ]
    },
    {
      "cell_type": "code",
      "execution_count": 60,
      "metadata": {
        "colab": {
          "base_uri": "https://localhost:8080/",
          "height": 383
        },
        "id": "qovjkzR4dKDy",
        "outputId": "8684e136-9658-4575-9c66-4b54496fb27f"
      },
      "outputs": [
        {
          "name": "stderr",
          "output_type": "stream",
          "text": [
            "/home/potato/.local/lib/python3.10/site-packages/smac/intensification/parallel_scheduling.py:153: UserWarning: SuccessiveHalving is executed with 1 workers only. Consider to use pynisher to use all available workers.\n",
            "  warnings.warn(\n"
          ]
        },
        {
          "data": {
            "text/plain": [
              "AutoSklearn2Classifier(metric=balanced_accuracy, per_run_time_limit=60, seed=42,\n",
              "                       time_left_for_this_task=600)"
            ]
          },
          "execution_count": 60,
          "metadata": {},
          "output_type": "execute_result"
        }
      ],
      "source": [
        "from autosklearn.experimental.askl2 import AutoSklearn2Classifier\n",
        "from autosklearn.metrics import balanced_accuracy\n",
        "\n",
        "auto_cls = AutoSklearn2Classifier(\n",
        "    time_left_for_this_task=60*10*1,  # 12 hours\n",
        "    per_run_time_limit=60,  # 30 minutes\n",
        "    memory_limit=1024*3,  # 3 GB\n",
        "    metric=balanced_accuracy,\n",
        "    seed=42,\n",
        ")\n",
        "auto_cls.fit(X_train, y_train)\n"
      ]
    },
    {
      "cell_type": "code",
      "execution_count": 62,
      "metadata": {},
      "outputs": [
        {
          "name": "stdout",
          "output_type": "stream",
          "text": [
            "auto-sklearn results:\n",
            "  Dataset name: 93da7c86-1b24-11ed-90b3-3cf8629ba1c2\n",
            "  Metric: balanced_accuracy\n",
            "  Best validation score: 0.851971\n",
            "  Number of target algorithm runs: 25\n",
            "  Number of successful target algorithm runs: 25\n",
            "  Number of crashed target algorithm runs: 0\n",
            "  Number of target algorithms that exceeded the time limit: 0\n",
            "  Number of target algorithms that exceeded the memory limit: 0\n",
            "\n"
          ]
        }
      ],
      "source": [
        "print(auto_cls.sprint_statistics())"
      ]
    },
    {
      "cell_type": "code",
      "execution_count": 63,
      "metadata": {},
      "outputs": [
        {
          "data": {
            "text/html": [
              "<div>\n",
              "<style scoped>\n",
              "    .dataframe tbody tr th:only-of-type {\n",
              "        vertical-align: middle;\n",
              "    }\n",
              "\n",
              "    .dataframe tbody tr th {\n",
              "        vertical-align: top;\n",
              "    }\n",
              "\n",
              "    .dataframe thead th {\n",
              "        text-align: right;\n",
              "    }\n",
              "</style>\n",
              "<table border=\"1\" class=\"dataframe\">\n",
              "  <thead>\n",
              "    <tr style=\"text-align: right;\">\n",
              "      <th></th>\n",
              "      <th>rank</th>\n",
              "      <th>ensemble_weight</th>\n",
              "      <th>type</th>\n",
              "      <th>cost</th>\n",
              "      <th>duration</th>\n",
              "    </tr>\n",
              "    <tr>\n",
              "      <th>model_id</th>\n",
              "      <th></th>\n",
              "      <th></th>\n",
              "      <th></th>\n",
              "      <th></th>\n",
              "      <th></th>\n",
              "    </tr>\n",
              "  </thead>\n",
              "  <tbody>\n",
              "    <tr>\n",
              "      <th>9</th>\n",
              "      <td>1</td>\n",
              "      <td>0.04</td>\n",
              "      <td>gradient_boosting</td>\n",
              "      <td>0.150473</td>\n",
              "      <td>5.446570</td>\n",
              "    </tr>\n",
              "    <tr>\n",
              "      <th>11</th>\n",
              "      <td>2</td>\n",
              "      <td>0.02</td>\n",
              "      <td>gradient_boosting</td>\n",
              "      <td>0.153091</td>\n",
              "      <td>5.586596</td>\n",
              "    </tr>\n",
              "    <tr>\n",
              "      <th>12</th>\n",
              "      <td>3</td>\n",
              "      <td>0.90</td>\n",
              "      <td>sgd</td>\n",
              "      <td>0.256082</td>\n",
              "      <td>3.379055</td>\n",
              "    </tr>\n",
              "  </tbody>\n",
              "</table>\n",
              "</div>"
            ],
            "text/plain": [
              "          rank  ensemble_weight               type      cost  duration\n",
              "model_id                                                              \n",
              "9            1             0.04  gradient_boosting  0.150473  5.446570\n",
              "11           2             0.02  gradient_boosting  0.153091  5.586596\n",
              "12           3             0.90                sgd  0.256082  3.379055"
            ]
          },
          "execution_count": 63,
          "metadata": {},
          "output_type": "execute_result"
        }
      ],
      "source": [
        "auto_cls.leaderboard()"
      ]
    },
    {
      "cell_type": "code",
      "execution_count": 64,
      "metadata": {},
      "outputs": [
        {
          "data": {
            "image/png": "[encoded data removed]",
            "text/plain": [
              "<Figure size 432x288 with 1 Axes>"
            ]
          },
          "metadata": {
            "needs_background": "light"
          },
          "output_type": "display_data"
        }
      ],
      "source": [
        "poT = auto_cls.performance_over_time_\n",
        "poT.plot(\n",
        "    x='Timestamp',\n",
        "    kind='line',\n",
        "    legend=True,\n",
        "    title='Auto-sklearn accuracy over time',\n",
        "    grid=True,\n",
        ")\n",
        "plt.show()\n"
      ]
    },
    {
      "cell_type": "code",
      "execution_count": 65,
      "metadata": {},
      "outputs": [
        {
          "name": "stdout",
          "output_type": "stream",
          "text": [
            "Accuracy (on test set):  0.8615582637427298\n"
          ]
        }
      ],
      "source": [
        "evaluate(auto_cls)"
      ]
    }
  ],
  "metadata": {
    "colab": {
      "collapsed_sections": [
        "fQAuFIojY4Ac",
        "cwIqoaD8QtNl",
        "4dvXiMXBV4qg",
        "p3oVkntVZrWF",
        "FLBjsIU-QtNo",
        "H-Fy1Gg-QtNv",
        "k33XbElQ7mWb",
        "rV09yQBPaI4q",
        "feXvsTHcbIHn",
        "UspP5qDpM4Hu",
        "lf9_S-b17a6C",
        "aaToOTjfHN5T",
        "0JoKHo7mQjuu",
        "vmNnHhHVJG5A",
        "FeHkqxul9dMx",
        "Nxn0hNB3QtNy",
        "pumyaOvphvc7",
        "OPGq2ec-8YTT",
        "-6u4_JAUkMUG",
        "jpyjuetkG2ge",
        "T7CEKABQYolM",
        "Pv6kW9ivYq35",
        "DnR8XLpcc4ak"
      ],
      "include_colab_link": true,
      "name": "MLDM_Beatrice_Cotti.ipynb",
      "provenance": [],
      "toc_visible": true
    },
    "kernelspec": {
      "display_name": "Python 3.9.13 ('mldm_env')",
      "language": "python",
      "name": "python3"
    },
    "language_info": {
      "codemirror_mode": {
        "name": "ipython",
        "version": 3
      },
      "file_extension": ".py",
      "mimetype": "text/x-python",
      "name": "python",
      "nbconvert_exporter": "python",
      "pygments_lexer": "ipython3",
      "version": "3.9.13"
    },
    "nav_menu": {
      "height": "279px",
      "width": "309px"
    },
    "toc": {
      "nav_menu": {},
      "number_sections": true,
      "sideBar": true,
      "skip_h1_title": false,
      "toc_cell": false,
      "toc_position": {},
      "toc_section_display": "block",
      "toc_window_display": false
    },
    "vscode": {
      "interpreter": {
        "hash": "14c00f1bb6722d8e9fede05c461edfa73aa2c264654b2c347851d6bc6c25821c"
      }
    }
  },
  "nbformat": 4,
  "nbformat_minor": 0
}
