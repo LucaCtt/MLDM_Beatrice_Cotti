{
  "cells": [
    {
      "cell_type": "markdown",
      "metadata": {
        "id": "fQAuFIojY4Ac"
      },
      "source": [
        "# Introduction"
      ]
    },
    {
      "cell_type": "markdown",
      "metadata": {
        "id": "rKE3YgkmY9H1"
      },
      "source": [
        "The objective of this project is to compare various classication and clustering algorithms,\n",
        "when applied to the *Online Shoppers Purchasing Intention Dataset Data Set*,\n",
        "which can be found at the UCI Machine Learning Repository at the following link:\n",
        "https://archive.ics.uci.edu/ml/datasets/Online+Shoppers+Purchasing+Intention+Dataset.\n",
        "\n",
        "The dataset contains information about the visitors of a shopping website, including metrics taken from Google Analytics.\n",
        "The objective is to predict wheter a certain visitor will generate revenue or not: this could allow to offer certain\n",
        "content only to those who intend to purchase and not to the other users.\n",
        "\n",
        "The dataset was formed so that each session would belong to a different user in a 1-year period to avoid\n",
        "any tendency to a specific campaign, special day, user profile, or period.\n"
      ]
    },
    {
      "cell_type": "markdown",
      "metadata": {
        "id": "cwIqoaD8QtNl"
      },
      "source": [
        "# Initial Setup"
      ]
    },
    {
      "cell_type": "markdown",
      "metadata": {
        "id": "4dvXiMXBV4qg"
      },
      "source": [
        "## Package Installation"
      ]
    },
    {
      "cell_type": "markdown",
      "metadata": {
        "id": "7oWAHJ1GWezP"
      },
      "source": [
        "The project will need the following packages:"
      ]
    },
    {
      "cell_type": "code",
      "execution_count": 25,
      "metadata": {
        "colab": {
          "base_uri": "https://localhost:8080/"
        },
        "id": "deEdG0TT5fsf",
        "outputId": "0371bced-a86b-4fc3-c991-9b819b5b423d"
      },
      "outputs": [
        {
          "name": "stdout",
          "output_type": "stream",
          "text": [
            "Defaulting to user installation because normal site-packages is not writeable\n",
            "Requirement already satisfied: scikit-learn in /home/potato/.local/lib/python3.10/site-packages (1.1.2)\n",
            "Requirement already satisfied: tensorflow in /home/potato/.local/lib/python3.10/site-packages (2.9.1)\n",
            "Requirement already satisfied: pandas in /home/potato/.local/lib/python3.10/site-packages (1.4.3)\n",
            "Collecting graphviz\n",
            "  Downloading graphviz-0.20.1-py3-none-any.whl (47 kB)\n",
            "\u001b[2K     \u001b[90m━━━━━━━━━━━━━━━━━━━━━━━━━━━━━━━━━━━━━━━━\u001b[0m \u001b[32m47.0/47.0 kB\u001b[0m \u001b[31m1.7 MB/s\u001b[0m eta \u001b[36m0:00:00\u001b[0m\n",
            "\u001b[?25hRequirement already satisfied: matplotlib in /home/potato/.local/lib/python3.10/site-packages (3.5.3)\n",
            "Requirement already satisfied: xgboost in /home/potato/.local/lib/python3.10/site-packages (1.6.1)\n",
            "Requirement already satisfied: imbalanced-learn in /home/potato/.local/lib/python3.10/site-packages (0.9.1)\n",
            "Requirement already satisfied: numpy>=1.17.3 in /home/potato/.local/lib/python3.10/site-packages (from scikit-learn) (1.22.3)\n",
            "Requirement already satisfied: scipy>=1.3.2 in /home/potato/.local/lib/python3.10/site-packages (from scikit-learn) (1.9.0)\n",
            "Requirement already satisfied: joblib>=1.0.0 in /home/potato/.local/lib/python3.10/site-packages (from scikit-learn) (1.1.0)\n",
            "Requirement already satisfied: threadpoolctl>=2.0.0 in /home/potato/.local/lib/python3.10/site-packages (from scikit-learn) (3.1.0)\n",
            "Requirement already satisfied: absl-py>=1.0.0 in /home/potato/.local/lib/python3.10/site-packages (from tensorflow) (1.0.0)\n",
            "Requirement already satisfied: astunparse>=1.6.0 in /home/potato/.local/lib/python3.10/site-packages (from tensorflow) (1.6.3)\n",
            "Requirement already satisfied: flatbuffers<2,>=1.12 in /home/potato/.local/lib/python3.10/site-packages (from tensorflow) (1.12)\n",
            "Requirement already satisfied: gast<=0.4.0,>=0.2.1 in /home/potato/.local/lib/python3.10/site-packages (from tensorflow) (0.4.0)\n",
            "Requirement already satisfied: google-pasta>=0.1.1 in /home/potato/.local/lib/python3.10/site-packages (from tensorflow) (0.2.0)\n",
            "Requirement already satisfied: grpcio<2.0,>=1.24.3 in /home/potato/.local/lib/python3.10/site-packages (from tensorflow) (1.47.0)\n",
            "Requirement already satisfied: h5py>=2.9.0 in /home/potato/.local/lib/python3.10/site-packages (from tensorflow) (3.7.0)\n",
            "Requirement already satisfied: keras<2.10.0,>=2.9.0rc0 in /home/potato/.local/lib/python3.10/site-packages (from tensorflow) (2.9.0)\n",
            "Requirement already satisfied: keras-preprocessing>=1.1.1 in /home/potato/.local/lib/python3.10/site-packages (from tensorflow) (1.1.2)\n",
            "Requirement already satisfied: libclang>=13.0.0 in /home/potato/.local/lib/python3.10/site-packages (from tensorflow) (14.0.6)\n",
            "Requirement already satisfied: opt-einsum>=2.3.2 in /home/potato/.local/lib/python3.10/site-packages (from tensorflow) (3.3.0)\n",
            "Requirement already satisfied: packaging in /usr/lib/python3.10/site-packages (from tensorflow) (21.3)\n",
            "Requirement already satisfied: protobuf<3.20,>=3.9.2 in /home/potato/.local/lib/python3.10/site-packages (from tensorflow) (3.19.4)\n",
            "Requirement already satisfied: setuptools in /usr/lib/python3.10/site-packages (from tensorflow) (61.3.1)\n",
            "Requirement already satisfied: six>=1.12.0 in /usr/lib/python3.10/site-packages (from tensorflow) (1.16.0)\n",
            "Requirement already satisfied: tensorboard<2.10,>=2.9 in /home/potato/.local/lib/python3.10/site-packages (from tensorflow) (2.9.1)\n",
            "Requirement already satisfied: tensorflow-io-gcs-filesystem>=0.23.1 in /home/potato/.local/lib/python3.10/site-packages (from tensorflow) (0.26.0)\n",
            "Requirement already satisfied: tensorflow-estimator<2.10.0,>=2.9.0rc0 in /home/potato/.local/lib/python3.10/site-packages (from tensorflow) (2.9.0)\n",
            "Requirement already satisfied: termcolor>=1.1.0 in /usr/lib/python3.10/site-packages (from tensorflow) (1.1.0)\n",
            "Requirement already satisfied: typing-extensions>=3.6.6 in /usr/lib/python3.10/site-packages (from tensorflow) (4.2.0)\n",
            "Requirement already satisfied: wrapt>=1.11.0 in /home/potato/.local/lib/python3.10/site-packages (from tensorflow) (1.13.3)\n",
            "Requirement already satisfied: python-dateutil>=2.8.1 in /home/potato/.local/lib/python3.10/site-packages (from pandas) (2.8.2)\n",
            "Requirement already satisfied: pytz>=2020.1 in /usr/lib/python3.10/site-packages (from pandas) (2022.1)\n",
            "Requirement already satisfied: cycler>=0.10 in /home/potato/.local/lib/python3.10/site-packages (from matplotlib) (0.11.0)\n",
            "Requirement already satisfied: fonttools>=4.22.0 in /home/potato/.local/lib/python3.10/site-packages (from matplotlib) (4.34.4)\n",
            "Requirement already satisfied: kiwisolver>=1.0.1 in /home/potato/.local/lib/python3.10/site-packages (from matplotlib) (1.4.4)\n",
            "Requirement already satisfied: pillow>=6.2.0 in /home/potato/.local/lib/python3.10/site-packages (from matplotlib) (9.2.0)\n",
            "Requirement already satisfied: pyparsing>=2.2.1 in /usr/lib/python3.10/site-packages (from matplotlib) (3.0.9)\n",
            "Requirement already satisfied: wheel<1.0,>=0.23.0 in /home/potato/.local/lib/python3.10/site-packages (from astunparse>=1.6.0->tensorflow) (0.37.1)\n",
            "Requirement already satisfied: google-auth<3,>=1.6.3 in /usr/lib/python3.10/site-packages (from tensorboard<2.10,>=2.9->tensorflow) (1.34.0)\n",
            "Requirement already satisfied: google-auth-oauthlib<0.5,>=0.4.1 in /home/potato/.local/lib/python3.10/site-packages (from tensorboard<2.10,>=2.9->tensorflow) (0.4.6)\n",
            "Requirement already satisfied: markdown>=2.6.8 in /usr/lib/python3.10/site-packages (from tensorboard<2.10,>=2.9->tensorflow) (3.4.1)\n",
            "Requirement already satisfied: requests<3,>=2.21.0 in /usr/lib/python3.10/site-packages (from tensorboard<2.10,>=2.9->tensorflow) (2.28.1)\n",
            "Requirement already satisfied: tensorboard-data-server<0.7.0,>=0.6.0 in /home/potato/.local/lib/python3.10/site-packages (from tensorboard<2.10,>=2.9->tensorflow) (0.6.1)\n",
            "Requirement already satisfied: tensorboard-plugin-wit>=1.6.0 in /home/potato/.local/lib/python3.10/site-packages (from tensorboard<2.10,>=2.9->tensorflow) (1.8.1)\n",
            "Requirement already satisfied: werkzeug>=1.0.1 in /home/potato/.local/lib/python3.10/site-packages (from tensorboard<2.10,>=2.9->tensorflow) (2.2.2)\n",
            "Requirement already satisfied: cachetools<6.0,>=2.0.0 in /usr/lib/python3.10/site-packages (from google-auth<3,>=1.6.3->tensorboard<2.10,>=2.9->tensorflow) (5.2.0)\n",
            "Requirement already satisfied: pyasn1-modules>=0.2.1 in /usr/lib/python3.10/site-packages (from google-auth<3,>=1.6.3->tensorboard<2.10,>=2.9->tensorflow) (0.2.8)\n",
            "Requirement already satisfied: rsa<5,>=3.1.4 in /usr/lib/python3.10/site-packages (from google-auth<3,>=1.6.3->tensorboard<2.10,>=2.9->tensorflow) (4.9)\n",
            "Requirement already satisfied: requests-oauthlib>=0.7.0 in /home/potato/.local/lib/python3.10/site-packages (from google-auth-oauthlib<0.5,>=0.4.1->tensorboard<2.10,>=2.9->tensorflow) (1.3.1)\n",
            "Requirement already satisfied: idna<4,>=2.5 in /usr/lib/python3.10/site-packages (from requests<3,>=2.21.0->tensorboard<2.10,>=2.9->tensorflow) (3.3)\n",
            "Requirement already satisfied: urllib3<1.27,>=1.21.1 in /usr/lib/python3.10/site-packages (from requests<3,>=2.21.0->tensorboard<2.10,>=2.9->tensorflow) (1.26.9)\n",
            "Requirement already satisfied: MarkupSafe>=2.1.1 in /home/potato/.local/lib/python3.10/site-packages (from werkzeug>=1.0.1->tensorboard<2.10,>=2.9->tensorflow) (2.1.1)\n",
            "Requirement already satisfied: pyasn1<0.5.0,>=0.4.6 in /usr/lib/python3.10/site-packages (from pyasn1-modules>=0.2.1->google-auth<3,>=1.6.3->tensorboard<2.10,>=2.9->tensorflow) (0.4.8)\n",
            "Requirement already satisfied: oauthlib>=3.0.0 in /home/potato/.local/lib/python3.10/site-packages (from requests-oauthlib>=0.7.0->google-auth-oauthlib<0.5,>=0.4.1->tensorboard<2.10,>=2.9->tensorflow) (3.2.0)\n",
            "Installing collected packages: graphviz\n",
            "Successfully installed graphviz-0.20.1\n",
            "Note: you may need to restart the kernel to use updated packages.\n"
          ]
        }
      ],
      "source": [
        "%pip install - U scikit-learn tensorflow keras-tuner pandas graphviz matplotlib xgboost imbalanced-learn autosklearn\n"
      ]
    },
    {
      "cell_type": "markdown",
      "metadata": {
        "id": "p3oVkntVZrWF"
      },
      "source": [
        "## Imports"
      ]
    },
    {
      "cell_type": "markdown",
      "metadata": {
        "id": "E39qASY1QtNm"
      },
      "source": [
        "We need to import a few common module, initialize random seeds,\n",
        "ensure MatplotLib plots figures inline and we also prepare a function to save the figures.\n",
        "We also check that Python 3.5 or later is installed, as well as Scikit-Learn ≥0.20."
      ]
    },
    {
      "cell_type": "code",
      "execution_count": 2,
      "metadata": {
        "id": "XxSBkpE8QtNn"
      },
      "outputs": [
        {
          "name": "stderr",
          "output_type": "stream",
          "text": [
            "2022-08-11 16:43:40.978131: W tensorflow/stream_executor/platform/default/dso_loader.cc:64] Could not load dynamic library 'libcudart.so.11.0'; dlerror: libcudart.so.11.0: cannot open shared object file: No such file or directory\n",
            "2022-08-11 16:43:40.978163: I tensorflow/stream_executor/cuda/cudart_stub.cc:29] Ignore above cudart dlerror if you do not have a GPU set up on your machine.\n"
          ]
        }
      ],
      "source": [
        "import matplotlib.pyplot as plt\n",
        "import matplotlib as mpl\n",
        "import pandas as pd\n",
        "import os\n",
        "import tensorflow\n",
        "import numpy as np\n",
        "import sklearn\n",
        "import sys\n",
        "\n",
        "# Python ≥3.5 is required\n",
        "assert sys.version_info >= (3, 5)\n",
        "\n",
        "# Scikit-Learn ≥0.20 is required\n",
        "assert sklearn.__version__ >= \"0.20\"\n",
        "\n",
        "# Initialize random seeds\n",
        "np.random.seed(42)\n",
        "tensorflow.random.set_seed(42)\n",
        "\n",
        "# To plot pretty figures\n",
        "%matplotlib inline\n",
        "mpl.rc(\"axes\", labelsize=14)\n",
        "mpl.rc(\"xtick\", labelsize=12)\n",
        "mpl.rc(\"ytick\", labelsize=12)\n",
        "\n",
        "# Where to save the figures\n",
        "ROOT_DIR = \".\"\n",
        "PROJECT_DIR = \"mldm_luca_cotti\"\n",
        "IMAGES_PATH = os.path.join(ROOT_DIR, \"images\", PROJECT_DIR)\n",
        "os.makedirs(IMAGES_PATH, exist_ok=True)\n",
        "\n",
        "\n",
        "def save_fig(fig_id, tight_layout=True, fig_extension=\"png\", resolution=300):\n",
        "    \"\"\" Saves a figure \"\"\"\n",
        "    path = os.path.join(IMAGES_PATH, fig_id + \".\" + fig_extension)\n",
        "    print(\"Saving figure\", fig_id)\n",
        "    if tight_layout:\n",
        "        plt.tight_layout()\n",
        "    plt.savefig(path, format=fig_extension, dpi=resolution)\n"
      ]
    },
    {
      "cell_type": "markdown",
      "metadata": {
        "id": "FLBjsIU-QtNo"
      },
      "source": [
        "## Download Dataset"
      ]
    },
    {
      "cell_type": "markdown",
      "metadata": {},
      "source": [
        "Since the dataset is provided as a `csv`, we can use the `read_csv` function of `pandas` to import it directly from the URL."
      ]
    },
    {
      "cell_type": "code",
      "execution_count": 3,
      "metadata": {
        "id": "L_OR5V8LQtNq"
      },
      "outputs": [],
      "source": [
        "DATASET_URL = \"https://archive.ics.uci.edu/ml/machine-learning-databases/00468/online_shoppers_intention.csv\"\n",
        "dataset = pd.read_csv(DATASET_URL)\n"
      ]
    },
    {
      "cell_type": "markdown",
      "metadata": {
        "id": "H-Fy1Gg-QtNv"
      },
      "source": [
        "### Structure of the dataset"
      ]
    },
    {
      "cell_type": "markdown",
      "metadata": {},
      "source": [
        "We can use the `info` method to print a concise summary of the dataset."
      ]
    },
    {
      "cell_type": "code",
      "execution_count": 4,
      "metadata": {
        "colab": {
          "base_uri": "https://localhost:8080/"
        },
        "id": "svWVlYYDMXYO",
        "outputId": "0c540469-e7fc-49d8-ab78-7d0bb3db848b"
      },
      "outputs": [
        {
          "name": "stdout",
          "output_type": "stream",
          "text": [
            "<class 'pandas.core.frame.DataFrame'>\n",
            "RangeIndex: 12330 entries, 0 to 12329\n",
            "Data columns (total 18 columns):\n",
            " #   Column                   Non-Null Count  Dtype  \n",
            "---  ------                   --------------  -----  \n",
            " 0   Administrative           12330 non-null  int64  \n",
            " 1   Administrative_Duration  12330 non-null  float64\n",
            " 2   Informational            12330 non-null  int64  \n",
            " 3   Informational_Duration   12330 non-null  float64\n",
            " 4   ProductRelated           12330 non-null  int64  \n",
            " 5   ProductRelated_Duration  12330 non-null  float64\n",
            " 6   BounceRates              12330 non-null  float64\n",
            " 7   ExitRates                12330 non-null  float64\n",
            " 8   PageValues               12330 non-null  float64\n",
            " 9   SpecialDay               12330 non-null  float64\n",
            " 10  Month                    12330 non-null  object \n",
            " 11  OperatingSystems         12330 non-null  int64  \n",
            " 12  Browser                  12330 non-null  int64  \n",
            " 13  Region                   12330 non-null  int64  \n",
            " 14  TrafficType              12330 non-null  int64  \n",
            " 15  VisitorType              12330 non-null  object \n",
            " 16  Weekend                  12330 non-null  bool   \n",
            " 17  Revenue                  12330 non-null  bool   \n",
            "dtypes: bool(2), float64(7), int64(7), object(2)\n",
            "memory usage: 1.5+ MB\n"
          ]
        }
      ],
      "source": [
        "dataset.info()\n"
      ]
    },
    {
      "cell_type": "markdown",
      "metadata": {
        "id": "rGPb0qepMd-o"
      },
      "source": [
        "The dataset contains a total of `12330` entries, with `18` features.\n",
        "Some features are numeric, others are categorical.\n",
        "\n",
        "`Administrative`, `Administrative Duration`, `Informational`, `Informational Duration`, `Product Related` and `Product Related Duration` represent the number of different types of pages visited by the visitor in that session and total time spent in each of these page categories.\n",
        "\n",
        "The values of these features are derived from the URL information of the pages visited by the user and updated in real time when a user takes an action, e.g. moving from one page to another.\n",
        "\n",
        "The `Bounce Rate`, `Exit Rate` and `Page Value` features represent the metrics measured by Google Analytics for each page in the e-commerce site.\n",
        "\n",
        "The value of `Bounce Rate` feature for a web page refers to the percentage of visitors who enter the site from that page and then leave (\"bounce\") without triggering any other requests to the analytics server during that session.\n",
        "\n",
        "The value of `Exit Rate` feature for a specific web page is calculated as for all pageviews to the page, the percentage that were the last in the session.\n",
        "\n",
        "The `Page Value` feature represents the average value for a web page that a user visited before completing an e-commerce transaction.\n",
        "\n",
        "The `Special Day` feature indicates the closeness of the site visiting time to a specific special day (e.g. Mother’s Day, Valentine's Day) in which the sessions are more likely to be finalized with transaction.\n",
        "The value of this attribute is determined by considering the dynamics of e-commerce such as the duration between the order date and delivery date. For example, for Valentine’s day, this value takes a nonzero value between February 2 and February 12, zero before and after this date unless it is close to another special day, and its maximum value of 1 on February 8.\n",
        "\n",
        "`Revenue` represents the class of the instance: a `True` value means the user generated revenue, and a `False` value means the user did not generate revenue.\n",
        "\n",
        "The dataset also includes operating system, browser, region, traffic type, visitor type as returning or new visitor, a Boolean value indicating whether the date of the visit is weekend, and month of the year."
      ]
    },
    {
      "cell_type": "markdown",
      "metadata": {},
      "source": [
        "We can get a glimpse of the data by using the `head` method."
      ]
    },
    {
      "cell_type": "code",
      "execution_count": 5,
      "metadata": {
        "colab": {
          "base_uri": "https://localhost:8080/"
        },
        "id": "XNbOZZHAQtNv",
        "outputId": "80f087aa-c66d-47a0-cfea-f789b75692c2"
      },
      "outputs": [
        {
          "data": {
            "text/html": [
              "<div>\n",
              "<style scoped>\n",
              "    .dataframe tbody tr th:only-of-type {\n",
              "        vertical-align: middle;\n",
              "    }\n",
              "\n",
              "    .dataframe tbody tr th {\n",
              "        vertical-align: top;\n",
              "    }\n",
              "\n",
              "    .dataframe thead th {\n",
              "        text-align: right;\n",
              "    }\n",
              "</style>\n",
              "<table border=\"1\" class=\"dataframe\">\n",
              "  <thead>\n",
              "    <tr style=\"text-align: right;\">\n",
              "      <th></th>\n",
              "      <th>Administrative</th>\n",
              "      <th>Administrative_Duration</th>\n",
              "      <th>Informational</th>\n",
              "      <th>Informational_Duration</th>\n",
              "      <th>ProductRelated</th>\n",
              "      <th>ProductRelated_Duration</th>\n",
              "      <th>BounceRates</th>\n",
              "      <th>ExitRates</th>\n",
              "      <th>PageValues</th>\n",
              "      <th>SpecialDay</th>\n",
              "      <th>Month</th>\n",
              "      <th>OperatingSystems</th>\n",
              "      <th>Browser</th>\n",
              "      <th>Region</th>\n",
              "      <th>TrafficType</th>\n",
              "      <th>VisitorType</th>\n",
              "      <th>Weekend</th>\n",
              "      <th>Revenue</th>\n",
              "    </tr>\n",
              "  </thead>\n",
              "  <tbody>\n",
              "    <tr>\n",
              "      <th>0</th>\n",
              "      <td>0</td>\n",
              "      <td>0.0</td>\n",
              "      <td>0</td>\n",
              "      <td>0.0</td>\n",
              "      <td>1</td>\n",
              "      <td>0.000000</td>\n",
              "      <td>0.20</td>\n",
              "      <td>0.20</td>\n",
              "      <td>0.0</td>\n",
              "      <td>0.0</td>\n",
              "      <td>Feb</td>\n",
              "      <td>1</td>\n",
              "      <td>1</td>\n",
              "      <td>1</td>\n",
              "      <td>1</td>\n",
              "      <td>Returning_Visitor</td>\n",
              "      <td>False</td>\n",
              "      <td>False</td>\n",
              "    </tr>\n",
              "    <tr>\n",
              "      <th>1</th>\n",
              "      <td>0</td>\n",
              "      <td>0.0</td>\n",
              "      <td>0</td>\n",
              "      <td>0.0</td>\n",
              "      <td>2</td>\n",
              "      <td>64.000000</td>\n",
              "      <td>0.00</td>\n",
              "      <td>0.10</td>\n",
              "      <td>0.0</td>\n",
              "      <td>0.0</td>\n",
              "      <td>Feb</td>\n",
              "      <td>2</td>\n",
              "      <td>2</td>\n",
              "      <td>1</td>\n",
              "      <td>2</td>\n",
              "      <td>Returning_Visitor</td>\n",
              "      <td>False</td>\n",
              "      <td>False</td>\n",
              "    </tr>\n",
              "    <tr>\n",
              "      <th>2</th>\n",
              "      <td>0</td>\n",
              "      <td>0.0</td>\n",
              "      <td>0</td>\n",
              "      <td>0.0</td>\n",
              "      <td>1</td>\n",
              "      <td>0.000000</td>\n",
              "      <td>0.20</td>\n",
              "      <td>0.20</td>\n",
              "      <td>0.0</td>\n",
              "      <td>0.0</td>\n",
              "      <td>Feb</td>\n",
              "      <td>4</td>\n",
              "      <td>1</td>\n",
              "      <td>9</td>\n",
              "      <td>3</td>\n",
              "      <td>Returning_Visitor</td>\n",
              "      <td>False</td>\n",
              "      <td>False</td>\n",
              "    </tr>\n",
              "    <tr>\n",
              "      <th>3</th>\n",
              "      <td>0</td>\n",
              "      <td>0.0</td>\n",
              "      <td>0</td>\n",
              "      <td>0.0</td>\n",
              "      <td>2</td>\n",
              "      <td>2.666667</td>\n",
              "      <td>0.05</td>\n",
              "      <td>0.14</td>\n",
              "      <td>0.0</td>\n",
              "      <td>0.0</td>\n",
              "      <td>Feb</td>\n",
              "      <td>3</td>\n",
              "      <td>2</td>\n",
              "      <td>2</td>\n",
              "      <td>4</td>\n",
              "      <td>Returning_Visitor</td>\n",
              "      <td>False</td>\n",
              "      <td>False</td>\n",
              "    </tr>\n",
              "    <tr>\n",
              "      <th>4</th>\n",
              "      <td>0</td>\n",
              "      <td>0.0</td>\n",
              "      <td>0</td>\n",
              "      <td>0.0</td>\n",
              "      <td>10</td>\n",
              "      <td>627.500000</td>\n",
              "      <td>0.02</td>\n",
              "      <td>0.05</td>\n",
              "      <td>0.0</td>\n",
              "      <td>0.0</td>\n",
              "      <td>Feb</td>\n",
              "      <td>3</td>\n",
              "      <td>3</td>\n",
              "      <td>1</td>\n",
              "      <td>4</td>\n",
              "      <td>Returning_Visitor</td>\n",
              "      <td>True</td>\n",
              "      <td>False</td>\n",
              "    </tr>\n",
              "  </tbody>\n",
              "</table>\n",
              "</div>"
            ],
            "text/plain": [
              "   Administrative  Administrative_Duration  Informational  \\\n",
              "0               0                      0.0              0   \n",
              "1               0                      0.0              0   \n",
              "2               0                      0.0              0   \n",
              "3               0                      0.0              0   \n",
              "4               0                      0.0              0   \n",
              "\n",
              "   Informational_Duration  ProductRelated  ProductRelated_Duration  \\\n",
              "0                     0.0               1                 0.000000   \n",
              "1                     0.0               2                64.000000   \n",
              "2                     0.0               1                 0.000000   \n",
              "3                     0.0               2                 2.666667   \n",
              "4                     0.0              10               627.500000   \n",
              "\n",
              "   BounceRates  ExitRates  PageValues  SpecialDay Month  OperatingSystems  \\\n",
              "0         0.20       0.20         0.0         0.0   Feb                 1   \n",
              "1         0.00       0.10         0.0         0.0   Feb                 2   \n",
              "2         0.20       0.20         0.0         0.0   Feb                 4   \n",
              "3         0.05       0.14         0.0         0.0   Feb                 3   \n",
              "4         0.02       0.05         0.0         0.0   Feb                 3   \n",
              "\n",
              "   Browser  Region  TrafficType        VisitorType  Weekend  Revenue  \n",
              "0        1       1            1  Returning_Visitor    False    False  \n",
              "1        2       1            2  Returning_Visitor    False    False  \n",
              "2        1       9            3  Returning_Visitor    False    False  \n",
              "3        2       2            4  Returning_Visitor    False    False  \n",
              "4        3       1            4  Returning_Visitor     True    False  "
            ]
          },
          "execution_count": 5,
          "metadata": {},
          "output_type": "execute_result"
        }
      ],
      "source": [
        "dataset.head()\n"
      ]
    },
    {
      "cell_type": "markdown",
      "metadata": {
        "id": "PF-rD-0gQrhK"
      },
      "source": [
        "It's also important to check if the number of instances in each class is balanced:"
      ]
    },
    {
      "cell_type": "code",
      "execution_count": 6,
      "metadata": {
        "colab": {
          "base_uri": "https://localhost:8080/"
        },
        "id": "DfjSXnfUQc1Q",
        "outputId": "feae6a9e-2d23-43fa-edd5-782c2802d67c"
      },
      "outputs": [
        {
          "data": {
            "text/plain": [
              "False    0.845255\n",
              "True     0.154745\n",
              "Name: Revenue, dtype: float64"
            ]
          },
          "execution_count": 6,
          "metadata": {},
          "output_type": "execute_result"
        }
      ],
      "source": [
        "dataset[\"Revenue\"].value_counts(normalize=True)\n"
      ]
    },
    {
      "cell_type": "markdown",
      "metadata": {
        "id": "9ArMNxC3RGJu"
      },
      "source": [
        "The `84.5%` of instances are negative, while the the `15.5%` are positive.\n",
        "This means that the dataset is imbalanced.\n",
        "\n",
        "There are a few different ways to handle imbalanced datasets,\n",
        "such as *undersampling* the majority class, or *oversampling* the minority one.\n",
        "We could also use *SMOTE* to generate synthetic samples from the minority class.\n",
        "\n",
        "In this project, we will not make use of such techniques directly, but we will\n",
        "tune the algorithms to account for the imbalance as much as possible,\n",
        "and we will also use algorithms created specifically for imbalanced datasets.\n",
        "Most of these algorithms do use one (or more) of the methods mentioned above.\n",
        "\n",
        "Rather than the basic *accuracy* metric, we will use *balanced accuracy*, which is suited for imbalanced data.\n",
        "*Balanced accuracy* is defined as the arithmetic mean of *accuracy* and *recall*:\n",
        "\n",
        "$$\n",
        "\\text{Balanced Accuracy} = \\frac{sensitivity + specificity}{2}\n",
        "$$\n",
        "\n",
        "We could also use the *F1 score* metric, which is the harmonic mean of *precision* and *recall*:\n",
        "\n",
        "$$\n",
        "\\text{F1 Score} = 2 * \\frac{precision * sensitivity}{precision + sensitivity}\n",
        "$$\n",
        "\n",
        "Where *sensitivity* is the proportion of actual positives that are correctly identified as such,\n",
        "*specificity* is the proportion of actual negatives that are correctly identified,\n",
        "and *precision* quantifies the number of correct positive predictions made out of positive predictions made by the model.\n",
        "\n",
        "$$\n",
        "\\text{Sensitivity} = \\frac{TP}{TP + FN}\n",
        "\\hspace{6 mm}\n",
        "\\text{Specificity} = \\frac{TN}{TN + FP}\n",
        "\\hspace{6 mm}\n",
        "\\text{Precision} = \\frac{TP}{TP + FP}\n",
        "$$\n",
        "\n",
        "*F1 score* however doesn’t care about how many true negatives are being classified.\n",
        "For the purposes of this project positives are as import as negatives, so *balanced accuracy* is a better metric."
      ]
    },
    {
      "cell_type": "markdown",
      "metadata": {
        "id": "k33XbElQ7mWb"
      },
      "source": [
        "# Data Cleaning and Feature Engineering"
      ]
    },
    {
      "cell_type": "markdown",
      "metadata": {
        "id": "rV09yQBPaI4q"
      },
      "source": [
        "## Column names"
      ]
    },
    {
      "cell_type": "markdown",
      "metadata": {
        "id": "OJh8f1q2aMDu"
      },
      "source": [
        "The column naming convention appears to be inconsistent.\n",
        "We can begin the data cleaning process by converting the column names to *snake_case*."
      ]
    },
    {
      "cell_type": "code",
      "execution_count": 7,
      "metadata": {
        "id": "TFog_gpcV63R"
      },
      "outputs": [],
      "source": [
        "def to_snake_case(str):\n",
        "    res = [str[0].lower()]\n",
        "    for i, c in enumerate(str[1:]):\n",
        "        if c in ('ABCDEFGHIJKLMNOPQRSTUVWXYZ'):\n",
        "            if str[i] != \"_\":\n",
        "                res.append('_')\n",
        "            res.append(c.lower())\n",
        "        else:\n",
        "            res.append(c)\n",
        "\n",
        "    return ''.join(res)\n"
      ]
    },
    {
      "cell_type": "code",
      "execution_count": null,
      "metadata": {},
      "outputs": [],
      "source": [
        "dataset.columns = dataset.columns.map(lambda c: to_snake_case(c))"
      ]
    },
    {
      "cell_type": "markdown",
      "metadata": {
        "id": "feXvsTHcbIHn"
      },
      "source": [
        "## Column Types"
      ]
    },
    {
      "cell_type": "markdown",
      "metadata": {
        "id": "t1fzy9R0bcCY"
      },
      "source": [
        "There are a few columns that represent categorical data, and two boolean columns that could cause problems. We can convert such columns to more convenient data types."
      ]
    },
    {
      "cell_type": "markdown",
      "metadata": {
        "id": "UspP5qDpM4Hu"
      },
      "source": [
        "### Convert categorical data"
      ]
    },
    {
      "cell_type": "markdown",
      "metadata": {
        "id": "PnSupd6gVg6V"
      },
      "source": [
        "The dataset has two categorical features with string values: `Month` and `VisitorType`.\n",
        "We can observe the possible values of these features."
      ]
    },
    {
      "cell_type": "code",
      "execution_count": 9,
      "metadata": {
        "colab": {
          "base_uri": "https://localhost:8080/"
        },
        "id": "FDSRgxl3VBAL",
        "outputId": "a689775b-9b8a-4c1c-8b95-1ef09238f3af"
      },
      "outputs": [
        {
          "name": "stdout",
          "output_type": "stream",
          "text": [
            "['Feb' 'Mar' 'May' 'Oct' 'June' 'Jul' 'Aug' 'Nov' 'Sep' 'Dec']\n",
            "['Returning_Visitor' 'New_Visitor' 'Other']\n"
          ]
        }
      ],
      "source": [
        "print(dataset[\"month\"].unique())\n",
        "print(dataset[\"visitor_type\"].unique())\n"
      ]
    },
    {
      "cell_type": "markdown",
      "metadata": {
        "id": "kcCMP_zYTK23"
      },
      "source": [
        "These features can be converted into integers using `sklearn.preprocessing.LabelEncoder()`, which replaces the category string values with increasing integers values.\n",
        "\n",
        "The problem with this method is that the learning algorithms could interpret the integer values as having an order/hierarchy between them.\n",
        "\n",
        "This is fine for the `Month` column, where the various months will be encoded with integers between 0 and 11: these integers do have a meaningful order, so label encoding is correct.\n",
        "\n",
        "However for `VisitorType` the integer values that the feature could have to represent the string values have no order/hierarchy.\n",
        "For this reason, a more appropriate conversion for this feature would be to use one-hot encoding.\n",
        "In this strategy, each possible category value is converted into a new column\n",
        "and assigned a 1 or 0 value depending on the value in the original column."
      ]
    },
    {
      "cell_type": "code",
      "execution_count": 10,
      "metadata": {
        "id": "2XZ6i8X_Fn-Q"
      },
      "outputs": [],
      "source": [
        "from sklearn.preprocessing import LabelEncoder\n",
        "\n",
        "le = LabelEncoder()\n",
        "dataset[\"month\"] = le.fit_transform(dataset[\"month\"])\n",
        "\n",
        "dum_df = pd.get_dummies(dataset[\"visitor_type\"], prefix=\"visitor_type\")\n",
        "dum_df.columns = dum_df.columns.map(lambda c: to_snake_case(c))\n",
        "\n",
        "dataset = dataset.join(dum_df).drop(\"visitor_type\", axis=1)\n"
      ]
    },
    {
      "cell_type": "markdown",
      "metadata": {
        "id": "lf9_S-b17a6C"
      },
      "source": [
        "### Convert boolean values to integer"
      ]
    },
    {
      "cell_type": "markdown",
      "metadata": {
        "id": "Y1oNe62X73eP"
      },
      "source": [
        "The `weekend` and `revenue` columns have boolean values, which should automatically be converted to `0` and `1` by Python, but since some of the algorithms may have some parts implemented in C/C++, we might run into some problems.\n",
        "\n",
        "To avoid this, we can convert such columns to integer values."
      ]
    },
    {
      "cell_type": "code",
      "execution_count": 11,
      "metadata": {
        "id": "Od_LBGf78Sv-"
      },
      "outputs": [],
      "source": [
        "dataset[\"weekend\"] = dataset[\"weekend\"].astype(int)\n",
        "dataset[\"revenue\"] = dataset[\"revenue\"].astype(int)\n"
      ]
    },
    {
      "cell_type": "markdown",
      "metadata": {
        "id": "aaToOTjfHN5T"
      },
      "source": [
        "## Missing values"
      ]
    },
    {
      "cell_type": "markdown",
      "metadata": {
        "id": "p1H9XnyXIsDX"
      },
      "source": [
        "We can check if the dataset contains NA values, and if it does we can delete such rows as they might ruin the learning process."
      ]
    },
    {
      "cell_type": "code",
      "execution_count": 12,
      "metadata": {
        "colab": {
          "base_uri": "https://localhost:8080/"
        },
        "id": "S-pTdET8HP6r",
        "outputId": "7b29001c-3680-4999-9b30-b895f79faabc"
      },
      "outputs": [
        {
          "data": {
            "text/plain": [
              "administrative                    False\n",
              "administrative_duration           False\n",
              "informational                     False\n",
              "informational_duration            False\n",
              "product_related                   False\n",
              "product_related_duration          False\n",
              "bounce_rates                      False\n",
              "exit_rates                        False\n",
              "page_values                       False\n",
              "special_day                       False\n",
              "month                             False\n",
              "operating_systems                 False\n",
              "browser                           False\n",
              "region                            False\n",
              "traffic_type                      False\n",
              "weekend                           False\n",
              "revenue                           False\n",
              "visitor_type_new_visitor          False\n",
              "visitor_type_other                False\n",
              "visitor_type_returning_visitor    False\n",
              "dtype: bool"
            ]
          },
          "execution_count": 12,
          "metadata": {},
          "output_type": "execute_result"
        }
      ],
      "source": [
        "dataset.isna().any()\n"
      ]
    },
    {
      "cell_type": "markdown",
      "metadata": {
        "id": "-eIUae-PIxUV"
      },
      "source": [
        "The dataset does not contain any NA value, so no rows needs to be eliminated."
      ]
    },
    {
      "cell_type": "markdown",
      "metadata": {
        "id": "0JoKHo7mQjuu"
      },
      "source": [
        "## Correlated Columns"
      ]
    },
    {
      "cell_type": "markdown",
      "metadata": {
        "id": "S318L6-Fd_r9"
      },
      "source": [
        "To increase the speed of the learning process and reduce bias a possibility is to remove highly correlated columns from the dataset. \n",
        "\n",
        "However, while developing this project, we discovered *Recursive Feature Elimination*, which provides a more effective way of removing unnecessary features.\n",
        "\n",
        "We are leaving this section here anyway for compleness."
      ]
    },
    {
      "cell_type": "code",
      "execution_count": 13,
      "metadata": {
        "id": "lrUdNksjQl2B"
      },
      "outputs": [],
      "source": [
        "def get_correlated_cols(ds: pd.DataFrame, corr_threshold: float):\n",
        "    # Compute correlation matrix using pearson method (linear correlation)\n",
        "    corr = ds.corr(method=\"pearson\")\n",
        "    # Find collinear columns\n",
        "    corr_cols = corr[corr > corr_threshold].dropna(\n",
        "        thresh=2).dropna(axis=\"columns\")\n",
        "    return corr_cols\n"
      ]
    },
    {
      "cell_type": "code",
      "execution_count": 14,
      "metadata": {
        "colab": {
          "base_uri": "https://localhost:8080/"
        },
        "id": "m5UAxthaRExI",
        "outputId": "19dd496f-2fff-44e1-dc57-f1332568ae0d"
      },
      "outputs": [
        {
          "data": {
            "text/html": [
              "<div>\n",
              "<style scoped>\n",
              "    .dataframe tbody tr th:only-of-type {\n",
              "        vertical-align: middle;\n",
              "    }\n",
              "\n",
              "    .dataframe tbody tr th {\n",
              "        vertical-align: top;\n",
              "    }\n",
              "\n",
              "    .dataframe thead th {\n",
              "        text-align: right;\n",
              "    }\n",
              "</style>\n",
              "<table border=\"1\" class=\"dataframe\">\n",
              "  <thead>\n",
              "    <tr style=\"text-align: right;\">\n",
              "      <th></th>\n",
              "      <th>bounce_rates</th>\n",
              "      <th>exit_rates</th>\n",
              "    </tr>\n",
              "  </thead>\n",
              "  <tbody>\n",
              "    <tr>\n",
              "      <th>bounce_rates</th>\n",
              "      <td>1.000000</td>\n",
              "      <td>0.913004</td>\n",
              "    </tr>\n",
              "    <tr>\n",
              "      <th>exit_rates</th>\n",
              "      <td>0.913004</td>\n",
              "      <td>1.000000</td>\n",
              "    </tr>\n",
              "  </tbody>\n",
              "</table>\n",
              "</div>"
            ],
            "text/plain": [
              "              bounce_rates  exit_rates\n",
              "bounce_rates      1.000000    0.913004\n",
              "exit_rates        0.913004    1.000000"
            ]
          },
          "execution_count": 14,
          "metadata": {},
          "output_type": "execute_result"
        }
      ],
      "source": [
        "get_correlated_cols(dataset, 0.90)\n"
      ]
    },
    {
      "cell_type": "markdown",
      "metadata": {
        "id": "95GOZ3qXenPH"
      },
      "source": [
        "`bounce_rates` and `exit_rates` are highly correlated. We can remove one of the two columns."
      ]
    },
    {
      "cell_type": "code",
      "execution_count": null,
      "metadata": {
        "id": "fFw_roYZTIel"
      },
      "outputs": [],
      "source": [
        "# dataset.drop(\"exit_rates\", axis=1, inplace=True)\n"
      ]
    },
    {
      "cell_type": "markdown",
      "metadata": {
        "id": "vmNnHhHVJG5A"
      },
      "source": [
        "## Duplicate Rows"
      ]
    },
    {
      "cell_type": "markdown",
      "metadata": {
        "id": "7Di1-yi7KATE"
      },
      "source": [
        "It's good practice to identify and remove duplicate rows in the dataset, because they could result in misleading performance when evaluating ML algorithms: duplicate rows could appear in both train and test datasets."
      ]
    },
    {
      "cell_type": "code",
      "execution_count": 15,
      "metadata": {
        "colab": {
          "base_uri": "https://localhost:8080/"
        },
        "id": "TfuHkzlJJY_p",
        "outputId": "ce3d604d-5be7-415a-c4e6-679822167b55"
      },
      "outputs": [
        {
          "name": "stdout",
          "output_type": "stream",
          "text": [
            "True\n"
          ]
        }
      ],
      "source": [
        "dups = dataset.duplicated()\n",
        "print(dups.any())\n"
      ]
    },
    {
      "cell_type": "markdown",
      "metadata": {
        "id": "XeUb-QWyJqUn"
      },
      "source": [
        "There are duplicates in the dataset. They can be removed using pandas `drop_duplicates`."
      ]
    },
    {
      "cell_type": "code",
      "execution_count": 16,
      "metadata": {
        "id": "Lhq4ggcvJm8c"
      },
      "outputs": [],
      "source": [
        "dataset.drop_duplicates(inplace=True)\n"
      ]
    },
    {
      "cell_type": "markdown",
      "metadata": {
        "id": "FeHkqxul9dMx"
      },
      "source": [
        "## Feature scaling"
      ]
    },
    {
      "cell_type": "markdown",
      "metadata": {
        "id": "xQOliItYfoys"
      },
      "source": [
        "In order to weight the features equally, feature scaling is important.\n",
        "Here we use the `MinMaxScaler`, which scales all values to the [0,1] interval."
      ]
    },
    {
      "cell_type": "code",
      "execution_count": 17,
      "metadata": {
        "id": "Fd2rqh2C9joY"
      },
      "outputs": [],
      "source": [
        "from pandas.core.common import random_state\n",
        "from sklearn.preprocessing import MinMaxScaler\n",
        "\n",
        "mms = MinMaxScaler()\n",
        "dataset = pd.DataFrame(mms.fit_transform(dataset), columns=dataset.columns)\n"
      ]
    },
    {
      "cell_type": "markdown",
      "metadata": {
        "id": "Nxn0hNB3QtNy"
      },
      "source": [
        "## Create test and training sets"
      ]
    },
    {
      "cell_type": "markdown",
      "metadata": {
        "id": "3YrloRVYJjTI"
      },
      "source": [
        "We will use the 70% of the total instances for training, and the remaining 30% for testing.\n",
        "\n",
        "The `stratify` option of `train_test_split` ensures that relative class frequencies are approximately preserved in the training and test sets."
      ]
    },
    {
      "cell_type": "code",
      "execution_count": 18,
      "metadata": {
        "id": "fs433X00QtN1"
      },
      "outputs": [],
      "source": [
        "from sklearn.model_selection import train_test_split\n",
        "\n",
        "X = dataset.drop(\"revenue\", axis=1)\n",
        "y = dataset[\"revenue\"].copy()\n",
        "\n",
        "X_train, X_test, y_train,  y_test = train_test_split(\n",
        "    X, y, test_size=0.3, stratify=y, random_state=42)\n"
      ]
    },
    {
      "cell_type": "markdown",
      "metadata": {
        "id": "jSEn7BfKXfhl"
      },
      "source": [
        "## Recursive Feature Elimination"
      ]
    },
    {
      "cell_type": "markdown",
      "metadata": {
        "id": "7nZiyVStXrPd"
      },
      "source": [
        "*Recursive Feature Elimination* (RFE) is a feature selection algorithms.\n",
        "Feature selection refers to techniques that select a subset of the most relevant features (columns) for a dataset. Fewer features can allow machine learning algorithms to run more efficiently (less space or time complexity) and be more effective. Some machine learning algorithms can be misled by irrelevant input features, resulting in worse predictive performance.\n",
        "\n",
        "RFE in particular searches for a subset of features by starting with all features in the training dataset and successfully removing features until the desired number remains.\n",
        "\n",
        "This is achieved by fitting a given machine learning algorithm, ranking features by importance, discarding the least important features, and re-fitting the model. This process is repeated until a specified number of features remains.\n",
        "\n",
        "Choosing the optimal number of features to keep is not trivial: \n",
        "`scikit-learn` provides the `RFECV` class, which performs cross-validation evaluation of different numbers of features and automatically selects the features that resulted in the best mean score.\n",
        "\n",
        "Since we know that the dataset is imbalanced, we use a random forest classifier to compute the weights associated with the features (the features with the lowest weights are those that will be removed), along with the `balanced_accuracy` to measure performance during the cross-validation. "
      ]
    },
    {
      "cell_type": "code",
      "execution_count": 19,
      "metadata": {
        "colab": {
          "base_uri": "https://localhost:8080/"
        },
        "id": "aMFYG07SRm2h",
        "outputId": "a98244bb-5e27-4840-850e-4ccd01606bf9"
      },
      "outputs": [
        {
          "data": {
            "text/html": [
              "<style>#sk-container-id-1 {color: black;background-color: white;}#sk-container-id-1 pre{padding: 0;}#sk-container-id-1 div.sk-toggleable {background-color: white;}#sk-container-id-1 label.sk-toggleable__label {cursor: pointer;display: block;width: 100%;margin-bottom: 0;padding: 0.3em;box-sizing: border-box;text-align: center;}#sk-container-id-1 label.sk-toggleable__label-arrow:before {content: \"▸\";float: left;margin-right: 0.25em;color: #696969;}#sk-container-id-1 label.sk-toggleable__label-arrow:hover:before {color: black;}#sk-container-id-1 div.sk-estimator:hover label.sk-toggleable__label-arrow:before {color: black;}#sk-container-id-1 div.sk-toggleable__content {max-height: 0;max-width: 0;overflow: hidden;text-align: left;background-color: #f0f8ff;}#sk-container-id-1 div.sk-toggleable__content pre {margin: 0.2em;color: black;border-radius: 0.25em;background-color: #f0f8ff;}#sk-container-id-1 input.sk-toggleable__control:checked~div.sk-toggleable__content {max-height: 200px;max-width: 100%;overflow: auto;}#sk-container-id-1 input.sk-toggleable__control:checked~label.sk-toggleable__label-arrow:before {content: \"▾\";}#sk-container-id-1 div.sk-estimator input.sk-toggleable__control:checked~label.sk-toggleable__label {background-color: #d4ebff;}#sk-container-id-1 div.sk-label input.sk-toggleable__control:checked~label.sk-toggleable__label {background-color: #d4ebff;}#sk-container-id-1 input.sk-hidden--visually {border: 0;clip: rect(1px 1px 1px 1px);clip: rect(1px, 1px, 1px, 1px);height: 1px;margin: -1px;overflow: hidden;padding: 0;position: absolute;width: 1px;}#sk-container-id-1 div.sk-estimator {font-family: monospace;background-color: #f0f8ff;border: 1px dotted black;border-radius: 0.25em;box-sizing: border-box;margin-bottom: 0.5em;}#sk-container-id-1 div.sk-estimator:hover {background-color: #d4ebff;}#sk-container-id-1 div.sk-parallel-item::after {content: \"\";width: 100%;border-bottom: 1px solid gray;flex-grow: 1;}#sk-container-id-1 div.sk-label:hover label.sk-toggleable__label {background-color: #d4ebff;}#sk-container-id-1 div.sk-serial::before {content: \"\";position: absolute;border-left: 1px solid gray;box-sizing: border-box;top: 0;bottom: 0;left: 50%;z-index: 0;}#sk-container-id-1 div.sk-serial {display: flex;flex-direction: column;align-items: center;background-color: white;padding-right: 0.2em;padding-left: 0.2em;position: relative;}#sk-container-id-1 div.sk-item {position: relative;z-index: 1;}#sk-container-id-1 div.sk-parallel {display: flex;align-items: stretch;justify-content: center;background-color: white;position: relative;}#sk-container-id-1 div.sk-item::before, #sk-container-id-1 div.sk-parallel-item::before {content: \"\";position: absolute;border-left: 1px solid gray;box-sizing: border-box;top: 0;bottom: 0;left: 50%;z-index: -1;}#sk-container-id-1 div.sk-parallel-item {display: flex;flex-direction: column;z-index: 1;position: relative;background-color: white;}#sk-container-id-1 div.sk-parallel-item:first-child::after {align-self: flex-end;width: 50%;}#sk-container-id-1 div.sk-parallel-item:last-child::after {align-self: flex-start;width: 50%;}#sk-container-id-1 div.sk-parallel-item:only-child::after {width: 0;}#sk-container-id-1 div.sk-dashed-wrapped {border: 1px dashed gray;margin: 0 0.4em 0.5em 0.4em;box-sizing: border-box;padding-bottom: 0.4em;background-color: white;}#sk-container-id-1 div.sk-label label {font-family: monospace;font-weight: bold;display: inline-block;line-height: 1.2em;}#sk-container-id-1 div.sk-label-container {text-align: center;}#sk-container-id-1 div.sk-container {/* jupyter's `normalize.less` sets `[hidden] { display: none; }` but bootstrap.min.css set `[hidden] { display: none !important; }` so we also need the `!important` here to be able to override the default hidden behavior on the sphinx rendered scikit-learn.org. See: https://github.com/scikit-learn/scikit-learn/issues/21755 */display: inline-block !important;position: relative;}#sk-container-id-1 div.sk-text-repr-fallback {display: none;}</style><div id=\"sk-container-id-1\" class=\"sk-top-container\"><div class=\"sk-text-repr-fallback\"><pre>RFECV(estimator=RandomForestClassifier(random_state=42),\n",
              "      scoring=&#x27;balanced_accuracy&#x27;)</pre><b>In a Jupyter environment, please rerun this cell to show the HTML representation or trust the notebook. <br />On GitHub, the HTML representation is unable to render, please try loading this page with nbviewer.org.</b></div><div class=\"sk-container\" hidden><div class=\"sk-item sk-dashed-wrapped\"><div class=\"sk-label-container\"><div class=\"sk-label sk-toggleable\"><input class=\"sk-toggleable__control sk-hidden--visually\" id=\"sk-estimator-id-1\" type=\"checkbox\" ><label for=\"sk-estimator-id-1\" class=\"sk-toggleable__label sk-toggleable__label-arrow\">RFECV</label><div class=\"sk-toggleable__content\"><pre>RFECV(estimator=RandomForestClassifier(random_state=42),\n",
              "      scoring=&#x27;balanced_accuracy&#x27;)</pre></div></div></div><div class=\"sk-parallel\"><div class=\"sk-parallel-item\"><div class=\"sk-item\"><div class=\"sk-label-container\"><div class=\"sk-label sk-toggleable\"><input class=\"sk-toggleable__control sk-hidden--visually\" id=\"sk-estimator-id-2\" type=\"checkbox\" ><label for=\"sk-estimator-id-2\" class=\"sk-toggleable__label sk-toggleable__label-arrow\">estimator: RandomForestClassifier</label><div class=\"sk-toggleable__content\"><pre>RandomForestClassifier(random_state=42)</pre></div></div></div><div class=\"sk-serial\"><div class=\"sk-item\"><div class=\"sk-estimator sk-toggleable\"><input class=\"sk-toggleable__control sk-hidden--visually\" id=\"sk-estimator-id-3\" type=\"checkbox\" ><label for=\"sk-estimator-id-3\" class=\"sk-toggleable__label sk-toggleable__label-arrow\">RandomForestClassifier</label><div class=\"sk-toggleable__content\"><pre>RandomForestClassifier(random_state=42)</pre></div></div></div></div></div></div></div></div></div></div>"
            ],
            "text/plain": [
              "RFECV(estimator=RandomForestClassifier(random_state=42),\n",
              "      scoring='balanced_accuracy')"
            ]
          },
          "execution_count": 19,
          "metadata": {},
          "output_type": "execute_result"
        }
      ],
      "source": [
        "from sklearn.feature_selection import RFECV\n",
        "from sklearn.ensemble import RandomForestClassifier\n",
        "\n",
        "rfecv = RFECV(\n",
        "    estimator=RandomForestClassifier(random_state=42),\n",
        "    min_features_to_select=1,  # Eliminate at least one feature\n",
        "    scoring=\"balanced_accuracy\"\n",
        ")\n",
        "\n",
        "rfecv.fit(X_train, y_train)\n"
      ]
    },
    {
      "cell_type": "code",
      "execution_count": 20,
      "metadata": {
        "colab": {
          "base_uri": "https://localhost:8080/"
        },
        "id": "Rv7oMd8sYa45",
        "outputId": "44e5e172-4576-4ab6-f3d9-753af5161bcf"
      },
      "outputs": [
        {
          "name": "stdout",
          "output_type": "stream",
          "text": [
            "Eliminated 12 features, from 19 to 7\n"
          ]
        }
      ],
      "source": [
        "print(\"Eliminated %d features, from %d features to %d features\" % (\n",
        "    len(X.columns) - rfecv.n_features_,\n",
        "    len(X.columns),\n",
        "    rfecv.n_features_\n",
        ")\n",
        ")\n",
        "\n",
        "columns_to_keep = X.columns[rfecv.support_]\n",
        "\n",
        "X = X[columns_to_keep]\n",
        "X_train = X_train[columns_to_keep]\n",
        "X_test = X_test[columns_to_keep]\n"
      ]
    },
    {
      "cell_type": "markdown",
      "metadata": {
        "id": "pumyaOvphvc7"
      },
      "source": [
        "## Utility functions"
      ]
    },
    {
      "cell_type": "code",
      "execution_count": 22,
      "metadata": {
        "id": "PAuD9p1Ph193"
      },
      "outputs": [],
      "source": [
        "from sklearn.metrics import balanced_accuracy_score\n",
        "\n",
        "\n",
        "def evaluate(clf):\n",
        "    \"\"\"\n",
        "    Evaluates a classifier on the test set.\n",
        "    \"\"\"\n",
        "    y_pred = clf.predict(X_test)\n",
        "    print(\"Accuracy (on test set): \", balanced_accuracy_score(y_test, y_pred))\n",
        "\n",
        "\n",
        "def evaluate_grid(grid_clf):\n",
        "    \"\"\"\n",
        "    Evaluates a grid search on the test set.\n",
        "    \"\"\"\n",
        "    print(\"Best parameters: \", grid_clf.best_params_)\n",
        "    print(\"Accuracy of best (means of cross-validated scores on train set): \",\n",
        "          grid_clf.best_score_)\n",
        "    print(\"Accuracy of best (on test set): \",\n",
        "          balanced_accuracy_score(y_test, grid_clf.predict(X_test)))\n"
      ]
    },
    {
      "cell_type": "markdown",
      "metadata": {
        "id": "oSgeqcnKlaCb"
      },
      "source": [
        "# Basic Classifiers"
      ]
    },
    {
      "cell_type": "markdown",
      "metadata": {
        "id": "2SlW8I8Qkyhc"
      },
      "source": [
        "## Decision Tree"
      ]
    },
    {
      "cell_type": "markdown",
      "metadata": {
        "id": "-KN8rmq_7dCu"
      },
      "source": [
        "We expect decision trees to behave well for this problem, because they are particularly suited for imbalanced classifications.\n",
        "\n",
        "We will begin with a baseline decision tree, that we will try to improve upon by tuning the hyperparameters."
      ]
    },
    {
      "cell_type": "code",
      "execution_count": 23,
      "metadata": {
        "colab": {
          "base_uri": "https://localhost:8080/"
        },
        "id": "UsWoThHuoL3r",
        "outputId": "773af759-5df9-4587-afac-53d4b191e390"
      },
      "outputs": [
        {
          "data": {
            "text/html": [
              "<style>#sk-container-id-2 {color: black;background-color: white;}#sk-container-id-2 pre{padding: 0;}#sk-container-id-2 div.sk-toggleable {background-color: white;}#sk-container-id-2 label.sk-toggleable__label {cursor: pointer;display: block;width: 100%;margin-bottom: 0;padding: 0.3em;box-sizing: border-box;text-align: center;}#sk-container-id-2 label.sk-toggleable__label-arrow:before {content: \"▸\";float: left;margin-right: 0.25em;color: #696969;}#sk-container-id-2 label.sk-toggleable__label-arrow:hover:before {color: black;}#sk-container-id-2 div.sk-estimator:hover label.sk-toggleable__label-arrow:before {color: black;}#sk-container-id-2 div.sk-toggleable__content {max-height: 0;max-width: 0;overflow: hidden;text-align: left;background-color: #f0f8ff;}#sk-container-id-2 div.sk-toggleable__content pre {margin: 0.2em;color: black;border-radius: 0.25em;background-color: #f0f8ff;}#sk-container-id-2 input.sk-toggleable__control:checked~div.sk-toggleable__content {max-height: 200px;max-width: 100%;overflow: auto;}#sk-container-id-2 input.sk-toggleable__control:checked~label.sk-toggleable__label-arrow:before {content: \"▾\";}#sk-container-id-2 div.sk-estimator input.sk-toggleable__control:checked~label.sk-toggleable__label {background-color: #d4ebff;}#sk-container-id-2 div.sk-label input.sk-toggleable__control:checked~label.sk-toggleable__label {background-color: #d4ebff;}#sk-container-id-2 input.sk-hidden--visually {border: 0;clip: rect(1px 1px 1px 1px);clip: rect(1px, 1px, 1px, 1px);height: 1px;margin: -1px;overflow: hidden;padding: 0;position: absolute;width: 1px;}#sk-container-id-2 div.sk-estimator {font-family: monospace;background-color: #f0f8ff;border: 1px dotted black;border-radius: 0.25em;box-sizing: border-box;margin-bottom: 0.5em;}#sk-container-id-2 div.sk-estimator:hover {background-color: #d4ebff;}#sk-container-id-2 div.sk-parallel-item::after {content: \"\";width: 100%;border-bottom: 1px solid gray;flex-grow: 1;}#sk-container-id-2 div.sk-label:hover label.sk-toggleable__label {background-color: #d4ebff;}#sk-container-id-2 div.sk-serial::before {content: \"\";position: absolute;border-left: 1px solid gray;box-sizing: border-box;top: 0;bottom: 0;left: 50%;z-index: 0;}#sk-container-id-2 div.sk-serial {display: flex;flex-direction: column;align-items: center;background-color: white;padding-right: 0.2em;padding-left: 0.2em;position: relative;}#sk-container-id-2 div.sk-item {position: relative;z-index: 1;}#sk-container-id-2 div.sk-parallel {display: flex;align-items: stretch;justify-content: center;background-color: white;position: relative;}#sk-container-id-2 div.sk-item::before, #sk-container-id-2 div.sk-parallel-item::before {content: \"\";position: absolute;border-left: 1px solid gray;box-sizing: border-box;top: 0;bottom: 0;left: 50%;z-index: -1;}#sk-container-id-2 div.sk-parallel-item {display: flex;flex-direction: column;z-index: 1;position: relative;background-color: white;}#sk-container-id-2 div.sk-parallel-item:first-child::after {align-self: flex-end;width: 50%;}#sk-container-id-2 div.sk-parallel-item:last-child::after {align-self: flex-start;width: 50%;}#sk-container-id-2 div.sk-parallel-item:only-child::after {width: 0;}#sk-container-id-2 div.sk-dashed-wrapped {border: 1px dashed gray;margin: 0 0.4em 0.5em 0.4em;box-sizing: border-box;padding-bottom: 0.4em;background-color: white;}#sk-container-id-2 div.sk-label label {font-family: monospace;font-weight: bold;display: inline-block;line-height: 1.2em;}#sk-container-id-2 div.sk-label-container {text-align: center;}#sk-container-id-2 div.sk-container {/* jupyter's `normalize.less` sets `[hidden] { display: none; }` but bootstrap.min.css set `[hidden] { display: none !important; }` so we also need the `!important` here to be able to override the default hidden behavior on the sphinx rendered scikit-learn.org. See: https://github.com/scikit-learn/scikit-learn/issues/21755 */display: inline-block !important;position: relative;}#sk-container-id-2 div.sk-text-repr-fallback {display: none;}</style><div id=\"sk-container-id-2\" class=\"sk-top-container\"><div class=\"sk-text-repr-fallback\"><pre>DecisionTreeClassifier(class_weight=&#x27;balanced&#x27;, max_depth=2, random_state=42)</pre><b>In a Jupyter environment, please rerun this cell to show the HTML representation or trust the notebook. <br />On GitHub, the HTML representation is unable to render, please try loading this page with nbviewer.org.</b></div><div class=\"sk-container\" hidden><div class=\"sk-item\"><div class=\"sk-estimator sk-toggleable\"><input class=\"sk-toggleable__control sk-hidden--visually\" id=\"sk-estimator-id-4\" type=\"checkbox\" checked><label for=\"sk-estimator-id-4\" class=\"sk-toggleable__label sk-toggleable__label-arrow\">DecisionTreeClassifier</label><div class=\"sk-toggleable__content\"><pre>DecisionTreeClassifier(class_weight=&#x27;balanced&#x27;, max_depth=2, random_state=42)</pre></div></div></div></div></div>"
            ],
            "text/plain": [
              "DecisionTreeClassifier(class_weight='balanced', max_depth=2, random_state=42)"
            ]
          },
          "execution_count": 23,
          "metadata": {},
          "output_type": "execute_result"
        }
      ],
      "source": [
        "from sklearn.tree import DecisionTreeClassifier\n",
        "\n",
        "# class_weight=balanced adjusts weights inversely proportional to class frequencies\n",
        "tree_clf = DecisionTreeClassifier(\n",
        "    max_depth=2, random_state=42, class_weight=\"balanced\")\n",
        "tree_clf.fit(X_train, y_train)\n"
      ]
    },
    {
      "cell_type": "code",
      "execution_count": 24,
      "metadata": {
        "colab": {
          "base_uri": "https://localhost:8080/"
        },
        "id": "snKquz73pknD",
        "outputId": "36db9e8a-a58c-4dc0-f544-73224f4504a2"
      },
      "outputs": [
        {
          "name": "stdout",
          "output_type": "stream",
          "text": [
            "Accuracy (on test set):  0.8419354108674497\n"
          ]
        }
      ],
      "source": [
        "evaluate(tree_clf)\n"
      ]
    },
    {
      "cell_type": "markdown",
      "metadata": {
        "id": "rGX8ddr2aY4g"
      },
      "source": [
        "We can also visualize the decision tree:"
      ]
    },
    {
      "cell_type": "code",
      "execution_count": 26,
      "metadata": {
        "colab": {
          "base_uri": "https://localhost:8080/"
        },
        "id": "uQe0rzjtkfaB",
        "outputId": "64d46688-6f6b-499e-da4c-de2cb086db4a"
      },
      "outputs": [
        {
          "data": {
            "image/svg+xml": "<?xml version=\"1.0\" encoding=\"UTF-8\" standalone=\"no\"?>\n<!DOCTYPE svg PUBLIC \"-//W3C//DTD SVG 1.1//EN\"\n \"http://www.w3.org/Graphics/SVG/1.1/DTD/svg11.dtd\">\n<!-- Generated by graphviz version 5.0.0 (0)\n -->\n<!-- Title: Tree Pages: 1 -->\n<svg width=\"796pt\" height=\"314pt\"\n viewBox=\"0.00 0.00 796.00 314.00\" xmlns=\"http://www.w3.org/2000/svg\" xmlns:xlink=\"http://www.w3.org/1999/xlink\">\n<g id=\"graph0\" class=\"graph\" transform=\"scale(1 1) rotate(0) translate(4 310)\">\n<title>Tree</title>\n<polygon fill=\"white\" stroke=\"transparent\" points=\"-4,4 -4,-310 792,-310 792,4 -4,4\"/>\n<!-- 0 -->\n<g id=\"node1\" class=\"node\">\n<title>0</title>\n<path fill=\"#ffffff\" stroke=\"black\" d=\"M464.5,-306C464.5,-306 326.5,-306 326.5,-306 320.5,-306 314.5,-300 314.5,-294 314.5,-294 314.5,-235 314.5,-235 314.5,-229 320.5,-223 326.5,-223 326.5,-223 464.5,-223 464.5,-223 470.5,-223 476.5,-229 476.5,-235 476.5,-235 476.5,-294 476.5,-294 476.5,-300 470.5,-306 464.5,-306\"/>\n<text text-anchor=\"middle\" x=\"395.5\" y=\"-290.8\" font-family=\"Helvetica,sans-Serif\" font-size=\"14.00\">page_values &lt;= 0.0</text>\n<text text-anchor=\"middle\" x=\"395.5\" y=\"-275.8\" font-family=\"Helvetica,sans-Serif\" font-size=\"14.00\">gini = 0.5</text>\n<text text-anchor=\"middle\" x=\"395.5\" y=\"-260.8\" font-family=\"Helvetica,sans-Serif\" font-size=\"14.00\">samples = 8543</text>\n<text text-anchor=\"middle\" x=\"395.5\" y=\"-245.8\" font-family=\"Helvetica,sans-Serif\" font-size=\"14.00\">value = [4271.5, 4271.5]</text>\n<text text-anchor=\"middle\" x=\"395.5\" y=\"-230.8\" font-family=\"Helvetica,sans-Serif\" font-size=\"14.00\">class = No Revenue</text>\n</g>\n<!-- 1 -->\n<g id=\"node2\" class=\"node\">\n<title>1</title>\n<path fill=\"#eb9c64\" stroke=\"black\" d=\"M375,-187C375,-187 214,-187 214,-187 208,-187 202,-181 202,-175 202,-175 202,-116 202,-116 202,-110 208,-104 214,-104 214,-104 375,-104 375,-104 381,-104 387,-110 387,-116 387,-116 387,-175 387,-175 387,-181 381,-187 375,-187\"/>\n<text text-anchor=\"middle\" x=\"294.5\" y=\"-171.8\" font-family=\"Helvetica,sans-Serif\" font-size=\"14.00\">month &lt;= 0.722</text>\n<text text-anchor=\"middle\" x=\"294.5\" y=\"-156.8\" font-family=\"Helvetica,sans-Serif\" font-size=\"14.00\">gini = 0.293</text>\n<text text-anchor=\"middle\" x=\"294.5\" y=\"-141.8\" font-family=\"Helvetica,sans-Serif\" font-size=\"14.00\">samples = 6632</text>\n<text text-anchor=\"middle\" x=\"294.5\" y=\"-126.8\" font-family=\"Helvetica,sans-Serif\" font-size=\"14.00\">value = [3778.977, 818.491]</text>\n<text text-anchor=\"middle\" x=\"294.5\" y=\"-111.8\" font-family=\"Helvetica,sans-Serif\" font-size=\"14.00\">class = No Revenue</text>\n</g>\n<!-- 0&#45;&gt;1 -->\n<g id=\"edge1\" class=\"edge\">\n<title>0&#45;&gt;1</title>\n<path fill=\"none\" stroke=\"black\" d=\"M360.46,-222.91C352.62,-213.83 344.24,-204.12 336.17,-194.77\"/>\n<polygon fill=\"black\" stroke=\"black\" points=\"338.66,-192.3 329.48,-187.02 333.36,-196.88 338.66,-192.3\"/>\n<text text-anchor=\"middle\" x=\"327.65\" y=\"-208.25\" font-family=\"Helvetica,sans-Serif\" font-size=\"14.00\">True</text>\n</g>\n<!-- 4 -->\n<g id=\"node5\" class=\"node\">\n<title>4</title>\n<path fill=\"#55abe9\" stroke=\"black\" d=\"M578,-187C578,-187 417,-187 417,-187 411,-187 405,-181 405,-175 405,-175 405,-116 405,-116 405,-110 411,-104 417,-104 417,-104 578,-104 578,-104 584,-104 590,-110 590,-116 590,-116 590,-175 590,-175 590,-181 584,-187 578,-187\"/>\n<text text-anchor=\"middle\" x=\"497.5\" y=\"-171.8\" font-family=\"Helvetica,sans-Serif\" font-size=\"14.00\">bounce_rates &lt;= 0.002</text>\n<text text-anchor=\"middle\" x=\"497.5\" y=\"-156.8\" font-family=\"Helvetica,sans-Serif\" font-size=\"14.00\">gini = 0.218</text>\n<text text-anchor=\"middle\" x=\"497.5\" y=\"-141.8\" font-family=\"Helvetica,sans-Serif\" font-size=\"14.00\">samples = 1911</text>\n<text text-anchor=\"middle\" x=\"497.5\" y=\"-126.8\" font-family=\"Helvetica,sans-Serif\" font-size=\"14.00\">value = [492.523, 3453.009]</text>\n<text text-anchor=\"middle\" x=\"497.5\" y=\"-111.8\" font-family=\"Helvetica,sans-Serif\" font-size=\"14.00\">class = Revenue</text>\n</g>\n<!-- 0&#45;&gt;4 -->\n<g id=\"edge4\" class=\"edge\">\n<title>0&#45;&gt;4</title>\n<path fill=\"none\" stroke=\"black\" d=\"M430.89,-222.91C438.8,-213.83 447.27,-204.12 455.42,-194.77\"/>\n<polygon fill=\"black\" stroke=\"black\" points=\"458.24,-196.86 462.17,-187.02 452.96,-192.26 458.24,-196.86\"/>\n<text text-anchor=\"middle\" x=\"463.88\" y=\"-208.26\" font-family=\"Helvetica,sans-Serif\" font-size=\"14.00\">False</text>\n</g>\n<!-- 2 -->\n<g id=\"node3\" class=\"node\">\n<title>2</title>\n<path fill=\"#e78a47\" stroke=\"black\" d=\"M173,-68C173,-68 12,-68 12,-68 6,-68 0,-62 0,-56 0,-56 0,-12 0,-12 0,-6 6,0 12,0 12,0 173,0 173,0 179,0 185,-6 185,-12 185,-12 185,-56 185,-56 185,-62 179,-68 173,-68\"/>\n<text text-anchor=\"middle\" x=\"92.5\" y=\"-52.8\" font-family=\"Helvetica,sans-Serif\" font-size=\"14.00\">gini = 0.12</text>\n<text text-anchor=\"middle\" x=\"92.5\" y=\"-37.8\" font-family=\"Helvetica,sans-Serif\" font-size=\"14.00\">samples = 4639</text>\n<text text-anchor=\"middle\" x=\"92.5\" y=\"-22.8\" font-family=\"Helvetica,sans-Serif\" font-size=\"14.00\">value = [2715.102, 185.439]</text>\n<text text-anchor=\"middle\" x=\"92.5\" y=\"-7.8\" font-family=\"Helvetica,sans-Serif\" font-size=\"14.00\">class = No Revenue</text>\n</g>\n<!-- 1&#45;&gt;2 -->\n<g id=\"edge2\" class=\"edge\">\n<title>1&#45;&gt;2</title>\n<path fill=\"none\" stroke=\"black\" d=\"M219.57,-103.88C200.85,-93.73 180.85,-82.89 162.38,-72.88\"/>\n<polygon fill=\"black\" stroke=\"black\" points=\"163.92,-69.73 153.46,-68.04 160.58,-75.89 163.92,-69.73\"/>\n</g>\n<!-- 3 -->\n<g id=\"node4\" class=\"node\">\n<title>3</title>\n<path fill=\"#f4ccaf\" stroke=\"black\" d=\"M376,-68C376,-68 215,-68 215,-68 209,-68 203,-62 203,-56 203,-56 203,-12 203,-12 203,-6 209,0 215,0 215,0 376,0 376,0 382,0 388,-6 388,-12 388,-12 388,-56 388,-56 388,-62 382,-68 376,-68\"/>\n<text text-anchor=\"middle\" x=\"295.5\" y=\"-52.8\" font-family=\"Helvetica,sans-Serif\" font-size=\"14.00\">gini = 0.468</text>\n<text text-anchor=\"middle\" x=\"295.5\" y=\"-37.8\" font-family=\"Helvetica,sans-Serif\" font-size=\"14.00\">samples = 1993</text>\n<text text-anchor=\"middle\" x=\"295.5\" y=\"-22.8\" font-family=\"Helvetica,sans-Serif\" font-size=\"14.00\">value = [1063.874, 633.052]</text>\n<text text-anchor=\"middle\" x=\"295.5\" y=\"-7.8\" font-family=\"Helvetica,sans-Serif\" font-size=\"14.00\">class = No Revenue</text>\n</g>\n<!-- 1&#45;&gt;3 -->\n<g id=\"edge3\" class=\"edge\">\n<title>1&#45;&gt;3</title>\n<path fill=\"none\" stroke=\"black\" d=\"M294.87,-103.73C294.95,-95.52 295.03,-86.86 295.1,-78.56\"/>\n<polygon fill=\"black\" stroke=\"black\" points=\"298.6,-78.33 295.2,-68.3 291.6,-78.27 298.6,-78.33\"/>\n</g>\n<!-- 5 -->\n<g id=\"node6\" class=\"node\">\n<title>5</title>\n<path fill=\"#46a4e7\" stroke=\"black\" d=\"M573,-68C573,-68 420,-68 420,-68 414,-68 408,-62 408,-56 408,-56 408,-12 408,-12 408,-6 414,0 420,0 420,0 573,0 573,0 579,0 585,-6 585,-12 585,-12 585,-56 585,-56 585,-62 579,-68 573,-68\"/>\n<text text-anchor=\"middle\" x=\"496.5\" y=\"-52.8\" font-family=\"Helvetica,sans-Serif\" font-size=\"14.00\">gini = 0.118</text>\n<text text-anchor=\"middle\" x=\"496.5\" y=\"-37.8\" font-family=\"Helvetica,sans-Serif\" font-size=\"14.00\">samples = 856</text>\n<text text-anchor=\"middle\" x=\"496.5\" y=\"-22.8\" font-family=\"Helvetica,sans-Serif\" font-size=\"14.00\">value = [134.54, 2011.058]</text>\n<text text-anchor=\"middle\" x=\"496.5\" y=\"-7.8\" font-family=\"Helvetica,sans-Serif\" font-size=\"14.00\">class = Revenue</text>\n</g>\n<!-- 4&#45;&gt;5 -->\n<g id=\"edge5\" class=\"edge\">\n<title>4&#45;&gt;5</title>\n<path fill=\"none\" stroke=\"black\" d=\"M497.13,-103.73C497.05,-95.52 496.97,-86.86 496.9,-78.56\"/>\n<polygon fill=\"black\" stroke=\"black\" points=\"500.4,-78.27 496.8,-68.3 493.4,-78.33 500.4,-78.27\"/>\n</g>\n<!-- 6 -->\n<g id=\"node7\" class=\"node\">\n<title>6</title>\n<path fill=\"#6ab5eb\" stroke=\"black\" d=\"M776,-68C776,-68 615,-68 615,-68 609,-68 603,-62 603,-56 603,-56 603,-12 603,-12 603,-6 609,0 615,0 615,0 776,0 776,0 782,0 788,-6 788,-12 788,-12 788,-56 788,-56 788,-62 782,-68 776,-68\"/>\n<text text-anchor=\"middle\" x=\"695.5\" y=\"-52.8\" font-family=\"Helvetica,sans-Serif\" font-size=\"14.00\">gini = 0.319</text>\n<text text-anchor=\"middle\" x=\"695.5\" y=\"-37.8\" font-family=\"Helvetica,sans-Serif\" font-size=\"14.00\">samples = 1055</text>\n<text text-anchor=\"middle\" x=\"695.5\" y=\"-22.8\" font-family=\"Helvetica,sans-Serif\" font-size=\"14.00\">value = [357.983, 1441.951]</text>\n<text text-anchor=\"middle\" x=\"695.5\" y=\"-7.8\" font-family=\"Helvetica,sans-Serif\" font-size=\"14.00\">class = Revenue</text>\n</g>\n<!-- 4&#45;&gt;6 -->\n<g id=\"edge6\" class=\"edge\">\n<title>4&#45;&gt;6</title>\n<path fill=\"none\" stroke=\"black\" d=\"M570.95,-103.88C589.29,-93.73 608.9,-82.89 627,-72.88\"/>\n<polygon fill=\"black\" stroke=\"black\" points=\"628.69,-75.95 635.75,-68.04 625.31,-69.82 628.69,-75.95\"/>\n</g>\n</g>\n</svg>\n",
            "text/plain": [
              "<graphviz.sources.Source at 0x7fe97cd00f70>"
            ]
          },
          "execution_count": 26,
          "metadata": {},
          "output_type": "execute_result"
        }
      ],
      "source": [
        "from graphviz import Source\n",
        "from sklearn.tree import export_graphviz\n",
        "\n",
        "export_graphviz(\n",
        "    tree_clf,\n",
        "    out_file=os.path.join(IMAGES_PATH, \"tree.dot\"),\n",
        "    feature_names=X.columns,\n",
        "    class_names=[\"No Revenue\", \"Revenue\"],\n",
        "    filled=True,\n",
        "    rounded=True,\n",
        ")\n",
        "\n",
        "Source.from_file(os.path.join(IMAGES_PATH, \"tree.dot\"))\n"
      ]
    },
    {
      "cell_type": "markdown",
      "metadata": {
        "id": "stQqHgH77xJD"
      },
      "source": [
        "To check for overfitting, we can plot the accuracy on the training and test sets.\n",
        "Here we also evaluate how the decision trees behaves when using different criteria."
      ]
    },
    {
      "cell_type": "code",
      "execution_count": 27,
      "metadata": {
        "id": "N4MEkvyEfyL1"
      },
      "outputs": [],
      "source": [
        "def evaluate_decision_tree(values, criterion=\"gini\"):\n",
        "    train_scores, test_scores = list(), list()\n",
        "\n",
        "    for i in values:\n",
        "        # configure the model\n",
        "        model = DecisionTreeClassifier(\n",
        "            max_depth=i, criterion=criterion, random_state=42)\n",
        "        # fit model on the training dataset\n",
        "        model.fit(X_train, y_train)\n",
        "        # evaluate on the train dataset\n",
        "        train_yhat = model.predict(X_train)\n",
        "        train_acc = balanced_accuracy_score(y_train, train_yhat)\n",
        "        train_scores.append(train_acc)\n",
        "\n",
        "        # evaluate on the test dataset\n",
        "        test_yhat = model.predict(X_test)\n",
        "        test_acc = balanced_accuracy_score(y_test, test_yhat)\n",
        "        test_scores.append(test_acc)\n",
        "        # summarize progress\n",
        "        print('>%d, train: %.3f, test: %.3f' % (i, train_acc, test_acc))\n",
        "    # plot of train and test scores vs tree depth\n",
        "    plt.plot(values, train_scores, '-o', label='Train')\n",
        "    plt.plot(values, test_scores, '-o', label='Test')\n",
        "    plt.legend()\n",
        "    plt.show()\n"
      ]
    },
    {
      "cell_type": "code",
      "execution_count": 28,
      "metadata": {
        "colab": {
          "base_uri": "https://localhost:8080/"
        },
        "id": "147A9V1cidIW",
        "outputId": "f7f450c8-1561-45f6-f478-52cd8c8560d7"
      },
      "outputs": [
        {
          "name": "stdout",
          "output_type": "stream",
          "text": [
            ">5, train: 0.767, test: 0.748\n",
            ">6, train: 0.804, test: 0.770\n",
            ">7, train: 0.814, test: 0.769\n",
            ">8, train: 0.819, test: 0.746\n",
            ">9, train: 0.847, test: 0.741\n",
            ">10, train: 0.870, test: 0.739\n",
            ">11, train: 0.886, test: 0.749\n",
            ">12, train: 0.901, test: 0.738\n",
            ">13, train: 0.922, test: 0.730\n",
            ">14, train: 0.932, test: 0.735\n",
            ">15, train: 0.950, test: 0.742\n",
            ">16, train: 0.951, test: 0.729\n",
            ">17, train: 0.966, test: 0.749\n",
            ">18, train: 0.973, test: 0.737\n",
            ">19, train: 0.972, test: 0.733\n",
            ">20, train: 0.978, test: 0.734\n",
            ">21, train: 0.978, test: 0.739\n",
            ">22, train: 0.981, test: 0.732\n",
            ">23, train: 0.985, test: 0.729\n",
            ">24, train: 0.986, test: 0.736\n",
            ">25, train: 0.987, test: 0.745\n",
            ">26, train: 0.989, test: 0.742\n",
            ">27, train: 0.992, test: 0.736\n",
            ">28, train: 0.996, test: 0.735\n",
            ">29, train: 0.998, test: 0.734\n"
          ]
        },
        {
          "data": {
            "image/png": "[encoded data removed]",
            "text/plain": [
              "<Figure size 432x288 with 1 Axes>"
            ]
          },
          "metadata": {
            "needs_background": "light"
          },
          "output_type": "display_data"
        }
      ],
      "source": [
        "evaluate_decision_tree([i for i in range(5, 30)])\n"
      ]
    },
    {
      "cell_type": "code",
      "execution_count": 29,
      "metadata": {
        "colab": {
          "base_uri": "https://localhost:8080/"
        },
        "id": "IiVVr8B2iziG",
        "outputId": "e46535ed-2d82-4c5b-b493-4c547feda91e"
      },
      "outputs": [
        {
          "name": "stdout",
          "output_type": "stream",
          "text": [
            ">5, train: 0.752, test: 0.735\n",
            ">6, train: 0.798, test: 0.774\n",
            ">7, train: 0.808, test: 0.772\n",
            ">8, train: 0.797, test: 0.737\n",
            ">9, train: 0.825, test: 0.745\n",
            ">10, train: 0.845, test: 0.734\n",
            ">11, train: 0.864, test: 0.737\n",
            ">12, train: 0.887, test: 0.738\n",
            ">13, train: 0.910, test: 0.737\n",
            ">14, train: 0.927, test: 0.737\n",
            ">15, train: 0.932, test: 0.738\n",
            ">16, train: 0.944, test: 0.735\n",
            ">17, train: 0.951, test: 0.739\n",
            ">18, train: 0.963, test: 0.738\n",
            ">19, train: 0.969, test: 0.737\n",
            ">20, train: 0.974, test: 0.739\n",
            ">21, train: 0.977, test: 0.739\n",
            ">22, train: 0.980, test: 0.730\n",
            ">23, train: 0.988, test: 0.739\n",
            ">24, train: 0.989, test: 0.737\n",
            ">25, train: 0.992, test: 0.731\n",
            ">26, train: 0.993, test: 0.738\n",
            ">27, train: 0.995, test: 0.735\n",
            ">28, train: 0.997, test: 0.739\n",
            ">29, train: 0.997, test: 0.735\n"
          ]
        },
        {
          "data": {
            "image/png": "[encoded data removed]",
            "text/plain": [
              "<Figure size 432x288 with 1 Axes>"
            ]
          },
          "metadata": {
            "needs_background": "light"
          },
          "output_type": "display_data"
        }
      ],
      "source": [
        "evaluate_decision_tree([i for i in range(5, 30)], criterion=\"entropy\")\n"
      ]
    },
    {
      "cell_type": "markdown",
      "metadata": {
        "id": "zfXVdFaL8n0u"
      },
      "source": [
        "For a more comprehensive hyperparameter tuning, `scikit-learn` provides the `GridSearchCV` class, which creates a grid search to find the best possibile hyperparameters for a model (by exhaustively trying all possible combinations of the given parameters), and evaluates each possible model through cross-validation, in order to keep overfitting in check. The model with the highest cross-validated score will be kept as the best one.\n",
        "\n",
        "We also evaluate the (balanced) accuracy of the best model using the test set."
      ]
    },
    {
      "cell_type": "code",
      "execution_count": 30,
      "metadata": {
        "colab": {
          "base_uri": "https://localhost:8080/"
        },
        "id": "6vWVnx8MPIPq",
        "outputId": "8db35d3b-a94c-48bd-a8fa-29e4d11fe38b"
      },
      "outputs": [
        {
          "data": {
            "text/html": [
              "<style>#sk-container-id-3 {color: black;background-color: white;}#sk-container-id-3 pre{padding: 0;}#sk-container-id-3 div.sk-toggleable {background-color: white;}#sk-container-id-3 label.sk-toggleable__label {cursor: pointer;display: block;width: 100%;margin-bottom: 0;padding: 0.3em;box-sizing: border-box;text-align: center;}#sk-container-id-3 label.sk-toggleable__label-arrow:before {content: \"▸\";float: left;margin-right: 0.25em;color: #696969;}#sk-container-id-3 label.sk-toggleable__label-arrow:hover:before {color: black;}#sk-container-id-3 div.sk-estimator:hover label.sk-toggleable__label-arrow:before {color: black;}#sk-container-id-3 div.sk-toggleable__content {max-height: 0;max-width: 0;overflow: hidden;text-align: left;background-color: #f0f8ff;}#sk-container-id-3 div.sk-toggleable__content pre {margin: 0.2em;color: black;border-radius: 0.25em;background-color: #f0f8ff;}#sk-container-id-3 input.sk-toggleable__control:checked~div.sk-toggleable__content {max-height: 200px;max-width: 100%;overflow: auto;}#sk-container-id-3 input.sk-toggleable__control:checked~label.sk-toggleable__label-arrow:before {content: \"▾\";}#sk-container-id-3 div.sk-estimator input.sk-toggleable__control:checked~label.sk-toggleable__label {background-color: #d4ebff;}#sk-container-id-3 div.sk-label input.sk-toggleable__control:checked~label.sk-toggleable__label {background-color: #d4ebff;}#sk-container-id-3 input.sk-hidden--visually {border: 0;clip: rect(1px 1px 1px 1px);clip: rect(1px, 1px, 1px, 1px);height: 1px;margin: -1px;overflow: hidden;padding: 0;position: absolute;width: 1px;}#sk-container-id-3 div.sk-estimator {font-family: monospace;background-color: #f0f8ff;border: 1px dotted black;border-radius: 0.25em;box-sizing: border-box;margin-bottom: 0.5em;}#sk-container-id-3 div.sk-estimator:hover {background-color: #d4ebff;}#sk-container-id-3 div.sk-parallel-item::after {content: \"\";width: 100%;border-bottom: 1px solid gray;flex-grow: 1;}#sk-container-id-3 div.sk-label:hover label.sk-toggleable__label {background-color: #d4ebff;}#sk-container-id-3 div.sk-serial::before {content: \"\";position: absolute;border-left: 1px solid gray;box-sizing: border-box;top: 0;bottom: 0;left: 50%;z-index: 0;}#sk-container-id-3 div.sk-serial {display: flex;flex-direction: column;align-items: center;background-color: white;padding-right: 0.2em;padding-left: 0.2em;position: relative;}#sk-container-id-3 div.sk-item {position: relative;z-index: 1;}#sk-container-id-3 div.sk-parallel {display: flex;align-items: stretch;justify-content: center;background-color: white;position: relative;}#sk-container-id-3 div.sk-item::before, #sk-container-id-3 div.sk-parallel-item::before {content: \"\";position: absolute;border-left: 1px solid gray;box-sizing: border-box;top: 0;bottom: 0;left: 50%;z-index: -1;}#sk-container-id-3 div.sk-parallel-item {display: flex;flex-direction: column;z-index: 1;position: relative;background-color: white;}#sk-container-id-3 div.sk-parallel-item:first-child::after {align-self: flex-end;width: 50%;}#sk-container-id-3 div.sk-parallel-item:last-child::after {align-self: flex-start;width: 50%;}#sk-container-id-3 div.sk-parallel-item:only-child::after {width: 0;}#sk-container-id-3 div.sk-dashed-wrapped {border: 1px dashed gray;margin: 0 0.4em 0.5em 0.4em;box-sizing: border-box;padding-bottom: 0.4em;background-color: white;}#sk-container-id-3 div.sk-label label {font-family: monospace;font-weight: bold;display: inline-block;line-height: 1.2em;}#sk-container-id-3 div.sk-label-container {text-align: center;}#sk-container-id-3 div.sk-container {/* jupyter's `normalize.less` sets `[hidden] { display: none; }` but bootstrap.min.css set `[hidden] { display: none !important; }` so we also need the `!important` here to be able to override the default hidden behavior on the sphinx rendered scikit-learn.org. See: https://github.com/scikit-learn/scikit-learn/issues/21755 */display: inline-block !important;position: relative;}#sk-container-id-3 div.sk-text-repr-fallback {display: none;}</style><div id=\"sk-container-id-3\" class=\"sk-top-container\"><div class=\"sk-text-repr-fallback\"><pre>GridSearchCV(estimator=DecisionTreeClassifier(class_weight=&#x27;balanced&#x27;,\n",
              "                                              random_state=42),\n",
              "             param_grid={&#x27;criterion&#x27;: [&#x27;gini&#x27;, &#x27;entropy&#x27;],\n",
              "                         &#x27;max_depth&#x27;: [1, 2, 3, 4, 5, 6, 7, 8, 9],\n",
              "                         &#x27;max_features&#x27;: [None, &#x27;log2&#x27;, &#x27;sqrt&#x27;]},\n",
              "             scoring=&#x27;balanced_accuracy&#x27;)</pre><b>In a Jupyter environment, please rerun this cell to show the HTML representation or trust the notebook. <br />On GitHub, the HTML representation is unable to render, please try loading this page with nbviewer.org.</b></div><div class=\"sk-container\" hidden><div class=\"sk-item sk-dashed-wrapped\"><div class=\"sk-label-container\"><div class=\"sk-label sk-toggleable\"><input class=\"sk-toggleable__control sk-hidden--visually\" id=\"sk-estimator-id-5\" type=\"checkbox\" ><label for=\"sk-estimator-id-5\" class=\"sk-toggleable__label sk-toggleable__label-arrow\">GridSearchCV</label><div class=\"sk-toggleable__content\"><pre>GridSearchCV(estimator=DecisionTreeClassifier(class_weight=&#x27;balanced&#x27;,\n",
              "                                              random_state=42),\n",
              "             param_grid={&#x27;criterion&#x27;: [&#x27;gini&#x27;, &#x27;entropy&#x27;],\n",
              "                         &#x27;max_depth&#x27;: [1, 2, 3, 4, 5, 6, 7, 8, 9],\n",
              "                         &#x27;max_features&#x27;: [None, &#x27;log2&#x27;, &#x27;sqrt&#x27;]},\n",
              "             scoring=&#x27;balanced_accuracy&#x27;)</pre></div></div></div><div class=\"sk-parallel\"><div class=\"sk-parallel-item\"><div class=\"sk-item\"><div class=\"sk-label-container\"><div class=\"sk-label sk-toggleable\"><input class=\"sk-toggleable__control sk-hidden--visually\" id=\"sk-estimator-id-6\" type=\"checkbox\" ><label for=\"sk-estimator-id-6\" class=\"sk-toggleable__label sk-toggleable__label-arrow\">estimator: DecisionTreeClassifier</label><div class=\"sk-toggleable__content\"><pre>DecisionTreeClassifier(class_weight=&#x27;balanced&#x27;, random_state=42)</pre></div></div></div><div class=\"sk-serial\"><div class=\"sk-item\"><div class=\"sk-estimator sk-toggleable\"><input class=\"sk-toggleable__control sk-hidden--visually\" id=\"sk-estimator-id-7\" type=\"checkbox\" ><label for=\"sk-estimator-id-7\" class=\"sk-toggleable__label sk-toggleable__label-arrow\">DecisionTreeClassifier</label><div class=\"sk-toggleable__content\"><pre>DecisionTreeClassifier(class_weight=&#x27;balanced&#x27;, random_state=42)</pre></div></div></div></div></div></div></div></div></div></div>"
            ],
            "text/plain": [
              "GridSearchCV(estimator=DecisionTreeClassifier(class_weight='balanced',\n",
              "                                              random_state=42),\n",
              "             param_grid={'criterion': ['gini', 'entropy'],\n",
              "                         'max_depth': [1, 2, 3, 4, 5, 6, 7, 8, 9],\n",
              "                         'max_features': [None, 'log2', 'sqrt']},\n",
              "             scoring='balanced_accuracy')"
            ]
          },
          "execution_count": 30,
          "metadata": {},
          "output_type": "execute_result"
        }
      ],
      "source": [
        "from sklearn.model_selection import GridSearchCV\n",
        "params = {\n",
        "    \"criterion\": [\"gini\", \"entropy\"],\n",
        "    \"max_depth\": list(range(1, 10)),\n",
        "    \"max_features\": [None, \"log2\", \"sqrt\"],\n",
        "}\n",
        "\n",
        "\n",
        "tree_clf = DecisionTreeClassifier(random_state=42, class_weight=\"balanced\")\n",
        "grid_tree_clf = GridSearchCV(tree_clf, params, scoring=\"balanced_accuracy\")\n",
        "grid_tree_clf.fit(X_train, y_train)\n"
      ]
    },
    {
      "cell_type": "code",
      "execution_count": 31,
      "metadata": {
        "colab": {
          "base_uri": "https://localhost:8080/"
        },
        "id": "O_I-DWGhppVA",
        "outputId": "acd3fdae-bd91-4175-e80d-36f4cca9849d"
      },
      "outputs": [
        {
          "name": "stdout",
          "output_type": "stream",
          "text": [
            "Best parameters:  {'criterion': 'entropy', 'max_depth': 4, 'max_features': None}\n",
            "Accuracy of best (means of cross-validated scores on train set):  0.8501342341213902\n",
            "Accuracy of best (on test set):  0.8477708375766628\n"
          ]
        }
      ],
      "source": [
        "evaluate_grid(grid_tree_clf)\n"
      ]
    },
    {
      "cell_type": "code",
      "execution_count": 33,
      "metadata": {},
      "outputs": [
        {
          "data": {
            "image/svg+xml": "<?xml version=\"1.0\" encoding=\"UTF-8\" standalone=\"no\"?>\n<!DOCTYPE svg PUBLIC \"-//W3C//DTD SVG 1.1//EN\"\n \"http://www.w3.org/Graphics/SVG/1.1/DTD/svg11.dtd\">\n<!-- Generated by graphviz version 5.0.0 (0)\n -->\n<!-- Title: Tree Pages: 1 -->\n<svg width=\"2584pt\" height=\"552pt\"\n viewBox=\"0.00 0.00 2584.00 552.00\" xmlns=\"http://www.w3.org/2000/svg\" xmlns:xlink=\"http://www.w3.org/1999/xlink\">\n<g id=\"graph0\" class=\"graph\" transform=\"scale(1 1) rotate(0) translate(4 548)\">\n<title>Tree</title>\n<polygon fill=\"white\" stroke=\"transparent\" points=\"-4,4 -4,-548 2580,-548 2580,4 -4,4\"/>\n<!-- 0 -->\n<g id=\"node1\" class=\"node\">\n<title>0</title>\n<path fill=\"#ffffff\" stroke=\"black\" d=\"M1086,-544C1086,-544 948,-544 948,-544 942,-544 936,-538 936,-532 936,-532 936,-473 936,-473 936,-467 942,-461 948,-461 948,-461 1086,-461 1086,-461 1092,-461 1098,-467 1098,-473 1098,-473 1098,-532 1098,-532 1098,-538 1092,-544 1086,-544\"/>\n<text text-anchor=\"middle\" x=\"1017\" y=\"-528.8\" font-family=\"Helvetica,sans-Serif\" font-size=\"14.00\">page_values &lt;= 0.0</text>\n<text text-anchor=\"middle\" x=\"1017\" y=\"-513.8\" font-family=\"Helvetica,sans-Serif\" font-size=\"14.00\">entropy = 1.0</text>\n<text text-anchor=\"middle\" x=\"1017\" y=\"-498.8\" font-family=\"Helvetica,sans-Serif\" font-size=\"14.00\">samples = 8543</text>\n<text text-anchor=\"middle\" x=\"1017\" y=\"-483.8\" font-family=\"Helvetica,sans-Serif\" font-size=\"14.00\">value = [4271.5, 4271.5]</text>\n<text text-anchor=\"middle\" x=\"1017\" y=\"-468.8\" font-family=\"Helvetica,sans-Serif\" font-size=\"14.00\">class = No Revenue</text>\n</g>\n<!-- 1 -->\n<g id=\"node2\" class=\"node\">\n<title>1</title>\n<path fill=\"#eb9c64\" stroke=\"black\" d=\"M842.5,-425C842.5,-425 681.5,-425 681.5,-425 675.5,-425 669.5,-419 669.5,-413 669.5,-413 669.5,-354 669.5,-354 669.5,-348 675.5,-342 681.5,-342 681.5,-342 842.5,-342 842.5,-342 848.5,-342 854.5,-348 854.5,-354 854.5,-354 854.5,-413 854.5,-413 854.5,-419 848.5,-425 842.5,-425\"/>\n<text text-anchor=\"middle\" x=\"762\" y=\"-409.8\" font-family=\"Helvetica,sans-Serif\" font-size=\"14.00\">month &lt;= 0.722</text>\n<text text-anchor=\"middle\" x=\"762\" y=\"-394.8\" font-family=\"Helvetica,sans-Serif\" font-size=\"14.00\">entropy = 0.676</text>\n<text text-anchor=\"middle\" x=\"762\" y=\"-379.8\" font-family=\"Helvetica,sans-Serif\" font-size=\"14.00\">samples = 6632</text>\n<text text-anchor=\"middle\" x=\"762\" y=\"-364.8\" font-family=\"Helvetica,sans-Serif\" font-size=\"14.00\">value = [3778.977, 818.491]</text>\n<text text-anchor=\"middle\" x=\"762\" y=\"-349.8\" font-family=\"Helvetica,sans-Serif\" font-size=\"14.00\">class = No Revenue</text>\n</g>\n<!-- 0&#45;&gt;1 -->\n<g id=\"edge1\" class=\"edge\">\n<title>0&#45;&gt;1</title>\n<path fill=\"none\" stroke=\"black\" d=\"M935.97,-464.32C911.68,-453.18 884.78,-440.84 859.55,-429.26\"/>\n<polygon fill=\"black\" stroke=\"black\" points=\"860.88,-426.02 850.33,-425.03 857.96,-432.38 860.88,-426.02\"/>\n<text text-anchor=\"middle\" x=\"859.03\" y=\"-444.77\" font-family=\"Helvetica,sans-Serif\" font-size=\"14.00\">True</text>\n</g>\n<!-- 14 -->\n<g id=\"node15\" class=\"node\">\n<title>14</title>\n<path fill=\"#55abe9\" stroke=\"black\" d=\"M1551.5,-425C1551.5,-425 1390.5,-425 1390.5,-425 1384.5,-425 1378.5,-419 1378.5,-413 1378.5,-413 1378.5,-354 1378.5,-354 1378.5,-348 1384.5,-342 1390.5,-342 1390.5,-342 1551.5,-342 1551.5,-342 1557.5,-342 1563.5,-348 1563.5,-354 1563.5,-354 1563.5,-413 1563.5,-413 1563.5,-419 1557.5,-425 1551.5,-425\"/>\n<text text-anchor=\"middle\" x=\"1471\" y=\"-409.8\" font-family=\"Helvetica,sans-Serif\" font-size=\"14.00\">bounce_rates &lt;= 0.002</text>\n<text text-anchor=\"middle\" x=\"1471\" y=\"-394.8\" font-family=\"Helvetica,sans-Serif\" font-size=\"14.00\">entropy = 0.543</text>\n<text text-anchor=\"middle\" x=\"1471\" y=\"-379.8\" font-family=\"Helvetica,sans-Serif\" font-size=\"14.00\">samples = 1911</text>\n<text text-anchor=\"middle\" x=\"1471\" y=\"-364.8\" font-family=\"Helvetica,sans-Serif\" font-size=\"14.00\">value = [492.523, 3453.009]</text>\n<text text-anchor=\"middle\" x=\"1471\" y=\"-349.8\" font-family=\"Helvetica,sans-Serif\" font-size=\"14.00\">class = Revenue</text>\n</g>\n<!-- 0&#45;&gt;14 -->\n<g id=\"edge14\" class=\"edge\">\n<title>0&#45;&gt;14</title>\n<path fill=\"none\" stroke=\"black\" d=\"M1098.17,-480.58C1173.78,-461.1 1286.82,-431.97 1368.6,-410.89\"/>\n<polygon fill=\"black\" stroke=\"black\" points=\"1369.6,-414.25 1378.41,-408.36 1367.86,-407.47 1369.6,-414.25\"/>\n<text text-anchor=\"middle\" x=\"1365.71\" y=\"-426.19\" font-family=\"Helvetica,sans-Serif\" font-size=\"14.00\">False</text>\n</g>\n<!-- 2 -->\n<g id=\"node3\" class=\"node\">\n<title>2</title>\n<path fill=\"#e78a47\" stroke=\"black\" d=\"M544.5,-306C544.5,-306 383.5,-306 383.5,-306 377.5,-306 371.5,-300 371.5,-294 371.5,-294 371.5,-235 371.5,-235 371.5,-229 377.5,-223 383.5,-223 383.5,-223 544.5,-223 544.5,-223 550.5,-223 556.5,-229 556.5,-235 556.5,-235 556.5,-294 556.5,-294 556.5,-300 550.5,-306 544.5,-306\"/>\n<text text-anchor=\"middle\" x=\"464\" y=\"-290.8\" font-family=\"Helvetica,sans-Serif\" font-size=\"14.00\">month &lt;= 0.5</text>\n<text text-anchor=\"middle\" x=\"464\" y=\"-275.8\" font-family=\"Helvetica,sans-Serif\" font-size=\"14.00\">entropy = 0.343</text>\n<text text-anchor=\"middle\" x=\"464\" y=\"-260.8\" font-family=\"Helvetica,sans-Serif\" font-size=\"14.00\">samples = 4639</text>\n<text text-anchor=\"middle\" x=\"464\" y=\"-245.8\" font-family=\"Helvetica,sans-Serif\" font-size=\"14.00\">value = [2715.102, 185.439]</text>\n<text text-anchor=\"middle\" x=\"464\" y=\"-230.8\" font-family=\"Helvetica,sans-Serif\" font-size=\"14.00\">class = No Revenue</text>\n</g>\n<!-- 1&#45;&gt;2 -->\n<g id=\"edge2\" class=\"edge\">\n<title>1&#45;&gt;2</title>\n<path fill=\"none\" stroke=\"black\" d=\"M669.34,-346.12C636.55,-333.25 599.48,-318.69 565.95,-305.53\"/>\n<polygon fill=\"black\" stroke=\"black\" points=\"567.19,-302.25 556.6,-301.86 564.63,-308.77 567.19,-302.25\"/>\n</g>\n<!-- 7 -->\n<g id=\"node8\" class=\"node\">\n<title>7</title>\n<path fill=\"#f4ccaf\" stroke=\"black\" d=\"M858.5,-306C858.5,-306 665.5,-306 665.5,-306 659.5,-306 653.5,-300 653.5,-294 653.5,-294 653.5,-235 653.5,-235 653.5,-229 659.5,-223 665.5,-223 665.5,-223 858.5,-223 858.5,-223 864.5,-223 870.5,-229 870.5,-235 870.5,-235 870.5,-294 870.5,-294 870.5,-300 864.5,-306 858.5,-306\"/>\n<text text-anchor=\"middle\" x=\"762\" y=\"-290.8\" font-family=\"Helvetica,sans-Serif\" font-size=\"14.00\">product_related_duration &lt;= 0.03</text>\n<text text-anchor=\"middle\" x=\"762\" y=\"-275.8\" font-family=\"Helvetica,sans-Serif\" font-size=\"14.00\">entropy = 0.953</text>\n<text text-anchor=\"middle\" x=\"762\" y=\"-260.8\" font-family=\"Helvetica,sans-Serif\" font-size=\"14.00\">samples = 1993</text>\n<text text-anchor=\"middle\" x=\"762\" y=\"-245.8\" font-family=\"Helvetica,sans-Serif\" font-size=\"14.00\">value = [1063.874, 633.052]</text>\n<text text-anchor=\"middle\" x=\"762\" y=\"-230.8\" font-family=\"Helvetica,sans-Serif\" font-size=\"14.00\">class = No Revenue</text>\n</g>\n<!-- 1&#45;&gt;7 -->\n<g id=\"edge7\" class=\"edge\">\n<title>1&#45;&gt;7</title>\n<path fill=\"none\" stroke=\"black\" d=\"M762,-341.91C762,-333.65 762,-324.86 762,-316.3\"/>\n<polygon fill=\"black\" stroke=\"black\" points=\"765.5,-316.02 762,-306.02 758.5,-316.02 765.5,-316.02\"/>\n</g>\n<!-- 3 -->\n<g id=\"node4\" class=\"node\">\n<title>3</title>\n<path fill=\"#ea995f\" stroke=\"black\" d=\"M356.5,-187C356.5,-187 181.5,-187 181.5,-187 175.5,-187 169.5,-181 169.5,-175 169.5,-175 169.5,-116 169.5,-116 169.5,-110 175.5,-104 181.5,-104 181.5,-104 356.5,-104 356.5,-104 362.5,-104 368.5,-110 368.5,-116 368.5,-116 368.5,-175 368.5,-175 368.5,-181 362.5,-187 356.5,-187\"/>\n<text text-anchor=\"middle\" x=\"269\" y=\"-171.8\" font-family=\"Helvetica,sans-Serif\" font-size=\"14.00\">administrative_duration &lt;= 0.0</text>\n<text text-anchor=\"middle\" x=\"269\" y=\"-156.8\" font-family=\"Helvetica,sans-Serif\" font-size=\"14.00\">entropy = 0.64</text>\n<text text-anchor=\"middle\" x=\"269\" y=\"-141.8\" font-family=\"Helvetica,sans-Serif\" font-size=\"14.00\">samples = 1671</text>\n<text text-anchor=\"middle\" x=\"269\" y=\"-126.8\" font-family=\"Helvetica,sans-Serif\" font-size=\"14.00\">value = [956.005, 185.439]</text>\n<text text-anchor=\"middle\" x=\"269\" y=\"-111.8\" font-family=\"Helvetica,sans-Serif\" font-size=\"14.00\">class = No Revenue</text>\n</g>\n<!-- 2&#45;&gt;3 -->\n<g id=\"edge3\" class=\"edge\">\n<title>2&#45;&gt;3</title>\n<path fill=\"none\" stroke=\"black\" d=\"M396.35,-222.91C379.86,-213.02 362.11,-202.37 345.26,-192.25\"/>\n<polygon fill=\"black\" stroke=\"black\" points=\"346.91,-189.16 336.53,-187.02 343.31,-195.17 346.91,-189.16\"/>\n</g>\n<!-- 6 -->\n<g id=\"node7\" class=\"node\">\n<title>6</title>\n<path fill=\"#e58139\" stroke=\"black\" d=\"M529.5,-179.5C529.5,-179.5 398.5,-179.5 398.5,-179.5 392.5,-179.5 386.5,-173.5 386.5,-167.5 386.5,-167.5 386.5,-123.5 386.5,-123.5 386.5,-117.5 392.5,-111.5 398.5,-111.5 398.5,-111.5 529.5,-111.5 529.5,-111.5 535.5,-111.5 541.5,-117.5 541.5,-123.5 541.5,-123.5 541.5,-167.5 541.5,-167.5 541.5,-173.5 535.5,-179.5 529.5,-179.5\"/>\n<text text-anchor=\"middle\" x=\"464\" y=\"-164.3\" font-family=\"Helvetica,sans-Serif\" font-size=\"14.00\">entropy = &#45;0.0</text>\n<text text-anchor=\"middle\" x=\"464\" y=\"-149.3\" font-family=\"Helvetica,sans-Serif\" font-size=\"14.00\">samples = 2968</text>\n<text text-anchor=\"middle\" x=\"464\" y=\"-134.3\" font-family=\"Helvetica,sans-Serif\" font-size=\"14.00\">value = [1759.097, 0.0]</text>\n<text text-anchor=\"middle\" x=\"464\" y=\"-119.3\" font-family=\"Helvetica,sans-Serif\" font-size=\"14.00\">class = No Revenue</text>\n</g>\n<!-- 2&#45;&gt;6 -->\n<g id=\"edge6\" class=\"edge\">\n<title>2&#45;&gt;6</title>\n<path fill=\"none\" stroke=\"black\" d=\"M464,-222.91C464,-212.2 464,-200.62 464,-189.78\"/>\n<polygon fill=\"black\" stroke=\"black\" points=\"467.5,-189.67 464,-179.67 460.5,-189.67 467.5,-189.67\"/>\n</g>\n<!-- 4 -->\n<g id=\"node5\" class=\"node\">\n<title>4</title>\n<path fill=\"#e78845\" stroke=\"black\" d=\"M150,-68C150,-68 12,-68 12,-68 6,-68 0,-62 0,-56 0,-56 0,-12 0,-12 0,-6 6,0 12,0 12,0 150,0 150,0 156,0 162,-6 162,-12 162,-12 162,-56 162,-56 162,-62 156,-68 150,-68\"/>\n<text text-anchor=\"middle\" x=\"81\" y=\"-52.8\" font-family=\"Helvetica,sans-Serif\" font-size=\"14.00\">entropy = 0.309</text>\n<text text-anchor=\"middle\" x=\"81\" y=\"-37.8\" font-family=\"Helvetica,sans-Serif\" font-size=\"14.00\">samples = 929</text>\n<text text-anchor=\"middle\" x=\"81\" y=\"-22.8\" font-family=\"Helvetica,sans-Serif\" font-size=\"14.00\">value = [544.68, 31.972]</text>\n<text text-anchor=\"middle\" x=\"81\" y=\"-7.8\" font-family=\"Helvetica,sans-Serif\" font-size=\"14.00\">class = No Revenue</text>\n</g>\n<!-- 3&#45;&gt;4 -->\n<g id=\"edge4\" class=\"edge\">\n<title>3&#45;&gt;4</title>\n<path fill=\"none\" stroke=\"black\" d=\"M199.26,-103.88C182,-93.83 163.56,-83.09 146.51,-73.16\"/>\n<polygon fill=\"black\" stroke=\"black\" points=\"148.13,-70.05 137.73,-68.04 144.61,-76.1 148.13,-70.05\"/>\n</g>\n<!-- 5 -->\n<g id=\"node6\" class=\"node\">\n<title>5</title>\n<path fill=\"#efb083\" stroke=\"black\" d=\"M345.5,-68C345.5,-68 192.5,-68 192.5,-68 186.5,-68 180.5,-62 180.5,-56 180.5,-56 180.5,-12 180.5,-12 180.5,-6 186.5,0 192.5,0 192.5,0 345.5,0 345.5,0 351.5,0 357.5,-6 357.5,-12 357.5,-12 357.5,-56 357.5,-56 357.5,-62 351.5,-68 345.5,-68\"/>\n<text text-anchor=\"middle\" x=\"269\" y=\"-52.8\" font-family=\"Helvetica,sans-Serif\" font-size=\"14.00\">entropy = 0.844</text>\n<text text-anchor=\"middle\" x=\"269\" y=\"-37.8\" font-family=\"Helvetica,sans-Serif\" font-size=\"14.00\">samples = 742</text>\n<text text-anchor=\"middle\" x=\"269\" y=\"-22.8\" font-family=\"Helvetica,sans-Serif\" font-size=\"14.00\">value = [411.325, 153.467]</text>\n<text text-anchor=\"middle\" x=\"269\" y=\"-7.8\" font-family=\"Helvetica,sans-Serif\" font-size=\"14.00\">class = No Revenue</text>\n</g>\n<!-- 3&#45;&gt;5 -->\n<g id=\"edge5\" class=\"edge\">\n<title>3&#45;&gt;5</title>\n<path fill=\"none\" stroke=\"black\" d=\"M269,-103.73C269,-95.52 269,-86.86 269,-78.56\"/>\n<polygon fill=\"black\" stroke=\"black\" points=\"272.5,-78.3 269,-68.3 265.5,-78.3 272.5,-78.3\"/>\n</g>\n<!-- 8 -->\n<g id=\"node9\" class=\"node\">\n<title>8</title>\n<path fill=\"#f0b78d\" stroke=\"black\" d=\"M724.5,-187C724.5,-187 571.5,-187 571.5,-187 565.5,-187 559.5,-181 559.5,-175 559.5,-175 559.5,-116 559.5,-116 559.5,-110 565.5,-104 571.5,-104 571.5,-104 724.5,-104 724.5,-104 730.5,-104 736.5,-110 736.5,-116 736.5,-116 736.5,-175 736.5,-175 736.5,-181 730.5,-187 724.5,-187\"/>\n<text text-anchor=\"middle\" x=\"648\" y=\"-171.8\" font-family=\"Helvetica,sans-Serif\" font-size=\"14.00\">exit_rates &lt;= 0.542</text>\n<text text-anchor=\"middle\" x=\"648\" y=\"-156.8\" font-family=\"Helvetica,sans-Serif\" font-size=\"14.00\">entropy = 0.88</text>\n<text text-anchor=\"middle\" x=\"648\" y=\"-141.8\" font-family=\"Helvetica,sans-Serif\" font-size=\"14.00\">samples = 1572</text>\n<text text-anchor=\"middle\" x=\"648\" y=\"-126.8\" font-family=\"Helvetica,sans-Serif\" font-size=\"14.00\">value = [863.546, 367.682]</text>\n<text text-anchor=\"middle\" x=\"648\" y=\"-111.8\" font-family=\"Helvetica,sans-Serif\" font-size=\"14.00\">class = No Revenue</text>\n</g>\n<!-- 7&#45;&gt;8 -->\n<g id=\"edge8\" class=\"edge\">\n<title>7&#45;&gt;8</title>\n<path fill=\"none\" stroke=\"black\" d=\"M722.45,-222.91C713.43,-213.65 703.76,-203.73 694.49,-194.21\"/>\n<polygon fill=\"black\" stroke=\"black\" points=\"696.97,-191.74 687.48,-187.02 691.95,-196.63 696.97,-191.74\"/>\n</g>\n<!-- 11 -->\n<g id=\"node12\" class=\"node\">\n<title>11</title>\n<path fill=\"#cee7f9\" stroke=\"black\" d=\"M913,-187C913,-187 767,-187 767,-187 761,-187 755,-181 755,-175 755,-175 755,-116 755,-116 755,-110 761,-104 767,-104 767,-104 913,-104 913,-104 919,-104 925,-110 925,-116 925,-116 925,-175 925,-175 925,-181 919,-187 913,-187\"/>\n<text text-anchor=\"middle\" x=\"840\" y=\"-171.8\" font-family=\"Helvetica,sans-Serif\" font-size=\"14.00\">month &lt;= 0.833</text>\n<text text-anchor=\"middle\" x=\"840\" y=\"-156.8\" font-family=\"Helvetica,sans-Serif\" font-size=\"14.00\">entropy = 0.986</text>\n<text text-anchor=\"middle\" x=\"840\" y=\"-141.8\" font-family=\"Helvetica,sans-Serif\" font-size=\"14.00\">samples = 421</text>\n<text text-anchor=\"middle\" x=\"840\" y=\"-126.8\" font-family=\"Helvetica,sans-Serif\" font-size=\"14.00\">value = [200.328, 265.37]</text>\n<text text-anchor=\"middle\" x=\"840\" y=\"-111.8\" font-family=\"Helvetica,sans-Serif\" font-size=\"14.00\">class = Revenue</text>\n</g>\n<!-- 7&#45;&gt;11 -->\n<g id=\"edge11\" class=\"edge\">\n<title>7&#45;&gt;11</title>\n<path fill=\"none\" stroke=\"black\" d=\"M789.06,-222.91C794.93,-214.1 801.2,-204.7 807.26,-195.61\"/>\n<polygon fill=\"black\" stroke=\"black\" points=\"810.35,-197.28 812.99,-187.02 804.53,-193.4 810.35,-197.28\"/>\n</g>\n<!-- 9 -->\n<g id=\"node10\" class=\"node\">\n<title>9</title>\n<path fill=\"#f1bc96\" stroke=\"black\" d=\"M540.5,-68C540.5,-68 387.5,-68 387.5,-68 381.5,-68 375.5,-62 375.5,-56 375.5,-56 375.5,-12 375.5,-12 375.5,-6 381.5,0 387.5,0 387.5,0 540.5,0 540.5,0 546.5,0 552.5,-6 552.5,-12 552.5,-12 552.5,-56 552.5,-56 552.5,-62 546.5,-68 540.5,-68\"/>\n<text text-anchor=\"middle\" x=\"464\" y=\"-52.8\" font-family=\"Helvetica,sans-Serif\" font-size=\"14.00\">entropy = 0.903</text>\n<text text-anchor=\"middle\" x=\"464\" y=\"-37.8\" font-family=\"Helvetica,sans-Serif\" font-size=\"14.00\">samples = 1427</text>\n<text text-anchor=\"middle\" x=\"464\" y=\"-22.8\" font-family=\"Helvetica,sans-Serif\" font-size=\"14.00\">value = [778.199, 364.484]</text>\n<text text-anchor=\"middle\" x=\"464\" y=\"-7.8\" font-family=\"Helvetica,sans-Serif\" font-size=\"14.00\">class = No Revenue</text>\n</g>\n<!-- 8&#45;&gt;9 -->\n<g id=\"edge9\" class=\"edge\">\n<title>8&#45;&gt;9</title>\n<path fill=\"none\" stroke=\"black\" d=\"M579.75,-103.88C563.01,-93.92 545.14,-83.29 528.58,-73.43\"/>\n<polygon fill=\"black\" stroke=\"black\" points=\"529.91,-70.15 519.52,-68.04 526.33,-76.17 529.91,-70.15\"/>\n</g>\n<!-- 10 -->\n<g id=\"node11\" class=\"node\">\n<title>10</title>\n<path fill=\"#e68640\" stroke=\"black\" d=\"M713.5,-68C713.5,-68 582.5,-68 582.5,-68 576.5,-68 570.5,-62 570.5,-56 570.5,-56 570.5,-12 570.5,-12 570.5,-6 576.5,0 582.5,0 582.5,0 713.5,0 713.5,0 719.5,0 725.5,-6 725.5,-12 725.5,-12 725.5,-56 725.5,-56 725.5,-62 719.5,-68 713.5,-68\"/>\n<text text-anchor=\"middle\" x=\"648\" y=\"-52.8\" font-family=\"Helvetica,sans-Serif\" font-size=\"14.00\">entropy = 0.224</text>\n<text text-anchor=\"middle\" x=\"648\" y=\"-37.8\" font-family=\"Helvetica,sans-Serif\" font-size=\"14.00\">samples = 145</text>\n<text text-anchor=\"middle\" x=\"648\" y=\"-22.8\" font-family=\"Helvetica,sans-Serif\" font-size=\"14.00\">value = [85.347, 3.197]</text>\n<text text-anchor=\"middle\" x=\"648\" y=\"-7.8\" font-family=\"Helvetica,sans-Serif\" font-size=\"14.00\">class = No Revenue</text>\n</g>\n<!-- 8&#45;&gt;10 -->\n<g id=\"edge10\" class=\"edge\">\n<title>8&#45;&gt;10</title>\n<path fill=\"none\" stroke=\"black\" d=\"M648,-103.73C648,-95.52 648,-86.86 648,-78.56\"/>\n<polygon fill=\"black\" stroke=\"black\" points=\"651.5,-78.3 648,-68.3 644.5,-78.3 651.5,-78.3\"/>\n</g>\n<!-- 12 -->\n<g id=\"node13\" class=\"node\">\n<title>12</title>\n<path fill=\"#b7dbf6\" stroke=\"black\" d=\"M908.5,-68C908.5,-68 755.5,-68 755.5,-68 749.5,-68 743.5,-62 743.5,-56 743.5,-56 743.5,-12 743.5,-12 743.5,-6 749.5,0 755.5,0 755.5,0 908.5,0 908.5,0 914.5,0 920.5,-6 920.5,-12 920.5,-12 920.5,-56 920.5,-56 920.5,-62 914.5,-68 908.5,-68\"/>\n<text text-anchor=\"middle\" x=\"832\" y=\"-52.8\" font-family=\"Helvetica,sans-Serif\" font-size=\"14.00\">entropy = 0.964</text>\n<text text-anchor=\"middle\" x=\"832\" y=\"-37.8\" font-family=\"Helvetica,sans-Serif\" font-size=\"14.00\">samples = 355</text>\n<text text-anchor=\"middle\" x=\"832\" y=\"-22.8\" font-family=\"Helvetica,sans-Serif\" font-size=\"14.00\">value = [162.989, 255.778]</text>\n<text text-anchor=\"middle\" x=\"832\" y=\"-7.8\" font-family=\"Helvetica,sans-Serif\" font-size=\"14.00\">class = Revenue</text>\n</g>\n<!-- 11&#45;&gt;12 -->\n<g id=\"edge12\" class=\"edge\">\n<title>11&#45;&gt;12</title>\n<path fill=\"none\" stroke=\"black\" d=\"M837.02,-103.73C836.41,-95.43 835.77,-86.67 835.16,-78.28\"/>\n<polygon fill=\"black\" stroke=\"black\" points=\"838.65,-78.02 834.43,-68.3 831.67,-78.53 838.65,-78.02\"/>\n</g>\n<!-- 13 -->\n<g id=\"node14\" class=\"node\">\n<title>13</title>\n<path fill=\"#eca16c\" stroke=\"black\" d=\"M1081.5,-68C1081.5,-68 950.5,-68 950.5,-68 944.5,-68 938.5,-62 938.5,-56 938.5,-56 938.5,-12 938.5,-12 938.5,-6 944.5,0 950.5,0 950.5,0 1081.5,0 1081.5,0 1087.5,0 1093.5,-6 1093.5,-12 1093.5,-12 1093.5,-56 1093.5,-56 1093.5,-62 1087.5,-68 1081.5,-68\"/>\n<text text-anchor=\"middle\" x=\"1016\" y=\"-52.8\" font-family=\"Helvetica,sans-Serif\" font-size=\"14.00\">entropy = 0.731</text>\n<text text-anchor=\"middle\" x=\"1016\" y=\"-37.8\" font-family=\"Helvetica,sans-Serif\" font-size=\"14.00\">samples = 66</text>\n<text text-anchor=\"middle\" x=\"1016\" y=\"-22.8\" font-family=\"Helvetica,sans-Serif\" font-size=\"14.00\">value = [37.339, 9.592]</text>\n<text text-anchor=\"middle\" x=\"1016\" y=\"-7.8\" font-family=\"Helvetica,sans-Serif\" font-size=\"14.00\">class = No Revenue</text>\n</g>\n<!-- 11&#45;&gt;13 -->\n<g id=\"edge13\" class=\"edge\">\n<title>11&#45;&gt;13</title>\n<path fill=\"none\" stroke=\"black\" d=\"M905.54,-103.73C921.45,-93.82 938.42,-83.27 954.16,-73.48\"/>\n<polygon fill=\"black\" stroke=\"black\" points=\"956.12,-76.38 962.76,-68.13 952.42,-70.44 956.12,-76.38\"/>\n</g>\n<!-- 15 -->\n<g id=\"node16\" class=\"node\">\n<title>15</title>\n<path fill=\"#46a4e7\" stroke=\"black\" d=\"M1547.5,-306C1547.5,-306 1394.5,-306 1394.5,-306 1388.5,-306 1382.5,-300 1382.5,-294 1382.5,-294 1382.5,-235 1382.5,-235 1382.5,-229 1388.5,-223 1394.5,-223 1394.5,-223 1547.5,-223 1547.5,-223 1553.5,-223 1559.5,-229 1559.5,-235 1559.5,-235 1559.5,-294 1559.5,-294 1559.5,-300 1553.5,-306 1547.5,-306\"/>\n<text text-anchor=\"middle\" x=\"1471\" y=\"-290.8\" font-family=\"Helvetica,sans-Serif\" font-size=\"14.00\">page_values &lt;= 0.041</text>\n<text text-anchor=\"middle\" x=\"1471\" y=\"-275.8\" font-family=\"Helvetica,sans-Serif\" font-size=\"14.00\">entropy = 0.338</text>\n<text text-anchor=\"middle\" x=\"1471\" y=\"-260.8\" font-family=\"Helvetica,sans-Serif\" font-size=\"14.00\">samples = 856</text>\n<text text-anchor=\"middle\" x=\"1471\" y=\"-245.8\" font-family=\"Helvetica,sans-Serif\" font-size=\"14.00\">value = [134.54, 2011.058]</text>\n<text text-anchor=\"middle\" x=\"1471\" y=\"-230.8\" font-family=\"Helvetica,sans-Serif\" font-size=\"14.00\">class = Revenue</text>\n</g>\n<!-- 14&#45;&gt;15 -->\n<g id=\"edge15\" class=\"edge\">\n<title>14&#45;&gt;15</title>\n<path fill=\"none\" stroke=\"black\" d=\"M1471,-341.91C1471,-333.65 1471,-324.86 1471,-316.3\"/>\n<polygon fill=\"black\" stroke=\"black\" points=\"1474.5,-316.02 1471,-306.02 1467.5,-316.02 1474.5,-316.02\"/>\n</g>\n<!-- 22 -->\n<g id=\"node23\" class=\"node\">\n<title>22</title>\n<path fill=\"#6ab5eb\" stroke=\"black\" d=\"M2081.5,-306C2081.5,-306 1920.5,-306 1920.5,-306 1914.5,-306 1908.5,-300 1908.5,-294 1908.5,-294 1908.5,-235 1908.5,-235 1908.5,-229 1914.5,-223 1920.5,-223 1920.5,-223 2081.5,-223 2081.5,-223 2087.5,-223 2093.5,-229 2093.5,-235 2093.5,-235 2093.5,-294 2093.5,-294 2093.5,-300 2087.5,-306 2081.5,-306\"/>\n<text text-anchor=\"middle\" x=\"2001\" y=\"-290.8\" font-family=\"Helvetica,sans-Serif\" font-size=\"14.00\">month &lt;= 0.722</text>\n<text text-anchor=\"middle\" x=\"2001\" y=\"-275.8\" font-family=\"Helvetica,sans-Serif\" font-size=\"14.00\">entropy = 0.72</text>\n<text text-anchor=\"middle\" x=\"2001\" y=\"-260.8\" font-family=\"Helvetica,sans-Serif\" font-size=\"14.00\">samples = 1055</text>\n<text text-anchor=\"middle\" x=\"2001\" y=\"-245.8\" font-family=\"Helvetica,sans-Serif\" font-size=\"14.00\">value = [357.983, 1441.951]</text>\n<text text-anchor=\"middle\" x=\"2001\" y=\"-230.8\" font-family=\"Helvetica,sans-Serif\" font-size=\"14.00\">class = Revenue</text>\n</g>\n<!-- 14&#45;&gt;22 -->\n<g id=\"edge22\" class=\"edge\">\n<title>14&#45;&gt;22</title>\n<path fill=\"none\" stroke=\"black\" d=\"M1563.62,-362.05C1657.14,-341.41 1801.26,-309.59 1898.25,-288.18\"/>\n<polygon fill=\"black\" stroke=\"black\" points=\"1899.06,-291.59 1908.07,-286.01 1897.55,-284.75 1899.06,-291.59\"/>\n</g>\n<!-- 16 -->\n<g id=\"node17\" class=\"node\">\n<title>16</title>\n<path fill=\"#5caeea\" stroke=\"black\" d=\"M1439,-187C1439,-187 1293,-187 1293,-187 1287,-187 1281,-181 1281,-175 1281,-175 1281,-116 1281,-116 1281,-110 1287,-104 1293,-104 1293,-104 1439,-104 1439,-104 1445,-104 1451,-110 1451,-116 1451,-116 1451,-175 1451,-175 1451,-181 1445,-187 1439,-187\"/>\n<text text-anchor=\"middle\" x=\"1366\" y=\"-171.8\" font-family=\"Helvetica,sans-Serif\" font-size=\"14.00\">product_related &lt;= 0.055</text>\n<text text-anchor=\"middle\" x=\"1366\" y=\"-156.8\" font-family=\"Helvetica,sans-Serif\" font-size=\"14.00\">entropy = 0.613</text>\n<text text-anchor=\"middle\" x=\"1366\" y=\"-141.8\" font-family=\"Helvetica,sans-Serif\" font-size=\"14.00\">samples = 257</text>\n<text text-anchor=\"middle\" x=\"1366\" y=\"-126.8\" font-family=\"Helvetica,sans-Serif\" font-size=\"14.00\">value = [74.679, 418.837]</text>\n<text text-anchor=\"middle\" x=\"1366\" y=\"-111.8\" font-family=\"Helvetica,sans-Serif\" font-size=\"14.00\">class = Revenue</text>\n</g>\n<!-- 15&#45;&gt;16 -->\n<g id=\"edge16\" class=\"edge\">\n<title>15&#45;&gt;16</title>\n<path fill=\"none\" stroke=\"black\" d=\"M1434.57,-222.91C1426.35,-213.74 1417.54,-203.93 1409.07,-194.49\"/>\n<polygon fill=\"black\" stroke=\"black\" points=\"1411.65,-192.13 1402.36,-187.02 1406.44,-196.8 1411.65,-192.13\"/>\n</g>\n<!-- 19 -->\n<g id=\"node20\" class=\"node\">\n<title>19</title>\n<path fill=\"#40a1e6\" stroke=\"black\" d=\"M1671,-187C1671,-187 1481,-187 1481,-187 1475,-187 1469,-181 1469,-175 1469,-175 1469,-116 1469,-116 1469,-110 1475,-104 1481,-104 1481,-104 1671,-104 1671,-104 1677,-104 1683,-110 1683,-116 1683,-116 1683,-175 1683,-175 1683,-181 1677,-187 1671,-187\"/>\n<text text-anchor=\"middle\" x=\"1576\" y=\"-171.8\" font-family=\"Helvetica,sans-Serif\" font-size=\"14.00\">administrative_duration &lt;= 0.005</text>\n<text text-anchor=\"middle\" x=\"1576\" y=\"-156.8\" font-family=\"Helvetica,sans-Serif\" font-size=\"14.00\">entropy = 0.225</text>\n<text text-anchor=\"middle\" x=\"1576\" y=\"-141.8\" font-family=\"Helvetica,sans-Serif\" font-size=\"14.00\">samples = 599</text>\n<text text-anchor=\"middle\" x=\"1576\" y=\"-126.8\" font-family=\"Helvetica,sans-Serif\" font-size=\"14.00\">value = [59.861, 1592.221]</text>\n<text text-anchor=\"middle\" x=\"1576\" y=\"-111.8\" font-family=\"Helvetica,sans-Serif\" font-size=\"14.00\">class = Revenue</text>\n</g>\n<!-- 15&#45;&gt;19 -->\n<g id=\"edge19\" class=\"edge\">\n<title>15&#45;&gt;19</title>\n<path fill=\"none\" stroke=\"black\" d=\"M1507.43,-222.91C1515.65,-213.74 1524.46,-203.93 1532.93,-194.49\"/>\n<polygon fill=\"black\" stroke=\"black\" points=\"1535.56,-196.8 1539.64,-187.02 1530.35,-192.13 1535.56,-196.8\"/>\n</g>\n<!-- 17 -->\n<g id=\"node18\" class=\"node\">\n<title>17</title>\n<path fill=\"#4fa8e8\" stroke=\"black\" d=\"M1270,-68C1270,-68 1124,-68 1124,-68 1118,-68 1112,-62 1112,-56 1112,-56 1112,-12 1112,-12 1112,-6 1118,0 1124,0 1124,0 1270,0 1270,0 1276,0 1282,-6 1282,-12 1282,-12 1282,-56 1282,-56 1282,-62 1276,-68 1270,-68\"/>\n<text text-anchor=\"middle\" x=\"1197\" y=\"-52.8\" font-family=\"Helvetica,sans-Serif\" font-size=\"14.00\">entropy = 0.473</text>\n<text text-anchor=\"middle\" x=\"1197\" y=\"-37.8\" font-family=\"Helvetica,sans-Serif\" font-size=\"14.00\">samples = 135</text>\n<text text-anchor=\"middle\" x=\"1197\" y=\"-22.8\" font-family=\"Helvetica,sans-Serif\" font-size=\"14.00\">value = [30.227, 268.567]</text>\n<text text-anchor=\"middle\" x=\"1197\" y=\"-7.8\" font-family=\"Helvetica,sans-Serif\" font-size=\"14.00\">class = Revenue</text>\n</g>\n<!-- 16&#45;&gt;17 -->\n<g id=\"edge17\" class=\"edge\">\n<title>16&#45;&gt;17</title>\n<path fill=\"none\" stroke=\"black\" d=\"M1303.07,-103.73C1287.93,-93.92 1271.8,-83.46 1256.81,-73.75\"/>\n<polygon fill=\"black\" stroke=\"black\" points=\"1258.42,-70.63 1248.12,-68.13 1254.61,-76.5 1258.42,-70.63\"/>\n</g>\n<!-- 18 -->\n<g id=\"node19\" class=\"node\">\n<title>18</title>\n<path fill=\"#74baed\" stroke=\"black\" d=\"M1450,-68C1450,-68 1312,-68 1312,-68 1306,-68 1300,-62 1300,-56 1300,-56 1300,-12 1300,-12 1300,-6 1306,0 1312,0 1312,0 1450,0 1450,0 1456,0 1462,-6 1462,-12 1462,-12 1462,-56 1462,-56 1462,-62 1456,-68 1450,-68\"/>\n<text text-anchor=\"middle\" x=\"1381\" y=\"-52.8\" font-family=\"Helvetica,sans-Serif\" font-size=\"14.00\">entropy = 0.775</text>\n<text text-anchor=\"middle\" x=\"1381\" y=\"-37.8\" font-family=\"Helvetica,sans-Serif\" font-size=\"14.00\">samples = 122</text>\n<text text-anchor=\"middle\" x=\"1381\" y=\"-22.8\" font-family=\"Helvetica,sans-Serif\" font-size=\"14.00\">value = [44.452, 150.27]</text>\n<text text-anchor=\"middle\" x=\"1381\" y=\"-7.8\" font-family=\"Helvetica,sans-Serif\" font-size=\"14.00\">class = Revenue</text>\n</g>\n<!-- 16&#45;&gt;18 -->\n<g id=\"edge18\" class=\"edge\">\n<title>16&#45;&gt;18</title>\n<path fill=\"none\" stroke=\"black\" d=\"M1371.59,-103.73C1372.72,-95.43 1373.92,-86.67 1375.07,-78.28\"/>\n<polygon fill=\"black\" stroke=\"black\" points=\"1378.55,-78.68 1376.44,-68.3 1371.61,-77.73 1378.55,-78.68\"/>\n</g>\n<!-- 20 -->\n<g id=\"node21\" class=\"node\">\n<title>20</title>\n<path fill=\"#3b9ee5\" stroke=\"black\" d=\"M1630,-68C1630,-68 1492,-68 1492,-68 1486,-68 1480,-62 1480,-56 1480,-56 1480,-12 1480,-12 1480,-6 1486,0 1492,0 1492,0 1630,0 1630,0 1636,0 1642,-6 1642,-12 1642,-12 1642,-56 1642,-56 1642,-62 1636,-68 1630,-68\"/>\n<text text-anchor=\"middle\" x=\"1561\" y=\"-52.8\" font-family=\"Helvetica,sans-Serif\" font-size=\"14.00\">entropy = 0.073</text>\n<text text-anchor=\"middle\" x=\"1561\" y=\"-37.8\" font-family=\"Helvetica,sans-Serif\" font-size=\"14.00\">samples = 219</text>\n<text text-anchor=\"middle\" x=\"1561\" y=\"-22.8\" font-family=\"Helvetica,sans-Serif\" font-size=\"14.00\">value = [5.927, 668.221]</text>\n<text text-anchor=\"middle\" x=\"1561\" y=\"-7.8\" font-family=\"Helvetica,sans-Serif\" font-size=\"14.00\">class = Revenue</text>\n</g>\n<!-- 19&#45;&gt;20 -->\n<g id=\"edge20\" class=\"edge\">\n<title>19&#45;&gt;20</title>\n<path fill=\"none\" stroke=\"black\" d=\"M1570.41,-103.73C1569.28,-95.43 1568.08,-86.67 1566.93,-78.28\"/>\n<polygon fill=\"black\" stroke=\"black\" points=\"1570.39,-77.73 1565.56,-68.3 1563.45,-78.68 1570.39,-77.73\"/>\n</g>\n<!-- 21 -->\n<g id=\"node22\" class=\"node\">\n<title>21</title>\n<path fill=\"#45a3e7\" stroke=\"black\" d=\"M1803.5,-68C1803.5,-68 1672.5,-68 1672.5,-68 1666.5,-68 1660.5,-62 1660.5,-56 1660.5,-56 1660.5,-12 1660.5,-12 1660.5,-6 1666.5,0 1672.5,0 1672.5,0 1803.5,0 1803.5,0 1809.5,0 1815.5,-6 1815.5,-12 1815.5,-12 1815.5,-56 1815.5,-56 1815.5,-62 1809.5,-68 1803.5,-68\"/>\n<text text-anchor=\"middle\" x=\"1738\" y=\"-52.8\" font-family=\"Helvetica,sans-Serif\" font-size=\"14.00\">entropy = 0.308</text>\n<text text-anchor=\"middle\" x=\"1738\" y=\"-37.8\" font-family=\"Helvetica,sans-Serif\" font-size=\"14.00\">samples = 380</text>\n<text text-anchor=\"middle\" x=\"1738\" y=\"-22.8\" font-family=\"Helvetica,sans-Serif\" font-size=\"14.00\">value = [53.935, 924.0]</text>\n<text text-anchor=\"middle\" x=\"1738\" y=\"-7.8\" font-family=\"Helvetica,sans-Serif\" font-size=\"14.00\">class = Revenue</text>\n</g>\n<!-- 19&#45;&gt;21 -->\n<g id=\"edge21\" class=\"edge\">\n<title>19&#45;&gt;21</title>\n<path fill=\"none\" stroke=\"black\" d=\"M1636.32,-103.73C1650.84,-93.92 1666.3,-83.46 1680.67,-73.75\"/>\n<polygon fill=\"black\" stroke=\"black\" points=\"1682.67,-76.62 1688.99,-68.13 1678.75,-70.83 1682.67,-76.62\"/>\n</g>\n<!-- 23 -->\n<g id=\"node24\" class=\"node\">\n<title>23</title>\n<path fill=\"#7ebfee\" stroke=\"black\" d=\"M2101,-187C2101,-187 1901,-187 1901,-187 1895,-187 1889,-181 1889,-175 1889,-175 1889,-116 1889,-116 1889,-110 1895,-104 1901,-104 1901,-104 2101,-104 2101,-104 2107,-104 2113,-110 2113,-116 2113,-116 2113,-175 2113,-175 2113,-181 2107,-187 2101,-187\"/>\n<text text-anchor=\"middle\" x=\"2001\" y=\"-171.8\" font-family=\"Helvetica,sans-Serif\" font-size=\"14.00\">product_related_duration &lt;= 0.021</text>\n<text text-anchor=\"middle\" x=\"2001\" y=\"-156.8\" font-family=\"Helvetica,sans-Serif\" font-size=\"14.00\">entropy = 0.824</text>\n<text text-anchor=\"middle\" x=\"2001\" y=\"-141.8\" font-family=\"Helvetica,sans-Serif\" font-size=\"14.00\">samples = 627</text>\n<text text-anchor=\"middle\" x=\"2001\" y=\"-126.8\" font-family=\"Helvetica,sans-Serif\" font-size=\"14.00\">value = [242.409, 696.996]</text>\n<text text-anchor=\"middle\" x=\"2001\" y=\"-111.8\" font-family=\"Helvetica,sans-Serif\" font-size=\"14.00\">class = Revenue</text>\n</g>\n<!-- 22&#45;&gt;23 -->\n<g id=\"edge23\" class=\"edge\">\n<title>22&#45;&gt;23</title>\n<path fill=\"none\" stroke=\"black\" d=\"M2001,-222.91C2001,-214.65 2001,-205.86 2001,-197.3\"/>\n<polygon fill=\"black\" stroke=\"black\" points=\"2004.5,-197.02 2001,-187.02 1997.5,-197.02 2004.5,-197.02\"/>\n</g>\n<!-- 26 -->\n<g id=\"node27\" class=\"node\">\n<title>26</title>\n<path fill=\"#58ace9\" stroke=\"black\" d=\"M2379.5,-187C2379.5,-187 2226.5,-187 2226.5,-187 2220.5,-187 2214.5,-181 2214.5,-175 2214.5,-175 2214.5,-116 2214.5,-116 2214.5,-110 2220.5,-104 2226.5,-104 2226.5,-104 2379.5,-104 2379.5,-104 2385.5,-104 2391.5,-110 2391.5,-116 2391.5,-116 2391.5,-175 2391.5,-175 2391.5,-181 2385.5,-187 2379.5,-187\"/>\n<text text-anchor=\"middle\" x=\"2303\" y=\"-171.8\" font-family=\"Helvetica,sans-Serif\" font-size=\"14.00\">exit_rates &lt;= 0.101</text>\n<text text-anchor=\"middle\" x=\"2303\" y=\"-156.8\" font-family=\"Helvetica,sans-Serif\" font-size=\"14.00\">entropy = 0.569</text>\n<text text-anchor=\"middle\" x=\"2303\" y=\"-141.8\" font-family=\"Helvetica,sans-Serif\" font-size=\"14.00\">samples = 428</text>\n<text text-anchor=\"middle\" x=\"2303\" y=\"-126.8\" font-family=\"Helvetica,sans-Serif\" font-size=\"14.00\">value = [115.574, 744.955]</text>\n<text text-anchor=\"middle\" x=\"2303\" y=\"-111.8\" font-family=\"Helvetica,sans-Serif\" font-size=\"14.00\">class = Revenue</text>\n</g>\n<!-- 22&#45;&gt;26 -->\n<g id=\"edge26\" class=\"edge\">\n<title>22&#45;&gt;26</title>\n<path fill=\"none\" stroke=\"black\" d=\"M2093.66,-227.6C2128.92,-213.94 2169.19,-198.34 2204.93,-184.5\"/>\n<polygon fill=\"black\" stroke=\"black\" points=\"2206.33,-187.7 2214.39,-180.83 2203.8,-181.18 2206.33,-187.7\"/>\n</g>\n<!-- 24 -->\n<g id=\"node25\" class=\"node\">\n<title>24</title>\n<path fill=\"#5eafea\" stroke=\"black\" d=\"M1992,-68C1992,-68 1846,-68 1846,-68 1840,-68 1834,-62 1834,-56 1834,-56 1834,-12 1834,-12 1834,-6 1840,0 1846,0 1846,0 1992,0 1992,0 1998,0 2004,-6 2004,-12 2004,-12 2004,-56 2004,-56 2004,-62 1998,-68 1992,-68\"/>\n<text text-anchor=\"middle\" x=\"1919\" y=\"-52.8\" font-family=\"Helvetica,sans-Serif\" font-size=\"14.00\">entropy = 0.631</text>\n<text text-anchor=\"middle\" x=\"1919\" y=\"-37.8\" font-family=\"Helvetica,sans-Serif\" font-size=\"14.00\">samples = 232</text>\n<text text-anchor=\"middle\" x=\"1919\" y=\"-22.8\" font-family=\"Helvetica,sans-Serif\" font-size=\"14.00\">value = [69.344, 367.682]</text>\n<text text-anchor=\"middle\" x=\"1919\" y=\"-7.8\" font-family=\"Helvetica,sans-Serif\" font-size=\"14.00\">class = Revenue</text>\n</g>\n<!-- 23&#45;&gt;24 -->\n<g id=\"edge24\" class=\"edge\">\n<title>23&#45;&gt;24</title>\n<path fill=\"none\" stroke=\"black\" d=\"M1970.47,-103.73C1963.77,-94.79 1956.68,-85.32 1949.97,-76.36\"/>\n<polygon fill=\"black\" stroke=\"black\" points=\"1952.73,-74.21 1943.94,-68.3 1947.13,-78.4 1952.73,-74.21\"/>\n</g>\n<!-- 25 -->\n<g id=\"node26\" class=\"node\">\n<title>25</title>\n<path fill=\"#a1d1f3\" stroke=\"black\" d=\"M2187.5,-68C2187.5,-68 2034.5,-68 2034.5,-68 2028.5,-68 2022.5,-62 2022.5,-56 2022.5,-56 2022.5,-12 2022.5,-12 2022.5,-6 2028.5,0 2034.5,0 2034.5,0 2187.5,0 2187.5,0 2193.5,0 2199.5,-6 2199.5,-12 2199.5,-12 2199.5,-56 2199.5,-56 2199.5,-62 2193.5,-68 2187.5,-68\"/>\n<text text-anchor=\"middle\" x=\"2111\" y=\"-52.8\" font-family=\"Helvetica,sans-Serif\" font-size=\"14.00\">entropy = 0.929</text>\n<text text-anchor=\"middle\" x=\"2111\" y=\"-37.8\" font-family=\"Helvetica,sans-Serif\" font-size=\"14.00\">samples = 395</text>\n<text text-anchor=\"middle\" x=\"2111\" y=\"-22.8\" font-family=\"Helvetica,sans-Serif\" font-size=\"14.00\">value = [173.065, 329.315]</text>\n<text text-anchor=\"middle\" x=\"2111\" y=\"-7.8\" font-family=\"Helvetica,sans-Serif\" font-size=\"14.00\">class = Revenue</text>\n</g>\n<!-- 23&#45;&gt;25 -->\n<g id=\"edge25\" class=\"edge\">\n<title>23&#45;&gt;25</title>\n<path fill=\"none\" stroke=\"black\" d=\"M2041.96,-103.73C2051.21,-94.51 2061.04,-84.74 2070.28,-75.53\"/>\n<polygon fill=\"black\" stroke=\"black\" points=\"2072.93,-77.84 2077.55,-68.3 2067.99,-72.87 2072.93,-77.84\"/>\n</g>\n<!-- 27 -->\n<g id=\"node28\" class=\"node\">\n<title>27</title>\n<path fill=\"#4da7e8\" stroke=\"black\" d=\"M2376,-68C2376,-68 2230,-68 2230,-68 2224,-68 2218,-62 2218,-56 2218,-56 2218,-12 2218,-12 2218,-6 2224,0 2230,0 2230,0 2376,0 2376,0 2382,0 2388,-6 2388,-12 2388,-12 2388,-56 2388,-56 2388,-62 2382,-68 2376,-68\"/>\n<text text-anchor=\"middle\" x=\"2303\" y=\"-52.8\" font-family=\"Helvetica,sans-Serif\" font-size=\"14.00\">entropy = 0.436</text>\n<text text-anchor=\"middle\" x=\"2303\" y=\"-37.8\" font-family=\"Helvetica,sans-Serif\" font-size=\"14.00\">samples = 210</text>\n<text text-anchor=\"middle\" x=\"2303\" y=\"-22.8\" font-family=\"Helvetica,sans-Serif\" font-size=\"14.00\">value = [43.266, 438.021]</text>\n<text text-anchor=\"middle\" x=\"2303\" y=\"-7.8\" font-family=\"Helvetica,sans-Serif\" font-size=\"14.00\">class = Revenue</text>\n</g>\n<!-- 26&#45;&gt;27 -->\n<g id=\"edge27\" class=\"edge\">\n<title>26&#45;&gt;27</title>\n<path fill=\"none\" stroke=\"black\" d=\"M2303,-103.73C2303,-95.52 2303,-86.86 2303,-78.56\"/>\n<polygon fill=\"black\" stroke=\"black\" points=\"2306.5,-78.3 2303,-68.3 2299.5,-78.3 2306.5,-78.3\"/>\n</g>\n<!-- 28 -->\n<g id=\"node29\" class=\"node\">\n<title>28</title>\n<path fill=\"#68b4eb\" stroke=\"black\" d=\"M2564,-68C2564,-68 2418,-68 2418,-68 2412,-68 2406,-62 2406,-56 2406,-56 2406,-12 2406,-12 2406,-6 2412,0 2418,0 2418,0 2564,0 2564,0 2570,0 2576,-6 2576,-12 2576,-12 2576,-56 2576,-56 2576,-62 2570,-68 2564,-68\"/>\n<text text-anchor=\"middle\" x=\"2491\" y=\"-52.8\" font-family=\"Helvetica,sans-Serif\" font-size=\"14.00\">entropy = 0.703</text>\n<text text-anchor=\"middle\" x=\"2491\" y=\"-37.8\" font-family=\"Helvetica,sans-Serif\" font-size=\"14.00\">samples = 218</text>\n<text text-anchor=\"middle\" x=\"2491\" y=\"-22.8\" font-family=\"Helvetica,sans-Serif\" font-size=\"14.00\">value = [72.308, 306.934]</text>\n<text text-anchor=\"middle\" x=\"2491\" y=\"-7.8\" font-family=\"Helvetica,sans-Serif\" font-size=\"14.00\">class = Revenue</text>\n</g>\n<!-- 26&#45;&gt;28 -->\n<g id=\"edge28\" class=\"edge\">\n<title>26&#45;&gt;28</title>\n<path fill=\"none\" stroke=\"black\" d=\"M2372.74,-103.88C2390,-93.83 2408.44,-83.09 2425.49,-73.16\"/>\n<polygon fill=\"black\" stroke=\"black\" points=\"2427.39,-76.1 2434.27,-68.04 2423.87,-70.05 2427.39,-76.1\"/>\n</g>\n</g>\n</svg>\n",
            "text/plain": [
              "<graphviz.sources.Source at 0x7fe90f103c70>"
            ]
          },
          "execution_count": 33,
          "metadata": {},
          "output_type": "execute_result"
        }
      ],
      "source": [
        "export_graphviz(\n",
        "    grid_tree_clf.best_estimator_,\n",
        "    out_file=os.path.join(IMAGES_PATH, \"best_tree.dot\"),\n",
        "    feature_names=X.columns,\n",
        "    class_names=[\"No Revenue\", \"Revenue\"],\n",
        "    filled=True,\n",
        "    rounded=True,\n",
        ")\n",
        "\n",
        "Source.from_file(os.path.join(IMAGES_PATH, \"best_tree.dot\"))\n"
      ]
    },
    {
      "cell_type": "markdown",
      "metadata": {
        "id": "OPGq2ec-8YTT"
      },
      "source": [
        "## K-Nearest Neighbor"
      ]
    },
    {
      "cell_type": "markdown",
      "metadata": {},
      "source": [
        "The *K-Nearest Neighbor* (KNN) algorithm struggles with imbalanced data (at least in its basic form), but at the same it should also perform particularly well for datasets with a lower number of features.\n",
        "Thanks to RFE, we managed to reduce the number of features to 9, so it is interesting to verify the results of KNN.\n",
        "\n",
        "We can also verify how the accuracy changes with various distance metrics."
      ]
    },
    {
      "cell_type": "code",
      "execution_count": 76,
      "metadata": {
        "colab": {
          "base_uri": "https://localhost:8080/"
        },
        "id": "TWN0Sh9V-JtR",
        "outputId": "6e252c76-2c71-4f17-ca2f-570caca8737a"
      },
      "outputs": [
        {
          "data": {
            "text/html": [
              "<style>#sk-container-id-13 {color: black;background-color: white;}#sk-container-id-13 pre{padding: 0;}#sk-container-id-13 div.sk-toggleable {background-color: white;}#sk-container-id-13 label.sk-toggleable__label {cursor: pointer;display: block;width: 100%;margin-bottom: 0;padding: 0.3em;box-sizing: border-box;text-align: center;}#sk-container-id-13 label.sk-toggleable__label-arrow:before {content: \"▸\";float: left;margin-right: 0.25em;color: #696969;}#sk-container-id-13 label.sk-toggleable__label-arrow:hover:before {color: black;}#sk-container-id-13 div.sk-estimator:hover label.sk-toggleable__label-arrow:before {color: black;}#sk-container-id-13 div.sk-toggleable__content {max-height: 0;max-width: 0;overflow: hidden;text-align: left;background-color: #f0f8ff;}#sk-container-id-13 div.sk-toggleable__content pre {margin: 0.2em;color: black;border-radius: 0.25em;background-color: #f0f8ff;}#sk-container-id-13 input.sk-toggleable__control:checked~div.sk-toggleable__content {max-height: 200px;max-width: 100%;overflow: auto;}#sk-container-id-13 input.sk-toggleable__control:checked~label.sk-toggleable__label-arrow:before {content: \"▾\";}#sk-container-id-13 div.sk-estimator input.sk-toggleable__control:checked~label.sk-toggleable__label {background-color: #d4ebff;}#sk-container-id-13 div.sk-label input.sk-toggleable__control:checked~label.sk-toggleable__label {background-color: #d4ebff;}#sk-container-id-13 input.sk-hidden--visually {border: 0;clip: rect(1px 1px 1px 1px);clip: rect(1px, 1px, 1px, 1px);height: 1px;margin: -1px;overflow: hidden;padding: 0;position: absolute;width: 1px;}#sk-container-id-13 div.sk-estimator {font-family: monospace;background-color: #f0f8ff;border: 1px dotted black;border-radius: 0.25em;box-sizing: border-box;margin-bottom: 0.5em;}#sk-container-id-13 div.sk-estimator:hover {background-color: #d4ebff;}#sk-container-id-13 div.sk-parallel-item::after {content: \"\";width: 100%;border-bottom: 1px solid gray;flex-grow: 1;}#sk-container-id-13 div.sk-label:hover label.sk-toggleable__label {background-color: #d4ebff;}#sk-container-id-13 div.sk-serial::before {content: \"\";position: absolute;border-left: 1px solid gray;box-sizing: border-box;top: 0;bottom: 0;left: 50%;z-index: 0;}#sk-container-id-13 div.sk-serial {display: flex;flex-direction: column;align-items: center;background-color: white;padding-right: 0.2em;padding-left: 0.2em;position: relative;}#sk-container-id-13 div.sk-item {position: relative;z-index: 1;}#sk-container-id-13 div.sk-parallel {display: flex;align-items: stretch;justify-content: center;background-color: white;position: relative;}#sk-container-id-13 div.sk-item::before, #sk-container-id-13 div.sk-parallel-item::before {content: \"\";position: absolute;border-left: 1px solid gray;box-sizing: border-box;top: 0;bottom: 0;left: 50%;z-index: -1;}#sk-container-id-13 div.sk-parallel-item {display: flex;flex-direction: column;z-index: 1;position: relative;background-color: white;}#sk-container-id-13 div.sk-parallel-item:first-child::after {align-self: flex-end;width: 50%;}#sk-container-id-13 div.sk-parallel-item:last-child::after {align-self: flex-start;width: 50%;}#sk-container-id-13 div.sk-parallel-item:only-child::after {width: 0;}#sk-container-id-13 div.sk-dashed-wrapped {border: 1px dashed gray;margin: 0 0.4em 0.5em 0.4em;box-sizing: border-box;padding-bottom: 0.4em;background-color: white;}#sk-container-id-13 div.sk-label label {font-family: monospace;font-weight: bold;display: inline-block;line-height: 1.2em;}#sk-container-id-13 div.sk-label-container {text-align: center;}#sk-container-id-13 div.sk-container {/* jupyter's `normalize.less` sets `[hidden] { display: none; }` but bootstrap.min.css set `[hidden] { display: none !important; }` so we also need the `!important` here to be able to override the default hidden behavior on the sphinx rendered scikit-learn.org. See: https://github.com/scikit-learn/scikit-learn/issues/21755 */display: inline-block !important;position: relative;}#sk-container-id-13 div.sk-text-repr-fallback {display: none;}</style><div id=\"sk-container-id-13\" class=\"sk-top-container\"><div class=\"sk-text-repr-fallback\"><pre>GridSearchCV(estimator=KNeighborsClassifier(),\n",
              "             param_grid={&#x27;metric&#x27;: [&#x27;euclidean&#x27;, &#x27;chebyshev&#x27;, &#x27;minkowski&#x27;,\n",
              "                                    &#x27;manhattan&#x27;],\n",
              "                         &#x27;n_neighbors&#x27;: [1, 2, 3, 4, 5, 6, 7, 8, 9],\n",
              "                         &#x27;weights&#x27;: [&#x27;uniform&#x27;, &#x27;distance&#x27;]},\n",
              "             scoring=&#x27;balanced_accuracy&#x27;)</pre><b>In a Jupyter environment, please rerun this cell to show the HTML representation or trust the notebook. <br />On GitHub, the HTML representation is unable to render, please try loading this page with nbviewer.org.</b></div><div class=\"sk-container\" hidden><div class=\"sk-item sk-dashed-wrapped\"><div class=\"sk-label-container\"><div class=\"sk-label sk-toggleable\"><input class=\"sk-toggleable__control sk-hidden--visually\" id=\"sk-estimator-id-37\" type=\"checkbox\" ><label for=\"sk-estimator-id-37\" class=\"sk-toggleable__label sk-toggleable__label-arrow\">GridSearchCV</label><div class=\"sk-toggleable__content\"><pre>GridSearchCV(estimator=KNeighborsClassifier(),\n",
              "             param_grid={&#x27;metric&#x27;: [&#x27;euclidean&#x27;, &#x27;chebyshev&#x27;, &#x27;minkowski&#x27;,\n",
              "                                    &#x27;manhattan&#x27;],\n",
              "                         &#x27;n_neighbors&#x27;: [1, 2, 3, 4, 5, 6, 7, 8, 9],\n",
              "                         &#x27;weights&#x27;: [&#x27;uniform&#x27;, &#x27;distance&#x27;]},\n",
              "             scoring=&#x27;balanced_accuracy&#x27;)</pre></div></div></div><div class=\"sk-parallel\"><div class=\"sk-parallel-item\"><div class=\"sk-item\"><div class=\"sk-label-container\"><div class=\"sk-label sk-toggleable\"><input class=\"sk-toggleable__control sk-hidden--visually\" id=\"sk-estimator-id-38\" type=\"checkbox\" ><label for=\"sk-estimator-id-38\" class=\"sk-toggleable__label sk-toggleable__label-arrow\">estimator: KNeighborsClassifier</label><div class=\"sk-toggleable__content\"><pre>KNeighborsClassifier()</pre></div></div></div><div class=\"sk-serial\"><div class=\"sk-item\"><div class=\"sk-estimator sk-toggleable\"><input class=\"sk-toggleable__control sk-hidden--visually\" id=\"sk-estimator-id-39\" type=\"checkbox\" ><label for=\"sk-estimator-id-39\" class=\"sk-toggleable__label sk-toggleable__label-arrow\">KNeighborsClassifier</label><div class=\"sk-toggleable__content\"><pre>KNeighborsClassifier()</pre></div></div></div></div></div></div></div></div></div></div>"
            ],
            "text/plain": [
              "GridSearchCV(estimator=KNeighborsClassifier(),\n",
              "             param_grid={'metric': ['euclidean', 'chebyshev', 'minkowski',\n",
              "                                    'manhattan'],\n",
              "                         'n_neighbors': [1, 2, 3, 4, 5, 6, 7, 8, 9],\n",
              "                         'weights': ['uniform', 'distance']},\n",
              "             scoring='balanced_accuracy')"
            ]
          },
          "execution_count": 76,
          "metadata": {},
          "output_type": "execute_result"
        }
      ],
      "source": [
        "from sklearn.neighbors import KNeighborsClassifier\n",
        "\n",
        "params = {\n",
        "    \"n_neighbors\": list(range(1, 10)),\n",
        "    \"weights\": [\"uniform\", \"distance\"],\n",
        "    \"metric\": [\"euclidean\", \"chebyshev\", \"minkowski\", \"manhattan\"]\n",
        "}\n",
        "\n",
        "knn_clf = KNeighborsClassifier()\n",
        "\n",
        "grid_knn_clf = GridSearchCV(knn_clf, params, scoring=\"balanced_accuracy\")\n",
        "grid_knn_clf.fit(X_train, y_train)\n"
      ]
    },
    {
      "cell_type": "code",
      "execution_count": 77,
      "metadata": {
        "colab": {
          "base_uri": "https://localhost:8080/"
        },
        "id": "bnZKWmdBp1wL",
        "outputId": "3f888e39-9925-48fe-b823-bff8afebeaca"
      },
      "outputs": [
        {
          "name": "stdout",
          "output_type": "stream",
          "text": [
            "Best parameters:  {'metric': 'euclidean', 'n_neighbors': 6, 'weights': 'distance'}\n",
            "Accuracy of best (means of cross-validated scores on train set):  0.7290814711036219\n",
            "Accuracy of best (on test set):  0.7221982709846787\n"
          ]
        }
      ],
      "source": [
        "evaluate_grid(grid_knn_clf)\n"
      ]
    },
    {
      "cell_type": "markdown",
      "metadata": {
        "id": "X1lTqyX-AF8X"
      },
      "source": [
        "## Logistic Regression"
      ]
    },
    {
      "cell_type": "markdown",
      "metadata": {
        "id": "49CXI9yvdqTG"
      },
      "source": [
        "Since logistic regression is especially well-suited for binary problems, we expect this method to give good results."
      ]
    },
    {
      "cell_type": "code",
      "execution_count": null,
      "metadata": {
        "colab": {
          "base_uri": "https://localhost:8080/"
        },
        "id": "0TVnrGr3CJE6",
        "outputId": "21631687-a64a-4fba-cbfe-dabecaf660d2"
      },
      "outputs": [
        {
          "data": {
            "text/plain": [
              "LogisticRegressionCV(class_weight='balanced', max_iter=500, random_state=42,\n",
              "                     scoring='balanced_accuracy')"
            ]
          },
          "execution_count": 34,
          "metadata": {},
          "output_type": "execute_result"
        }
      ],
      "source": [
        "from sklearn.linear_model import LogisticRegressionCV\n",
        "\n",
        "log_clf = LogisticRegressionCV(\n",
        "    random_state=42,\n",
        "    scoring=\"balanced_accuracy\",\n",
        "    max_iter=500,\n",
        "    class_weight=\"balanced\"\n",
        ")\n",
        "\n",
        "log_clf.fit(X_train, y_train)\n"
      ]
    },
    {
      "cell_type": "code",
      "execution_count": null,
      "metadata": {
        "colab": {
          "base_uri": "https://localhost:8080/"
        },
        "id": "J3iOmU4gp4O3",
        "outputId": "8fc52119-4979-4707-d2dd-baac771fb32e"
      },
      "outputs": [
        {
          "name": "stdout",
          "output_type": "stream",
          "text": [
            "Accuracy (on test set):  0.8184607463733677\n"
          ]
        }
      ],
      "source": [
        "evaluate(log_clf)\n"
      ]
    },
    {
      "cell_type": "markdown",
      "metadata": {
        "id": "NuwEhU4pk0me"
      },
      "source": [
        "## SVM"
      ]
    },
    {
      "cell_type": "code",
      "execution_count": null,
      "metadata": {
        "colab": {
          "base_uri": "https://localhost:8080/"
        },
        "id": "nwESlmp-8A_e",
        "outputId": "c712375b-ae6e-44e4-f35f-7ac426e23c23"
      },
      "outputs": [
        {
          "data": {
            "text/plain": [
              "GridSearchCV(estimator=SVC(class_weight='balanced', random_state=42),\n",
              "             param_grid={'C': [1, 10, 50], 'degree': [2, 3, 4],\n",
              "                         'gamma': ['scale', 1, 0.1, 0.01],\n",
              "                         'kernel': ['linear', 'rbf', 'poly']},\n",
              "             scoring='balanced_accuracy')"
            ]
          },
          "execution_count": 36,
          "metadata": {},
          "output_type": "execute_result"
        }
      ],
      "source": [
        "from sklearn.svm import SVC\n",
        "\n",
        "params = {\n",
        "    \"C\": [1, 10, 50],\n",
        "    \"gamma\": [\"scale\", 1, 0.1, 0.01],\n",
        "    \"kernel\": [\"linear\", \"rbf\", \"poly\"],\n",
        "    \"degree\": [2, 3, 4]\n",
        "}\n",
        "\n",
        "svm_clf = SVC(random_state=42, class_weight=\"balanced\")\n",
        "\n",
        "grid_svm_clf = GridSearchCV(svm_clf, params, scoring=\"balanced_accuracy\")\n",
        "grid_svm_clf.fit(X_train, y_train)\n"
      ]
    },
    {
      "cell_type": "code",
      "execution_count": null,
      "metadata": {
        "colab": {
          "base_uri": "https://localhost:8080/"
        },
        "id": "2dIyqNLFuKNN",
        "outputId": "8c5d259e-c6e7-4ac9-b5f7-4007ddec1201"
      },
      "outputs": [
        {
          "name": "stdout",
          "output_type": "stream",
          "text": [
            "Best parameters:  {'C': 50, 'degree': 2, 'gamma': 'scale', 'kernel': 'rbf'}\n",
            "Accuracy of best (means of cross-validated scores on train set):  0.8285570898617853\n",
            "Accuracy of best (on test set):  0.8273004503587027\n"
          ]
        }
      ],
      "source": [
        "evaluate_grid(grid_svm_clf)\n"
      ]
    },
    {
      "cell_type": "markdown",
      "metadata": {
        "id": "-6u4_JAUkMUG"
      },
      "source": [
        "## Naive Bayes"
      ]
    },
    {
      "cell_type": "code",
      "execution_count": null,
      "metadata": {
        "colab": {
          "base_uri": "https://localhost:8080/"
        },
        "id": "UwTyG3TRlca2",
        "outputId": "c301d3bc-bf13-4b9f-f223-75ee45690d30"
      },
      "outputs": [
        {
          "name": "stdout",
          "output_type": "stream",
          "text": [
            "Best parameters:  {'var_smoothing': 0.00015040335536380253}\n",
            "Accuracy of best (means of cross-validated scores on train set):  0.7703546558177674\n",
            "Accuracy of best (on test set):  0.7605115758028379\n"
          ]
        }
      ],
      "source": [
        "from sklearn.naive_bayes import GaussianNB\n",
        "\n",
        "params = {\n",
        "    \"var_smoothing\": np.logspace(0, -9, num=300)\n",
        "}\n",
        "\n",
        "gnb_clf = GaussianNB()\n",
        "\n",
        "grid_gnb_clf = GridSearchCV(gnb_clf, params, scoring=\"balanced_accuracy\")\n",
        "grid_gnb_clf.fit(X_train, y_train)\n",
        "\n",
        "evaluate_grid(grid_gnb_clf)\n"
      ]
    },
    {
      "cell_type": "markdown",
      "metadata": {
        "id": "MvUEqb3issHq"
      },
      "source": [
        "# Ensemble Classifiers"
      ]
    },
    {
      "cell_type": "markdown",
      "metadata": {
        "id": "zzyC0wra3pve"
      },
      "source": [
        "## Bagging"
      ]
    },
    {
      "cell_type": "markdown",
      "metadata": {
        "id": "zwez9Wa50v_L"
      },
      "source": [
        "The `BaggingClassifier` provided by scikit-learn wouldn't be good for this dataset, because it does not take in account the imbalance in the instances: the resulting classifier would have a bias towards the majority class."
      ]
    },
    {
      "cell_type": "code",
      "execution_count": null,
      "metadata": {
        "colab": {
          "base_uri": "https://localhost:8080/"
        },
        "id": "z29-SXaw3tpq",
        "outputId": "89b01ec9-ba5b-4b1e-ac4c-2adce4a168dc"
      },
      "outputs": [
        {
          "data": {
            "text/plain": [
              "BaggingClassifier(random_state=42)"
            ]
          },
          "execution_count": 39,
          "metadata": {},
          "output_type": "execute_result"
        }
      ],
      "source": [
        "from sklearn.ensemble import BaggingClassifier\n",
        "\n",
        "bag_clf = BaggingClassifier(random_state=42)\n",
        "bag_clf.fit(X_train, y_train)\n"
      ]
    },
    {
      "cell_type": "code",
      "execution_count": null,
      "metadata": {
        "colab": {
          "base_uri": "https://localhost:8080/"
        },
        "id": "WiwZxXQ6rJpN",
        "outputId": "08dae482-b3aa-4d59-a722-5e74d2d5e5cc"
      },
      "outputs": [
        {
          "name": "stdout",
          "output_type": "stream",
          "text": [
            "Accuracy (on test set):  0.745184103921968\n"
          ]
        }
      ],
      "source": [
        "evaluate(bag_clf)\n"
      ]
    },
    {
      "cell_type": "markdown",
      "metadata": {
        "id": "uroFJgXXVfB9"
      },
      "source": [
        "The `BalancedBaggingClassifier` included in `imbalanced-learn` is more appropriate because it includes an additional step to balance the training set at fit time using a given sampler. The default sampler works by doing a random undersampling of the majority class."
      ]
    },
    {
      "cell_type": "code",
      "execution_count": 34,
      "metadata": {
        "colab": {
          "base_uri": "https://localhost:8080/"
        },
        "id": "ztn-z6RD442J",
        "outputId": "cf2f83d0-689e-473c-804e-8a62ecb7bcb3"
      },
      "outputs": [
        {
          "data": {
            "text/html": [
              "<style>#sk-container-id-4 {color: black;background-color: white;}#sk-container-id-4 pre{padding: 0;}#sk-container-id-4 div.sk-toggleable {background-color: white;}#sk-container-id-4 label.sk-toggleable__label {cursor: pointer;display: block;width: 100%;margin-bottom: 0;padding: 0.3em;box-sizing: border-box;text-align: center;}#sk-container-id-4 label.sk-toggleable__label-arrow:before {content: \"▸\";float: left;margin-right: 0.25em;color: #696969;}#sk-container-id-4 label.sk-toggleable__label-arrow:hover:before {color: black;}#sk-container-id-4 div.sk-estimator:hover label.sk-toggleable__label-arrow:before {color: black;}#sk-container-id-4 div.sk-toggleable__content {max-height: 0;max-width: 0;overflow: hidden;text-align: left;background-color: #f0f8ff;}#sk-container-id-4 div.sk-toggleable__content pre {margin: 0.2em;color: black;border-radius: 0.25em;background-color: #f0f8ff;}#sk-container-id-4 input.sk-toggleable__control:checked~div.sk-toggleable__content {max-height: 200px;max-width: 100%;overflow: auto;}#sk-container-id-4 input.sk-toggleable__control:checked~label.sk-toggleable__label-arrow:before {content: \"▾\";}#sk-container-id-4 div.sk-estimator input.sk-toggleable__control:checked~label.sk-toggleable__label {background-color: #d4ebff;}#sk-container-id-4 div.sk-label input.sk-toggleable__control:checked~label.sk-toggleable__label {background-color: #d4ebff;}#sk-container-id-4 input.sk-hidden--visually {border: 0;clip: rect(1px 1px 1px 1px);clip: rect(1px, 1px, 1px, 1px);height: 1px;margin: -1px;overflow: hidden;padding: 0;position: absolute;width: 1px;}#sk-container-id-4 div.sk-estimator {font-family: monospace;background-color: #f0f8ff;border: 1px dotted black;border-radius: 0.25em;box-sizing: border-box;margin-bottom: 0.5em;}#sk-container-id-4 div.sk-estimator:hover {background-color: #d4ebff;}#sk-container-id-4 div.sk-parallel-item::after {content: \"\";width: 100%;border-bottom: 1px solid gray;flex-grow: 1;}#sk-container-id-4 div.sk-label:hover label.sk-toggleable__label {background-color: #d4ebff;}#sk-container-id-4 div.sk-serial::before {content: \"\";position: absolute;border-left: 1px solid gray;box-sizing: border-box;top: 0;bottom: 0;left: 50%;z-index: 0;}#sk-container-id-4 div.sk-serial {display: flex;flex-direction: column;align-items: center;background-color: white;padding-right: 0.2em;padding-left: 0.2em;position: relative;}#sk-container-id-4 div.sk-item {position: relative;z-index: 1;}#sk-container-id-4 div.sk-parallel {display: flex;align-items: stretch;justify-content: center;background-color: white;position: relative;}#sk-container-id-4 div.sk-item::before, #sk-container-id-4 div.sk-parallel-item::before {content: \"\";position: absolute;border-left: 1px solid gray;box-sizing: border-box;top: 0;bottom: 0;left: 50%;z-index: -1;}#sk-container-id-4 div.sk-parallel-item {display: flex;flex-direction: column;z-index: 1;position: relative;background-color: white;}#sk-container-id-4 div.sk-parallel-item:first-child::after {align-self: flex-end;width: 50%;}#sk-container-id-4 div.sk-parallel-item:last-child::after {align-self: flex-start;width: 50%;}#sk-container-id-4 div.sk-parallel-item:only-child::after {width: 0;}#sk-container-id-4 div.sk-dashed-wrapped {border: 1px dashed gray;margin: 0 0.4em 0.5em 0.4em;box-sizing: border-box;padding-bottom: 0.4em;background-color: white;}#sk-container-id-4 div.sk-label label {font-family: monospace;font-weight: bold;display: inline-block;line-height: 1.2em;}#sk-container-id-4 div.sk-label-container {text-align: center;}#sk-container-id-4 div.sk-container {/* jupyter's `normalize.less` sets `[hidden] { display: none; }` but bootstrap.min.css set `[hidden] { display: none !important; }` so we also need the `!important` here to be able to override the default hidden behavior on the sphinx rendered scikit-learn.org. See: https://github.com/scikit-learn/scikit-learn/issues/21755 */display: inline-block !important;position: relative;}#sk-container-id-4 div.sk-text-repr-fallback {display: none;}</style><div id=\"sk-container-id-4\" class=\"sk-top-container\"><div class=\"sk-text-repr-fallback\"><pre>GridSearchCV(estimator=BalancedBaggingClassifier(oob_score=True,\n",
              "                                                 random_state=42),\n",
              "             param_grid={&#x27;max_features&#x27;: [0.5, 1.0],\n",
              "                         &#x27;max_samples&#x27;: [0.2, 0.5, 1.0],\n",
              "                         &#x27;n_estimators&#x27;: [100, 200, 500]},\n",
              "             scoring=&#x27;balanced_accuracy&#x27;)</pre><b>In a Jupyter environment, please rerun this cell to show the HTML representation or trust the notebook. <br />On GitHub, the HTML representation is unable to render, please try loading this page with nbviewer.org.</b></div><div class=\"sk-container\" hidden><div class=\"sk-item sk-dashed-wrapped\"><div class=\"sk-label-container\"><div class=\"sk-label sk-toggleable\"><input class=\"sk-toggleable__control sk-hidden--visually\" id=\"sk-estimator-id-8\" type=\"checkbox\" ><label for=\"sk-estimator-id-8\" class=\"sk-toggleable__label sk-toggleable__label-arrow\">GridSearchCV</label><div class=\"sk-toggleable__content\"><pre>GridSearchCV(estimator=BalancedBaggingClassifier(oob_score=True,\n",
              "                                                 random_state=42),\n",
              "             param_grid={&#x27;max_features&#x27;: [0.5, 1.0],\n",
              "                         &#x27;max_samples&#x27;: [0.2, 0.5, 1.0],\n",
              "                         &#x27;n_estimators&#x27;: [100, 200, 500]},\n",
              "             scoring=&#x27;balanced_accuracy&#x27;)</pre></div></div></div><div class=\"sk-parallel\"><div class=\"sk-parallel-item\"><div class=\"sk-item\"><div class=\"sk-label-container\"><div class=\"sk-label sk-toggleable\"><input class=\"sk-toggleable__control sk-hidden--visually\" id=\"sk-estimator-id-9\" type=\"checkbox\" ><label for=\"sk-estimator-id-9\" class=\"sk-toggleable__label sk-toggleable__label-arrow\">estimator: BalancedBaggingClassifier</label><div class=\"sk-toggleable__content\"><pre>BalancedBaggingClassifier(oob_score=True, random_state=42)</pre></div></div></div><div class=\"sk-serial\"><div class=\"sk-item\"><div class=\"sk-estimator sk-toggleable\"><input class=\"sk-toggleable__control sk-hidden--visually\" id=\"sk-estimator-id-10\" type=\"checkbox\" ><label for=\"sk-estimator-id-10\" class=\"sk-toggleable__label sk-toggleable__label-arrow\">BalancedBaggingClassifier</label><div class=\"sk-toggleable__content\"><pre>BalancedBaggingClassifier(oob_score=True, random_state=42)</pre></div></div></div></div></div></div></div></div></div></div>"
            ],
            "text/plain": [
              "GridSearchCV(estimator=BalancedBaggingClassifier(oob_score=True,\n",
              "                                                 random_state=42),\n",
              "             param_grid={'max_features': [0.5, 1.0],\n",
              "                         'max_samples': [0.2, 0.5, 1.0],\n",
              "                         'n_estimators': [100, 200, 500]},\n",
              "             scoring='balanced_accuracy')"
            ]
          },
          "execution_count": 34,
          "metadata": {},
          "output_type": "execute_result"
        }
      ],
      "source": [
        "from imblearn.ensemble import BalancedBaggingClassifier\n",
        "\n",
        "params = {\n",
        "    \"n_estimators\": [100, 200, 500],\n",
        "    \"max_samples\": [0.2, 0.5, 1.0],\n",
        "    \"max_features\": [0.5, 1.0],\n",
        "}\n",
        "\n",
        "grid_bb_clf = GridSearchCV(\n",
        "    BalancedBaggingClassifier(random_state=42, oob_score=True),\n",
        "    params,\n",
        "    scoring=\"balanced_accuracy\"\n",
        ")\n",
        "\n",
        "grid_bb_clf.fit(X_train, y_train)\n"
      ]
    },
    {
      "cell_type": "code",
      "execution_count": 35,
      "metadata": {
        "colab": {
          "base_uri": "https://localhost:8080/"
        },
        "id": "-pgrNB9WrMN3",
        "outputId": "1384a2f2-a489-4d22-96ee-171990f9dd2e"
      },
      "outputs": [
        {
          "name": "stdout",
          "output_type": "stream",
          "text": [
            "Best parameters:  {'max_features': 1.0, 'max_samples': 0.2, 'n_estimators': 200}\n",
            "Accuracy of best (means of cross-validated scores on train set):  0.8520401962169952\n",
            "Accuracy of best (on test set):  0.8540498336614841\n"
          ]
        }
      ],
      "source": [
        "evaluate_grid(grid_bb_clf)\n"
      ]
    },
    {
      "cell_type": "markdown",
      "metadata": {
        "id": "PwAU-G5DG2Y0"
      },
      "source": [
        "## Random Forest"
      ]
    },
    {
      "cell_type": "markdown",
      "metadata": {
        "id": "2vaPyU64XoR_"
      },
      "source": [
        "For the same reason as basic bagging, we can expect random forests and extra trees to produce unsatisfying results."
      ]
    },
    {
      "cell_type": "code",
      "execution_count": 36,
      "metadata": {
        "colab": {
          "base_uri": "https://localhost:8080/"
        },
        "id": "JT47jwGwHL6m",
        "outputId": "f8eb3145-ae4f-4e7d-f308-c537dfc5fa9a"
      },
      "outputs": [
        {
          "data": {
            "text/html": [
              "<style>#sk-container-id-5 {color: black;background-color: white;}#sk-container-id-5 pre{padding: 0;}#sk-container-id-5 div.sk-toggleable {background-color: white;}#sk-container-id-5 label.sk-toggleable__label {cursor: pointer;display: block;width: 100%;margin-bottom: 0;padding: 0.3em;box-sizing: border-box;text-align: center;}#sk-container-id-5 label.sk-toggleable__label-arrow:before {content: \"▸\";float: left;margin-right: 0.25em;color: #696969;}#sk-container-id-5 label.sk-toggleable__label-arrow:hover:before {color: black;}#sk-container-id-5 div.sk-estimator:hover label.sk-toggleable__label-arrow:before {color: black;}#sk-container-id-5 div.sk-toggleable__content {max-height: 0;max-width: 0;overflow: hidden;text-align: left;background-color: #f0f8ff;}#sk-container-id-5 div.sk-toggleable__content pre {margin: 0.2em;color: black;border-radius: 0.25em;background-color: #f0f8ff;}#sk-container-id-5 input.sk-toggleable__control:checked~div.sk-toggleable__content {max-height: 200px;max-width: 100%;overflow: auto;}#sk-container-id-5 input.sk-toggleable__control:checked~label.sk-toggleable__label-arrow:before {content: \"▾\";}#sk-container-id-5 div.sk-estimator input.sk-toggleable__control:checked~label.sk-toggleable__label {background-color: #d4ebff;}#sk-container-id-5 div.sk-label input.sk-toggleable__control:checked~label.sk-toggleable__label {background-color: #d4ebff;}#sk-container-id-5 input.sk-hidden--visually {border: 0;clip: rect(1px 1px 1px 1px);clip: rect(1px, 1px, 1px, 1px);height: 1px;margin: -1px;overflow: hidden;padding: 0;position: absolute;width: 1px;}#sk-container-id-5 div.sk-estimator {font-family: monospace;background-color: #f0f8ff;border: 1px dotted black;border-radius: 0.25em;box-sizing: border-box;margin-bottom: 0.5em;}#sk-container-id-5 div.sk-estimator:hover {background-color: #d4ebff;}#sk-container-id-5 div.sk-parallel-item::after {content: \"\";width: 100%;border-bottom: 1px solid gray;flex-grow: 1;}#sk-container-id-5 div.sk-label:hover label.sk-toggleable__label {background-color: #d4ebff;}#sk-container-id-5 div.sk-serial::before {content: \"\";position: absolute;border-left: 1px solid gray;box-sizing: border-box;top: 0;bottom: 0;left: 50%;z-index: 0;}#sk-container-id-5 div.sk-serial {display: flex;flex-direction: column;align-items: center;background-color: white;padding-right: 0.2em;padding-left: 0.2em;position: relative;}#sk-container-id-5 div.sk-item {position: relative;z-index: 1;}#sk-container-id-5 div.sk-parallel {display: flex;align-items: stretch;justify-content: center;background-color: white;position: relative;}#sk-container-id-5 div.sk-item::before, #sk-container-id-5 div.sk-parallel-item::before {content: \"\";position: absolute;border-left: 1px solid gray;box-sizing: border-box;top: 0;bottom: 0;left: 50%;z-index: -1;}#sk-container-id-5 div.sk-parallel-item {display: flex;flex-direction: column;z-index: 1;position: relative;background-color: white;}#sk-container-id-5 div.sk-parallel-item:first-child::after {align-self: flex-end;width: 50%;}#sk-container-id-5 div.sk-parallel-item:last-child::after {align-self: flex-start;width: 50%;}#sk-container-id-5 div.sk-parallel-item:only-child::after {width: 0;}#sk-container-id-5 div.sk-dashed-wrapped {border: 1px dashed gray;margin: 0 0.4em 0.5em 0.4em;box-sizing: border-box;padding-bottom: 0.4em;background-color: white;}#sk-container-id-5 div.sk-label label {font-family: monospace;font-weight: bold;display: inline-block;line-height: 1.2em;}#sk-container-id-5 div.sk-label-container {text-align: center;}#sk-container-id-5 div.sk-container {/* jupyter's `normalize.less` sets `[hidden] { display: none; }` but bootstrap.min.css set `[hidden] { display: none !important; }` so we also need the `!important` here to be able to override the default hidden behavior on the sphinx rendered scikit-learn.org. See: https://github.com/scikit-learn/scikit-learn/issues/21755 */display: inline-block !important;position: relative;}#sk-container-id-5 div.sk-text-repr-fallback {display: none;}</style><div id=\"sk-container-id-5\" class=\"sk-top-container\"><div class=\"sk-text-repr-fallback\"><pre>RandomForestClassifier(class_weight=&#x27;balanced&#x27;, random_state=42)</pre><b>In a Jupyter environment, please rerun this cell to show the HTML representation or trust the notebook. <br />On GitHub, the HTML representation is unable to render, please try loading this page with nbviewer.org.</b></div><div class=\"sk-container\" hidden><div class=\"sk-item\"><div class=\"sk-estimator sk-toggleable\"><input class=\"sk-toggleable__control sk-hidden--visually\" id=\"sk-estimator-id-11\" type=\"checkbox\" checked><label for=\"sk-estimator-id-11\" class=\"sk-toggleable__label sk-toggleable__label-arrow\">RandomForestClassifier</label><div class=\"sk-toggleable__content\"><pre>RandomForestClassifier(class_weight=&#x27;balanced&#x27;, random_state=42)</pre></div></div></div></div></div>"
            ],
            "text/plain": [
              "RandomForestClassifier(class_weight='balanced', random_state=42)"
            ]
          },
          "execution_count": 36,
          "metadata": {},
          "output_type": "execute_result"
        }
      ],
      "source": [
        "from sklearn.ensemble import RandomForestClassifier\n",
        "\n",
        "rf_clf = RandomForestClassifier(random_state=42, class_weight=\"balanced\")\n",
        "rf_clf.fit(X_train, y_train)\n"
      ]
    },
    {
      "cell_type": "code",
      "execution_count": 37,
      "metadata": {
        "colab": {
          "base_uri": "https://localhost:8080/"
        },
        "id": "2FFVfOhtrO6d",
        "outputId": "c87d1634-2f62-40bf-c9f6-64c6fbee08f0"
      },
      "outputs": [
        {
          "name": "stdout",
          "output_type": "stream",
          "text": [
            "Accuracy (on test set):  0.7680081245615227\n"
          ]
        }
      ],
      "source": [
        "evaluate(rf_clf)\n"
      ]
    },
    {
      "cell_type": "code",
      "execution_count": 38,
      "metadata": {
        "colab": {
          "base_uri": "https://localhost:8080/"
        },
        "id": "ebmOro7QKGAM",
        "outputId": "770bcb7d-7d8f-453f-b8ee-1a3ec96ee742"
      },
      "outputs": [
        {
          "data": {
            "text/html": [
              "<style>#sk-container-id-6 {color: black;background-color: white;}#sk-container-id-6 pre{padding: 0;}#sk-container-id-6 div.sk-toggleable {background-color: white;}#sk-container-id-6 label.sk-toggleable__label {cursor: pointer;display: block;width: 100%;margin-bottom: 0;padding: 0.3em;box-sizing: border-box;text-align: center;}#sk-container-id-6 label.sk-toggleable__label-arrow:before {content: \"▸\";float: left;margin-right: 0.25em;color: #696969;}#sk-container-id-6 label.sk-toggleable__label-arrow:hover:before {color: black;}#sk-container-id-6 div.sk-estimator:hover label.sk-toggleable__label-arrow:before {color: black;}#sk-container-id-6 div.sk-toggleable__content {max-height: 0;max-width: 0;overflow: hidden;text-align: left;background-color: #f0f8ff;}#sk-container-id-6 div.sk-toggleable__content pre {margin: 0.2em;color: black;border-radius: 0.25em;background-color: #f0f8ff;}#sk-container-id-6 input.sk-toggleable__control:checked~div.sk-toggleable__content {max-height: 200px;max-width: 100%;overflow: auto;}#sk-container-id-6 input.sk-toggleable__control:checked~label.sk-toggleable__label-arrow:before {content: \"▾\";}#sk-container-id-6 div.sk-estimator input.sk-toggleable__control:checked~label.sk-toggleable__label {background-color: #d4ebff;}#sk-container-id-6 div.sk-label input.sk-toggleable__control:checked~label.sk-toggleable__label {background-color: #d4ebff;}#sk-container-id-6 input.sk-hidden--visually {border: 0;clip: rect(1px 1px 1px 1px);clip: rect(1px, 1px, 1px, 1px);height: 1px;margin: -1px;overflow: hidden;padding: 0;position: absolute;width: 1px;}#sk-container-id-6 div.sk-estimator {font-family: monospace;background-color: #f0f8ff;border: 1px dotted black;border-radius: 0.25em;box-sizing: border-box;margin-bottom: 0.5em;}#sk-container-id-6 div.sk-estimator:hover {background-color: #d4ebff;}#sk-container-id-6 div.sk-parallel-item::after {content: \"\";width: 100%;border-bottom: 1px solid gray;flex-grow: 1;}#sk-container-id-6 div.sk-label:hover label.sk-toggleable__label {background-color: #d4ebff;}#sk-container-id-6 div.sk-serial::before {content: \"\";position: absolute;border-left: 1px solid gray;box-sizing: border-box;top: 0;bottom: 0;left: 50%;z-index: 0;}#sk-container-id-6 div.sk-serial {display: flex;flex-direction: column;align-items: center;background-color: white;padding-right: 0.2em;padding-left: 0.2em;position: relative;}#sk-container-id-6 div.sk-item {position: relative;z-index: 1;}#sk-container-id-6 div.sk-parallel {display: flex;align-items: stretch;justify-content: center;background-color: white;position: relative;}#sk-container-id-6 div.sk-item::before, #sk-container-id-6 div.sk-parallel-item::before {content: \"\";position: absolute;border-left: 1px solid gray;box-sizing: border-box;top: 0;bottom: 0;left: 50%;z-index: -1;}#sk-container-id-6 div.sk-parallel-item {display: flex;flex-direction: column;z-index: 1;position: relative;background-color: white;}#sk-container-id-6 div.sk-parallel-item:first-child::after {align-self: flex-end;width: 50%;}#sk-container-id-6 div.sk-parallel-item:last-child::after {align-self: flex-start;width: 50%;}#sk-container-id-6 div.sk-parallel-item:only-child::after {width: 0;}#sk-container-id-6 div.sk-dashed-wrapped {border: 1px dashed gray;margin: 0 0.4em 0.5em 0.4em;box-sizing: border-box;padding-bottom: 0.4em;background-color: white;}#sk-container-id-6 div.sk-label label {font-family: monospace;font-weight: bold;display: inline-block;line-height: 1.2em;}#sk-container-id-6 div.sk-label-container {text-align: center;}#sk-container-id-6 div.sk-container {/* jupyter's `normalize.less` sets `[hidden] { display: none; }` but bootstrap.min.css set `[hidden] { display: none !important; }` so we also need the `!important` here to be able to override the default hidden behavior on the sphinx rendered scikit-learn.org. See: https://github.com/scikit-learn/scikit-learn/issues/21755 */display: inline-block !important;position: relative;}#sk-container-id-6 div.sk-text-repr-fallback {display: none;}</style><div id=\"sk-container-id-6\" class=\"sk-top-container\"><div class=\"sk-text-repr-fallback\"><pre>ExtraTreesClassifier(class_weight=&#x27;balanced&#x27;, random_state=42)</pre><b>In a Jupyter environment, please rerun this cell to show the HTML representation or trust the notebook. <br />On GitHub, the HTML representation is unable to render, please try loading this page with nbviewer.org.</b></div><div class=\"sk-container\" hidden><div class=\"sk-item\"><div class=\"sk-estimator sk-toggleable\"><input class=\"sk-toggleable__control sk-hidden--visually\" id=\"sk-estimator-id-12\" type=\"checkbox\" checked><label for=\"sk-estimator-id-12\" class=\"sk-toggleable__label sk-toggleable__label-arrow\">ExtraTreesClassifier</label><div class=\"sk-toggleable__content\"><pre>ExtraTreesClassifier(class_weight=&#x27;balanced&#x27;, random_state=42)</pre></div></div></div></div></div>"
            ],
            "text/plain": [
              "ExtraTreesClassifier(class_weight='balanced', random_state=42)"
            ]
          },
          "execution_count": 38,
          "metadata": {},
          "output_type": "execute_result"
        }
      ],
      "source": [
        "from sklearn.ensemble import ExtraTreesClassifier\n",
        "\n",
        "et_clf = ExtraTreesClassifier(random_state=42, class_weight=\"balanced\")\n",
        "et_clf.fit(X_train, y_train)\n"
      ]
    },
    {
      "cell_type": "code",
      "execution_count": 39,
      "metadata": {
        "colab": {
          "base_uri": "https://localhost:8080/"
        },
        "id": "8aNwCadcrRc0",
        "outputId": "5dc47407-1dc1-437e-83c3-989e15fe8243"
      },
      "outputs": [
        {
          "name": "stdout",
          "output_type": "stream",
          "text": [
            "Accuracy (on test set):  0.7587163645416073\n"
          ]
        }
      ],
      "source": [
        "evaluate(et_clf)\n"
      ]
    },
    {
      "cell_type": "markdown",
      "metadata": {
        "id": "amwM3wwWsoW_"
      },
      "source": [
        "Both method have a relatively low (balanced) accuracy, even if the class weight is set to `balanced`."
      ]
    },
    {
      "cell_type": "markdown",
      "metadata": {
        "id": "ALa41AGHrCqv"
      },
      "source": [
        "`BalancedRandomForest` should provide better results, by undersampling the majority class."
      ]
    },
    {
      "cell_type": "code",
      "execution_count": 40,
      "metadata": {
        "colab": {
          "base_uri": "https://localhost:8080/"
        },
        "id": "0zQj66Kq7x2j",
        "outputId": "8cae0cb7-09c1-4bb9-8a37-5f3ad5fe4b29"
      },
      "outputs": [
        {
          "data": {
            "text/html": [
              "<style>#sk-container-id-7 {color: black;background-color: white;}#sk-container-id-7 pre{padding: 0;}#sk-container-id-7 div.sk-toggleable {background-color: white;}#sk-container-id-7 label.sk-toggleable__label {cursor: pointer;display: block;width: 100%;margin-bottom: 0;padding: 0.3em;box-sizing: border-box;text-align: center;}#sk-container-id-7 label.sk-toggleable__label-arrow:before {content: \"▸\";float: left;margin-right: 0.25em;color: #696969;}#sk-container-id-7 label.sk-toggleable__label-arrow:hover:before {color: black;}#sk-container-id-7 div.sk-estimator:hover label.sk-toggleable__label-arrow:before {color: black;}#sk-container-id-7 div.sk-toggleable__content {max-height: 0;max-width: 0;overflow: hidden;text-align: left;background-color: #f0f8ff;}#sk-container-id-7 div.sk-toggleable__content pre {margin: 0.2em;color: black;border-radius: 0.25em;background-color: #f0f8ff;}#sk-container-id-7 input.sk-toggleable__control:checked~div.sk-toggleable__content {max-height: 200px;max-width: 100%;overflow: auto;}#sk-container-id-7 input.sk-toggleable__control:checked~label.sk-toggleable__label-arrow:before {content: \"▾\";}#sk-container-id-7 div.sk-estimator input.sk-toggleable__control:checked~label.sk-toggleable__label {background-color: #d4ebff;}#sk-container-id-7 div.sk-label input.sk-toggleable__control:checked~label.sk-toggleable__label {background-color: #d4ebff;}#sk-container-id-7 input.sk-hidden--visually {border: 0;clip: rect(1px 1px 1px 1px);clip: rect(1px, 1px, 1px, 1px);height: 1px;margin: -1px;overflow: hidden;padding: 0;position: absolute;width: 1px;}#sk-container-id-7 div.sk-estimator {font-family: monospace;background-color: #f0f8ff;border: 1px dotted black;border-radius: 0.25em;box-sizing: border-box;margin-bottom: 0.5em;}#sk-container-id-7 div.sk-estimator:hover {background-color: #d4ebff;}#sk-container-id-7 div.sk-parallel-item::after {content: \"\";width: 100%;border-bottom: 1px solid gray;flex-grow: 1;}#sk-container-id-7 div.sk-label:hover label.sk-toggleable__label {background-color: #d4ebff;}#sk-container-id-7 div.sk-serial::before {content: \"\";position: absolute;border-left: 1px solid gray;box-sizing: border-box;top: 0;bottom: 0;left: 50%;z-index: 0;}#sk-container-id-7 div.sk-serial {display: flex;flex-direction: column;align-items: center;background-color: white;padding-right: 0.2em;padding-left: 0.2em;position: relative;}#sk-container-id-7 div.sk-item {position: relative;z-index: 1;}#sk-container-id-7 div.sk-parallel {display: flex;align-items: stretch;justify-content: center;background-color: white;position: relative;}#sk-container-id-7 div.sk-item::before, #sk-container-id-7 div.sk-parallel-item::before {content: \"\";position: absolute;border-left: 1px solid gray;box-sizing: border-box;top: 0;bottom: 0;left: 50%;z-index: -1;}#sk-container-id-7 div.sk-parallel-item {display: flex;flex-direction: column;z-index: 1;position: relative;background-color: white;}#sk-container-id-7 div.sk-parallel-item:first-child::after {align-self: flex-end;width: 50%;}#sk-container-id-7 div.sk-parallel-item:last-child::after {align-self: flex-start;width: 50%;}#sk-container-id-7 div.sk-parallel-item:only-child::after {width: 0;}#sk-container-id-7 div.sk-dashed-wrapped {border: 1px dashed gray;margin: 0 0.4em 0.5em 0.4em;box-sizing: border-box;padding-bottom: 0.4em;background-color: white;}#sk-container-id-7 div.sk-label label {font-family: monospace;font-weight: bold;display: inline-block;line-height: 1.2em;}#sk-container-id-7 div.sk-label-container {text-align: center;}#sk-container-id-7 div.sk-container {/* jupyter's `normalize.less` sets `[hidden] { display: none; }` but bootstrap.min.css set `[hidden] { display: none !important; }` so we also need the `!important` here to be able to override the default hidden behavior on the sphinx rendered scikit-learn.org. See: https://github.com/scikit-learn/scikit-learn/issues/21755 */display: inline-block !important;position: relative;}#sk-container-id-7 div.sk-text-repr-fallback {display: none;}</style><div id=\"sk-container-id-7\" class=\"sk-top-container\"><div class=\"sk-text-repr-fallback\"><pre>GridSearchCV(estimator=BalancedRandomForestClassifier(oob_score=True,\n",
              "                                                      random_state=42),\n",
              "             param_grid={&#x27;criterion&#x27;: [&#x27;gini&#x27;, &#x27;entropy&#x27;],\n",
              "                         &#x27;max_depth&#x27;: [5, 6, 7, 8, 9],\n",
              "                         &#x27;max_features&#x27;: [&#x27;log2&#x27;, &#x27;sqrt&#x27;],\n",
              "                         &#x27;n_estimators&#x27;: [200, 300]},\n",
              "             scoring=&#x27;balanced_accuracy&#x27;)</pre><b>In a Jupyter environment, please rerun this cell to show the HTML representation or trust the notebook. <br />On GitHub, the HTML representation is unable to render, please try loading this page with nbviewer.org.</b></div><div class=\"sk-container\" hidden><div class=\"sk-item sk-dashed-wrapped\"><div class=\"sk-label-container\"><div class=\"sk-label sk-toggleable\"><input class=\"sk-toggleable__control sk-hidden--visually\" id=\"sk-estimator-id-13\" type=\"checkbox\" ><label for=\"sk-estimator-id-13\" class=\"sk-toggleable__label sk-toggleable__label-arrow\">GridSearchCV</label><div class=\"sk-toggleable__content\"><pre>GridSearchCV(estimator=BalancedRandomForestClassifier(oob_score=True,\n",
              "                                                      random_state=42),\n",
              "             param_grid={&#x27;criterion&#x27;: [&#x27;gini&#x27;, &#x27;entropy&#x27;],\n",
              "                         &#x27;max_depth&#x27;: [5, 6, 7, 8, 9],\n",
              "                         &#x27;max_features&#x27;: [&#x27;log2&#x27;, &#x27;sqrt&#x27;],\n",
              "                         &#x27;n_estimators&#x27;: [200, 300]},\n",
              "             scoring=&#x27;balanced_accuracy&#x27;)</pre></div></div></div><div class=\"sk-parallel\"><div class=\"sk-parallel-item\"><div class=\"sk-item\"><div class=\"sk-label-container\"><div class=\"sk-label sk-toggleable\"><input class=\"sk-toggleable__control sk-hidden--visually\" id=\"sk-estimator-id-14\" type=\"checkbox\" ><label for=\"sk-estimator-id-14\" class=\"sk-toggleable__label sk-toggleable__label-arrow\">estimator: BalancedRandomForestClassifier</label><div class=\"sk-toggleable__content\"><pre>BalancedRandomForestClassifier(oob_score=True, random_state=42)</pre></div></div></div><div class=\"sk-serial\"><div class=\"sk-item\"><div class=\"sk-estimator sk-toggleable\"><input class=\"sk-toggleable__control sk-hidden--visually\" id=\"sk-estimator-id-15\" type=\"checkbox\" ><label for=\"sk-estimator-id-15\" class=\"sk-toggleable__label sk-toggleable__label-arrow\">BalancedRandomForestClassifier</label><div class=\"sk-toggleable__content\"><pre>BalancedRandomForestClassifier(oob_score=True, random_state=42)</pre></div></div></div></div></div></div></div></div></div></div>"
            ],
            "text/plain": [
              "GridSearchCV(estimator=BalancedRandomForestClassifier(oob_score=True,\n",
              "                                                      random_state=42),\n",
              "             param_grid={'criterion': ['gini', 'entropy'],\n",
              "                         'max_depth': [5, 6, 7, 8, 9],\n",
              "                         'max_features': ['log2', 'sqrt'],\n",
              "                         'n_estimators': [200, 300]},\n",
              "             scoring='balanced_accuracy')"
            ]
          },
          "execution_count": 40,
          "metadata": {},
          "output_type": "execute_result"
        }
      ],
      "source": [
        "from imblearn.ensemble import BalancedRandomForestClassifier\n",
        "\n",
        "params = {\n",
        "    \"n_estimators\": [200, 300],\n",
        "    \"criterion\": [\"gini\", \"entropy\"],\n",
        "    \"max_depth\": list(range(5, 10)),\n",
        "    \"max_features\": [\"log2\", \"sqrt\"],\n",
        "}\n",
        "\n",
        "grid_brf_clf = GridSearchCV(\n",
        "    BalancedRandomForestClassifier(random_state=42, oob_score=True),\n",
        "    params,\n",
        "    scoring=\"balanced_accuracy\"\n",
        ")\n",
        "\n",
        "grid_brf_clf.fit(X_train, y_train)\n"
      ]
    },
    {
      "cell_type": "code",
      "execution_count": null,
      "metadata": {
        "colab": {
          "base_uri": "https://localhost:8080/"
        },
        "id": "_mRLmPk4rUdj",
        "outputId": "028afa76-59cb-427d-fc9c-a8e94d43f8f2"
      },
      "outputs": [
        {
          "name": "stdout",
          "output_type": "stream",
          "text": [
            "Best parameters:  {'criterion': 'gini', 'max_depth': 8, 'max_features': 'log2', 'n_estimators': 300}\n",
            "Accuracy of best (means of cross-validated scores on train set):  0.8554375498184059\n",
            "Accuracy of best (on test set):  0.8501963247108878\n"
          ]
        }
      ],
      "source": [
        "evaluate_grid(grid_brf_clf)\n"
      ]
    },
    {
      "cell_type": "markdown",
      "metadata": {
        "id": "UcUaBy9PFuu0"
      },
      "source": [
        "## Random Undersampling with Boosting"
      ]
    },
    {
      "cell_type": "markdown",
      "metadata": {
        "id": "2IgUwb-MvEVg"
      },
      "source": [
        "`imbalanced-learn` also includes `RUSBoostClassifier`, which does random under-sampling integrated in the learning of AdaBoost."
      ]
    },
    {
      "cell_type": "code",
      "execution_count": 41,
      "metadata": {
        "colab": {
          "base_uri": "https://localhost:8080/"
        },
        "id": "BVwAglAmEjid",
        "outputId": "78064e97-ef45-4b8e-c3b9-cd29c6cd9e01"
      },
      "outputs": [
        {
          "data": {
            "text/html": [
              "<style>#sk-container-id-8 {color: black;background-color: white;}#sk-container-id-8 pre{padding: 0;}#sk-container-id-8 div.sk-toggleable {background-color: white;}#sk-container-id-8 label.sk-toggleable__label {cursor: pointer;display: block;width: 100%;margin-bottom: 0;padding: 0.3em;box-sizing: border-box;text-align: center;}#sk-container-id-8 label.sk-toggleable__label-arrow:before {content: \"▸\";float: left;margin-right: 0.25em;color: #696969;}#sk-container-id-8 label.sk-toggleable__label-arrow:hover:before {color: black;}#sk-container-id-8 div.sk-estimator:hover label.sk-toggleable__label-arrow:before {color: black;}#sk-container-id-8 div.sk-toggleable__content {max-height: 0;max-width: 0;overflow: hidden;text-align: left;background-color: #f0f8ff;}#sk-container-id-8 div.sk-toggleable__content pre {margin: 0.2em;color: black;border-radius: 0.25em;background-color: #f0f8ff;}#sk-container-id-8 input.sk-toggleable__control:checked~div.sk-toggleable__content {max-height: 200px;max-width: 100%;overflow: auto;}#sk-container-id-8 input.sk-toggleable__control:checked~label.sk-toggleable__label-arrow:before {content: \"▾\";}#sk-container-id-8 div.sk-estimator input.sk-toggleable__control:checked~label.sk-toggleable__label {background-color: #d4ebff;}#sk-container-id-8 div.sk-label input.sk-toggleable__control:checked~label.sk-toggleable__label {background-color: #d4ebff;}#sk-container-id-8 input.sk-hidden--visually {border: 0;clip: rect(1px 1px 1px 1px);clip: rect(1px, 1px, 1px, 1px);height: 1px;margin: -1px;overflow: hidden;padding: 0;position: absolute;width: 1px;}#sk-container-id-8 div.sk-estimator {font-family: monospace;background-color: #f0f8ff;border: 1px dotted black;border-radius: 0.25em;box-sizing: border-box;margin-bottom: 0.5em;}#sk-container-id-8 div.sk-estimator:hover {background-color: #d4ebff;}#sk-container-id-8 div.sk-parallel-item::after {content: \"\";width: 100%;border-bottom: 1px solid gray;flex-grow: 1;}#sk-container-id-8 div.sk-label:hover label.sk-toggleable__label {background-color: #d4ebff;}#sk-container-id-8 div.sk-serial::before {content: \"\";position: absolute;border-left: 1px solid gray;box-sizing: border-box;top: 0;bottom: 0;left: 50%;z-index: 0;}#sk-container-id-8 div.sk-serial {display: flex;flex-direction: column;align-items: center;background-color: white;padding-right: 0.2em;padding-left: 0.2em;position: relative;}#sk-container-id-8 div.sk-item {position: relative;z-index: 1;}#sk-container-id-8 div.sk-parallel {display: flex;align-items: stretch;justify-content: center;background-color: white;position: relative;}#sk-container-id-8 div.sk-item::before, #sk-container-id-8 div.sk-parallel-item::before {content: \"\";position: absolute;border-left: 1px solid gray;box-sizing: border-box;top: 0;bottom: 0;left: 50%;z-index: -1;}#sk-container-id-8 div.sk-parallel-item {display: flex;flex-direction: column;z-index: 1;position: relative;background-color: white;}#sk-container-id-8 div.sk-parallel-item:first-child::after {align-self: flex-end;width: 50%;}#sk-container-id-8 div.sk-parallel-item:last-child::after {align-self: flex-start;width: 50%;}#sk-container-id-8 div.sk-parallel-item:only-child::after {width: 0;}#sk-container-id-8 div.sk-dashed-wrapped {border: 1px dashed gray;margin: 0 0.4em 0.5em 0.4em;box-sizing: border-box;padding-bottom: 0.4em;background-color: white;}#sk-container-id-8 div.sk-label label {font-family: monospace;font-weight: bold;display: inline-block;line-height: 1.2em;}#sk-container-id-8 div.sk-label-container {text-align: center;}#sk-container-id-8 div.sk-container {/* jupyter's `normalize.less` sets `[hidden] { display: none; }` but bootstrap.min.css set `[hidden] { display: none !important; }` so we also need the `!important` here to be able to override the default hidden behavior on the sphinx rendered scikit-learn.org. See: https://github.com/scikit-learn/scikit-learn/issues/21755 */display: inline-block !important;position: relative;}#sk-container-id-8 div.sk-text-repr-fallback {display: none;}</style><div id=\"sk-container-id-8\" class=\"sk-top-container\"><div class=\"sk-text-repr-fallback\"><pre>GridSearchCV(estimator=RUSBoostClassifier(random_state=42),\n",
              "             param_grid={&#x27;learning_rate&#x27;: [0.01, 0.1, 1],\n",
              "                         &#x27;n_estimators&#x27;: [50, 100, 200]},\n",
              "             scoring=&#x27;balanced_accuracy&#x27;)</pre><b>In a Jupyter environment, please rerun this cell to show the HTML representation or trust the notebook. <br />On GitHub, the HTML representation is unable to render, please try loading this page with nbviewer.org.</b></div><div class=\"sk-container\" hidden><div class=\"sk-item sk-dashed-wrapped\"><div class=\"sk-label-container\"><div class=\"sk-label sk-toggleable\"><input class=\"sk-toggleable__control sk-hidden--visually\" id=\"sk-estimator-id-16\" type=\"checkbox\" ><label for=\"sk-estimator-id-16\" class=\"sk-toggleable__label sk-toggleable__label-arrow\">GridSearchCV</label><div class=\"sk-toggleable__content\"><pre>GridSearchCV(estimator=RUSBoostClassifier(random_state=42),\n",
              "             param_grid={&#x27;learning_rate&#x27;: [0.01, 0.1, 1],\n",
              "                         &#x27;n_estimators&#x27;: [50, 100, 200]},\n",
              "             scoring=&#x27;balanced_accuracy&#x27;)</pre></div></div></div><div class=\"sk-parallel\"><div class=\"sk-parallel-item\"><div class=\"sk-item\"><div class=\"sk-label-container\"><div class=\"sk-label sk-toggleable\"><input class=\"sk-toggleable__control sk-hidden--visually\" id=\"sk-estimator-id-17\" type=\"checkbox\" ><label for=\"sk-estimator-id-17\" class=\"sk-toggleable__label sk-toggleable__label-arrow\">estimator: RUSBoostClassifier</label><div class=\"sk-toggleable__content\"><pre>RUSBoostClassifier(random_state=42)</pre></div></div></div><div class=\"sk-serial\"><div class=\"sk-item\"><div class=\"sk-estimator sk-toggleable\"><input class=\"sk-toggleable__control sk-hidden--visually\" id=\"sk-estimator-id-18\" type=\"checkbox\" ><label for=\"sk-estimator-id-18\" class=\"sk-toggleable__label sk-toggleable__label-arrow\">RUSBoostClassifier</label><div class=\"sk-toggleable__content\"><pre>RUSBoostClassifier(random_state=42)</pre></div></div></div></div></div></div></div></div></div></div>"
            ],
            "text/plain": [
              "GridSearchCV(estimator=RUSBoostClassifier(random_state=42),\n",
              "             param_grid={'learning_rate': [0.01, 0.1, 1],\n",
              "                         'n_estimators': [50, 100, 200]},\n",
              "             scoring='balanced_accuracy')"
            ]
          },
          "execution_count": 41,
          "metadata": {},
          "output_type": "execute_result"
        }
      ],
      "source": [
        "from imblearn.ensemble import RUSBoostClassifier\n",
        "\n",
        "params = {\n",
        "    \"n_estimators\": [50, 100, 200],\n",
        "    \"learning_rate\": [0.01, 0.1, 1],\n",
        "}\n",
        "\n",
        "grid_rus_clf = GridSearchCV(\n",
        "    RUSBoostClassifier(random_state=42),\n",
        "    params,\n",
        "    scoring=\"balanced_accuracy\"\n",
        ")\n",
        "\n",
        "grid_rus_clf.fit(X_train, y_train)\n"
      ]
    },
    {
      "cell_type": "code",
      "execution_count": 43,
      "metadata": {
        "colab": {
          "base_uri": "https://localhost:8080/"
        },
        "id": "LSC-h3Lcvi9F",
        "outputId": "b30e2ba5-b1c7-4c73-cf98-f8ea5ba21760"
      },
      "outputs": [
        {
          "name": "stdout",
          "output_type": "stream",
          "text": [
            "Best parameters:  {'learning_rate': 0.1, 'n_estimators': 50}\n",
            "Accuracy of best (means of cross-validated scores on train set):  0.8451061106531841\n",
            "Accuracy of best (on test set):  0.8421605902188427\n"
          ]
        }
      ],
      "source": [
        "evaluate_grid(grid_rus_clf)\n"
      ]
    },
    {
      "cell_type": "markdown",
      "metadata": {
        "id": "YZAStGDJF2Gc"
      },
      "source": [
        "## EasyEnsemble"
      ]
    },
    {
      "cell_type": "markdown",
      "metadata": {
        "id": "3sWYnq-6vURV"
      },
      "source": [
        "The final classifier included in `imbalanced-learn` is `EasyEnsemble`, that is an ensemble of AdaBoost learners trained on different balanced boostrap samples. The balancing is achieved by random under-sampling."
      ]
    },
    {
      "cell_type": "code",
      "execution_count": 45,
      "metadata": {
        "colab": {
          "base_uri": "https://localhost:8080/"
        },
        "id": "EEpZWmws8OAb",
        "outputId": "b6d8ec43-6297-46b8-fb91-cd23e30935b9"
      },
      "outputs": [
        {
          "data": {
            "text/html": [
              "<style>#sk-container-id-9 {color: black;background-color: white;}#sk-container-id-9 pre{padding: 0;}#sk-container-id-9 div.sk-toggleable {background-color: white;}#sk-container-id-9 label.sk-toggleable__label {cursor: pointer;display: block;width: 100%;margin-bottom: 0;padding: 0.3em;box-sizing: border-box;text-align: center;}#sk-container-id-9 label.sk-toggleable__label-arrow:before {content: \"▸\";float: left;margin-right: 0.25em;color: #696969;}#sk-container-id-9 label.sk-toggleable__label-arrow:hover:before {color: black;}#sk-container-id-9 div.sk-estimator:hover label.sk-toggleable__label-arrow:before {color: black;}#sk-container-id-9 div.sk-toggleable__content {max-height: 0;max-width: 0;overflow: hidden;text-align: left;background-color: #f0f8ff;}#sk-container-id-9 div.sk-toggleable__content pre {margin: 0.2em;color: black;border-radius: 0.25em;background-color: #f0f8ff;}#sk-container-id-9 input.sk-toggleable__control:checked~div.sk-toggleable__content {max-height: 200px;max-width: 100%;overflow: auto;}#sk-container-id-9 input.sk-toggleable__control:checked~label.sk-toggleable__label-arrow:before {content: \"▾\";}#sk-container-id-9 div.sk-estimator input.sk-toggleable__control:checked~label.sk-toggleable__label {background-color: #d4ebff;}#sk-container-id-9 div.sk-label input.sk-toggleable__control:checked~label.sk-toggleable__label {background-color: #d4ebff;}#sk-container-id-9 input.sk-hidden--visually {border: 0;clip: rect(1px 1px 1px 1px);clip: rect(1px, 1px, 1px, 1px);height: 1px;margin: -1px;overflow: hidden;padding: 0;position: absolute;width: 1px;}#sk-container-id-9 div.sk-estimator {font-family: monospace;background-color: #f0f8ff;border: 1px dotted black;border-radius: 0.25em;box-sizing: border-box;margin-bottom: 0.5em;}#sk-container-id-9 div.sk-estimator:hover {background-color: #d4ebff;}#sk-container-id-9 div.sk-parallel-item::after {content: \"\";width: 100%;border-bottom: 1px solid gray;flex-grow: 1;}#sk-container-id-9 div.sk-label:hover label.sk-toggleable__label {background-color: #d4ebff;}#sk-container-id-9 div.sk-serial::before {content: \"\";position: absolute;border-left: 1px solid gray;box-sizing: border-box;top: 0;bottom: 0;left: 50%;z-index: 0;}#sk-container-id-9 div.sk-serial {display: flex;flex-direction: column;align-items: center;background-color: white;padding-right: 0.2em;padding-left: 0.2em;position: relative;}#sk-container-id-9 div.sk-item {position: relative;z-index: 1;}#sk-container-id-9 div.sk-parallel {display: flex;align-items: stretch;justify-content: center;background-color: white;position: relative;}#sk-container-id-9 div.sk-item::before, #sk-container-id-9 div.sk-parallel-item::before {content: \"\";position: absolute;border-left: 1px solid gray;box-sizing: border-box;top: 0;bottom: 0;left: 50%;z-index: -1;}#sk-container-id-9 div.sk-parallel-item {display: flex;flex-direction: column;z-index: 1;position: relative;background-color: white;}#sk-container-id-9 div.sk-parallel-item:first-child::after {align-self: flex-end;width: 50%;}#sk-container-id-9 div.sk-parallel-item:last-child::after {align-self: flex-start;width: 50%;}#sk-container-id-9 div.sk-parallel-item:only-child::after {width: 0;}#sk-container-id-9 div.sk-dashed-wrapped {border: 1px dashed gray;margin: 0 0.4em 0.5em 0.4em;box-sizing: border-box;padding-bottom: 0.4em;background-color: white;}#sk-container-id-9 div.sk-label label {font-family: monospace;font-weight: bold;display: inline-block;line-height: 1.2em;}#sk-container-id-9 div.sk-label-container {text-align: center;}#sk-container-id-9 div.sk-container {/* jupyter's `normalize.less` sets `[hidden] { display: none; }` but bootstrap.min.css set `[hidden] { display: none !important; }` so we also need the `!important` here to be able to override the default hidden behavior on the sphinx rendered scikit-learn.org. See: https://github.com/scikit-learn/scikit-learn/issues/21755 */display: inline-block !important;position: relative;}#sk-container-id-9 div.sk-text-repr-fallback {display: none;}</style><div id=\"sk-container-id-9\" class=\"sk-top-container\"><div class=\"sk-text-repr-fallback\"><pre>GridSearchCV(estimator=EasyEnsembleClassifier(random_state=42),\n",
              "             param_grid={&#x27;n_estimators&#x27;: [50, 100, 200]},\n",
              "             scoring=&#x27;balanced_accuracy&#x27;)</pre><b>In a Jupyter environment, please rerun this cell to show the HTML representation or trust the notebook. <br />On GitHub, the HTML representation is unable to render, please try loading this page with nbviewer.org.</b></div><div class=\"sk-container\" hidden><div class=\"sk-item sk-dashed-wrapped\"><div class=\"sk-label-container\"><div class=\"sk-label sk-toggleable\"><input class=\"sk-toggleable__control sk-hidden--visually\" id=\"sk-estimator-id-19\" type=\"checkbox\" ><label for=\"sk-estimator-id-19\" class=\"sk-toggleable__label sk-toggleable__label-arrow\">GridSearchCV</label><div class=\"sk-toggleable__content\"><pre>GridSearchCV(estimator=EasyEnsembleClassifier(random_state=42),\n",
              "             param_grid={&#x27;n_estimators&#x27;: [50, 100, 200]},\n",
              "             scoring=&#x27;balanced_accuracy&#x27;)</pre></div></div></div><div class=\"sk-parallel\"><div class=\"sk-parallel-item\"><div class=\"sk-item\"><div class=\"sk-label-container\"><div class=\"sk-label sk-toggleable\"><input class=\"sk-toggleable__control sk-hidden--visually\" id=\"sk-estimator-id-20\" type=\"checkbox\" ><label for=\"sk-estimator-id-20\" class=\"sk-toggleable__label sk-toggleable__label-arrow\">estimator: EasyEnsembleClassifier</label><div class=\"sk-toggleable__content\"><pre>EasyEnsembleClassifier(random_state=42)</pre></div></div></div><div class=\"sk-serial\"><div class=\"sk-item\"><div class=\"sk-estimator sk-toggleable\"><input class=\"sk-toggleable__control sk-hidden--visually\" id=\"sk-estimator-id-21\" type=\"checkbox\" ><label for=\"sk-estimator-id-21\" class=\"sk-toggleable__label sk-toggleable__label-arrow\">EasyEnsembleClassifier</label><div class=\"sk-toggleable__content\"><pre>EasyEnsembleClassifier(random_state=42)</pre></div></div></div></div></div></div></div></div></div></div>"
            ],
            "text/plain": [
              "GridSearchCV(estimator=EasyEnsembleClassifier(random_state=42),\n",
              "             param_grid={'n_estimators': [50, 100, 200]},\n",
              "             scoring='balanced_accuracy')"
            ]
          },
          "execution_count": 45,
          "metadata": {},
          "output_type": "execute_result"
        }
      ],
      "source": [
        "from imblearn.ensemble import EasyEnsembleClassifier\n",
        "\n",
        "params = {\n",
        "    \"n_estimators\": [50, 100, 200],\n",
        "}\n",
        "\n",
        "grid_ee_clf = GridSearchCV(\n",
        "    EasyEnsembleClassifier(random_state=42),\n",
        "    params,\n",
        "    scoring=\"balanced_accuracy\"\n",
        ")\n",
        "\n",
        "grid_ee_clf.fit(X_train, y_train)\n"
      ]
    },
    {
      "cell_type": "code",
      "execution_count": 46,
      "metadata": {
        "colab": {
          "base_uri": "https://localhost:8080/"
        },
        "id": "p2O-SAWXvlWK",
        "outputId": "a65c077f-c33d-46a4-d1e0-f7ebca13cd11"
      },
      "outputs": [
        {
          "name": "stdout",
          "output_type": "stream",
          "text": [
            "Best parameters:  {'n_estimators': 200}\n",
            "Accuracy of best (means of cross-validated scores on train set):  0.8456847750690647\n",
            "Accuracy of best (on test set):  0.8467597936044537\n"
          ]
        }
      ],
      "source": [
        "evaluate_grid(grid_ee_clf)\n"
      ]
    },
    {
      "cell_type": "markdown",
      "metadata": {
        "id": "ncMa9OsSIF3k"
      },
      "source": [
        "## XGBoost"
      ]
    },
    {
      "cell_type": "code",
      "execution_count": 47,
      "metadata": {
        "colab": {
          "base_uri": "https://localhost:8080/"
        },
        "id": "MmFKKM64KBdq",
        "outputId": "a242e673-660f-4f1c-ef2b-64d7661eb878"
      },
      "outputs": [
        {
          "name": "stdout",
          "output_type": "stream",
          "text": [
            "Estimate: 5.397\n"
          ]
        }
      ],
      "source": [
        "from collections import Counter\n",
        "\n",
        "counter = Counter(y)\n",
        "estimate = counter[0] / counter[1]\n",
        "print(\"Estimate: %.3f\" % estimate)\n"
      ]
    },
    {
      "cell_type": "code",
      "execution_count": 48,
      "metadata": {
        "id": "Ciis_OPOIOrY"
      },
      "outputs": [
        {
          "data": {
            "text/html": [
              "<style>#sk-container-id-10 {color: black;background-color: white;}#sk-container-id-10 pre{padding: 0;}#sk-container-id-10 div.sk-toggleable {background-color: white;}#sk-container-id-10 label.sk-toggleable__label {cursor: pointer;display: block;width: 100%;margin-bottom: 0;padding: 0.3em;box-sizing: border-box;text-align: center;}#sk-container-id-10 label.sk-toggleable__label-arrow:before {content: \"▸\";float: left;margin-right: 0.25em;color: #696969;}#sk-container-id-10 label.sk-toggleable__label-arrow:hover:before {color: black;}#sk-container-id-10 div.sk-estimator:hover label.sk-toggleable__label-arrow:before {color: black;}#sk-container-id-10 div.sk-toggleable__content {max-height: 0;max-width: 0;overflow: hidden;text-align: left;background-color: #f0f8ff;}#sk-container-id-10 div.sk-toggleable__content pre {margin: 0.2em;color: black;border-radius: 0.25em;background-color: #f0f8ff;}#sk-container-id-10 input.sk-toggleable__control:checked~div.sk-toggleable__content {max-height: 200px;max-width: 100%;overflow: auto;}#sk-container-id-10 input.sk-toggleable__control:checked~label.sk-toggleable__label-arrow:before {content: \"▾\";}#sk-container-id-10 div.sk-estimator input.sk-toggleable__control:checked~label.sk-toggleable__label {background-color: #d4ebff;}#sk-container-id-10 div.sk-label input.sk-toggleable__control:checked~label.sk-toggleable__label {background-color: #d4ebff;}#sk-container-id-10 input.sk-hidden--visually {border: 0;clip: rect(1px 1px 1px 1px);clip: rect(1px, 1px, 1px, 1px);height: 1px;margin: -1px;overflow: hidden;padding: 0;position: absolute;width: 1px;}#sk-container-id-10 div.sk-estimator {font-family: monospace;background-color: #f0f8ff;border: 1px dotted black;border-radius: 0.25em;box-sizing: border-box;margin-bottom: 0.5em;}#sk-container-id-10 div.sk-estimator:hover {background-color: #d4ebff;}#sk-container-id-10 div.sk-parallel-item::after {content: \"\";width: 100%;border-bottom: 1px solid gray;flex-grow: 1;}#sk-container-id-10 div.sk-label:hover label.sk-toggleable__label {background-color: #d4ebff;}#sk-container-id-10 div.sk-serial::before {content: \"\";position: absolute;border-left: 1px solid gray;box-sizing: border-box;top: 0;bottom: 0;left: 50%;z-index: 0;}#sk-container-id-10 div.sk-serial {display: flex;flex-direction: column;align-items: center;background-color: white;padding-right: 0.2em;padding-left: 0.2em;position: relative;}#sk-container-id-10 div.sk-item {position: relative;z-index: 1;}#sk-container-id-10 div.sk-parallel {display: flex;align-items: stretch;justify-content: center;background-color: white;position: relative;}#sk-container-id-10 div.sk-item::before, #sk-container-id-10 div.sk-parallel-item::before {content: \"\";position: absolute;border-left: 1px solid gray;box-sizing: border-box;top: 0;bottom: 0;left: 50%;z-index: -1;}#sk-container-id-10 div.sk-parallel-item {display: flex;flex-direction: column;z-index: 1;position: relative;background-color: white;}#sk-container-id-10 div.sk-parallel-item:first-child::after {align-self: flex-end;width: 50%;}#sk-container-id-10 div.sk-parallel-item:last-child::after {align-self: flex-start;width: 50%;}#sk-container-id-10 div.sk-parallel-item:only-child::after {width: 0;}#sk-container-id-10 div.sk-dashed-wrapped {border: 1px dashed gray;margin: 0 0.4em 0.5em 0.4em;box-sizing: border-box;padding-bottom: 0.4em;background-color: white;}#sk-container-id-10 div.sk-label label {font-family: monospace;font-weight: bold;display: inline-block;line-height: 1.2em;}#sk-container-id-10 div.sk-label-container {text-align: center;}#sk-container-id-10 div.sk-container {/* jupyter's `normalize.less` sets `[hidden] { display: none; }` but bootstrap.min.css set `[hidden] { display: none !important; }` so we also need the `!important` here to be able to override the default hidden behavior on the sphinx rendered scikit-learn.org. See: https://github.com/scikit-learn/scikit-learn/issues/21755 */display: inline-block !important;position: relative;}#sk-container-id-10 div.sk-text-repr-fallback {display: none;}</style><div id=\"sk-container-id-10\" class=\"sk-top-container\"><div class=\"sk-text-repr-fallback\"><pre>GridSearchCV(estimator=XGBClassifier(base_score=None, booster=None,\n",
              "                                     callbacks=None, colsample_bylevel=None,\n",
              "                                     colsample_bynode=None,\n",
              "                                     colsample_bytree=None,\n",
              "                                     early_stopping_rounds=None,\n",
              "                                     enable_categorical=False, eval_metric=None,\n",
              "                                     gamma=None, gpu_id=None, grow_policy=None,\n",
              "                                     importance_type=None,\n",
              "                                     interaction_constraints=None,\n",
              "                                     learning_rate=None, max_bin=None,\n",
              "                                     max_cat_to_...\n",
              "                                     max_leaves=None, min_child_weight=None,\n",
              "                                     missing=nan, monotone_constraints=None,\n",
              "                                     n_estimators=100, n_jobs=None,\n",
              "                                     num_parallel_tree=None, predictor=None,\n",
              "                                     random_state=42, reg_alpha=None,\n",
              "                                     reg_lambda=None, ...),\n",
              "             param_grid={&#x27;colsample_bytree&#x27;: [0.5, 0.8],\n",
              "                         &#x27;learning_rate&#x27;: [0.1, 0.01], &#x27;max_depth&#x27;: [3, 5, 10],\n",
              "                         &#x27;n_estimators&#x27;: [50, 100], &#x27;subsample&#x27;: [0.8, 1]},\n",
              "             scoring=&#x27;balanced_accuracy&#x27;)</pre><b>In a Jupyter environment, please rerun this cell to show the HTML representation or trust the notebook. <br />On GitHub, the HTML representation is unable to render, please try loading this page with nbviewer.org.</b></div><div class=\"sk-container\" hidden><div class=\"sk-item sk-dashed-wrapped\"><div class=\"sk-label-container\"><div class=\"sk-label sk-toggleable\"><input class=\"sk-toggleable__control sk-hidden--visually\" id=\"sk-estimator-id-22\" type=\"checkbox\" ><label for=\"sk-estimator-id-22\" class=\"sk-toggleable__label sk-toggleable__label-arrow\">GridSearchCV</label><div class=\"sk-toggleable__content\"><pre>GridSearchCV(estimator=XGBClassifier(base_score=None, booster=None,\n",
              "                                     callbacks=None, colsample_bylevel=None,\n",
              "                                     colsample_bynode=None,\n",
              "                                     colsample_bytree=None,\n",
              "                                     early_stopping_rounds=None,\n",
              "                                     enable_categorical=False, eval_metric=None,\n",
              "                                     gamma=None, gpu_id=None, grow_policy=None,\n",
              "                                     importance_type=None,\n",
              "                                     interaction_constraints=None,\n",
              "                                     learning_rate=None, max_bin=None,\n",
              "                                     max_cat_to_...\n",
              "                                     max_leaves=None, min_child_weight=None,\n",
              "                                     missing=nan, monotone_constraints=None,\n",
              "                                     n_estimators=100, n_jobs=None,\n",
              "                                     num_parallel_tree=None, predictor=None,\n",
              "                                     random_state=42, reg_alpha=None,\n",
              "                                     reg_lambda=None, ...),\n",
              "             param_grid={&#x27;colsample_bytree&#x27;: [0.5, 0.8],\n",
              "                         &#x27;learning_rate&#x27;: [0.1, 0.01], &#x27;max_depth&#x27;: [3, 5, 10],\n",
              "                         &#x27;n_estimators&#x27;: [50, 100], &#x27;subsample&#x27;: [0.8, 1]},\n",
              "             scoring=&#x27;balanced_accuracy&#x27;)</pre></div></div></div><div class=\"sk-parallel\"><div class=\"sk-parallel-item\"><div class=\"sk-item\"><div class=\"sk-label-container\"><div class=\"sk-label sk-toggleable\"><input class=\"sk-toggleable__control sk-hidden--visually\" id=\"sk-estimator-id-23\" type=\"checkbox\" ><label for=\"sk-estimator-id-23\" class=\"sk-toggleable__label sk-toggleable__label-arrow\">estimator: XGBClassifier</label><div class=\"sk-toggleable__content\"><pre>XGBClassifier(base_score=None, booster=None, callbacks=None,\n",
              "              colsample_bylevel=None, colsample_bynode=None,\n",
              "              colsample_bytree=None, early_stopping_rounds=None,\n",
              "              enable_categorical=False, eval_metric=None, gamma=None,\n",
              "              gpu_id=None, grow_policy=None, importance_type=None,\n",
              "              interaction_constraints=None, learning_rate=None, max_bin=None,\n",
              "              max_cat_to_onehot=None, max_delta_step=None, max_depth=None,\n",
              "              max_leaves=None, min_child_weight=None, missing=nan,\n",
              "              monotone_constraints=None, n_estimators=100, n_jobs=None,\n",
              "              num_parallel_tree=None, predictor=None, random_state=42,\n",
              "              reg_alpha=None, reg_lambda=None, ...)</pre></div></div></div><div class=\"sk-serial\"><div class=\"sk-item\"><div class=\"sk-estimator sk-toggleable\"><input class=\"sk-toggleable__control sk-hidden--visually\" id=\"sk-estimator-id-24\" type=\"checkbox\" ><label for=\"sk-estimator-id-24\" class=\"sk-toggleable__label sk-toggleable__label-arrow\">XGBClassifier</label><div class=\"sk-toggleable__content\"><pre>XGBClassifier(base_score=None, booster=None, callbacks=None,\n",
              "              colsample_bylevel=None, colsample_bynode=None,\n",
              "              colsample_bytree=None, early_stopping_rounds=None,\n",
              "              enable_categorical=False, eval_metric=None, gamma=None,\n",
              "              gpu_id=None, grow_policy=None, importance_type=None,\n",
              "              interaction_constraints=None, learning_rate=None, max_bin=None,\n",
              "              max_cat_to_onehot=None, max_delta_step=None, max_depth=None,\n",
              "              max_leaves=None, min_child_weight=None, missing=nan,\n",
              "              monotone_constraints=None, n_estimators=100, n_jobs=None,\n",
              "              num_parallel_tree=None, predictor=None, random_state=42,\n",
              "              reg_alpha=None, reg_lambda=None, ...)</pre></div></div></div></div></div></div></div></div></div></div>"
            ],
            "text/plain": [
              "GridSearchCV(estimator=XGBClassifier(base_score=None, booster=None,\n",
              "                                     callbacks=None, colsample_bylevel=None,\n",
              "                                     colsample_bynode=None,\n",
              "                                     colsample_bytree=None,\n",
              "                                     early_stopping_rounds=None,\n",
              "                                     enable_categorical=False, eval_metric=None,\n",
              "                                     gamma=None, gpu_id=None, grow_policy=None,\n",
              "                                     importance_type=None,\n",
              "                                     interaction_constraints=None,\n",
              "                                     learning_rate=None, max_bin=None,\n",
              "                                     max_cat_to_...\n",
              "                                     max_leaves=None, min_child_weight=None,\n",
              "                                     missing=nan, monotone_constraints=None,\n",
              "                                     n_estimators=100, n_jobs=None,\n",
              "                                     num_parallel_tree=None, predictor=None,\n",
              "                                     random_state=42, reg_alpha=None,\n",
              "                                     reg_lambda=None, ...),\n",
              "             param_grid={'colsample_bytree': [0.5, 0.8],\n",
              "                         'learning_rate': [0.1, 0.01], 'max_depth': [3, 5, 10],\n",
              "                         'n_estimators': [50, 100], 'subsample': [0.8, 1]},\n",
              "             scoring='balanced_accuracy')"
            ]
          },
          "execution_count": 48,
          "metadata": {},
          "output_type": "execute_result"
        }
      ],
      "source": [
        "from xgboost import XGBClassifier\n",
        "\n",
        "xgb_clf = XGBClassifier(random_state=42, scale_pos_weight=estimate,\n",
        "                        objective=\"binary:logistic\", verbosity=0)\n",
        "\n",
        "params = {\n",
        "    \"n_estimators\": [50, 100],\n",
        "    \"max_depth\": [3, 5, 10],\n",
        "    \"learning_rate\": [0.1, 0.01],\n",
        "    \"subsample\": [0.8, 1],\n",
        "    \"colsample_bytree\": [0.5, 0.8]\n",
        "}\n",
        "\n",
        "grid_xgb_clf = GridSearchCV(xgb_clf, params, scoring=\"balanced_accuracy\")\n",
        "grid_xgb_clf.fit(X_train, y_train)\n"
      ]
    },
    {
      "cell_type": "code",
      "execution_count": null,
      "metadata": {
        "id": "T05YFkIIqvGr"
      },
      "outputs": [],
      "source": [
        "evaluate_grid(grid_xgb_clf)\n"
      ]
    },
    {
      "cell_type": "markdown",
      "metadata": {
        "id": "mi4hQWJjXO6S"
      },
      "source": [
        "## Voting"
      ]
    },
    {
      "cell_type": "code",
      "execution_count": 70,
      "metadata": {
        "id": "mLxfaUem_TFz"
      },
      "outputs": [
        {
          "data": {
            "text/html": [
              "<style>#sk-container-id-12 {color: black;background-color: white;}#sk-container-id-12 pre{padding: 0;}#sk-container-id-12 div.sk-toggleable {background-color: white;}#sk-container-id-12 label.sk-toggleable__label {cursor: pointer;display: block;width: 100%;margin-bottom: 0;padding: 0.3em;box-sizing: border-box;text-align: center;}#sk-container-id-12 label.sk-toggleable__label-arrow:before {content: \"▸\";float: left;margin-right: 0.25em;color: #696969;}#sk-container-id-12 label.sk-toggleable__label-arrow:hover:before {color: black;}#sk-container-id-12 div.sk-estimator:hover label.sk-toggleable__label-arrow:before {color: black;}#sk-container-id-12 div.sk-toggleable__content {max-height: 0;max-width: 0;overflow: hidden;text-align: left;background-color: #f0f8ff;}#sk-container-id-12 div.sk-toggleable__content pre {margin: 0.2em;color: black;border-radius: 0.25em;background-color: #f0f8ff;}#sk-container-id-12 input.sk-toggleable__control:checked~div.sk-toggleable__content {max-height: 200px;max-width: 100%;overflow: auto;}#sk-container-id-12 input.sk-toggleable__control:checked~label.sk-toggleable__label-arrow:before {content: \"▾\";}#sk-container-id-12 div.sk-estimator input.sk-toggleable__control:checked~label.sk-toggleable__label {background-color: #d4ebff;}#sk-container-id-12 div.sk-label input.sk-toggleable__control:checked~label.sk-toggleable__label {background-color: #d4ebff;}#sk-container-id-12 input.sk-hidden--visually {border: 0;clip: rect(1px 1px 1px 1px);clip: rect(1px, 1px, 1px, 1px);height: 1px;margin: -1px;overflow: hidden;padding: 0;position: absolute;width: 1px;}#sk-container-id-12 div.sk-estimator {font-family: monospace;background-color: #f0f8ff;border: 1px dotted black;border-radius: 0.25em;box-sizing: border-box;margin-bottom: 0.5em;}#sk-container-id-12 div.sk-estimator:hover {background-color: #d4ebff;}#sk-container-id-12 div.sk-parallel-item::after {content: \"\";width: 100%;border-bottom: 1px solid gray;flex-grow: 1;}#sk-container-id-12 div.sk-label:hover label.sk-toggleable__label {background-color: #d4ebff;}#sk-container-id-12 div.sk-serial::before {content: \"\";position: absolute;border-left: 1px solid gray;box-sizing: border-box;top: 0;bottom: 0;left: 50%;z-index: 0;}#sk-container-id-12 div.sk-serial {display: flex;flex-direction: column;align-items: center;background-color: white;padding-right: 0.2em;padding-left: 0.2em;position: relative;}#sk-container-id-12 div.sk-item {position: relative;z-index: 1;}#sk-container-id-12 div.sk-parallel {display: flex;align-items: stretch;justify-content: center;background-color: white;position: relative;}#sk-container-id-12 div.sk-item::before, #sk-container-id-12 div.sk-parallel-item::before {content: \"\";position: absolute;border-left: 1px solid gray;box-sizing: border-box;top: 0;bottom: 0;left: 50%;z-index: -1;}#sk-container-id-12 div.sk-parallel-item {display: flex;flex-direction: column;z-index: 1;position: relative;background-color: white;}#sk-container-id-12 div.sk-parallel-item:first-child::after {align-self: flex-end;width: 50%;}#sk-container-id-12 div.sk-parallel-item:last-child::after {align-self: flex-start;width: 50%;}#sk-container-id-12 div.sk-parallel-item:only-child::after {width: 0;}#sk-container-id-12 div.sk-dashed-wrapped {border: 1px dashed gray;margin: 0 0.4em 0.5em 0.4em;box-sizing: border-box;padding-bottom: 0.4em;background-color: white;}#sk-container-id-12 div.sk-label label {font-family: monospace;font-weight: bold;display: inline-block;line-height: 1.2em;}#sk-container-id-12 div.sk-label-container {text-align: center;}#sk-container-id-12 div.sk-container {/* jupyter's `normalize.less` sets `[hidden] { display: none; }` but bootstrap.min.css set `[hidden] { display: none !important; }` so we also need the `!important` here to be able to override the default hidden behavior on the sphinx rendered scikit-learn.org. See: https://github.com/scikit-learn/scikit-learn/issues/21755 */display: inline-block !important;position: relative;}#sk-container-id-12 div.sk-text-repr-fallback {display: none;}</style><div id=\"sk-container-id-12\" class=\"sk-top-container\"><div class=\"sk-text-repr-fallback\"><pre>VotingClassifier(estimators=[(&#x27;bb&#x27;,\n",
              "                              BalancedBaggingClassifier(max_samples=0.2,\n",
              "                                                        n_estimators=200,\n",
              "                                                        oob_score=True,\n",
              "                                                        random_state=42)),\n",
              "                             (&#x27;brf&#x27;,\n",
              "                              BalancedRandomForestClassifier(max_depth=8,\n",
              "                                                             max_features=&#x27;log2&#x27;,\n",
              "                                                             n_estimators=300,\n",
              "                                                             oob_score=True,\n",
              "                                                             random_state=42)),\n",
              "                             (&#x27;rus&#x27;,\n",
              "                              RUSBoostClassifier(learning_rate=0.1,\n",
              "                                                 random_state=42)),\n",
              "                             (&#x27;ee&#x27;,\n",
              "                              EasyEnsembleClassifier(n_estimators...\n",
              "                                            eval_metric=None, gamma=0,\n",
              "                                            gpu_id=-1, grow_policy=&#x27;depthwise&#x27;,\n",
              "                                            importance_type=None,\n",
              "                                            interaction_constraints=&#x27;&#x27;,\n",
              "                                            learning_rate=0.01, max_bin=256,\n",
              "                                            max_cat_to_onehot=4,\n",
              "                                            max_delta_step=0, max_depth=5,\n",
              "                                            max_leaves=0, min_child_weight=1,\n",
              "                                            missing=nan,\n",
              "                                            monotone_constraints=&#x27;()&#x27;,\n",
              "                                            n_estimators=50, n_jobs=0,\n",
              "                                            num_parallel_tree=1,\n",
              "                                            predictor=&#x27;auto&#x27;, random_state=42,\n",
              "                                            reg_alpha=0, reg_lambda=1, ...))])</pre><b>In a Jupyter environment, please rerun this cell to show the HTML representation or trust the notebook. <br />On GitHub, the HTML representation is unable to render, please try loading this page with nbviewer.org.</b></div><div class=\"sk-container\" hidden><div class=\"sk-item sk-dashed-wrapped\"><div class=\"sk-label-container\"><div class=\"sk-label sk-toggleable\"><input class=\"sk-toggleable__control sk-hidden--visually\" id=\"sk-estimator-id-31\" type=\"checkbox\" ><label for=\"sk-estimator-id-31\" class=\"sk-toggleable__label sk-toggleable__label-arrow\">VotingClassifier</label><div class=\"sk-toggleable__content\"><pre>VotingClassifier(estimators=[(&#x27;bb&#x27;,\n",
              "                              BalancedBaggingClassifier(max_samples=0.2,\n",
              "                                                        n_estimators=200,\n",
              "                                                        oob_score=True,\n",
              "                                                        random_state=42)),\n",
              "                             (&#x27;brf&#x27;,\n",
              "                              BalancedRandomForestClassifier(max_depth=8,\n",
              "                                                             max_features=&#x27;log2&#x27;,\n",
              "                                                             n_estimators=300,\n",
              "                                                             oob_score=True,\n",
              "                                                             random_state=42)),\n",
              "                             (&#x27;rus&#x27;,\n",
              "                              RUSBoostClassifier(learning_rate=0.1,\n",
              "                                                 random_state=42)),\n",
              "                             (&#x27;ee&#x27;,\n",
              "                              EasyEnsembleClassifier(n_estimators...\n",
              "                                            eval_metric=None, gamma=0,\n",
              "                                            gpu_id=-1, grow_policy=&#x27;depthwise&#x27;,\n",
              "                                            importance_type=None,\n",
              "                                            interaction_constraints=&#x27;&#x27;,\n",
              "                                            learning_rate=0.01, max_bin=256,\n",
              "                                            max_cat_to_onehot=4,\n",
              "                                            max_delta_step=0, max_depth=5,\n",
              "                                            max_leaves=0, min_child_weight=1,\n",
              "                                            missing=nan,\n",
              "                                            monotone_constraints=&#x27;()&#x27;,\n",
              "                                            n_estimators=50, n_jobs=0,\n",
              "                                            num_parallel_tree=1,\n",
              "                                            predictor=&#x27;auto&#x27;, random_state=42,\n",
              "                                            reg_alpha=0, reg_lambda=1, ...))])</pre></div></div></div><div class=\"sk-parallel\"><div class=\"sk-parallel-item\"><div class=\"sk-item\"><div class=\"sk-label-container\"><div class=\"sk-label sk-toggleable\"><label>bb</label></div></div><div class=\"sk-serial\"><div class=\"sk-item\"><div class=\"sk-estimator sk-toggleable\"><input class=\"sk-toggleable__control sk-hidden--visually\" id=\"sk-estimator-id-32\" type=\"checkbox\" ><label for=\"sk-estimator-id-32\" class=\"sk-toggleable__label sk-toggleable__label-arrow\">BalancedBaggingClassifier</label><div class=\"sk-toggleable__content\"><pre>BalancedBaggingClassifier(max_samples=0.2, n_estimators=200, oob_score=True,\n",
              "                          random_state=42)</pre></div></div></div></div></div></div><div class=\"sk-parallel-item\"><div class=\"sk-item\"><div class=\"sk-label-container\"><div class=\"sk-label sk-toggleable\"><label>brf</label></div></div><div class=\"sk-serial\"><div class=\"sk-item\"><div class=\"sk-estimator sk-toggleable\"><input class=\"sk-toggleable__control sk-hidden--visually\" id=\"sk-estimator-id-33\" type=\"checkbox\" ><label for=\"sk-estimator-id-33\" class=\"sk-toggleable__label sk-toggleable__label-arrow\">BalancedRandomForestClassifier</label><div class=\"sk-toggleable__content\"><pre>BalancedRandomForestClassifier(max_depth=8, max_features=&#x27;log2&#x27;,\n",
              "                               n_estimators=300, oob_score=True,\n",
              "                               random_state=42)</pre></div></div></div></div></div></div><div class=\"sk-parallel-item\"><div class=\"sk-item\"><div class=\"sk-label-container\"><div class=\"sk-label sk-toggleable\"><label>rus</label></div></div><div class=\"sk-serial\"><div class=\"sk-item\"><div class=\"sk-estimator sk-toggleable\"><input class=\"sk-toggleable__control sk-hidden--visually\" id=\"sk-estimator-id-34\" type=\"checkbox\" ><label for=\"sk-estimator-id-34\" class=\"sk-toggleable__label sk-toggleable__label-arrow\">RUSBoostClassifier</label><div class=\"sk-toggleable__content\"><pre>RUSBoostClassifier(learning_rate=0.1, random_state=42)</pre></div></div></div></div></div></div><div class=\"sk-parallel-item\"><div class=\"sk-item\"><div class=\"sk-label-container\"><div class=\"sk-label sk-toggleable\"><label>ee</label></div></div><div class=\"sk-serial\"><div class=\"sk-item\"><div class=\"sk-estimator sk-toggleable\"><input class=\"sk-toggleable__control sk-hidden--visually\" id=\"sk-estimator-id-35\" type=\"checkbox\" ><label for=\"sk-estimator-id-35\" class=\"sk-toggleable__label sk-toggleable__label-arrow\">EasyEnsembleClassifier</label><div class=\"sk-toggleable__content\"><pre>EasyEnsembleClassifier(n_estimators=200, random_state=42)</pre></div></div></div></div></div></div><div class=\"sk-parallel-item\"><div class=\"sk-item\"><div class=\"sk-label-container\"><div class=\"sk-label sk-toggleable\"><label>xgb</label></div></div><div class=\"sk-serial\"><div class=\"sk-item\"><div class=\"sk-estimator sk-toggleable\"><input class=\"sk-toggleable__control sk-hidden--visually\" id=\"sk-estimator-id-36\" type=\"checkbox\" ><label for=\"sk-estimator-id-36\" class=\"sk-toggleable__label sk-toggleable__label-arrow\">XGBClassifier</label><div class=\"sk-toggleable__content\"><pre>XGBClassifier(base_score=0.5, booster=&#x27;gbtree&#x27;, callbacks=None,\n",
              "              colsample_bylevel=1, colsample_bynode=1, colsample_bytree=0.8,\n",
              "              early_stopping_rounds=None, enable_categorical=False,\n",
              "              eval_metric=None, gamma=0, gpu_id=-1, grow_policy=&#x27;depthwise&#x27;,\n",
              "              importance_type=None, interaction_constraints=&#x27;&#x27;,\n",
              "              learning_rate=0.01, max_bin=256, max_cat_to_onehot=4,\n",
              "              max_delta_step=0, max_depth=5, max_leaves=0, min_child_weight=1,\n",
              "              missing=nan, monotone_constraints=&#x27;()&#x27;, n_estimators=50, n_jobs=0,\n",
              "              num_parallel_tree=1, predictor=&#x27;auto&#x27;, random_state=42,\n",
              "              reg_alpha=0, reg_lambda=1, ...)</pre></div></div></div></div></div></div></div></div></div></div>"
            ],
            "text/plain": [
              "VotingClassifier(estimators=[('bb',\n",
              "                              BalancedBaggingClassifier(max_samples=0.2,\n",
              "                                                        n_estimators=200,\n",
              "                                                        oob_score=True,\n",
              "                                                        random_state=42)),\n",
              "                             ('brf',\n",
              "                              BalancedRandomForestClassifier(max_depth=8,\n",
              "                                                             max_features='log2',\n",
              "                                                             n_estimators=300,\n",
              "                                                             oob_score=True,\n",
              "                                                             random_state=42)),\n",
              "                             ('rus',\n",
              "                              RUSBoostClassifier(learning_rate=0.1,\n",
              "                                                 random_state=42)),\n",
              "                             ('ee',\n",
              "                              EasyEnsembleClassifier(n_estimators...\n",
              "                                            eval_metric=None, gamma=0,\n",
              "                                            gpu_id=-1, grow_policy='depthwise',\n",
              "                                            importance_type=None,\n",
              "                                            interaction_constraints='',\n",
              "                                            learning_rate=0.01, max_bin=256,\n",
              "                                            max_cat_to_onehot=4,\n",
              "                                            max_delta_step=0, max_depth=5,\n",
              "                                            max_leaves=0, min_child_weight=1,\n",
              "                                            missing=nan,\n",
              "                                            monotone_constraints='()',\n",
              "                                            n_estimators=50, n_jobs=0,\n",
              "                                            num_parallel_tree=1,\n",
              "                                            predictor='auto', random_state=42,\n",
              "                                            reg_alpha=0, reg_lambda=1, ...))])"
            ]
          },
          "execution_count": 70,
          "metadata": {},
          "output_type": "execute_result"
        }
      ],
      "source": [
        "from sklearn.ensemble import VotingClassifier\n",
        "\n",
        "\n",
        "def get_models():\n",
        "    models = list()\n",
        "    models.append((\"bb\",  grid_bb_clf.best_estimator_))\n",
        "    models.append((\"brf\",  grid_brf_clf.best_estimator_))\n",
        "    models.append((\"rus\",  grid_rus_clf.best_estimator_))\n",
        "    models.append((\"ee\",  grid_ee_clf.best_estimator_))\n",
        "    models.append((\"xgb\",  grid_xgb_clf.best_estimator_))\n",
        "    return models\n",
        "\n",
        "\n",
        "voting_clf = VotingClassifier(estimators=get_models(), voting=\"hard\")\n",
        "voting_clf.fit(X_train, y_train)\n"
      ]
    },
    {
      "cell_type": "code",
      "execution_count": 71,
      "metadata": {},
      "outputs": [],
      "source": [
        "from sklearn.model_selection import RepeatedStratifiedKFold\n",
        "from sklearn.model_selection import cross_val_score\n",
        "\n",
        "def evaluate_model(model):\n",
        "\tcv = RepeatedStratifiedKFold(n_splits=5, n_repeats=3, random_state=42)\n",
        "\tscores = cross_val_score(model, X, y, scoring=\"balanced_accuracy\", cv=cv, n_jobs=-1, error_score=\"raise\")\n",
        "\treturn scores\n",
        "\n",
        "eval_list=get_models()\n",
        "eval_list.append((\"voting_hard\", voting_clf))\n",
        "\n",
        "results, names = list(), list()\n",
        "for name, model in eval_list:\n",
        "\tscores = evaluate_model(model)\n",
        "\tresults.append(scores)\n",
        "\tnames.append(name)"
      ]
    },
    {
      "cell_type": "code",
      "execution_count": 73,
      "metadata": {
        "id": "5l96MqXFI0Ld"
      },
      "outputs": [
        {
          "data": {
            "image/png": "[encoded data removed]",
            "text/plain": [
              "<Figure size 432x288 with 1 Axes>"
            ]
          },
          "metadata": {
            "needs_background": "light"
          },
          "output_type": "display_data"
        }
      ],
      "source": [
        "plt.boxplot(results, labels=names, showmeans=True)\n",
        "plt.show()\n"
      ]
    },
    {
      "cell_type": "markdown",
      "metadata": {
        "id": "fM0zo4ZP8p6T"
      },
      "source": [
        "# Neural Network"
      ]
    },
    {
      "cell_type": "markdown",
      "metadata": {
        "id": "HxXHswvpwQIe"
      },
      "source": [
        "To easily create a basic Neural Network, `keras` can be used.\n",
        "To test the effectiveness of a Neural Network to this particular problem, we create a baseline neural network with one hidden layer of 10 nodes."
      ]
    },
    {
      "cell_type": "code",
      "execution_count": null,
      "metadata": {
        "colab": {
          "base_uri": "https://localhost:8080/"
        },
        "id": "eu1Ddcg18s7i",
        "outputId": "4388ca09-f54e-452c-cd52-e401a9927e2e"
      },
      "outputs": [
        {
          "name": "stdout",
          "output_type": "stream",
          "text": [
            "Model: \"sequential\"\n",
            "_________________________________________________________________\n",
            " Layer (type)                Output Shape              Param #   \n",
            "=================================================================\n",
            " dense (Dense)               (None, 10)                80        \n",
            "                                                                 \n",
            " dense_1 (Dense)             (None, 1)                 11        \n",
            "                                                                 \n",
            "=================================================================\n",
            "Total params: 91\n",
            "Trainable params: 91\n",
            "Non-trainable params: 0\n",
            "_________________________________________________________________\n"
          ]
        }
      ],
      "source": [
        "from tensorflow import keras\n",
        "\n",
        "model = keras.models.Sequential([\n",
        "    # The number of inputs has to be equal\n",
        "    # to the number of features of the dataset\n",
        "    keras.Input(shape=X_train.shape[1]),\n",
        "\n",
        "    # Hidden layer\n",
        "    keras.layers.Dense(10, activation=\"relu\"),\n",
        "\n",
        "    # One output node, which is a sigmoid:\n",
        "    # the value will be continuous between 0 and 1.\n",
        "    # To cast it to binary, we will need to assign\n",
        "    # value 1 if greater than 0.5, or else 0.\n",
        "    keras.layers.Dense(1, activation=\"sigmoid\")\n",
        "])\n",
        "\n",
        "model.summary()\n"
      ]
    },
    {
      "cell_type": "markdown",
      "metadata": {
        "id": "PM6z1tM2_VaJ"
      },
      "source": [
        "Now that the neural network has been defined, it needs to be compiled.\n",
        "As suggested in https://carpentries-incubator.github.io/deep-learning-intro/02-keras/index.html, it is possibile to use a precompiled model rather\n",
        "than compiling a new one. Since the model is simple and requires very little\n",
        "computation time, we will build it from scratch.\n",
        "\n",
        "The same document suggests `Adam` as a sensible optimizer for the network. \n",
        "\n",
        "Since the output needs to be binary, `BinaryCrossentropy()` is an appropriate loss function."
      ]
    },
    {
      "cell_type": "code",
      "execution_count": null,
      "metadata": {
        "id": "Cw0ausM8-_xL"
      },
      "outputs": [],
      "source": [
        "model.compile(\n",
        "    optimizer='adam',\n",
        "    loss=keras.losses.BinaryCrossentropy(),\n",
        "    metrics=['accuracy']\n",
        ")\n"
      ]
    },
    {
      "cell_type": "markdown",
      "metadata": {
        "id": "qlKtTbG0JMLh"
      },
      "source": [
        "The compiled model can be now trained: as a test, we will run it with 100 epochs. This number is, once again, arbitrary and will most likely need to be tweaked.\n",
        "\n",
        "The `y_train` list cannot however be used directly, because the neural network\n",
        "cannot directly output a categorical value: to overcome this, the `y_train`\n",
        "list is transformed using Hot-Encoding."
      ]
    },
    {
      "cell_type": "code",
      "execution_count": null,
      "metadata": {
        "colab": {
          "base_uri": "https://localhost:8080/"
        },
        "id": "7V2YmvPB_GIQ",
        "outputId": "5a44242c-ed47-4350-c748-9289011856b0"
      },
      "outputs": [
        {
          "name": "stdout",
          "output_type": "stream",
          "text": [
            "Epoch 1/20\n",
            "267/267 [==============================] - 1s 3ms/step - loss: 0.3009 - accuracy: 0.8812 - val_loss: 0.3049 - val_accuracy: 0.8853\n",
            "Epoch 2/20\n",
            "267/267 [==============================] - 1s 3ms/step - loss: 0.3005 - accuracy: 0.8818 - val_loss: 0.3048 - val_accuracy: 0.8837\n",
            "Epoch 3/20\n",
            "267/267 [==============================] - 1s 2ms/step - loss: 0.3001 - accuracy: 0.8822 - val_loss: 0.3048 - val_accuracy: 0.8829\n",
            "Epoch 4/20\n",
            "267/267 [==============================] - 1s 2ms/step - loss: 0.2998 - accuracy: 0.8827 - val_loss: 0.3040 - val_accuracy: 0.8859\n",
            "Epoch 5/20\n",
            "267/267 [==============================] - 1s 2ms/step - loss: 0.2995 - accuracy: 0.8822 - val_loss: 0.3035 - val_accuracy: 0.8839\n",
            "Epoch 6/20\n",
            "267/267 [==============================] - 1s 2ms/step - loss: 0.2990 - accuracy: 0.8827 - val_loss: 0.3029 - val_accuracy: 0.8850\n",
            "Epoch 7/20\n",
            "267/267 [==============================] - 1s 2ms/step - loss: 0.2987 - accuracy: 0.8827 - val_loss: 0.3025 - val_accuracy: 0.8856\n",
            "Epoch 8/20\n",
            "267/267 [==============================] - 1s 2ms/step - loss: 0.2983 - accuracy: 0.8826 - val_loss: 0.3021 - val_accuracy: 0.8859\n",
            "Epoch 9/20\n",
            "267/267 [==============================] - 1s 2ms/step - loss: 0.2979 - accuracy: 0.8831 - val_loss: 0.3017 - val_accuracy: 0.8875\n",
            "Epoch 10/20\n",
            "267/267 [==============================] - 1s 2ms/step - loss: 0.2973 - accuracy: 0.8839 - val_loss: 0.3009 - val_accuracy: 0.8853\n",
            "Epoch 11/20\n",
            "267/267 [==============================] - 1s 2ms/step - loss: 0.2966 - accuracy: 0.8836 - val_loss: 0.3003 - val_accuracy: 0.8878\n",
            "Epoch 12/20\n",
            "267/267 [==============================] - 1s 2ms/step - loss: 0.2958 - accuracy: 0.8845 - val_loss: 0.2997 - val_accuracy: 0.8869\n",
            "Epoch 13/20\n",
            "267/267 [==============================] - 1s 2ms/step - loss: 0.2955 - accuracy: 0.8842 - val_loss: 0.2991 - val_accuracy: 0.8875\n",
            "Epoch 14/20\n",
            "267/267 [==============================] - 1s 2ms/step - loss: 0.2946 - accuracy: 0.8845 - val_loss: 0.2988 - val_accuracy: 0.8864\n",
            "Epoch 15/20\n",
            "267/267 [==============================] - 1s 2ms/step - loss: 0.2944 - accuracy: 0.8840 - val_loss: 0.2981 - val_accuracy: 0.8869\n",
            "Epoch 16/20\n",
            "267/267 [==============================] - 1s 2ms/step - loss: 0.2938 - accuracy: 0.8833 - val_loss: 0.2977 - val_accuracy: 0.8872\n",
            "Epoch 17/20\n",
            "267/267 [==============================] - 1s 2ms/step - loss: 0.2931 - accuracy: 0.8842 - val_loss: 0.2975 - val_accuracy: 0.8875\n",
            "Epoch 18/20\n",
            "267/267 [==============================] - 1s 2ms/step - loss: 0.2929 - accuracy: 0.8838 - val_loss: 0.2966 - val_accuracy: 0.8869\n",
            "Epoch 19/20\n",
            "267/267 [==============================] - 1s 2ms/step - loss: 0.2920 - accuracy: 0.8835 - val_loss: 0.2964 - val_accuracy: 0.8864\n",
            "Epoch 20/20\n",
            "267/267 [==============================] - 1s 2ms/step - loss: 0.2915 - accuracy: 0.8849 - val_loss: 0.2954 - val_accuracy: 0.8869\n"
          ]
        }
      ],
      "source": [
        "history = model.fit(\n",
        "    X_train,\n",
        "    y_train,\n",
        "    epochs=20,\n",
        "    verbose=1,\n",
        "    validation_data=(X_test, y_test))\n"
      ]
    },
    {
      "cell_type": "markdown",
      "metadata": {
        "id": "D5w1e0NhKOvA"
      },
      "source": [
        "To evaluate the model we can begin by looking at evolution of the value of the loss\n",
        "function."
      ]
    },
    {
      "cell_type": "markdown",
      "metadata": {
        "id": "RrnOdjVv8ZgH"
      },
      "source": [
        "### Plot Results"
      ]
    },
    {
      "cell_type": "code",
      "execution_count": null,
      "metadata": {
        "id": "ZNy1pWkY8crZ"
      },
      "outputs": [],
      "source": [
        "def plot_results(history):\n",
        "    \"\"\"\n",
        "    Plots the results of the model training\n",
        "\n",
        "    :param history: object returned by the train function that contains all train infos\n",
        "    \"\"\"\n",
        "    history_dict = history.history\n",
        "\n",
        "    loss_values = history_dict['loss']\n",
        "    val_loss_values = history_dict['val_loss']\n",
        "\n",
        "    epochs = range(1, len(loss_values) + 1)\n",
        "\n",
        "    # Plot line charts for both Validation and Training Loss\n",
        "    line1 = plt.plot(epochs, val_loss_values, label='Validation/Test Loss')\n",
        "    line2 = plt.plot(epochs, loss_values, label='Training Loss')\n",
        "    plt.setp(line1, linewidth=2.0, marker='+', markersize=10.0)\n",
        "    plt.setp(line2, linewidth=2.0, marker='4', markersize=10.0)\n",
        "    plt.xlabel('Epochs')\n",
        "    plt.ylabel('Loss')\n",
        "    plt.grid(True)\n",
        "    plt.legend()\n",
        "    plt.show()\n",
        "\n",
        "    history_dict = history.history\n",
        "\n",
        "    acc_values = history_dict['accuracy']\n",
        "    val_acc_values = history_dict['val_accuracy']\n",
        "    epochs = range(1, len(loss_values) + 1)\n",
        "\n",
        "    line1 = plt.plot(epochs, val_acc_values, label='Validation/Test Accuracy')\n",
        "    line2 = plt.plot(epochs, acc_values, label='Training Accuracy')\n",
        "    plt.setp(line1, linewidth=2.0, marker='+', markersize=10.0)\n",
        "    plt.setp(line2, linewidth=2.0, marker='4', markersize=10.0)\n",
        "    plt.xlabel('Epochs')\n",
        "    plt.ylabel('Accuracy')\n",
        "    plt.grid(True)\n",
        "    plt.legend()\n",
        "    plt.show()\n"
      ]
    },
    {
      "cell_type": "code",
      "execution_count": null,
      "metadata": {
        "colab": {
          "base_uri": "https://localhost:8080/",
          "height": 557
        },
        "id": "yXANsBcZ8kO2",
        "outputId": "4eb9cd91-f127-4b8d-810f-964ff2236500"
      },
      "outputs": [
        {
          "data": {
            "image/png": "[encoded data removed]",
            "text/plain": [
              "<Figure size 432x288 with 1 Axes>"
            ]
          },
          "metadata": {
            "needs_background": "light"
          },
          "output_type": "display_data"
        },
        {
          "data": {
            "image/png": "[encoded data removed]",
            "text/plain": [
              "<Figure size 432x288 with 1 Axes>"
            ]
          },
          "metadata": {
            "needs_background": "light"
          },
          "output_type": "display_data"
        }
      ],
      "source": [
        "plot_results(history)\n"
      ]
    },
    {
      "cell_type": "code",
      "execution_count": null,
      "metadata": {
        "colab": {
          "base_uri": "https://localhost:8080/",
          "height": 286
        },
        "id": "_MFRJyAL9sDb",
        "outputId": "102855ca-cff7-465d-d7b6-d8da8260cd11"
      },
      "outputs": [
        {
          "data": {
            "image/png": "[encoded data removed]",
            "text/plain": [
              "<Figure size 432x288 with 1 Axes>"
            ]
          },
          "metadata": {
            "needs_background": "light"
          },
          "output_type": "display_data"
        }
      ],
      "source": [
        "plt.plot(history.epoch, history.history[\"loss\"])\n",
        "plt.xlabel(\"Epochs\")\n",
        "plt.ylabel(\"Loss function value\")\n",
        "plt.show()\n"
      ]
    },
    {
      "cell_type": "markdown",
      "metadata": {
        "id": "fhVo8qDzMeJL"
      },
      "source": [
        "The graph shows that the loss function, at 20 epochs, is still decreasing:\n",
        "a higher number of epochs, with the same model configuration, should lower\n",
        "the loss function value, and improve the quality of the predictions.\n",
        "A too high number of epochs however may lead to overfitting."
      ]
    },
    {
      "cell_type": "code",
      "execution_count": null,
      "metadata": {
        "colab": {
          "base_uri": "https://localhost:8080/"
        },
        "id": "uuOdzU3tAo9-",
        "outputId": "fd83f205-284d-4bb7-f599-5dadcec7ba78"
      },
      "outputs": [
        {
          "name": "stdout",
          "output_type": "stream",
          "text": [
            "115/115 [==============================] - 0s 1ms/step - loss: 0.3053 - accuracy: 0.8839\n",
            "Accuracy:  0.8839432001113892\n"
          ]
        }
      ],
      "source": [
        "_, accuracy = model.evaluate(X_test, y_test, verbose=1)\n",
        "print(\"Accuracy: \", accuracy)\n"
      ]
    },
    {
      "cell_type": "markdown",
      "metadata": {
        "id": "466mVN5lND3w"
      },
      "source": [
        "Even with arbitrary parameters, the resulting accuracy is very high.\n",
        "Parameter tuning may allow to further improve accuracy.\n",
        "\n",
        "We can also plot a heatmap of the conusion matrix of the model"
      ]
    },
    {
      "cell_type": "code",
      "execution_count": null,
      "metadata": {
        "colab": {
          "base_uri": "https://localhost:8080/",
          "height": 342
        },
        "id": "ly-Bk3aI-L8C",
        "outputId": "5af7e02f-669a-42c1-c300-09444809fbd7"
      },
      "outputs": [
        {
          "name": "stdout",
          "output_type": "stream",
          "text": [
            "[[3018   72]\n",
            " [ 354  218]]\n"
          ]
        },
        {
          "data": {
            "text/plain": [
              "<matplotlib.axes._subplots.AxesSubplot at 0x7faa87d06450>"
            ]
          },
          "execution_count": 146,
          "metadata": {},
          "output_type": "execute_result"
        },
        {
          "data": {
            "image/png": "[encoded data removed]",
            "text/plain": [
              "<Figure size 432x288 with 2 Axes>"
            ]
          },
          "metadata": {},
          "output_type": "display_data"
        }
      ],
      "source": [
        "from sklearn.metrics import confusion_matrix\n",
        "import seaborn as sns\n",
        "\n",
        "y_pred = model.predict(X_test).flatten()\n",
        "y_pred = pd.Series(y_pred).map(lambda y: 1 if y >= 0.5 else 0)\n",
        "matrix = confusion_matrix(y_true=y_test, y_pred=y_pred)\n",
        "print(matrix)\n",
        "\n",
        "# Convert to a pandas dataframe\n",
        "confusion_df = pd.DataFrame(matrix)\n",
        "\n",
        "# Set the names of the x and y axis, this helps with the readability of the heatmap.\n",
        "confusion_df.index.name = 'True Label'\n",
        "confusion_df.columns.name = 'Predicted Label'\n",
        "\n",
        "sns.heatmap(confusion_df, annot=True, fmt=\"d\")\n"
      ]
    },
    {
      "cell_type": "markdown",
      "metadata": {
        "id": "SofEHN04NcR5"
      },
      "source": [
        "NOTE ON TOO MANY NEGATIVE EXAMPLES"
      ]
    },
    {
      "cell_type": "markdown",
      "metadata": {
        "id": "jpyjuetkG2ge"
      },
      "source": [
        "## Hyperparameter Tuning"
      ]
    },
    {
      "cell_type": "markdown",
      "metadata": {
        "id": "anqGBd4sG8fl"
      },
      "source": [
        "To tune the hyperparameters of a keras neural network, we can use the `keras-tuner` package."
      ]
    },
    {
      "cell_type": "code",
      "execution_count": null,
      "metadata": {
        "id": "61obp8wDsWap"
      },
      "outputs": [],
      "source": [
        "from keras import layers\n",
        "import keras_tuner\n",
        "\n",
        "\n",
        "def build_model(hp):\n",
        "    # Initialize the Sequential API and start stacking the layers\n",
        "    model = keras.Sequential()\n",
        "    model.add(layers.Flatten())\n",
        "\n",
        "    for i in range(hp.Int(\"num_layers\", 1, 3)):\n",
        "        model.add(\n",
        "            layers.Dense(\n",
        "                # Tune number of units separately.\n",
        "                # Choose an optimal value between 32-512\n",
        "                units=hp.Int(f\"units_{i}\", min_value=32,\n",
        "                             max_value=512, step=32),\n",
        "                activation=\"relu\"\n",
        "            )\n",
        "        )\n",
        "\n",
        "    # Tune whether to use dropout.\n",
        "    if hp.Boolean(\"dropout\"):\n",
        "        model.add(layers.Dropout(rate=0.25))\n",
        "\n",
        "    model.add(layers.Dense(1, activation=\"sigmoid\"))\n",
        "\n",
        "    # Define the optimizer learning rate as a hyperparameter.\n",
        "    learning_rate = hp.Float(\"lr\", min_value=1e-4,\n",
        "                             max_value=1e-2, sampling=\"log\")\n",
        "\n",
        "    model.compile(optimizer=keras.optimizers.Adam(learning_rate=learning_rate),\n",
        "                  loss=keras.losses.BinaryCrossentropy(),\n",
        "                  metrics=[\"accuracy\"])\n",
        "\n",
        "    return model\n"
      ]
    },
    {
      "cell_type": "code",
      "execution_count": null,
      "metadata": {
        "colab": {
          "base_uri": "https://localhost:8080/"
        },
        "id": "3e0Nvjeb0heB",
        "outputId": "49f18ee8-df2d-4de0-b509-6671836b279a"
      },
      "outputs": [
        {
          "data": {
            "text/plain": [
              "<keras.engine.sequential.Sequential at 0x7faa87bcaa50>"
            ]
          },
          "execution_count": 149,
          "metadata": {},
          "output_type": "execute_result"
        }
      ],
      "source": [
        "from keras_tuner import HyperParameters\n",
        "build_model(HyperParameters())\n"
      ]
    },
    {
      "cell_type": "code",
      "execution_count": null,
      "metadata": {
        "id": "uvpmbPRy4bU-"
      },
      "outputs": [],
      "source": [
        "tuner = keras_tuner.RandomSearch(\n",
        "    hypermodel=build_model,\n",
        "    objective=\"val_accuracy\",\n",
        "    max_trials=3,\n",
        "    executions_per_trial=2,\n",
        "    overwrite=True,\n",
        "    directory=\"my_dir\",\n",
        "    project_name=\"helloworld\",\n",
        ")\n"
      ]
    },
    {
      "cell_type": "code",
      "execution_count": null,
      "metadata": {
        "colab": {
          "base_uri": "https://localhost:8080/"
        },
        "id": "uRgUXdb-4iPZ",
        "outputId": "e28ba53f-9ec0-48bf-b8d6-46c4000c3c68"
      },
      "outputs": [
        {
          "name": "stdout",
          "output_type": "stream",
          "text": [
            "Trial 3 Complete [00h 00m 33s]\n",
            "val_accuracy: 0.8961381018161774\n",
            "\n",
            "Best val_accuracy So Far: 0.8961381018161774\n",
            "Total elapsed time: 00h 02m 22s\n"
          ]
        }
      ],
      "source": [
        "X_train_nn, X_val_nn, y_train_nn, y_val_nn = train_test_split(\n",
        "    X_train, y_train, test_size=0.2)\n",
        "tuner.search(X_train_nn, y_train_nn, epochs=20,\n",
        "             validation_data=(X_val_nn, y_val_nn))\n"
      ]
    },
    {
      "cell_type": "code",
      "execution_count": null,
      "metadata": {
        "colab": {
          "base_uri": "https://localhost:8080/"
        },
        "id": "R1Dp3fS28dUj",
        "outputId": "5bbefef3-c04a-4f42-a523-3ea517ef206e"
      },
      "outputs": [
        {
          "name": "stdout",
          "output_type": "stream",
          "text": [
            "Results summary\n",
            "Results in my_dir/helloworld\n",
            "Showing 10 best trials\n",
            "<keras_tuner.engine.objective.Objective object at 0x7faa846e8410>\n",
            "Trial summary\n",
            "Hyperparameters:\n",
            "num_layers: 1\n",
            "units_0: 64\n",
            "dropout: True\n",
            "lr: 0.004236185538505342\n",
            "units_1: 96\n",
            "Score: 0.8961381018161774\n",
            "Trial summary\n",
            "Hyperparameters:\n",
            "num_layers: 2\n",
            "units_0: 320\n",
            "dropout: False\n",
            "lr: 0.001926479219429071\n",
            "units_1: 32\n",
            "Score: 0.8940901160240173\n",
            "Trial summary\n",
            "Hyperparameters:\n",
            "num_layers: 2\n",
            "units_0: 224\n",
            "dropout: True\n",
            "lr: 0.0003954434199091812\n",
            "units_1: 416\n",
            "Score: 0.8917495608329773\n"
          ]
        }
      ],
      "source": [
        "tuner.results_summary()\n"
      ]
    },
    {
      "cell_type": "code",
      "execution_count": null,
      "metadata": {
        "colab": {
          "base_uri": "https://localhost:8080/"
        },
        "id": "uXBbdece5YAh",
        "outputId": "047fc13f-8896-4b53-a414-4fc34be96837"
      },
      "outputs": [
        {
          "name": "stdout",
          "output_type": "stream",
          "text": [
            "Model: \"sequential\"\n",
            "_________________________________________________________________\n",
            " Layer (type)                Output Shape              Param #   \n",
            "=================================================================\n",
            " flatten (Flatten)           (12205, 18)               0         \n",
            "                                                                 \n",
            " dense (Dense)               (12205, 64)               1216      \n",
            "                                                                 \n",
            " dropout (Dropout)           (12205, 64)               0         \n",
            "                                                                 \n",
            " dense_1 (Dense)             (12205, 1)                65        \n",
            "                                                                 \n",
            "=================================================================\n",
            "Total params: 1,281\n",
            "Trainable params: 1,281\n",
            "Non-trainable params: 0\n",
            "_________________________________________________________________\n"
          ]
        }
      ],
      "source": [
        "# Get the top model.\n",
        "best_model = tuner.get_best_models(num_models=1)[0]\n",
        "\n",
        "# Build the model.\n",
        "# Needed for `Sequential` without specified `input_shape`.\n",
        "best_model.build(input_shape=X.shape)\n",
        "best_model.summary()\n"
      ]
    },
    {
      "cell_type": "code",
      "execution_count": null,
      "metadata": {
        "colab": {
          "base_uri": "https://localhost:8080/"
        },
        "id": "-i5elClb85MG",
        "outputId": "78c3b371-5ab9-4b93-c133-743c25b098fe"
      },
      "outputs": [
        {
          "name": "stdout",
          "output_type": "stream",
          "text": [
            "115/115 [==============================] - 0s 1ms/step - loss: 0.2583 - accuracy: 0.8951\n",
            "Accuracy:  0.8951392769813538\n"
          ]
        }
      ],
      "source": [
        "_, accuracy = best_model.evaluate(X_test, y_test, verbose=1)\n",
        "print(\"Accuracy: \", accuracy)\n"
      ]
    },
    {
      "cell_type": "code",
      "execution_count": null,
      "metadata": {
        "colab": {
          "base_uri": "https://localhost:8080/",
          "height": 338
        },
        "id": "wk07xRUN9Cah",
        "outputId": "ba6d47fe-3f90-4422-f8f6-1824ce371bf5"
      },
      "outputs": [
        {
          "name": "stdout",
          "output_type": "stream",
          "text": [
            "[[2979  111]\n",
            " [ 273  299]]\n"
          ]
        },
        {
          "data": {
            "text/plain": [
              "<matplotlib.axes._subplots.AxesSubplot at 0x7faa87f41990>"
            ]
          },
          "execution_count": 155,
          "metadata": {},
          "output_type": "execute_result"
        },
        {
          "data": {
            "image/png": "[encoded data removed]",
            "text/plain": [
              "<Figure size 432x288 with 2 Axes>"
            ]
          },
          "metadata": {},
          "output_type": "display_data"
        }
      ],
      "source": [
        "y_pred = best_model.predict(X_test).flatten()\n",
        "y_pred = pd.Series(y_pred).map(lambda y: 1 if y >= 0.5 else 0)\n",
        "matrix = confusion_matrix(y_true=y_test, y_pred=y_pred)\n",
        "print(matrix)\n",
        "\n",
        "# Convert to a pandas dataframe\n",
        "confusion_df = pd.DataFrame(matrix)\n",
        "\n",
        "# Set the names of the x and y axis, this helps with the readability of the heatmap.\n",
        "confusion_df.index.name = 'True Label'\n",
        "confusion_df.columns.name = 'Predicted Label'\n",
        "\n",
        "sns.heatmap(confusion_df, annot=True, fmt=\"d\")\n"
      ]
    },
    {
      "cell_type": "markdown",
      "metadata": {
        "id": "DnR8XLpcc4ak"
      },
      "source": [
        "# Autosklearn"
      ]
    },
    {
      "cell_type": "code",
      "execution_count": null,
      "metadata": {
        "colab": {
          "base_uri": "https://localhost:8080/",
          "height": 383
        },
        "id": "qovjkzR4dKDy",
        "outputId": "8684e136-9658-4575-9c66-4b54496fb27f"
      },
      "outputs": [
        {
          "ename": "IncorrectPackageVersionError",
          "evalue": "ignored",
          "output_type": "error",
          "traceback": [
            "\u001b[0;31m---------------------------------------------------------------------------\u001b[0m",
            "\u001b[0;31mIncorrectPackageVersionError\u001b[0m              Traceback (most recent call last)",
            "\u001b[0;32m<ipython-input-58-d011d85b254c>\u001b[0m in \u001b[0;36m<module>\u001b[0;34m()\u001b[0m\n\u001b[0;32m----> 1\u001b[0;31m \u001b[0;32mfrom\u001b[0m  \u001b[0mautosklearn\u001b[0m\u001b[0;34m.\u001b[0m\u001b[0mclassification\u001b[0m \u001b[0;32mimport\u001b[0m \u001b[0mAutoSklearnClassifier\u001b[0m\u001b[0;34m\u001b[0m\u001b[0;34m\u001b[0m\u001b[0m\n\u001b[0m\u001b[1;32m      2\u001b[0m \u001b[0;34m\u001b[0m\u001b[0m\n\u001b[1;32m      3\u001b[0m \u001b[0mcls\u001b[0m \u001b[0;34m=\u001b[0m \u001b[0mAutoSklearnClassifier\u001b[0m\u001b[0;34m(\u001b[0m\u001b[0;34m)\u001b[0m\u001b[0;34m\u001b[0m\u001b[0;34m\u001b[0m\u001b[0m\n\u001b[1;32m      4\u001b[0m \u001b[0mcls\u001b[0m\u001b[0;34m.\u001b[0m\u001b[0mfit\u001b[0m\u001b[0;34m(\u001b[0m\u001b[0mX_train\u001b[0m\u001b[0;34m,\u001b[0m \u001b[0my_train\u001b[0m\u001b[0;34m)\u001b[0m\u001b[0;34m\u001b[0m\u001b[0;34m\u001b[0m\u001b[0m\n\u001b[1;32m      5\u001b[0m \u001b[0;34m\u001b[0m\u001b[0m\n",
            "\u001b[0;32m/usr/local/lib/python3.7/dist-packages/autosklearn/__init__.py\u001b[0m in \u001b[0;36m<module>\u001b[0;34m()\u001b[0m\n\u001b[1;32m     11\u001b[0m \u001b[0mrequirements\u001b[0m \u001b[0;34m=\u001b[0m \u001b[0mrequirements\u001b[0m\u001b[0;34m.\u001b[0m\u001b[0mdecode\u001b[0m\u001b[0;34m(\u001b[0m\u001b[0;34m'utf-8'\u001b[0m\u001b[0;34m)\u001b[0m\u001b[0;34m\u001b[0m\u001b[0;34m\u001b[0m\u001b[0m\n\u001b[1;32m     12\u001b[0m \u001b[0;34m\u001b[0m\u001b[0m\n\u001b[0;32m---> 13\u001b[0;31m \u001b[0mdependencies\u001b[0m\u001b[0;34m.\u001b[0m\u001b[0mverify_packages\u001b[0m\u001b[0;34m(\u001b[0m\u001b[0mrequirements\u001b[0m\u001b[0;34m)\u001b[0m\u001b[0;34m\u001b[0m\u001b[0;34m\u001b[0m\u001b[0m\n\u001b[0m\u001b[1;32m     14\u001b[0m \u001b[0;34m\u001b[0m\u001b[0m\n\u001b[1;32m     15\u001b[0m \u001b[0;32mif\u001b[0m \u001b[0mos\u001b[0m\u001b[0;34m.\u001b[0m\u001b[0mname\u001b[0m \u001b[0;34m!=\u001b[0m \u001b[0;34m'posix'\u001b[0m\u001b[0;34m:\u001b[0m\u001b[0;34m\u001b[0m\u001b[0;34m\u001b[0m\u001b[0m\n",
            "\u001b[0;32m/usr/local/lib/python3.7/dist-packages/autosklearn/util/dependencies.py\u001b[0m in \u001b[0;36mverify_packages\u001b[0;34m(packages)\u001b[0m\n\u001b[1;32m     27\u001b[0m             \u001b[0moperation\u001b[0m \u001b[0;34m=\u001b[0m \u001b[0mmatch\u001b[0m\u001b[0;34m.\u001b[0m\u001b[0mgroup\u001b[0m\u001b[0;34m(\u001b[0m\u001b[0;34m'operation1'\u001b[0m\u001b[0;34m)\u001b[0m\u001b[0;34m\u001b[0m\u001b[0;34m\u001b[0m\u001b[0m\n\u001b[1;32m     28\u001b[0m             \u001b[0mversion\u001b[0m \u001b[0;34m=\u001b[0m \u001b[0mmatch\u001b[0m\u001b[0;34m.\u001b[0m\u001b[0mgroup\u001b[0m\u001b[0;34m(\u001b[0m\u001b[0;34m'version1'\u001b[0m\u001b[0;34m)\u001b[0m\u001b[0;34m\u001b[0m\u001b[0;34m\u001b[0m\u001b[0m\n\u001b[0;32m---> 29\u001b[0;31m             \u001b[0m_verify_package\u001b[0m\u001b[0;34m(\u001b[0m\u001b[0mname\u001b[0m\u001b[0;34m,\u001b[0m \u001b[0moperation\u001b[0m\u001b[0;34m,\u001b[0m \u001b[0mversion\u001b[0m\u001b[0;34m)\u001b[0m\u001b[0;34m\u001b[0m\u001b[0;34m\u001b[0m\u001b[0m\n\u001b[0m\u001b[1;32m     30\u001b[0m         \u001b[0;32melse\u001b[0m\u001b[0;34m:\u001b[0m\u001b[0;34m\u001b[0m\u001b[0;34m\u001b[0m\u001b[0m\n\u001b[1;32m     31\u001b[0m             \u001b[0;32mraise\u001b[0m \u001b[0mValueError\u001b[0m\u001b[0;34m(\u001b[0m\u001b[0;34m'Unable to read requirement: %s'\u001b[0m \u001b[0;34m%\u001b[0m \u001b[0mpackage\u001b[0m\u001b[0;34m)\u001b[0m\u001b[0;34m\u001b[0m\u001b[0;34m\u001b[0m\u001b[0m\n",
            "\u001b[0;32m/usr/local/lib/python3.7/dist-packages/autosklearn/util/dependencies.py\u001b[0m in \u001b[0;36m_verify_package\u001b[0;34m(name, operation, version)\u001b[0m\n\u001b[1;32m     64\u001b[0m     \u001b[0;32mif\u001b[0m \u001b[0;32mnot\u001b[0m \u001b[0mcheck\u001b[0m\u001b[0;34m:\u001b[0m\u001b[0;34m\u001b[0m\u001b[0;34m\u001b[0m\u001b[0m\n\u001b[1;32m     65\u001b[0m         raise IncorrectPackageVersionError(name, installed_version, operation,\n\u001b[0;32m---> 66\u001b[0;31m                                            required_version)\n\u001b[0m\u001b[1;32m     67\u001b[0m \u001b[0;34m\u001b[0m\u001b[0m\n\u001b[1;32m     68\u001b[0m \u001b[0;34m\u001b[0m\u001b[0m\n",
            "\u001b[0;31mIncorrectPackageVersionError\u001b[0m: found 'dask' version 2.12.0 but requires dask version >=2021.12"
          ]
        }
      ],
      "source": [
        "from autosklearn.experimental.askl2 import AutoSklearn2Classifier\n",
        "\n",
        "cls = AutoSklearn2Classifier()\n",
        "cls.fit(X_train, y_train)\n",
        "\n",
        "y_pred = cls.predict(X_test)\n",
        "print(\"Accuracy: \", balanced_accuracy_score(y_test, y_pred))\n"
      ]
    },
    {
      "cell_type": "code",
      "execution_count": null,
      "metadata": {
        "colab": {
          "base_uri": "https://localhost:8080/"
        },
        "id": "-09giczTux0M",
        "outputId": "c59298e7-a47b-4093-dea3-dd9cbb9774fc"
      },
      "outputs": [
        {
          "name": "stderr",
          "output_type": "stream",
          "text": [
            "Process ForkProcess-1:\n",
            "Traceback (most recent call last):\n",
            "  File \"/usr/lib/python3.7/multiprocessing/process.py\", line 297, in _bootstrap\n",
            "    self.run()\n",
            "  File \"/usr/lib/python3.7/multiprocessing/process.py\", line 99, in run\n",
            "    self._target(*self._args, **self._kwargs)\n",
            "  File \"/usr/local/lib/python3.7/dist-packages/autosklearn/util/logging_.py\", line 320, in start_log_server\n",
            "    receiver.serve_until_stopped()\n",
            "  File \"/usr/local/lib/python3.7/dist-packages/autosklearn/util/logging_.py\", line 352, in serve_until_stopped\n",
            "    self.timeout)\n",
            "KeyboardInterrupt\n"
          ]
        }
      ],
      "source": [
        "import autosklearn.classification\n",
        "\n",
        "cls = autosklearn.classification.AutoSklearnClassifier()\n",
        "cls.fit(X_train, y_train)\n",
        "predictions = cls.predict(X_test)\n"
      ]
    }
  ],
  "metadata": {
    "colab": {
      "collapsed_sections": [
        "fQAuFIojY4Ac",
        "cwIqoaD8QtNl",
        "4dvXiMXBV4qg",
        "p3oVkntVZrWF",
        "FLBjsIU-QtNo",
        "H-Fy1Gg-QtNv",
        "k33XbElQ7mWb",
        "rV09yQBPaI4q",
        "feXvsTHcbIHn",
        "UspP5qDpM4Hu",
        "lf9_S-b17a6C",
        "aaToOTjfHN5T",
        "0JoKHo7mQjuu",
        "vmNnHhHVJG5A",
        "FeHkqxul9dMx",
        "Nxn0hNB3QtNy",
        "pumyaOvphvc7",
        "OPGq2ec-8YTT",
        "-6u4_JAUkMUG",
        "jpyjuetkG2ge",
        "T7CEKABQYolM",
        "Pv6kW9ivYq35",
        "DnR8XLpcc4ak"
      ],
      "include_colab_link": true,
      "name": "MLDM_Beatrice_Cotti.ipynb",
      "provenance": [],
      "toc_visible": true
    },
    "kernelspec": {
      "display_name": "Python 3.10.5 64-bit",
      "language": "python",
      "name": "python3"
    },
    "language_info": {
      "codemirror_mode": {
        "name": "ipython",
        "version": 3
      },
      "file_extension": ".py",
      "mimetype": "text/x-python",
      "name": "python",
      "nbconvert_exporter": "python",
      "pygments_lexer": "ipython3",
      "version": "3.10.5"
    },
    "nav_menu": {
      "height": "279px",
      "width": "309px"
    },
    "toc": {
      "nav_menu": {},
      "number_sections": true,
      "sideBar": true,
      "skip_h1_title": false,
      "toc_cell": false,
      "toc_position": {},
      "toc_section_display": "block",
      "toc_window_display": false
    },
    "vscode": {
      "interpreter": {
        "hash": "e7370f93d1d0cde622a1f8e1c04877d8463912d04d973331ad4851f04de6915a"
      }
    }
  },
  "nbformat": 4,
  "nbformat_minor": 0
}
